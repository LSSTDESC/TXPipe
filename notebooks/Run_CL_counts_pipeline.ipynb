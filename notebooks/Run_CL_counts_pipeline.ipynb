{
 "cells": [
  {
   "cell_type": "code",
   "execution_count": null,
   "id": "a01235ba-b30a-413c-a381-eef2712dfcb9",
   "metadata": {
    "tags": []
   },
   "outputs": [],
   "source": [
    "import os\n",
    "from pprint import pprint\n",
    "import numpy as np\n",
    "%matplotlib inline\n",
    "import matplotlib.pyplot as plt\n",
    "from IPython.display import Image\n",
    "import ceci\n",
    "import h5py\n",
    "import yaml"
   ]
  },
  {
   "cell_type": "markdown",
   "id": "f1a90282-ed70-4496-bc4b-bc2d2e8ee302",
   "metadata": {},
   "source": [
    "Make sure to change your path in the next cell that leads to your TXPipe directory. See examples for IN2P3 and NERSC below."
   ]
  },
  {
   "cell_type": "code",
   "execution_count": null,
   "id": "d5eb6757-e79f-445c-a2c6-4d25af5f6f65",
   "metadata": {
    "tags": []
   },
   "outputs": [],
   "source": [
    "# user specific paths -- IN2P3 example\n",
    "# my_txpipe_dir = \"/pbs/home/m/mricci/throng_mricci/desc/TXPipe\"\n",
    "my_txpipe_dir = \"/pbs/throng/lsst/users/ccombet/TXPipe\"\n",
    "\n",
    "# user specific paths -- NERSC example\n",
    "# my_txpipe_dir = \"/pscratch/sd/a/avestruz/TXPipe\"\n",
    "\n",
    "os.chdir(my_txpipe_dir)\n",
    "\n",
    "import txpipe"
   ]
  },
  {
   "cell_type": "markdown",
   "id": "33d82af0-d1c4-43cc-ac0b-a2d6f1e66889",
   "metadata": {},
   "source": [
    "# Let's start working with the 1deg2 data file on Jupyter"
   ]
  },
  {
   "cell_type": "markdown",
   "id": "f4e0ef7e-9659-4a03-b0ca-ab856c5e5f54",
   "metadata": {},
   "source": [
    "First we will do some runs on the 1 deg^2 example data set with around 80k galaxies. This is small enough that we can do it all in jupyter.\n",
    "\n",
    "The data set, which is based on CosmoDC2, contains pre-computed photo-z and and contains a RedMapper cluster catalog for the field."
   ]
  },
  {
   "cell_type": "code",
   "execution_count": null,
   "id": "274c2ea4-b366-4e3d-8690-efa8af3f6d96",
   "metadata": {
    "tags": []
   },
   "outputs": [],
   "source": [
    "print(\"Options for this pipeline and their defaults (this may be override by config file):\")\n",
    "print(txpipe.extensions.CLClusterBinningRedshiftRichness.config_options)\n",
    "\n",
    "pip_stage = txpipe.extensions.CLClusterBinningRedshiftRichness.make_stage(\n",
    "    # This is the initial cluster catalog - RAs, Decs, richess, redshift, etc.\n",
    "    cluster_catalog=\"./data/example/inputs/cluster_catalog.hdf5\",\n",
    "    \n",
    "    # This is the output for this stage\n",
    "    cluster_catalog_tomography=\"./data/example/cluster_catalog_tomography.hdf5\",\n",
    "\n",
    "    # This contains all the options for this stage. You can override them here.\n",
    "    config=\"examples/cosmodc2/config-1deg2-CL.yml\",    \n",
    ")"
   ]
  },
  {
   "cell_type": "code",
   "execution_count": null,
   "id": "0df094c5-3e3a-4335-89ff-4df52bfb8a43",
   "metadata": {
    "tags": []
   },
   "outputs": [],
   "source": [
    "pip_stage.run()\n",
    "pip_stage.finalize()"
   ]
  },
  {
   "cell_type": "code",
   "execution_count": null,
   "id": "009eb8b0-1c54-497f-a419-055e869e2ece",
   "metadata": {
    "tags": []
   },
   "outputs": [],
   "source": [
    "print(\"Actual options used for this pipeline (as defined in config file or default):\")\n",
    "print(pip_stage.config)"
   ]
  },
  {
   "cell_type": "code",
   "execution_count": null,
   "id": "8ee60427-f399-4fbe-ab97-39ea2387d40e",
   "metadata": {},
   "outputs": [],
   "source": [
    "pip_stage.config['cluster_catalog']"
   ]
  },
  {
   "cell_type": "code",
   "execution_count": null,
   "id": "22639ea6-38d4-4061-acb4-e402939a3fd4",
   "metadata": {},
   "outputs": [],
   "source": [
    "pip_stage.config['cluster_catalog_tomography']"
   ]
  },
  {
   "cell_type": "markdown",
   "id": "6174784d-ba23-4e33-bbf9-559295cb9d0f",
   "metadata": {},
   "source": [
    "## Open cluster catalog input and compare to binning outputs"
   ]
  },
  {
   "cell_type": "markdown",
   "id": "b7101483-b7a2-45ce-a8b1-c6030e15da0d",
   "metadata": {},
   "source": [
    "### Open cluster catalog input "
   ]
  },
  {
   "cell_type": "code",
   "execution_count": null,
   "id": "3218ac13-3d30-4bc9-bd8d-25d40a3eeddd",
   "metadata": {
    "tags": []
   },
   "outputs": [],
   "source": [
    "filename_in = pip_stage.config['cluster_catalog']\n",
    "print(filename_in)"
   ]
  },
  {
   "cell_type": "code",
   "execution_count": null,
   "id": "d8c38523-a8f7-4a43-9831-9ae273adeaa6",
   "metadata": {
    "tags": []
   },
   "outputs": [],
   "source": [
    "f_in = h5py.File(filename_in, \"r\")"
   ]
  },
  {
   "cell_type": "code",
   "execution_count": null,
   "id": "c6d59b2a-8857-44be-93ad-912d8a893ec0",
   "metadata": {
    "tags": []
   },
   "outputs": [],
   "source": [
    "print(f_in.keys())"
   ]
  },
  {
   "cell_type": "code",
   "execution_count": null,
   "id": "1ecd9464-7ef8-4600-b931-8b8c76830564",
   "metadata": {
    "tags": []
   },
   "outputs": [],
   "source": [
    "dset_in = f_in['clusters']"
   ]
  },
  {
   "cell_type": "code",
   "execution_count": null,
   "id": "f5624d30-cea6-4999-8f53-0ee81030b632",
   "metadata": {
    "tags": []
   },
   "outputs": [],
   "source": [
    "cols = [col for col in dset_in]\n",
    "print(cols)"
   ]
  },
  {
   "cell_type": "code",
   "execution_count": null,
   "id": "4349ca71-0548-490b-b5c3-5af0ce98f7f2",
   "metadata": {
    "tags": []
   },
   "outputs": [],
   "source": [
    "plt.semilogy(dset_in['redshift'][()], dset_in['richness'][()],'.', alpha=1)\n",
    "\n",
    "plt.xlabel('redshift')\n",
    "plt.ylabel('richness')"
   ]
  },
  {
   "cell_type": "markdown",
   "id": "bfd77d78-6514-4c26-babb-24f3f167956e",
   "metadata": {},
   "source": [
    "### Open binning output"
   ]
  },
  {
   "cell_type": "code",
   "execution_count": null,
   "id": "0b4c65de-82c8-4f99-89de-dd0a598a31f0",
   "metadata": {
    "tags": []
   },
   "outputs": [],
   "source": [
    "filename_out = pip_stage.config['cluster_catalog_tomography'] #output_dir + \"/cluster_catalog_tomography.hdf5\"\n",
    "print (filename_out)"
   ]
  },
  {
   "cell_type": "code",
   "execution_count": null,
   "id": "da3761cd-c7ed-47a2-a0bc-562cd7ad3381",
   "metadata": {},
   "outputs": [],
   "source": [
    "f_out = h5py.File(filename_out, \"r\")"
   ]
  },
  {
   "cell_type": "code",
   "execution_count": null,
   "id": "b3274869-a729-45c7-b531-05d4f8ef69da",
   "metadata": {
    "tags": []
   },
   "outputs": [],
   "source": [
    "print(f_out.keys())"
   ]
  },
  {
   "cell_type": "code",
   "execution_count": null,
   "id": "7785436c-8652-4c98-9ecb-373abd2dc5d2",
   "metadata": {
    "tags": []
   },
   "outputs": [],
   "source": [
    "dat_out = f_out['provenance']\n",
    "dset_out = f_out['cluster_bin']"
   ]
  },
  {
   "cell_type": "code",
   "execution_count": null,
   "id": "736b4dc3-381b-45f4-a93e-f9c00b9e5e17",
   "metadata": {
    "tags": []
   },
   "outputs": [],
   "source": [
    "print(dset_out.keys())"
   ]
  },
  {
   "cell_type": "code",
   "execution_count": null,
   "id": "9ad81296-06fb-4c27-bef9-116e8bf7dee8",
   "metadata": {
    "tags": []
   },
   "outputs": [],
   "source": [
    "[print (i, dict(dset_out[i].attrs), dset_out[i]['redshift'][:].size) for i in dset_out.keys()];"
   ]
  },
  {
   "cell_type": "code",
   "execution_count": null,
   "id": "38be57ca-e370-480d-a2e0-c2d45baf7b13",
   "metadata": {
    "tags": []
   },
   "outputs": [],
   "source": [
    "print ([col for col in dset_out['bin_zbin_0_richbin_0']])"
   ]
  },
  {
   "cell_type": "code",
   "execution_count": null,
   "id": "9b7670e8-3672-41c4-bd24-f17b1b3a5622",
   "metadata": {
    "tags": []
   },
   "outputs": [],
   "source": [
    "print('The file contains',len(dset_out.keys()), 'keys corresponding to',\n",
    "      len(pip_stage.config.zedge) - 1, ' redshift bins times', \n",
    "      len(pip_stage.config.richedge) - 1,'richness bins')"
   ]
  },
  {
   "cell_type": "markdown",
   "id": "99017d4e-0ad1-44da-ace2-4fa54fb28b2e",
   "metadata": {},
   "source": [
    "### Compare the two "
   ]
  },
  {
   "cell_type": "code",
   "execution_count": null,
   "id": "2b146a75-3aff-4fa7-be65-679c6f49bf6e",
   "metadata": {
    "tags": []
   },
   "outputs": [],
   "source": [
    "# plot data from input catalog\n",
    "plt.semilogy(dset_in['redshift'][()], dset_in['richness'][()],'k.', alpha=1)\n",
    "plt.xlabel('redshift')\n",
    "plt.ylabel('richness')\n",
    "\n",
    "# plot bin limits as defined in the config file\n",
    "[plt.axvline(i,linestyle='dashed', color='black') for i in pip_stage.config.zedge]\n",
    "[plt.axhline(i,linestyle='dotted', color='black') for i in pip_stage.config.richedge]\n",
    "\n",
    "# overplot data from output file to make sure the bins are ordered correctly\n",
    "markers=['s','o', 'D', 'P', '^']\n",
    "\n",
    "for i in range(len(pip_stage.config.zedge)-1):\n",
    "    for j in range(len(pip_stage.config.richedge)-1):\n",
    "        plt.scatter(dset_out['bin_zbin_'+str(i)+'_richbin_'+str(j)]['redshift'][:], \n",
    "         dset_out['bin_zbin_'+str(i)+'_richbin_'+str(j)]['richness'][:], marker=markers[j], label='bin_zbin_'+str(i)+'_richbin_'+str(j))\n",
    "    \n",
    "    plt.legend(fontsize='x-small')"
   ]
  },
  {
   "cell_type": "markdown",
   "id": "93633ac1-206d-42ac-88a8-b33c7b6656ac",
   "metadata": {},
   "source": [
    "# Now let's do the same using the pipeline approach\n",
    "\n",
    "Here we will use the 20deg2, but we can also use the 1deg2 files (just need to change 20deg2 to 1deg2 in the name of the files)"
   ]
  },
  {
   "cell_type": "markdown",
   "id": "543bd0b3-cda7-4518-9df7-aaaaee3eea7f",
   "metadata": {},
   "source": [
    "### Launching a pipeline\n",
    "\n",
    "Let's have a look at the submission script for this pipeline:\n",
    "- to work at CCin2p3 we can use: `examples/cosmodc2/Cluster_pipelines/20deg2-in2p3.sub`\n",
    "- to work at NERSC we can use: `examples/cosmodc2/Cluster_pipelines/20deg2-nersc.sub`"
   ]
  },
  {
   "cell_type": "code",
   "execution_count": null,
   "id": "9660328e-0f08-4e92-9350-d4831c308e55",
   "metadata": {},
   "outputs": [],
   "source": [
    "! cat examples/cosmodc2/Cluster_pipelines/20deg2-in2p3.sub"
   ]
  },
  {
   "cell_type": "code",
   "execution_count": null,
   "id": "dc09313d-ab83-4ab8-8d39-3cf1d495ebd5",
   "metadata": {},
   "outputs": [],
   "source": [
    "! cat examples/cosmodc2/Cluster_pipelines/20deg2-nersc.sub"
   ]
  },
  {
   "cell_type": "markdown",
   "id": "73dbaf65-013b-4951-9506-f6b80017c780",
   "metadata": {},
   "source": [
    "**The command below will submit a job and run the pipeline**"
   ]
  },
  {
   "cell_type": "markdown",
   "id": "16aef6ce-361d-4568-b6c2-a487df69cad0",
   "metadata": {},
   "source": [
    "\n",
    "\n",
    "> **In a terminal, navigate to your TXPipe directory on IN2P3 and run**:\n",
    ">```\n",
    "sbatch examples/Cluster_pipelines/cosmodc2/20deg2-in2p3.sub\n",
    "```"
   ]
  },
  {
   "cell_type": "markdown",
   "id": "23f8a4d2-db19-40f4-8928-d6a07505737d",
   "metadata": {},
   "source": [
    "\n",
    "> **If you are ar NERSC, you will instead run**:\n",
    ">```\n",
    "sbatch examples/Cluster_pipelines/cosmodc2/20deg2-nersc.sub\n",
    "```"
   ]
  },
  {
   "cell_type": "markdown",
   "id": "569bbe94-1c5a-4c22-8a89-f75d6dcde33d",
   "metadata": {
    "tags": []
   },
   "source": [
    "## Dry-run the pipeline and produce a flowchart plot\n",
    "\n",
    "The pipeline used here as the other stages commented to only highlight in the flowchart the `CLClusterBinning` stage.\n",
    "The config file is the same. The file is written for in2p3 but it does not matter as it is a dry-run."
   ]
  },
  {
   "cell_type": "code",
   "execution_count": null,
   "id": "af7452ac-b01e-454d-a521-3426392ca4dc",
   "metadata": {
    "tags": []
   },
   "outputs": [],
   "source": [
    "# Read the appropriate pipeline configuration, and ask for a flow-chart.\n",
    "pipeline_file = \"examples/cosmodc2/Cluster_pipelines/CLClusterBinning-20deg2-CL.yml\"\n",
    "flowchart_file = \"CLClusterBinning.png\"\n",
    "\n",
    "\n",
    "pipeline_config = ceci.Pipeline.build_config(\n",
    "    pipeline_file,\n",
    "    flow_chart=flowchart_file,\n",
    "    dry_run=True\n",
    ")\n",
    "\n",
    "# Run the flow-chart pipeline\n",
    "ceci.run_pipeline(pipeline_config)"
   ]
  },
  {
   "cell_type": "code",
   "execution_count": null,
   "id": "a88eb44a-3a78-41f1-bffe-b1aa8d061842",
   "metadata": {
    "tags": []
   },
   "outputs": [],
   "source": [
    "Image(flowchart_file)"
   ]
  },
  {
   "cell_type": "markdown",
   "id": "b54405c1-f7a3-48a3-83e9-5ea7fa804070",
   "metadata": {},
   "source": [
    "## Look at the results"
   ]
  },
  {
   "cell_type": "markdown",
   "id": "6c9e1eb6-4f30-4177-a17a-b833d3134edf",
   "metadata": {},
   "source": [
    "### Open the corresponding pipeline file to load correct input/output file names"
   ]
  },
  {
   "cell_type": "code",
   "execution_count": null,
   "id": "7077bf36-77a3-4c3b-8e49-47687f989807",
   "metadata": {
    "tags": []
   },
   "outputs": [],
   "source": [
    "with open(pipeline_file, 'r') as file:\n",
    "    pipeline_content = yaml.safe_load(file)\n"
   ]
  },
  {
   "cell_type": "code",
   "execution_count": null,
   "id": "80ed821b-354d-4ae2-8240-cf28e2f3909f",
   "metadata": {},
   "outputs": [],
   "source": [
    "# open input cluster catalog\n",
    "filename_in = pipeline_content['inputs']['cluster_catalog']\n",
    "print(filename_in)\n",
    "f_in = h5py.File(filename_in, \"r\")\n",
    "dset_in = f_in['clusters']"
   ]
  },
  {
   "cell_type": "code",
   "execution_count": null,
   "id": "6346d5b9-5196-4342-8a67-a69ca84705cc",
   "metadata": {},
   "outputs": [],
   "source": [
    "# open output binning output\n",
    "filename_out =pipeline_content['output_dir']+\"/cluster_catalog_tomography.hdf5\"\n",
    "print (filename_out)\n",
    "f_out = h5py.File(filename_out, \"r\")\n",
    "dat_out = f_out['provenance']\n",
    "dset_out = f_out['cluster_bin']"
   ]
  },
  {
   "cell_type": "markdown",
   "id": "a0860222-6ea1-408f-855c-35ff48f1a95d",
   "metadata": {},
   "source": [
    "### Open the corresponding config file to load config parameters"
   ]
  },
  {
   "cell_type": "code",
   "execution_count": null,
   "id": "98263866-46a1-4ab5-a578-e7bff6207c2f",
   "metadata": {},
   "outputs": [],
   "source": [
    "with open(yaml.safe_load(pipeline_content['config']), 'r') as file:\n",
    "    config_content = yaml.safe_load(file)"
   ]
  },
  {
   "cell_type": "code",
   "execution_count": null,
   "id": "ee83e710-49c2-4a3c-addc-0dfa388bdd3a",
   "metadata": {},
   "outputs": [],
   "source": [
    "config_bin_info = config_content['CLClusterBinningRedshiftRichness']"
   ]
  },
  {
   "cell_type": "markdown",
   "id": "4d7f37f1-a2e6-413e-885b-add83c14c8e8",
   "metadata": {},
   "source": [
    "### Plot results"
   ]
  },
  {
   "cell_type": "code",
   "execution_count": null,
   "id": "604121fa-0cc8-4844-92c7-ec8d80642385",
   "metadata": {
    "tags": []
   },
   "outputs": [],
   "source": [
    "# plot data from input catalog\n",
    "plt.semilogy(dset_in['redshift'][()], dset_in['richness'][()],'k.', alpha=1)\n",
    "plt.xlabel('redshift')\n",
    "plt.ylabel('richness')\n",
    "\n",
    "# plot bin limits as defined in the config file\n",
    "[plt.axvline(i,linestyle='dashed', color='black') for i in config_bin_info['zedge']]\n",
    "[plt.axhline(i,linestyle='dotted', color='black') for i in config_bin_info['richedge']]\n",
    "\n",
    "# overplot data from output file to make sure the bins are ordered correctly\n",
    "markers=['s','o', 'D', 'P', '^']\n",
    "\n",
    "for i in range(len(config_bin_info['zedge'])-1):\n",
    "    for j in range(len(config_bin_info['richedge'])-1):\n",
    "        plt.scatter(dset_out['bin_zbin_'+str(i)+'_richbin_'+str(j)]['redshift'][:], \n",
    "         dset_out['bin_zbin_'+str(i)+'_richbin_'+str(j)]['richness'][:], marker=markers[j], label='bin_zbin_'+str(i)+'_richbin_'+str(j))\n",
    "    \n",
    "    plt.legend(fontsize='x-small')"
   ]
  }
 ],
 "metadata": {
  "kernelspec": {
   "display_name": "TXPipe-2023-Jul-12",
   "language": "python",
   "name": "txpipe-2023-jul-12"
  },
  "language_info": {
   "codemirror_mode": {
    "name": "ipython",
    "version": 3
   },
   "file_extension": ".py",
   "mimetype": "text/x-python",
   "name": "python",
   "nbconvert_exporter": "python",
   "pygments_lexer": "ipython3",
   "version": "3.10.12"
  }
 },
 "nbformat": 4,
 "nbformat_minor": 5
}
