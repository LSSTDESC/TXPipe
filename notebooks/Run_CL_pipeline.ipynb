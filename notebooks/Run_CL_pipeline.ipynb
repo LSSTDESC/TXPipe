{
 "cells": [
  {
   "cell_type": "code",
   "execution_count": 1,
   "id": "a01235ba-b30a-413c-a381-eef2712dfcb9",
   "metadata": {},
   "outputs": [],
   "source": [
    "import os\n",
    "from pprint import pprint\n",
    "import numpy as np\n",
    "%matplotlib inline\n",
    "import matplotlib.pyplot as plt\n",
    "from IPython.display import Image\n",
    "import ceci"
   ]
  },
  {
   "cell_type": "code",
   "execution_count": 6,
   "id": "d5eb6757-e79f-445c-a2c6-4d25af5f6f65",
   "metadata": {},
   "outputs": [],
   "source": [
    "my_txpipe_dir = \"/pbs/home/m/mricci/throng_mricci/desc/TXPipe\"\n",
    "os.chdir(my_txpipe_dir)\n",
    "\n",
    "import txpipe"
   ]
  },
  {
   "cell_type": "markdown",
   "id": "33d82af0-d1c4-43cc-ac0b-a2d6f1e66889",
   "metadata": {},
   "source": [
    "# Let's start working with the 1deg2 data file"
   ]
  },
  {
   "cell_type": "markdown",
   "id": "b031074a-bc97-4619-bac7-a364dccd5891",
   "metadata": {},
   "source": [
    "### Launching a pipeline at CC-IN2P3\n",
    "\n",
    "Let's have a look at the submission script for this pipeline: `examples/cosmodc2/20deg2-in2p3.sub`:"
   ]
  },
  {
   "cell_type": "code",
   "execution_count": 8,
   "id": "d0539f99-806e-481c-9a00-69716e216d74",
   "metadata": {},
   "outputs": [
    {
     "name": "stdout",
     "output_type": "stream",
     "text": [
      "#!/usr/bin/bash\n",
      "#SBATCH --time=01:00:00\n",
      "#SBATCH --partition=hpc\n",
      "#SBATCH --ntasks=30\n",
      "#SBATCH --cpus-per-task=1\n",
      "#SBATCH --mem=128000\n",
      "\n",
      "source /pbs/throng/lsst/users/jzuntz/txpipe-environments/setup-txpipe\n",
      "ceci examples/cosmodc2/pipeline-20deg2-clmm.yml\n"
     ]
    }
   ],
   "source": [
    "! cat examples/cosmodc2/1deg2-in2p3.sub"
   ]
  },
  {
   "cell_type": "markdown",
   "id": "64a79cc5-4e43-4146-b3ac-aceb68b56470",
   "metadata": {},
   "source": [
    "This will launch a job of up to one hour (it should finish in 30 min) on a single CC-IN2P3 node to run a pipeline.\n",
    "\n",
    "In a terminal, **navigate to your TXPipe directory and run**:\n",
    "\n",
    "```\n",
    "sbatch examples/cosmodc2/1deg2-in2p3.sub\n",
    "```\n",
    "to set it running.\n",
    "\n",
    "## Investigating our pipeline\n",
    "\n",
    "While that's running, let's have a look at what's in the pipeline.\n",
    "\n",
    "First, we can use ceci to build a flow-chart showing the pipeline stages:"
   ]
  },
  {
   "cell_type": "code",
   "execution_count": null,
   "id": "3218ac13-3d30-4bc9-bd8d-25d40a3eeddd",
   "metadata": {},
   "outputs": [],
   "source": []
  }
 ],
 "metadata": {
  "kernelspec": {
   "display_name": "TXPipe-2023-Jul-12",
   "language": "python",
   "name": "txpipe-2023-jul-12"
  },
  "language_info": {
   "codemirror_mode": {
    "name": "ipython",
    "version": 3
   },
   "file_extension": ".py",
   "mimetype": "text/x-python",
   "name": "python",
   "nbconvert_exporter": "python",
   "pygments_lexer": "ipython3",
   "version": "3.10.12"
  }
 },
 "nbformat": 4,
 "nbformat_minor": 5
}
