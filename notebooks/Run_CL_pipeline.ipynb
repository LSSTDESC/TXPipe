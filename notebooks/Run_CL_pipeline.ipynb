{
 "cells": [
  {
   "cell_type": "markdown",
   "id": "eec04567-f203-4bf4-b078-291c2244d36d",
   "metadata": {
    "tags": []
   },
   "source": [
    "*This notebook was developed by Marina Ricci for the DESC CL_Cosmo_Pipeline team.*\n",
    "# This notebook aims at presenting the cluster pipeline for \n",
    "# stacked $\\Delta\\Sigma$ profiles and counts in richness/redshift bins.\n",
    "\n",
    "It is meant to be run independently. If you already produced the necessary outputs `ceci` will use them, and otherwise create them.\n",
    "\n",
    "___"
   ]
  },
  {
   "cell_type": "code",
   "execution_count": 42,
   "id": "9d883c0c-3514-410a-b884-f0bc7cd7a745",
   "metadata": {
    "tags": []
   },
   "outputs": [],
   "source": [
    "import os\n",
    "from pprint import pprint\n",
    "\n",
    "import ceci\n",
    "import h5py\n",
    "\n",
    "%matplotlib inline\n",
    "import matplotlib.pyplot as plt\n",
    "import numpy as np\n",
    "import yaml\n",
    "from IPython.display import Image\n",
    "from astropy.table import Table"
   ]
  },
  {
   "cell_type": "markdown",
   "id": "f1a90282-ed70-4496-bc4b-bc2d2e8ee302",
   "metadata": {},
   "source": [
    "Make sure to change your path in the next cell that leads to your TXPipe directory. See examples for IN2P3 and NERSC below."
   ]
  },
  {
   "cell_type": "code",
   "execution_count": 20,
   "id": "d5eb6757-e79f-445c-a2c6-4d25af5f6f65",
   "metadata": {
    "tags": []
   },
   "outputs": [],
   "source": [
    "# user specific paths -- IN2P3 example\n",
    "my_txpipe_dir = \"/pbs/home/m/mricci/throng_mricci/desc/TXPipe\"\n",
    "\n",
    "# user specific paths -- NERSC example\n",
    "# my_txpipe_dir = \"/pscratch/sd/a/avestruz/TXPipe\"\n",
    "\n",
    "os.chdir(my_txpipe_dir)\n",
    "\n",
    "import txpipe"
   ]
  },
  {
   "cell_type": "markdown",
   "id": "72f99607-f069-4864-a5ee-c8123137f548",
   "metadata": {},
   "source": [
    "___"
   ]
  },
  {
   "cell_type": "markdown",
   "id": "e3cb69d9-a40e-4e0b-87e4-6ecf9b842d55",
   "metadata": {},
   "source": [
    "# 1 - Launching the pipeline"
   ]
  },
  {
   "cell_type": "markdown",
   "id": "9c55fc94-b9c5-4c85-b34e-78bc9e9648fb",
   "metadata": {},
   "source": [
    "## **Pipeline approach**\n",
    "\n",
    "Here we will use the 20deg2, but we can also use the 1deg2 files (just need to change 20deg2 to 1deg2 in the name of the files)\n",
    "\n",
    "\n",
    "Let's have a look at the submission script for this pipeline:\n",
    "- to work at CCin2p3 we can use: `examples/cosmodc2/Cluster_pipelines/cosmodc2/20deg2-in2p3.sub`:\n",
    "- to work at NERSC we can use: `examples/cosmodc2/Cluster_pipelines/cosmodc2/20deg2-nersc.sub`:"
   ]
  },
  {
   "cell_type": "markdown",
   "id": "f527bff3-b645-43d8-854a-572f16c15fa6",
   "metadata": {},
   "source": [
    "## **Comands to run the pipeline**\n",
    "This will launch a job of up to one hour (it should finish in 30 min) on a single CC-IN2P3 node to run a pipeline. After the first run, the output files are created and following runs take much less time.\n"
   ]
  },
  {
   "cell_type": "markdown",
   "id": "84fcc8fa-a805-4508-a6b4-f913c281d152",
   "metadata": {},
   "source": [
    "\n",
    "\n",
    "> ### In a terminal, **navigate to your TXPipe directory on IN2P3 and run**:\n",
    ">```\n",
    "sbatch examples/cosmodc2/Cluster_pipelines/20deg2-in2p3.sub\n",
    "```"
   ]
  },
  {
   "cell_type": "markdown",
   "id": "068902fd-29b9-45d0-98a3-aab7abb270be",
   "metadata": {},
   "source": [
    "\n",
    "> ### If you are **on NERSC, you will instead run**:\n",
    ">```\n",
    "sbatch examples/cosmodc2/Cluster_pipelines/20deg2-nersc.sub\n",
    "```"
   ]
  },
  {
   "cell_type": "markdown",
   "id": "63dc958d-8fbe-4190-b92c-9e4d13e11f10",
   "metadata": {},
   "source": [
    "If you are at CCin2p3 you can look at the ouput of your submission in the file `slurm-xxx.out`, with xxx the number of your batch process. If you see *'Pipeline successful.  Joy is sparked.'* : congratulations, it worked ! \n",
    "\n",
    "Once the pipeline is run you can go directly to 4) to look at the results."
   ]
  },
  {
   "cell_type": "markdown",
   "id": "d1421a8d-3b44-4e88-b8da-b03eb57739ae",
   "metadata": {},
   "source": [
    "___"
   ]
  },
  {
   "cell_type": "markdown",
   "id": "29f54a8c-fbb8-476d-8be8-bea8e23fd5d1",
   "metadata": {},
   "source": [
    "# 2 - Looking at the different pipeline files"
   ]
  },
  {
   "cell_type": "markdown",
   "id": "f3c4fb69-3e3b-4145-ad02-db4f9c13a408",
   "metadata": {
    "tags": []
   },
   "source": [
    "### **Let's look at the submission script :**"
   ]
  },
  {
   "cell_type": "markdown",
   "id": "6d2b46b7-6147-4ad3-ab9f-8358eae39dc9",
   "metadata": {
    "tags": []
   },
   "source": [
    "=> If we use the CCin2p3 example:"
   ]
  },
  {
   "cell_type": "code",
   "execution_count": 21,
   "id": "9660328e-0f08-4e92-9350-d4831c308e55",
   "metadata": {},
   "outputs": [
    {
     "name": "stdout",
     "output_type": "stream",
     "text": [
      "#!/usr/bin/bash\n",
      "#SBATCH --time=01:00:00\n",
      "#SBATCH --partition=hpc\n",
      "#SBATCH --ntasks=30\n",
      "#SBATCH --cpus-per-task=1\n",
      "#SBATCH --mem=128000\n",
      "\n",
      "source /pbs/throng/lsst/users/jzuntz/txpipe-environments/setup-txpipe\n",
      "ceci examples/cosmodc2/Cluster_pipelines/pipeline-20deg2-CL-in2p3.yml\n"
     ]
    }
   ],
   "source": [
    "! cat examples/cosmodc2/Cluster_pipelines/20deg2-in2p3.sub"
   ]
  },
  {
   "cell_type": "markdown",
   "id": "94939a10-4dab-4cc2-9570-3de230423b48",
   "metadata": {},
   "source": [
    "=> If we use the NERSC example:"
   ]
  },
  {
   "cell_type": "code",
   "execution_count": 22,
   "id": "dc09313d-ab83-4ab8-8d39-3cf1d495ebd5",
   "metadata": {},
   "outputs": [
    {
     "name": "stdout",
     "output_type": "stream",
     "text": [
      "#!/bin/bash\n",
      "#SBATCH -A m1727\n",
      "#SBATCH -C cpu\n",
      "#SBATCH --qos=debug\n",
      "#SBATCH --time=00:30:00\n",
      "#SBATCH --nodes=1\n",
      "#SBATCH --ntasks-per-node=32\n",
      "\n",
      "source $CFS/lsst/groups/WL/users/zuntz/setup-txpipe\n",
      "tx ceci examples/cosmodc2/Cluster_pipelines/pipeline-20deg2-CL-nersc.yml\n"
     ]
    }
   ],
   "source": [
    "! cat examples/cosmodc2/Cluster_pipelines/20deg2-nersc.sub"
   ]
  },
  {
   "cell_type": "markdown",
   "id": "65cb6936-b2b7-4b11-b469-9a10623472c8",
   "metadata": {},
   "source": [
    "### **The submission script is specifying the pipeline yaml file. Let's look at it :**"
   ]
  },
  {
   "cell_type": "markdown",
   "id": "d409a739-d206-43bf-afeb-f244446f6367",
   "metadata": {},
   "source": [
    "=> The only differences between NERSC and CCin2p3 are in the first block, that defines on witch machine your run. "
   ]
  },
  {
   "cell_type": "code",
   "execution_count": 24,
   "id": "c853e0bc-ac09-4ede-8f43-e5c7e324a695",
   "metadata": {},
   "outputs": [
    {
     "name": "stdout",
     "output_type": "stream",
     "text": [
      "#this step depends on where you run\n",
      "#for CCin2p3\n",
      "site:\n",
      "    name: cc-parallel\n",
      "    mpi_command: \"mpirun -n\"\n",
      "\n",
      "#for NERSC\n",
      "#site:\n",
      "#    name: cori-batch\n",
      "#    image: ghcr.io/lsstdesc/txpipe-dev\n",
      "\n",
      "\n",
      "#all the following steps should not depend on where you run \n",
      "launcher:\n",
      "    name: mini\n",
      "    interval: 3.0\n",
      "modules: >\n",
      "    txpipe\n",
      "    rail.estimation.algos.bpz_lite\n",
      "\n",
      "python_paths: []\n",
      "\n",
      "stages:\n",
      "    - name: TXSourceSelectorMetadetect\n",
      "      nprocess: 30\n",
      "    - name: Inform_BPZ_lite\n",
      "      nprocess: 1\n",
      "    - name: BPZ_lite\n",
      "      nprocess: 30\n",
      "    - name: CLClusterBinningRedshiftRichness\n",
      "      nprocess: 1\n",
      "    - name: CLClusterShearCatalogs\n",
      "      nprocess: 1 #>1 does not work with mpi\n",
      "    - name: CLClusterEnsembleProfiles\n",
      "      nprocess: 1\n",
      "#    - name: CLClusterDataVector\n",
      "#      nprocess: 1\n",
      "\n",
      "\n",
      "\n",
      "output_dir: ./data/cosmodc2/outputs-20deg2-CL\n",
      "config: ./examples/cosmodc2/Cluster_pipelines/config-20deg2-CL.yml\n",
      "\n",
      "inputs:\n",
      "    # See README for paths to download these files\n",
      "    shear_catalog:  ./data/cosmodc2/20deg2/shear_catalog.hdf5\n",
      "    #photometry_catalog:  ./data/cosmodc2/20deg2/photometry_catalog.hdf5\n",
      "    fiducial_cosmology: ./data/fiducial_cosmology.yml\n",
      "    calibration_table:  ./data/cosmodc2/20deg2/sample_cosmodc2_w10year_errors.dat\n",
      "    spectroscopic_catalog: ./data/cosmodc2/20deg2/spectroscopic_catalog.hdf5\n",
      "    cluster_catalog: ./data/cosmodc2/20deg2/cluster_catalog.hdf5\n",
      "    #shear_tomography_catalog: ./data/example/outputs_metadetect/shear_tomography_catalog.hdf5\n",
      "    #source_photoz_pdfs: ./data/example/inputs/photoz_pdfs.hdf5\n",
      "    \n",
      "resume: True\n",
      "log_dir: ./data/cosmodc2/logs\n",
      "pipeline_log: ./data/cosmodc2/log_20deg2.txt\n",
      "\n"
     ]
    }
   ],
   "source": [
    "! cat examples/cosmodc2/Cluster_pipelines/pipeline-20deg2-CL-in2p3.yml"
   ]
  },
  {
   "cell_type": "markdown",
   "id": "945e9ddf-5e1c-4191-83f0-b19722f1dfb0",
   "metadata": {},
   "source": [
    "___"
   ]
  },
  {
   "cell_type": "markdown",
   "id": "2b63c03c-72bc-49fb-ad06-0aaafb9998ac",
   "metadata": {},
   "source": [
    "# 3 - Producing and looking at the pipeline diagram"
   ]
  },
  {
   "cell_type": "markdown",
   "id": "5ba39833-320b-4ae2-8800-7b9c28083154",
   "metadata": {},
   "source": [
    "Here we run the pipeline in \"dry-run\" mode, to check that it can run and to produce a pipeline diagram in png."
   ]
  },
  {
   "cell_type": "code",
   "execution_count": 68,
   "id": "af7452ac-b01e-454d-a521-3426392ca4dc",
   "metadata": {
    "tags": []
   },
   "outputs": [],
   "source": [
    "# Read the appropriate pipeline configuration, and ask for a flow-chart.\n",
    "\n",
    "pipeline_file = \"examples/cosmodc2/Cluster_pipelines/pipeline-20deg2-CL-in2p3.yml\"\n",
    "# pipeline_file = \"examples/cosmodc2/Cluster_pipelines/pipeline-20deg2-CL-nersc.yml\"\n",
    "flowchart_file = \"CL_pipeline.png\"\n",
    "\n",
    "\n",
    "pipeline_config = ceci.Pipeline.build_config(pipeline_file, flow_chart=flowchart_file, dry_run=True)\n",
    "\n",
    "# Run the flow-chart pipeline\n",
    "ceci.run_pipeline(pipeline_config);"
   ]
  },
  {
   "cell_type": "markdown",
   "id": "16720b8b-6d33-4e5a-a335-0cf664f675c1",
   "metadata": {},
   "source": [
    "Here we have 6 uncommented stages, and 5 uncommented inputs files.\n",
    "\n",
    "This translate in the pipeline charts as 6 red ellipses, and 5 yellow boxes. The blue boxes represents the ouput files."
   ]
  },
  {
   "cell_type": "code",
   "execution_count": null,
   "id": "a88eb44a-3a78-41f1-bffe-b1aa8d061842",
   "metadata": {
    "tags": []
   },
   "outputs": [
    {
     "data": {
      "image/png": "[encoded data removed]",
      "text/plain": [
       "<IPython.core.display.Image object>"
      ]
     },
     "execution_count": 13,
     "metadata": {},
     "output_type": "execute_result"
    }
   ],
   "source": [
    "Image(flowchart_file)"
   ]
  },
  {
   "cell_type": "markdown",
   "id": "70df6a2c-6c57-4797-b42c-8f0e5c1bfdc4",
   "metadata": {},
   "source": [
    "___"
   ]
  },
  {
   "cell_type": "markdown",
   "id": "67d18d24-7064-4a23-ac22-499b2810ef41",
   "metadata": {},
   "source": [
    "# 4 - Opening and looking at the outputs"
   ]
  },
  {
   "cell_type": "code",
   "execution_count": 76,
   "id": "4a7944c5-d70d-4514-9519-d8a311f211fa",
   "metadata": {},
   "outputs": [],
   "source": [
    "#At the moment the ouput file is a pickle file\n",
    "import pickle as pkl"
   ]
  },
  {
   "cell_type": "markdown",
   "id": "c5195dae-6f60-4760-93bb-867db96f9e42",
   "metadata": {},
   "source": [
    "### **Open the pipeline file to load correct input/output file names**"
   ]
  },
  {
   "cell_type": "code",
   "execution_count": 77,
   "id": "2d1e02d7-98d3-4c6f-8ae8-ee6d3662a7fc",
   "metadata": {},
   "outputs": [],
   "source": [
    "with open(pipeline_file, \"r\") as file:\n",
    "    pipeline_content = yaml.safe_load(file)"
   ]
  },
  {
   "cell_type": "markdown",
   "id": "12c82dff-e426-44af-800f-d88c51ff0670",
   "metadata": {},
   "source": [
    "### **Open the output**"
   ]
  },
  {
   "cell_type": "code",
   "execution_count": 100,
   "id": "3d2f26c8-db46-4ae0-80c3-6f721c9ed39c",
   "metadata": {},
   "outputs": [],
   "source": [
    "data = pkl.load(open(pipeline_content[\"output_dir\"] + \"/cluster_profiles.pkl\", \"rb\"))"
   ]
  },
  {
   "cell_type": "code",
   "execution_count": 101,
   "id": "62ab2c34-28eb-4e8c-8c3e-93760d2d0e01",
   "metadata": {},
   "outputs": [
    {
     "data": {
      "text/plain": [
       "{'bin_zbin_0_richbin_0': {'cluster_bin_edges': {'rich_max': 10.0,\n",
       "   'rich_min': 5.0,\n",
       "   'z_max': 0.4,\n",
       "   'z_min': 0.2},\n",
       "  'n_cl': 147,\n",
       "  'clmm_cluster_ensemble': <clmm.clusterensemble.ClusterEnsemble at 0x7f86d8faf130>},\n",
       " 'bin_zbin_0_richbin_1': {'cluster_bin_edges': {'rich_max': 20.0,\n",
       "   'rich_min': 10.0,\n",
       "   'z_max': 0.4,\n",
       "   'z_min': 0.2},\n",
       "  'n_cl': 37,\n",
       "  'clmm_cluster_ensemble': <clmm.clusterensemble.ClusterEnsemble at 0x7f86c1e4ec20>},\n",
       " 'bin_zbin_0_richbin_2': {'cluster_bin_edges': {'rich_max': 25.0,\n",
       "   'rich_min': 20.0,\n",
       "   'z_max': 0.4,\n",
       "   'z_min': 0.2},\n",
       "  'n_cl': 5,\n",
       "  'clmm_cluster_ensemble': <clmm.clusterensemble.ClusterEnsemble at 0x7f86c1e4db10>},\n",
       " 'bin_zbin_0_richbin_3': {'cluster_bin_edges': {'rich_max': 50.0,\n",
       "   'rich_min': 25.0,\n",
       "   'z_max': 0.4,\n",
       "   'z_min': 0.2},\n",
       "  'n_cl': 7,\n",
       "  'clmm_cluster_ensemble': <clmm.clusterensemble.ClusterEnsemble at 0x7f86c1e4eaa0>},\n",
       " 'bin_zbin_1_richbin_0': {'cluster_bin_edges': {'rich_max': 10.0,\n",
       "   'rich_min': 5.0,\n",
       "   'z_max': 0.6,\n",
       "   'z_min': 0.4},\n",
       "  'n_cl': 376,\n",
       "  'clmm_cluster_ensemble': <clmm.clusterensemble.ClusterEnsemble at 0x7f86c1e4d780>},\n",
       " 'bin_zbin_1_richbin_1': {'cluster_bin_edges': {'rich_max': 20.0,\n",
       "   'rich_min': 10.0,\n",
       "   'z_max': 0.6,\n",
       "   'z_min': 0.4},\n",
       "  'n_cl': 120,\n",
       "  'clmm_cluster_ensemble': <clmm.clusterensemble.ClusterEnsemble at 0x7f86c1e4c430>},\n",
       " 'bin_zbin_1_richbin_2': {'cluster_bin_edges': {'rich_max': 25.0,\n",
       "   'rich_min': 20.0,\n",
       "   'z_max': 0.6,\n",
       "   'z_min': 0.4},\n",
       "  'n_cl': 14,\n",
       "  'clmm_cluster_ensemble': <clmm.clusterensemble.ClusterEnsemble at 0x7f86c0d0ab30>},\n",
       " 'bin_zbin_1_richbin_3': {'cluster_bin_edges': {'rich_max': 50.0,\n",
       "   'rich_min': 25.0,\n",
       "   'z_max': 0.6,\n",
       "   'z_min': 0.4},\n",
       "  'n_cl': 25,\n",
       "  'clmm_cluster_ensemble': <clmm.clusterensemble.ClusterEnsemble at 0x7f86c0d0ad70>},\n",
       " 'bin_zbin_2_richbin_0': {'cluster_bin_edges': {'rich_max': 10.0,\n",
       "   'rich_min': 5.0,\n",
       "   'z_max': 0.8,\n",
       "   'z_min': 0.6},\n",
       "  'n_cl': 293,\n",
       "  'clmm_cluster_ensemble': <clmm.clusterensemble.ClusterEnsemble at 0x7f86c0d0afb0>},\n",
       " 'bin_zbin_2_richbin_1': {'cluster_bin_edges': {'rich_max': 20.0,\n",
       "   'rich_min': 10.0,\n",
       "   'z_max': 0.8,\n",
       "   'z_min': 0.6},\n",
       "  'n_cl': 83,\n",
       "  'clmm_cluster_ensemble': <clmm.clusterensemble.ClusterEnsemble at 0x7f86c0d0b1f0>},\n",
       " 'bin_zbin_2_richbin_2': {'cluster_bin_edges': {'rich_max': 25.0,\n",
       "   'rich_min': 20.0,\n",
       "   'z_max': 0.8,\n",
       "   'z_min': 0.6},\n",
       "  'n_cl': 8,\n",
       "  'clmm_cluster_ensemble': <clmm.clusterensemble.ClusterEnsemble at 0x7f86c0d0b430>},\n",
       " 'bin_zbin_2_richbin_3': {'cluster_bin_edges': {'rich_max': 50.0,\n",
       "   'rich_min': 25.0,\n",
       "   'z_max': 0.8,\n",
       "   'z_min': 0.6},\n",
       "  'n_cl': 15,\n",
       "  'clmm_cluster_ensemble': <clmm.clusterensemble.ClusterEnsemble at 0x7f86c1e4ead0>}}"
      ]
     },
     "execution_count": 101,
     "metadata": {},
     "output_type": "execute_result"
    }
   ],
   "source": [
    "data"
   ]
  },
  {
   "cell_type": "markdown",
   "id": "0900b48b-a52e-4abd-869a-7c5fab66a715",
   "metadata": {},
   "source": [
    "The output is a dictionary containing a `CLMM` `ClusterEnsemble` object for each redshift/richness bin."
   ]
  },
  {
   "cell_type": "code",
   "execution_count": 87,
   "id": "b2892366-a60e-4a02-94bd-405c758c6e79",
   "metadata": {},
   "outputs": [
    {
     "data": {
      "text/plain": [
       "<clmm.clusterensemble.ClusterEnsemble at 0x7f8703fc3730>"
      ]
     },
     "execution_count": 87,
     "metadata": {},
     "output_type": "execute_result"
    }
   ],
   "source": [
    "data[example_bin][2]"
   ]
  },
  {
   "cell_type": "code",
   "execution_count": 88,
   "id": "78909a31-b911-4c5b-a5f4-89179c7cdbf5",
   "metadata": {},
   "outputs": [],
   "source": [
    "test = {}\n"
   ]
  },
  {
   "cell_type": "code",
   "execution_count": 96,
   "id": "ac2b482c-bd1f-4c3c-af88-9bcfb4c5db10",
   "metadata": {},
   "outputs": [],
   "source": [
    "test['bin1']= {\"blabla\":0.2, \"clmm\":data[example_bin][2], \"attr\":data[example_bin][0]}"
   ]
  },
  {
   "cell_type": "code",
   "execution_count": 99,
   "id": "6a5251e9-a22a-4f6e-baa3-1ccc874d4dcf",
   "metadata": {},
   "outputs": [
    {
     "data": {
      "text/plain": [
       "10.0"
      ]
     },
     "execution_count": 99,
     "metadata": {},
     "output_type": "execute_result"
    }
   ],
   "source": [
    "test['bin1'][\"attr\"][\"rich_max\"]"
   ]
  },
  {
   "cell_type": "code",
   "execution_count": 97,
   "id": "b1bc569a-f4b9-463b-81f4-c03e9bfa77e7",
   "metadata": {},
   "outputs": [
    {
     "data": {
      "text/plain": [
       "{'tan_sc': array([[ 1.08464646e+26, -2.57239873e+24,  1.97251166e+24,\n",
       "          8.49969531e+23],\n",
       "        [-2.57239873e+24,  3.20868673e+25,  1.58319839e+24,\n",
       "          9.73894699e+22],\n",
       "        [ 1.97251166e+24,  1.58319839e+24,  7.83463679e+24,\n",
       "         -3.68546913e+22],\n",
       "        [ 8.49969531e+23,  9.73894699e+22, -3.68546913e+22,\n",
       "          2.14534452e+24]]),\n",
       " 'cross_sc': array([[ 9.97736763e+25, -3.12507869e+24,  2.04539167e+24,\n",
       "         -1.19586302e+24],\n",
       "        [-3.12507869e+24,  2.59588718e+25, -2.02496903e+24,\n",
       "         -2.10236540e+23],\n",
       "        [ 2.04539167e+24, -2.02496903e+24,  8.96314186e+24,\n",
       "         -4.09958386e+23],\n",
       "        [-1.19586302e+24, -2.10236540e+23, -4.09958386e+23,\n",
       "          3.52611019e+24]]),\n",
       " 'tan_bs': None,\n",
       " 'cross_bs': None,\n",
       " 'tan_jk': None,\n",
       " 'cross_jk': None}"
      ]
     },
     "execution_count": 97,
     "metadata": {},
     "output_type": "execute_result"
    }
   ],
   "source": [
    "test['bin1']['clmm'].cov"
   ]
  },
  {
   "cell_type": "markdown",
   "id": "776ce4ab-bee7-474e-ab53-39c9830d3c63",
   "metadata": {},
   "source": [
    "### **Exploring the output**"
   ]
  },
  {
   "cell_type": "code",
   "execution_count": 102,
   "id": "54475a8e-f0c9-4546-b276-1bc2e451c579",
   "metadata": {},
   "outputs": [],
   "source": [
    "example_bin = 'bin_zbin_0_richbin_0'"
   ]
  },
  {
   "cell_type": "code",
   "execution_count": 105,
   "id": "197d78b7-c766-4a45-a066-3db3133024c4",
   "metadata": {},
   "outputs": [
    {
     "data": {
      "text/plain": [
       "{'cluster_bin_edges': {'rich_max': 10.0,\n",
       "  'rich_min': 5.0,\n",
       "  'z_max': 0.4,\n",
       "  'z_min': 0.2},\n",
       " 'n_cl': 147,\n",
       " 'clmm_cluster_ensemble': <clmm.clusterensemble.ClusterEnsemble at 0x7f86d8faf130>}"
      ]
     },
     "execution_count": 105,
     "metadata": {},
     "output_type": "execute_result"
    }
   ],
   "source": [
    "#This is the info for this bin\n",
    "data[example_bin]"
   ]
  },
  {
   "cell_type": "code",
   "execution_count": 106,
   "id": "89e2f6f8-9ce8-4af6-a290-709572253725",
   "metadata": {},
   "outputs": [
    {
     "data": {
      "text/html": [
       "<div><i>Table length=147</i>\n",
       "<table id=\"table140216755342880\" class=\"table-striped table-bordered table-condensed\">\n",
       "<thead><tr><th>cluster_id</th><th>ra</th><th>dec</th><th>z</th><th>radius</th><th>tangential_comp</th><th>cross_comp</th><th>W_l</th></tr></thead>\n",
       "<thead><tr><th>str5</th><th>float64</th><th>float64</th><th>float64</th><th>float64[4]</th><th>float64[4]</th><th>float64[4]</th><th>float64[4]</th></tr></thead>\n",
       "<tr><td>19603</td><td>54.04060448387633</td><td>-26.384351250405505</td><td>0.24717240035533905</td><td>0.30554651908107844 .. 2.287717641170422</td><td>-39328040441416.805 .. -5402966853160.077</td><td>-102502893735479.58 .. 276595997327.9279</td><td>167.0 .. 6850.0</td></tr>\n",
       "<tr><td>20697</td><td>56.96061957409</td><td>-25.906183456073453</td><td>0.2759683430194855</td><td>0.3006215964924479 .. 2.084573935509431</td><td>-89375350125877.66 .. 18061204409496.848</td><td>-57069655029161.625 .. 26303323392518.285</td><td>71.0 .. 2350.0</td></tr>\n",
       "<tr><td>19659</td><td>55.28427657452089</td><td>-27.476297617360242</td><td>0.23251022398471832</td><td>0.30650688392328934 .. 2.2167517688270006</td><td>-19314907156512.293 .. 2642091824371.6123</td><td>152184946716777.84 .. -19560621675590.68</td><td>134.0 .. 6989.0</td></tr>\n",
       "<tr><td>23166</td><td>55.952185721760955</td><td>-24.92525164550517</td><td>0.2260018289089203</td><td>0.30749140489417287 .. 1.8875030996222142</td><td>46941781345031.56 .. -1613960292174.6104</td><td>-221119745701580.22 .. -21845577338332.082</td><td>93.0 .. 1944.0</td></tr>\n",
       "<tr><td>25420</td><td>55.57973914277564</td><td>-25.608443010597544</td><td>0.2524486780166626</td><td>0.31047022620635517 .. 2.00858688238887</td><td>-82354824618700.25 .. -723236151606.448</td><td>-16494766445849.086 .. 68164879162390.64</td><td>104.0 .. 2416.0</td></tr>\n",
       "<tr><td>22171</td><td>54.67149734091894</td><td>-27.800051413300675</td><td>0.3737078011035919</td><td>0.3039378350084058 .. 2.32169719009997</td><td>-72475499566336.4 .. 13633248796760.76</td><td>51526071375232.17 .. 12339162817384.885</td><td>104.0 .. 6057.0</td></tr>\n",
       "<tr><td>25106</td><td>55.750259530011405</td><td>-25.446080111633123</td><td>0.3250361382961273</td><td>0.29803195723778075 .. 2.356805065596289</td><td>34170783039797.168 .. 18772185385091.598</td><td>-166161628917616.56 .. -44516834254692.08</td><td>57.0 .. 2526.0</td></tr>\n",
       "<tr><td>25581</td><td>53.12904112926188</td><td>-26.038117215579664</td><td>0.2953386604785919</td><td>0.3078979087760067 .. 2.335400498320919</td><td>12847120932342.65 .. -17307688814220.828</td><td>13940116917970.441 .. -7444830330347.583</td><td>189.0 .. 7982.0</td></tr>\n",
       "<tr><td>16077</td><td>53.4320426252634</td><td>-24.836979679893517</td><td>0.3402339220046997</td><td>0.30973502333429587 .. 2.3193943041426937</td><td>2955256456336.3203 .. -6071006629676.471</td><td>140477227436036.02 .. -6588928865831.359</td><td>131.0 .. 6547.0</td></tr>\n",
       "<tr><td>19138</td><td>53.634619431623534</td><td>-24.875058377007182</td><td>0.32159799337387085</td><td>0.3037837016459628 .. 2.3398496674591938</td><td>-20183722861638.812 .. 22194737282317.453</td><td>-51589427512707.97 .. -6926368388589.789</td><td>102.0 .. 5927.0</td></tr>\n",
       "<tr><td>...</td><td>...</td><td>...</td><td>...</td><td>...</td><td>...</td><td>...</td><td>...</td></tr>\n",
       "<tr><td>28390</td><td>50.84884510128612</td><td>-24.944189474871237</td><td>0.3968714773654938</td><td>0.3137915613571402 .. 2.3414705546486307</td><td>146242323808455.84 .. 13404174460886.326</td><td>278842215799936.8 .. -14135185645425.258</td><td>47.0 .. 2791.0</td></tr>\n",
       "<tr><td>39462</td><td>54.444480456352544</td><td>-28.783715302850727</td><td>0.254445880651474</td><td>0.2975646421288529 .. 2.075968250698439</td><td>738552090074.2599 .. -9876074666661.219</td><td>-224208730045755.6 .. -20202900513430.65</td><td>118.0 .. 3859.0</td></tr>\n",
       "<tr><td>78827</td><td>51.85983389650226</td><td>-26.98394442096972</td><td>0.3810352683067322</td><td>0.3088749563905141 .. 2.3162609342201073</td><td>-128871182827461.52 .. 4112063265207.817</td><td>99996310424522.98 .. -4764074305459.269</td><td>126.0 .. 3393.0</td></tr>\n",
       "<tr><td>50650</td><td>49.4517293841718</td><td>-26.086977711269746</td><td>0.3391478359699249</td><td>0.31239160068312655 .. 2.347105544142337</td><td>-94001625286908.0 .. -14156477354221.355</td><td>74564200931954.05 .. -26613294615817.234</td><td>64.0 .. 4467.0</td></tr>\n",
       "<tr><td>44524</td><td>52.38487698156571</td><td>-27.15732981158348</td><td>0.3964506983757019</td><td>0.3102076222799979 .. 2.3453477990676626</td><td>262438669479463.62 .. 37135763018047.734</td><td>102745151582090.72 .. -31946041076313.996</td><td>38.0 .. 2263.0</td></tr>\n",
       "<tr><td>31550</td><td>51.61451729902856</td><td>-25.8323754358988</td><td>0.22314122319221497</td><td>0.30477308687370025 .. 2.3277242237357574</td><td>77885105741709.84 .. -7947120987289.624</td><td>-34161195820773.664 .. -3833045810681.2944</td><td>144.0 .. 9025.0</td></tr>\n",
       "<tr><td>64048</td><td>52.760476703689136</td><td>-27.17059026316557</td><td>0.23913145065307617</td><td>0.301176707358922 .. 2.342276516138731</td><td>-95992756609277.86 .. -5122388892033.22</td><td>-22225322257488.867 .. -1241427480281.1968</td><td>164.0 .. 9305.0</td></tr>\n",
       "<tr><td>21245</td><td>51.29157014036849</td><td>-26.83818213002649</td><td>0.303955614566803</td><td>0.3114039068612773 .. 2.288710168225877</td><td>-21901469449522.957 .. 6265233588049.859</td><td>56007203251688.46 .. 18932489387766.48</td><td>79.0 .. 4029.0</td></tr>\n",
       "<tr><td>44359</td><td>52.63624103091593</td><td>-26.87736576141765</td><td>0.3027423918247223</td><td>0.29855587433175373 .. 2.338315599752395</td><td>15951317247075.89 .. -31991854496236.8</td><td>-210331722524826.9 .. -16515449507354.92</td><td>71.0 .. 4798.0</td></tr>\n",
       "<tr><td>71747</td><td>52.41702096574053</td><td>-28.368199501143007</td><td>0.26084983348846436</td><td>0.3088418501889381 .. 2.315731807684674</td><td>42182208313859.53 .. 12330398188177.775</td><td>71606754799990.69 .. -4887481974195.066</td><td>137.0 .. 4894.0</td></tr>\n",
       "</table></div>"
      ],
      "text/plain": [
       "<Table length=147>\n",
       "cluster_id         ra         ...       W_l      \n",
       "   str5         float64       ...    float64[4]  \n",
       "---------- ------------------ ... ---------------\n",
       "     19603  54.04060448387633 ... 167.0 .. 6850.0\n",
       "     20697     56.96061957409 ...  71.0 .. 2350.0\n",
       "     19659  55.28427657452089 ... 134.0 .. 6989.0\n",
       "     23166 55.952185721760955 ...  93.0 .. 1944.0\n",
       "     25420  55.57973914277564 ... 104.0 .. 2416.0\n",
       "     22171  54.67149734091894 ... 104.0 .. 6057.0\n",
       "     25106 55.750259530011405 ...  57.0 .. 2526.0\n",
       "     25581  53.12904112926188 ... 189.0 .. 7982.0\n",
       "     16077   53.4320426252634 ... 131.0 .. 6547.0\n",
       "     19138 53.634619431623534 ... 102.0 .. 5927.0\n",
       "       ...                ... ...             ...\n",
       "     28390  50.84884510128612 ...  47.0 .. 2791.0\n",
       "     39462 54.444480456352544 ... 118.0 .. 3859.0\n",
       "     78827  51.85983389650226 ... 126.0 .. 3393.0\n",
       "     50650   49.4517293841718 ...  64.0 .. 4467.0\n",
       "     44524  52.38487698156571 ...  38.0 .. 2263.0\n",
       "     31550  51.61451729902856 ... 144.0 .. 9025.0\n",
       "     64048 52.760476703689136 ... 164.0 .. 9305.0\n",
       "     21245  51.29157014036849 ...  79.0 .. 4029.0\n",
       "     44359  52.63624103091593 ...  71.0 .. 4798.0\n",
       "     71747  52.41702096574053 ... 137.0 .. 4894.0"
      ]
     },
     "execution_count": 106,
     "metadata": {},
     "output_type": "execute_result"
    }
   ],
   "source": [
    "#This shows the table with all cluster in this bin and their corresponding profiles\n",
    "Table(data[example_bin]['clmm_cluster_ensemble'].data)"
   ]
  },
  {
   "cell_type": "code",
   "execution_count": 107,
   "id": "e9bb0bf0-eb52-4a4a-99ae-9b8279e41d3d",
   "metadata": {},
   "outputs": [
    {
     "data": {
      "text/html": [
       "<b>GCData</b>\n",
       "<br> <b>defined by:</b> cosmo='CCLCosmology(H0=71.0, Omega_dm0=0.2199999, Omega_b0=0.0448, Omega_k0=0.0)', bin_units='Mpc'\n",
       "<br> <b>with columns:</b> radius, tangential_comp, cross_comp\n",
       "<br> 4 objects\n",
       "<br> \n",
       "<table id=\"table140216737118576\" class=\"table-striped table-bordered table-condensed\">\n",
       "<thead><tr><th>radius</th><th>tangential_comp</th><th>cross_comp</th></tr></thead>\n",
       "<thead><tr><th>float64</th><th>float64</th><th>float64</th></tr></thead>\n",
       "<tr><td>0.3067896684219294</td><td>1893082558184.4763</td><td>7855326719352.088</td></tr>\n",
       "<tr><td>0.6038253075978431</td><td>5159737340727.539</td><td>-6256112926271.745</td></tr>\n",
       "<tr><td>1.1887146693612631</td><td>6510873568951.651</td><td>1312839593875.1812</td></tr>\n",
       "<tr><td>2.247616236362593</td><td>68532583855.65232</td><td>-803918503070.3396</td></tr>\n",
       "</table></div>"
      ],
      "text/plain": [
       "GCData(cosmo='CCLCosmology(H0=71.0, Omega_dm0=0.2199999, Omega_b0=0.0448, Omega_k0=0.0)', bin_units='Mpc', columns: radius, tangential_comp, cross_comp)"
      ]
     },
     "execution_count": 107,
     "metadata": {},
     "output_type": "execute_result"
    }
   ],
   "source": [
    "#This shows the ensemble stacked profiles\n",
    "data[example_bin]['clmm_cluster_ensemble'].stacked_data"
   ]
  },
  {
   "cell_type": "code",
   "execution_count": 108,
   "id": "17513434-d9fb-40ce-9522-d1d8b60e2643",
   "metadata": {},
   "outputs": [
    {
     "data": {
      "text/plain": [
       "{'tan_sc': array([[ 1.08464646e+26, -2.57239873e+24,  1.97251166e+24,\n",
       "          8.49969531e+23],\n",
       "        [-2.57239873e+24,  3.20868673e+25,  1.58319839e+24,\n",
       "          9.73894699e+22],\n",
       "        [ 1.97251166e+24,  1.58319839e+24,  7.83463679e+24,\n",
       "         -3.68546913e+22],\n",
       "        [ 8.49969531e+23,  9.73894699e+22, -3.68546913e+22,\n",
       "          2.14534452e+24]]),\n",
       " 'cross_sc': array([[ 9.97736763e+25, -3.12507869e+24,  2.04539167e+24,\n",
       "         -1.19586302e+24],\n",
       "        [-3.12507869e+24,  2.59588718e+25, -2.02496903e+24,\n",
       "         -2.10236540e+23],\n",
       "        [ 2.04539167e+24, -2.02496903e+24,  8.96314186e+24,\n",
       "         -4.09958386e+23],\n",
       "        [-1.19586302e+24, -2.10236540e+23, -4.09958386e+23,\n",
       "          3.52611019e+24]]),\n",
       " 'tan_bs': None,\n",
       " 'cross_bs': None,\n",
       " 'tan_jk': None,\n",
       " 'cross_jk': None}"
      ]
     },
     "execution_count": 108,
     "metadata": {},
     "output_type": "execute_result"
    }
   ],
   "source": [
    "#This shows the covarinace for the ensemble stacked profiles\n",
    "data[example_bin]['clmm_cluster_ensemble'].cov"
   ]
  },
  {
   "cell_type": "markdown",
   "id": "5562e214-ffe9-41d8-8792-cb5328c711b3",
   "metadata": {},
   "source": [
    "### **Plot the ouput**"
   ]
  },
  {
   "cell_type": "code",
   "execution_count": 111,
   "id": "ee26a6bf-54e1-4f5c-bbe0-a599c5c541a6",
   "metadata": {},
   "outputs": [
    {
     "data": {
      "text/plain": [
       "<matplotlib.legend.Legend at 0x7f86c0af77f0>"
      ]
     },
     "execution_count": 111,
     "metadata": {},
     "output_type": "execute_result"
    },
    {
     "data": {
      "image/png": "[encoded data removed]",
      "text/plain": [
       "<Figure size 640x480 with 1 Axes>"
      ]
     },
     "metadata": {},
     "output_type": "display_data"
    }
   ],
   "source": [
    "fig, ax = plt.subplots()\n",
    "\n",
    "ax.semilogx(\n",
    "        data[example_bin]['clmm_cluster_ensemble'].stacked_data[\"radius\"],\n",
    "        data[example_bin]['clmm_cluster_ensemble'].stacked_data[\"tangential_comp\"],\n",
    "        \"bx-\",\n",
    "        label=\"tan\",)\n",
    "\n",
    "ax.semilogx(\n",
    "        data[example_bin]['clmm_cluster_ensemble'].stacked_data[\"radius\"],\n",
    "        data[example_bin]['clmm_cluster_ensemble'].stacked_data[\"cross_comp\"],\n",
    "        \"r.-\",\n",
    "        label=\"cross\",)\n",
    "\n",
    "ax.errorbar(\n",
    "        data[example_bin]['clmm_cluster_ensemble'].stacked_data[\"radius\"],\n",
    "        data[example_bin]['clmm_cluster_ensemble'].stacked_data[\"tangential_comp\"],\n",
    "        yerr=data[example_bin]['clmm_cluster_ensemble'].cov[\"tan_sc\"].diagonal() ** 0.5,\n",
    "        color=\"blue\",)\n",
    "\n",
    "\n",
    "ax.errorbar(\n",
    "        data[example_bin]['clmm_cluster_ensemble'].stacked_data[\"radius\"],\n",
    "        data[example_bin]['clmm_cluster_ensemble'].stacked_data[\"cross_comp\"],\n",
    "        yerr=data[example_bin]['clmm_cluster_ensemble'].cov[\"cross_sc\"].diagonal() ** 0.5,\n",
    "        color=\"red\",)\n",
    "\n",
    "\n",
    "\n",
    "ax.set_xlabel('radius [Mpc]')\n",
    "ax.set_ylabel('$\\\\Delta \\\\Sigma$')\n",
    "\n",
    "plt.legend()"
   ]
  },
  {
   "cell_type": "code",
   "execution_count": null,
   "id": "cbbb41db-bf84-4b71-a316-66d27ebcb293",
   "metadata": {},
   "outputs": [],
   "source": []
  }
 ],
 "metadata": {
  "kernelspec": {
   "display_name": "TXPipe-2023-Jul-12",
   "language": "python",
   "name": "txpipe-2023-jul-12"
  },
  "language_info": {
   "codemirror_mode": {
    "name": "ipython",
    "version": 3
   },
   "file_extension": ".py",
   "mimetype": "text/x-python",
   "name": "python",
   "nbconvert_exporter": "python",
   "pygments_lexer": "ipython3",
   "version": "3.10.12"
  }
 },
 "nbformat": 4,
 "nbformat_minor": 5
}
