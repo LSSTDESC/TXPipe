{
 "cells": [
  {
   "cell_type": "markdown",
   "id": "99b1f653-759a-4495-a5fa-6eae9d7de377",
   "metadata": {
    "tags": []
   },
   "source": [
    "# This notebook aims at presenting the ClusterShearCatalogs stage functionalities"
   ]
  },
  {
   "cell_type": "code",
   "execution_count": null,
   "id": "9d883c0c-3514-410a-b884-f0bc7cd7a745",
   "metadata": {
    "tags": []
   },
   "outputs": [],
   "source": [
    "import os\n",
    "from pprint import pprint\n",
    "import numpy as np\n",
    "%matplotlib inline\n",
    "import matplotlib.pyplot as plt\n",
    "from IPython.display import Image\n",
    "import ceci\n",
    "import h5py\n",
    "import yaml"
   ]
  },
  {
   "cell_type": "markdown",
   "id": "f1a90282-ed70-4496-bc4b-bc2d2e8ee302",
   "metadata": {},
   "source": [
    "Make sure to change your path in the next cell that leads to your TXPipe directory. See examples for IN2P3 and NERSC below."
   ]
  },
  {
   "cell_type": "code",
   "execution_count": null,
   "id": "d5eb6757-e79f-445c-a2c6-4d25af5f6f65",
   "metadata": {
    "tags": []
   },
   "outputs": [],
   "source": [
    "#user specific paths -- IN2P3 example\n",
    "my_txpipe_dir = \"/pbs/home/m/mricci/throng_mricci/desc/TXPipe\"\n",
    "\n",
    "#user specific paths -- NERSC example\n",
    "#my_txpipe_dir = \"/pscratch/sd/a/avestruz/TXPipe\"\n",
    "\n",
    "os.chdir(my_txpipe_dir)\n",
    "\n",
    "import txpipe"
   ]
  },
  {
   "cell_type": "markdown",
   "id": "775eb4ed-fe92-492a-9246-022cbc299064",
   "metadata": {},
   "source": [
    "# Let's start working with the 1deg2 data file on Jupyter"
   ]
  },
  {
   "cell_type": "markdown",
   "id": "423acd25-0fc8-49d4-87ec-ce193a17edef",
   "metadata": {},
   "source": [
    "First we will do some runs on the 1 deg^2 example data set with around 80k galaxies. This is small enough that we can do it all in jupyter.\n",
    "\n",
    "The data set, which is based on CosmoDC2, contains pre-computed photo-z and and contains a RedMapper cluster catalog for the field."
   ]
  },
  {
   "cell_type": "code",
   "execution_count": null,
   "id": "498a8b57-0a1d-4a90-9083-1d4a5322056d",
   "metadata": {},
   "outputs": [],
   "source": [
    "! cat examples/cosmodc2/Cluster_pipelines/pipeline-1deg2-CL-in2p3.yml"
   ]
  },
  {
   "cell_type": "markdown",
   "id": "261b72cf-352c-4f1c-a2b2-b021b1fca0d9",
   "metadata": {},
   "source": [
    "## This initiates and run the stage"
   ]
  },
  {
   "cell_type": "code",
   "execution_count": null,
   "id": "a94a3390-71bc-47e9-9390-b544e8814bb8",
   "metadata": {
    "tags": []
   },
   "outputs": [],
   "source": [
    "print(\"Options for this pipeline and their defaults:\")\n",
    "print(txpipe.extensions.CLClusterShearCatalogs.config_options)\n",
    "\n",
    "pip_stage = txpipe.extensions.CLClusterShearCatalogs.make_stage(\n",
    "    #cluster_catalog=\"./data/example/inputs/cluster_catalog.hdf5\",\n",
    "    #cluster_shear_catalogs=\"./data/cosmodc2/outputs-1deg2-CL/cluster_shear_catalogs.hdf5\",\n",
    "    fiducial_cosmology=\"./data/fiducial_cosmology.yml\",\n",
    "    #cluster_catalog_tomography=\"./data/cosmodc2/outputs-1deg2-CL/cluster_catalog_tomography.hdf5\",\n",
    "    \n",
    "\n",
    "    # This is the output for this stage\n",
    "    #cluster_profiles=\"./data/cosmodc2/outputs-1deg2-CL/cluster_profiles.pkl\",\n",
    "    cluster_shear_catalogs=\"./data/cosmodc2/outputs-1deg2-CL/cluster_shear_catalogs.hdf5\",\n",
    "    \n",
    "    # This contains all the options for this stage. You can override them here, as we do with the max_radius below.\n",
    "    config=\"./examples/cosmodc2/config-1deg2-CL.yml\",    \n",
    "\n",
    ")\n",
    "\n"
   ]
  },
  {
   "cell_type": "code",
   "execution_count": null,
   "id": "a0204bae-0fd1-428e-a4c7-5eaea783bad0",
   "metadata": {},
   "outputs": [],
   "source": []
  },
  {
   "cell_type": "code",
   "execution_count": null,
   "id": "b3f3f649-e109-4a6f-afdf-608e939d2616",
   "metadata": {},
   "outputs": [],
   "source": []
  },
  {
   "cell_type": "code",
   "execution_count": null,
   "id": "e6778e8d-bb1d-470f-85b1-6faf315bb5dc",
   "metadata": {},
   "outputs": [],
   "source": []
  }
 ],
 "metadata": {
  "kernelspec": {
   "display_name": "TXPipe-2023-Jul-12",
   "language": "python",
   "name": "txpipe-2023-jul-12"
  },
  "language_info": {
   "codemirror_mode": {
    "name": "ipython",
    "version": 3
   },
   "file_extension": ".py",
   "mimetype": "text/x-python",
   "name": "python",
   "nbconvert_exporter": "python",
   "pygments_lexer": "ipython3",
   "version": "3.10.12"
  }
 },
 "nbformat": 4,
 "nbformat_minor": 5
}
