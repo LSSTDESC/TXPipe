{
 "cells": [
  {
   "cell_type": "markdown",
   "id": "99b1f653-759a-4495-a5fa-6eae9d7de377",
   "metadata": {
    "tags": []
   },
   "source": [
    "# ClusterShearCatalogs stage functionalities\n",
    "\n",
    "This notebook aims at presenting the `ClusterShearCatalogs` stage of the TXpipe clusters extension. This stage selects background galaxies for each cluster of a cluster catalog and compute basic shear-related quantities for each of those galaxies (e.g., tangential and cross shear components, weights)"
   ]
  },
  {
   "cell_type": "code",
   "execution_count": null,
   "id": "9d883c0c-3514-410a-b884-f0bc7cd7a745",
   "metadata": {
    "tags": []
   },
   "outputs": [],
   "source": [
    "import os\n",
    "from pprint import pprint\n",
    "import numpy as np\n",
    "%matplotlib inline\n",
    "import matplotlib.pyplot as plt\n",
    "from IPython.display import Image\n",
    "import ceci\n",
    "import h5py\n",
    "import yaml"
   ]
  },
  {
   "cell_type": "markdown",
   "id": "f1a90282-ed70-4496-bc4b-bc2d2e8ee302",
   "metadata": {},
   "source": [
    "Make sure to change your path in the next cell that leads to your TXPipe directory. See examples for IN2P3 and NERSC below."
   ]
  },
  {
   "cell_type": "code",
   "execution_count": null,
   "id": "d5eb6757-e79f-445c-a2c6-4d25af5f6f65",
   "metadata": {
    "tags": []
   },
   "outputs": [],
   "source": [
    "# user specific paths -- IN2P3 example\n",
    "# my_txpipe_dir = \"/pbs/home/m/mricci/throng_mricci/desc/TXPipe\"\n",
    "my_txpipe_dir = \"/pbs/throng/lsst/users/ccombet/TXPipe\"\n",
    "\n",
    "#user specific paths -- NERSC example\n",
    "#my_txpipe_dir = \"/pscratch/sd/a/avestruz/TXPipe\"\n",
    "\n",
    "os.chdir(my_txpipe_dir)\n",
    "\n",
    "import txpipe"
   ]
  },
  {
   "cell_type": "markdown",
   "id": "775eb4ed-fe92-492a-9246-022cbc299064",
   "metadata": {},
   "source": [
    "# 1 deg$^2$ sample running directly in Jupyter"
   ]
  },
  {
   "cell_type": "markdown",
   "id": "423acd25-0fc8-49d4-87ec-ce193a17edef",
   "metadata": {},
   "source": [
    "First we will do some runs on the 1 deg^2 example data set with around 80k galaxies. This is small enough that we can do it all in jupyter.\n",
    "\n",
    "The data set, which is based on CosmoDC2, contains pre-computed photo-z and and contains a RedMapper cluster catalog for the field."
   ]
  },
  {
   "cell_type": "markdown",
   "id": "261b72cf-352c-4f1c-a2b2-b021b1fca0d9",
   "metadata": {},
   "source": [
    "## This initiates and run the stage"
   ]
  },
  {
   "cell_type": "code",
   "execution_count": null,
   "id": "2851ba07-6fa4-4a4d-9b29-70c31d634ac2",
   "metadata": {
    "tags": []
   },
   "outputs": [],
   "source": [
    "print(\"Options for this pipeline and their defaults:\")\n",
    "print(txpipe.extensions.CLClusterShearCatalogs.config_options)"
   ]
  },
  {
   "cell_type": "code",
   "execution_count": null,
   "id": "e9467e42-30d9-4327-9408-307612d65be3",
   "metadata": {
    "tags": []
   },
   "outputs": [],
   "source": [
    "pipe_stage = txpipe.extensions.CLClusterShearCatalogs.make_stage(\n",
    "\n",
    "    # catalogs\n",
    "    shear_catalog = \"data/example/inputs/metadetect_shear_catalog.hdf5\",\n",
    "    cluster_catalog = \"./data/example/inputs/cluster_catalog.hdf5\",\n",
    "    source_photoz_pdfs = \"data/example/inputs/photoz_pdfs.hdf5\",    \n",
    "\n",
    "    # Initial sample selection was performed and output in shear_tomography_catalog\n",
    "    # by previously running the TXSourceSelectorMetadetect stage\n",
    "    shear_tomography_catalog = \"data/example/outputs_metadetect/shear_tomography_catalog.hdf5\",\n",
    "    \n",
    "    # Fiducial cosmology: it is needed to get physical distances as we are\n",
    "    # currently selecting sources based on projected distance (in Mpc) \n",
    "    # from cluster center\n",
    "    fiducial_cosmology = \"./data/fiducial_cosmology.yml\",\n",
    "    \n",
    "    # This is the output for this stage\n",
    "    cluster_shear_catalogs = \"./data/cosmodc2/outputs-1deg2-CL/cluster_shear_catalogs.hdf5\",\n",
    "    \n",
    "    # This contains all the options for this stage. Default config options will be updated\n",
    "    config = \"./examples/cosmodc2/config-1deg2-CL.yml\",\n",
    ")"
   ]
  },
  {
   "cell_type": "code",
   "execution_count": null,
   "id": "0441a203-d5cd-4a26-924d-94c3d34752da",
   "metadata": {},
   "outputs": [],
   "source": [
    "# Check the new config options\n",
    "pipe_stage.config"
   ]
  },
  {
   "cell_type": "code",
   "execution_count": null,
   "id": "fbef9f5d-8bb9-44b7-8534-0fbc8c6962a4",
   "metadata": {},
   "outputs": [],
   "source": [
    "pipe_stage.run()\n",
    "pipe_stage.finalize()"
   ]
  },
  {
   "cell_type": "markdown",
   "id": "4fbea885-102d-4b3d-b8e9-b95156537163",
   "metadata": {},
   "source": [
    "## Checking out the output"
   ]
  },
  {
   "cell_type": "markdown",
   "id": "194d15a1-5388-4dee-b857-a47d592296de",
   "metadata": {},
   "source": [
    "To avoid making lots and lots of copies of the data, this stage has not made a catalog, but instead made an index into the other catalogs, and stored only the new derived quantities.\n",
    "\n",
    "We have a helper class which is designed to match up all the different catalogs that go into this and collect the results for each cluster."
   ]
  },
  {
   "cell_type": "code",
   "execution_count": null,
   "id": "f1b0d2a3-b2f0-4eb5-a28e-5642aebee295",
   "metadata": {},
   "outputs": [],
   "source": [
    "ccc = txpipe.extensions.CombinedClusterCatalog(\n",
    "    shear_catalog=\"./data/example/inputs/metadetect_shear_catalog.hdf5\",\n",
    "    shear_tomography_catalog=\"./data/example/outputs_metadetect/shear_tomography_catalog.hdf5\",\n",
    "    cluster_catalog=\"./data/example/inputs/cluster_catalog.hdf5\",\n",
    "    cluster_shear_catalogs=\"./data/cosmodc2/outputs-1deg2-CL/cluster_shear_catalogs.hdf5\",\n",
    "    photoz_pdfs=\"./data/example/inputs/photoz_pdfs.hdf5\",\n",
    ")"
   ]
  },
  {
   "cell_type": "code",
   "execution_count": null,
   "id": "feefafe9-3df0-49b4-8b59-4d387e475b70",
   "metadata": {},
   "outputs": [],
   "source": [
    "print(f\"We have {ccc.ncluster} clusters\")"
   ]
  },
  {
   "cell_type": "markdown",
   "id": "e249ca9e-7a23-4043-b4a5-ddc2fd885f4c",
   "metadata": {},
   "source": [
    "We can extract the cluster catalog info by index (0 -- 74):"
   ]
  },
  {
   "cell_type": "code",
   "execution_count": null,
   "id": "47ff342f-8a3f-492e-8915-becead0b90d0",
   "metadata": {},
   "outputs": [],
   "source": [
    "cluster_info = ccc.get_cluster_info(0)\n",
    "cluster_info"
   ]
  },
  {
   "cell_type": "markdown",
   "id": "9be71498-f2a5-4ef8-a303-cd0e5e9aab8c",
   "metadata": {},
   "source": [
    "And also the shear catalog associated with that cluster, again by index, in the CLMM data format"
   ]
  },
  {
   "cell_type": "code",
   "execution_count": null,
   "id": "a565b00a-f735-4f82-bb16-4c59d5ba7ff2",
   "metadata": {},
   "outputs": [],
   "source": [
    "bg_cat = ccc.get_background_shear_catalog(0)\n",
    "bg_cat[0:3]"
   ]
  },
  {
   "cell_type": "markdown",
   "id": "198c07c6-8c3b-468c-8cae-0a7dc9ad90fd",
   "metadata": {},
   "source": [
    "# 20 deg$^2$ example using the pipeline approach"
   ]
  },
  {
   "cell_type": "code",
   "execution_count": null,
   "id": "ce15c398-ad6c-41c1-99a9-1c36f235817c",
   "metadata": {},
   "outputs": [],
   "source": [
    "# Read the appropriate pipeline configuration, and ask for a flow-chart.\n",
    "pipeline_file = \"examples/cosmodc2/Cluster_pipelines/CLClusterShearCat-20deg2-CL.yml\"\n",
    "flowchart_file = \"CLClusterShearCat.png\"\n",
    "\n",
    "pipeline_config = ceci.Pipeline.build_config(\n",
    "    pipeline_file,\n",
    "    flow_chart=flowchart_file,\n",
    "    dry_run=True\n",
    ")\n",
    "\n",
    "# Run the flow-chart pipeline\n",
    "ceci.run_pipeline(pipeline_config)\n"
   ]
  },
  {
   "cell_type": "code",
   "execution_count": null,
   "id": "0b0990ed-e96c-49b5-bdad-88facbcc7cb4",
   "metadata": {},
   "outputs": [],
   "source": [
    "Image(flowchart_file)"
   ]
  }
 ],
 "metadata": {
  "kernelspec": {
   "display_name": "TXPipe-2023-Jul-12",
   "language": "python",
   "name": "txpipe-2023-jul-12"
  },
  "language_info": {
   "codemirror_mode": {
    "name": "ipython",
    "version": 3
   },
   "file_extension": ".py",
   "mimetype": "text/x-python",
   "name": "python",
   "nbconvert_exporter": "python",
   "pygments_lexer": "ipython3",
   "version": "3.10.12"
  }
 },
 "nbformat": 4,
 "nbformat_minor": 5
}
