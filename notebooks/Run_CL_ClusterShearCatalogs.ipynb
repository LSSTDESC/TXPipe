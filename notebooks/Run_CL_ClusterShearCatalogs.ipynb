{
 "cells": [
  {
   "cell_type": "markdown",
   "id": "99b1f653-759a-4495-a5fa-6eae9d7de377",
   "metadata": {
    "tags": []
   },
   "source": [
    "# ClusterShearCatalogs stage functionalities\n",
    "\n",
    "This notebook aims at presenting the `ClusterShearCatalogs` stage of the TXpipe clusters extension. This stage selects background galaxies for each cluster of a cluster catalog and compute basic shear-related quantities for each of those galaxies (e.g., tangential and cross shear components, weights)"
   ]
  },
  {
   "cell_type": "code",
   "execution_count": 1,
   "id": "9d883c0c-3514-410a-b884-f0bc7cd7a745",
   "metadata": {
    "tags": []
   },
   "outputs": [],
   "source": [
    "import os\n",
    "from pprint import pprint\n",
    "import numpy as np\n",
    "%matplotlib inline\n",
    "import matplotlib.pyplot as plt\n",
    "from IPython.display import Image\n",
    "import ceci\n",
    "import h5py\n",
    "import yaml"
   ]
  },
  {
   "cell_type": "markdown",
   "id": "f1a90282-ed70-4496-bc4b-bc2d2e8ee302",
   "metadata": {},
   "source": [
    "Make sure to change your path in the next cell that leads to your TXPipe directory. See examples for IN2P3 and NERSC below."
   ]
  },
  {
   "cell_type": "code",
   "execution_count": 2,
   "id": "d5eb6757-e79f-445c-a2c6-4d25af5f6f65",
   "metadata": {
    "tags": []
   },
   "outputs": [],
   "source": [
    "# user specific paths -- IN2P3 example\n",
    "# my_txpipe_dir = \"/pbs/home/m/mricci/throng_mricci/desc/TXPipe\"\n",
    "my_txpipe_dir = \"/pbs/throng/lsst/users/ccombet/TXPipe\"\n",
    "\n",
    "#user specific paths -- NERSC example\n",
    "#my_txpipe_dir = \"/pscratch/sd/a/avestruz/TXPipe\"\n",
    "\n",
    "os.chdir(my_txpipe_dir)\n",
    "\n",
    "import txpipe"
   ]
  },
  {
   "cell_type": "markdown",
   "id": "775eb4ed-fe92-492a-9246-022cbc299064",
   "metadata": {},
   "source": [
    "# 1 deg$^2$ sample running directly in Jupyter"
   ]
  },
  {
   "cell_type": "markdown",
   "id": "423acd25-0fc8-49d4-87ec-ce193a17edef",
   "metadata": {},
   "source": [
    "First we will do some runs on the 1 deg^2 example data set with around 80k galaxies. This is small enough that we can do it all in jupyter.\n",
    "\n",
    "The data set, which is based on CosmoDC2, contains pre-computed photo-z and and contains a RedMapper cluster catalog for the field."
   ]
  },
  {
   "cell_type": "markdown",
   "id": "261b72cf-352c-4f1c-a2b2-b021b1fca0d9",
   "metadata": {},
   "source": [
    "## This initiates and run the stage"
   ]
  },
  {
   "cell_type": "code",
   "execution_count": 4,
   "id": "2851ba07-6fa4-4a4d-9b29-70c31d634ac2",
   "metadata": {
    "tags": []
   },
   "outputs": [
    {
     "name": "stdout",
     "output_type": "stream",
     "text": [
      "Options for this pipeline and their defaults:\n",
      "{'chunk_rows': 100000, 'max_radius': 10.0, 'delta_z': 0.1, 'redshift_criterion': 'mean', 'subtract_mean_shear': True}\n"
     ]
    }
   ],
   "source": [
    "print(\"Options for this pipeline and their defaults:\")\n",
    "print(txpipe.extensions.CLClusterShearCatalogs.config_options)"
   ]
  },
  {
   "cell_type": "code",
   "execution_count": 5,
   "id": "e9467e42-30d9-4327-9408-307612d65be3",
   "metadata": {
    "tags": []
   },
   "outputs": [],
   "source": [
    "pipe_stage = txpipe.extensions.CLClusterShearCatalogs.make_stage(\n",
    "\n",
    "    # catalogs\n",
    "    shear_catalog = \"data/example/inputs/metadetect_shear_catalog.hdf5\",\n",
    "    cluster_catalog = \"./data/example/inputs/cluster_catalog.hdf5\",\n",
    "    source_photoz_pdfs = \"data/example/inputs/photoz_pdfs.hdf5\",    \n",
    "\n",
    "    # Initial sample selection was performed and output in shear_tomography_catalog\n",
    "    # by previously running the TXSourceSelectorMetadetect stage\n",
    "    shear_tomography_catalog = \"data/example/outputs_metadetect/shear_tomography_catalog.hdf5\",\n",
    "    \n",
    "    # Fiducial cosmology: it is needed to get physical distances as we are\n",
    "    # currently selecting sources based on projected distance (in Mpc) \n",
    "    # from cluster center\n",
    "    fiducial_cosmology = \"./data/fiducial_cosmology.yml\",\n",
    "    \n",
    "    # This is the output for this stage\n",
    "    cluster_shear_catalogs = \"./data/cosmodc2/outputs-1deg2-CL/cluster_shear_catalogs.hdf5\",\n",
    "    \n",
    "    # This contains all the options for this stage. Default config options will be updated\n",
    "    config = \"./examples/cosmodc2/config-1deg2-CL.yml\",\n",
    ")"
   ]
  },
  {
   "cell_type": "code",
   "execution_count": 6,
   "id": "0441a203-d5cd-4a26-924d-94c3d34752da",
   "metadata": {},
   "outputs": [
    {
     "data": {
      "text/plain": [
       "StageConfig{chunk_rows:100000,max_radius:5.0,delta_z:0.2,redshift_criterion:mean,subtract_mean_shear:True,shear_catalog:data/example/inputs/metadetect_shear_catalog.hdf5,cluster_catalog:./data/example/inputs/cluster_catalog.hdf5,source_photoz_pdfs:data/example/inputs/photoz_pdfs.hdf5,shear_tomography_catalog:data/example/outputs_metadetect/shear_tomography_catalog.hdf5,fiducial_cosmology:./data/fiducial_cosmology.yml,cluster_shear_catalogs:./data/cosmodc2/outputs-1deg2-CL/cluster_shear_catalogs.hdf5,config:./examples/cosmodc2/config-1deg2-CL.yml,aliases:{},}"
      ]
     },
     "execution_count": 6,
     "metadata": {},
     "output_type": "execute_result"
    }
   ],
   "source": [
    "# Check the new config options\n",
    "pipe_stage.config"
   ]
  },
  {
   "cell_type": "code",
   "execution_count": 7,
   "id": "fbef9f5d-8bb9-44b7-8534-0fbc8c6962a4",
   "metadata": {},
   "outputs": [
    {
     "name": "stdout",
     "output_type": "stream",
     "text": [
      "Min search angle =  10.055618853834702 arcmin\n",
      "Mean search angle =  12.982302811813245 arcmin\n",
      "Max search angle =  22.546543656168343 arcmin\n",
      "Max theta_max = 0.0065585236957462975 radians = 22.546543656168343 arcmin\n",
      "Using single 2D shear calibration!\n",
      "Process 0 processing chunk 0 - 82,200\n",
      "Process 0 done reading\n",
      "Overall pair count =  65968\n",
      "Collecting data for cluster 0\n",
      "Found 954 total galaxies in catalog for cluster 11\n",
      "Found 826 total galaxies in catalog for cluster 827\n",
      "Found 792 total galaxies in catalog for cluster 1985\n",
      "Found 761 total galaxies in catalog for cluster 1632\n",
      "Found 255 total galaxies in catalog for cluster 2453\n",
      "Found 933 total galaxies in catalog for cluster 2678\n",
      "Found 466 total galaxies in catalog for cluster 4643\n",
      "Found 174 total galaxies in catalog for cluster 5084\n",
      "Found 746 total galaxies in catalog for cluster 4434\n",
      "Found 624 total galaxies in catalog for cluster 3939\n",
      "Found 1457 total galaxies in catalog for cluster 6139\n",
      "Found 515 total galaxies in catalog for cluster 4709\n",
      "Found 1402 total galaxies in catalog for cluster 7121\n",
      "Found 1163 total galaxies in catalog for cluster 8547\n",
      "Found 292 total galaxies in catalog for cluster 8685\n",
      "Found 268 total galaxies in catalog for cluster 8995\n",
      "Found 1173 total galaxies in catalog for cluster 7698\n",
      "Found 1961 total galaxies in catalog for cluster 10999\n",
      "Found 215 total galaxies in catalog for cluster 9029\n",
      "Found 368 total galaxies in catalog for cluster 9429\n",
      "Found 807 total galaxies in catalog for cluster 10146\n",
      "Found 1157 total galaxies in catalog for cluster 14476\n",
      "Found 131 total galaxies in catalog for cluster 8395\n",
      "Found 1276 total galaxies in catalog for cluster 16657\n",
      "Found 913 total galaxies in catalog for cluster 13039\n",
      "Found 1109 total galaxies in catalog for cluster 15382\n",
      "Found 391 total galaxies in catalog for cluster 17011\n",
      "Found 2071 total galaxies in catalog for cluster 8523\n",
      "Found 447 total galaxies in catalog for cluster 11300\n",
      "Found 2500 total galaxies in catalog for cluster 17462\n",
      "Found 535 total galaxies in catalog for cluster 13025\n",
      "Found 721 total galaxies in catalog for cluster 21385\n",
      "Found 952 total galaxies in catalog for cluster 20888\n",
      "Found 929 total galaxies in catalog for cluster 21815\n",
      "Found 334 total galaxies in catalog for cluster 7594\n",
      "Found 261 total galaxies in catalog for cluster 21425\n",
      "Found 3329 total galaxies in catalog for cluster 30553\n",
      "Found 703 total galaxies in catalog for cluster 11651\n",
      "Found 907 total galaxies in catalog for cluster 27728\n",
      "Found 972 total galaxies in catalog for cluster 30757\n",
      "Found 2012 total galaxies in catalog for cluster 32634\n",
      "Found 1440 total galaxies in catalog for cluster 33429\n",
      "Found 816 total galaxies in catalog for cluster 15656\n",
      "Found 412 total galaxies in catalog for cluster 29784\n",
      "Found 881 total galaxies in catalog for cluster 22630\n",
      "Found 574 total galaxies in catalog for cluster 17777\n",
      "Found 815 total galaxies in catalog for cluster 33569\n",
      "Found 606 total galaxies in catalog for cluster 39996\n",
      "Found 1336 total galaxies in catalog for cluster 37007\n",
      "Found 1561 total galaxies in catalog for cluster 25937\n",
      "Found 556 total galaxies in catalog for cluster 24386\n",
      "Found 1635 total galaxies in catalog for cluster 44685\n",
      "Found 889 total galaxies in catalog for cluster 48725\n",
      "Found 690 total galaxies in catalog for cluster 27260\n",
      "Found 457 total galaxies in catalog for cluster 35316\n",
      "Found 448 total galaxies in catalog for cluster 59428\n",
      "Found 603 total galaxies in catalog for cluster 25976\n",
      "Found 1193 total galaxies in catalog for cluster 31596\n",
      "Found 2278 total galaxies in catalog for cluster 26346\n",
      "Found 845 total galaxies in catalog for cluster 36608\n",
      "Found 1332 total galaxies in catalog for cluster 26938\n",
      "Found 522 total galaxies in catalog for cluster 74483\n",
      "Found 927 total galaxies in catalog for cluster 62882\n",
      "Found 227 total galaxies in catalog for cluster 25770\n",
      "Found 227 total galaxies in catalog for cluster 59302\n",
      "Found 476 total galaxies in catalog for cluster 53335\n",
      "Found 267 total galaxies in catalog for cluster 23919\n",
      "Found 1214 total galaxies in catalog for cluster 16567\n",
      "Found 840 total galaxies in catalog for cluster 41321\n",
      "Found 181 total galaxies in catalog for cluster 52141\n",
      "Found 847 total galaxies in catalog for cluster 52451\n",
      "Found 463 total galaxies in catalog for cluster 51057\n",
      "Found 711 total galaxies in catalog for cluster 14210\n",
      "Found 853 total galaxies in catalog for cluster 33410\n",
      "Found 1044 total galaxies in catalog for cluster 78132\n"
     ]
    }
   ],
   "source": [
    "pipe_stage.run()\n",
    "pipe_stage.finalize()"
   ]
  },
  {
   "cell_type": "markdown",
   "id": "4fbea885-102d-4b3d-b8e9-b95156537163",
   "metadata": {},
   "source": [
    "## Checking out the output"
   ]
  },
  {
   "cell_type": "markdown",
   "id": "194d15a1-5388-4dee-b857-a47d592296de",
   "metadata": {},
   "source": [
    "To avoid making lots and lots of copies of the data, this stage has not made a catalog, but instead made an index into the other catalogs, and stored only the new derived quantities.\n",
    "\n",
    "We have a helper class which is designed to match up all the different catalogs that go into this and collect the results for each cluster."
   ]
  },
  {
   "cell_type": "code",
   "execution_count": 27,
   "id": "f1b0d2a3-b2f0-4eb5-a28e-5642aebee295",
   "metadata": {},
   "outputs": [],
   "source": [
    "ccc = txpipe.extensions.CombinedClusterCatalog(\n",
    "    shear_catalog=\"./data/example/inputs/metadetect_shear_catalog.hdf5\",\n",
    "    shear_tomography_catalog=\"./data/example/outputs_metadetect/shear_tomography_catalog.hdf5\",\n",
    "    cluster_catalog=\"./data/example/inputs/cluster_catalog.hdf5\",\n",
    "    cluster_shear_catalogs=\"./data/cosmodc2/outputs-1deg2-CL/cluster_shear_catalogs.hdf5\",\n",
    "    photoz_pdfs=\"./data/example/inputs/photoz_pdfs.hdf5\",\n",
    ")"
   ]
  },
  {
   "cell_type": "code",
   "execution_count": 20,
   "id": "feefafe9-3df0-49b4-8b59-4d387e475b70",
   "metadata": {},
   "outputs": [
    {
     "name": "stdout",
     "output_type": "stream",
     "text": [
      "We have 75 clusters\n"
     ]
    }
   ],
   "source": [
    "print(f\"We have {ccc.ncluster} clusters\")"
   ]
  },
  {
   "cell_type": "markdown",
   "id": "e249ca9e-7a23-4043-b4a5-ddc2fd885f4c",
   "metadata": {},
   "source": [
    "We can extract the cluster catalog info by index (0 -- 74):"
   ]
  },
  {
   "cell_type": "code",
   "execution_count": 21,
   "id": "47ff342f-8a3f-492e-8915-becead0b90d0",
   "metadata": {},
   "outputs": [
    {
     "data": {
      "text/plain": [
       "{'cluster_id': 11,\n",
       " 'dec': -30.89586711375849,\n",
       " 'ra': 60.69667268260482,\n",
       " 'redshift': 0.49929956,\n",
       " 'redshift_err': 0.0029379127,\n",
       " 'richness': 167.65639,\n",
       " 'richness_err': 2.9917574,\n",
       " 'scaleval': 0.99996734}"
      ]
     },
     "execution_count": 21,
     "metadata": {},
     "output_type": "execute_result"
    }
   ],
   "source": [
    "cluster_info = ccc.get_cluster_info(0)\n",
    "cluster_info"
   ]
  },
  {
   "cell_type": "markdown",
   "id": "9be71498-f2a5-4ef8-a303-cd0e5e9aab8c",
   "metadata": {},
   "source": [
    "And also the shear catalog associated with that cluster, again by index, in the CLMM data format"
   ]
  },
  {
   "cell_type": "code",
   "execution_count": 26,
   "id": "a565b00a-f735-4f82-bb16-4c59d5ba7ff2",
   "metadata": {},
   "outputs": [
    {
     "data": {
      "text/html": [
       "<b>GCData</b>\n",
       "<br> <b>defined by:</b> cosmo=None\n",
       "<br> <b>with columns:</b> ra, dec, e1, e2, weight_clmm, tangential_comp_clmm, cross_comp_clmm, distance_arcmin, weight_original, zmean\n",
       "<br> 3 objects\n",
       "<br> \n",
       "<table id=\"table139908956939328\" class=\"table-striped table-bordered table-condensed\">\n",
       "<thead><tr><th>ra</th><th>dec</th><th>e1</th><th>e2</th><th>weight_clmm</th><th>tangential_comp_clmm</th><th>cross_comp_clmm</th><th>distance_arcmin</th><th>weight_original</th><th>zmean</th></tr></thead>\n",
       "<thead><tr><th>float64</th><th>float64</th><th>float64</th><th>float64</th><th>float64</th><th>float64</th><th>float64</th><th>float64</th><th>float64</th><th>float64</th></tr></thead>\n",
       "<tr><td>60.50453842271902</td><td>-30.95628376214968</td><td>0.030911786224021822</td><td>-0.37270744999790895</td><td>9.325821260399727e-31</td><td>-582877124896605.5</td><td>580802751890670.1</td><td>10.532585641243355</td><td>1.0</td><td>1.6672548870541304</td></tr>\n",
       "<tr><td>60.769936503988525</td><td>-30.803768581493113</td><td>-0.19068023722048472</td><td>-0.17377512271094686</td><td>9.717169154876238e-31</td><td>-498275609021567.75</td><td>246858718016259.6</td><td>6.691628009493257</td><td>1.0</td><td>1.756284729977865</td></tr>\n",
       "<tr><td>60.768679749598526</td><td>-30.79745847728931</td><td>-0.3006557955178168</td><td>0.44979494313286433</td><td>8.494567650500435e-31</td><td>633999009218739.2</td><td>1074094856718668.0</td><td>6.972947511693435</td><td>1.0</td><td>1.5009352447802593</td></tr>\n",
       "</table></div>"
      ],
      "text/plain": [
       "GCData(cosmo=None, columns: ra, dec, e1, e2, weight_clmm, tangential_comp_clmm, cross_comp_clmm, distance_arcmin, weight_original, zmean)"
      ]
     },
     "execution_count": 26,
     "metadata": {},
     "output_type": "execute_result"
    }
   ],
   "source": [
    "bg_cat = ccc.get_background_shear_catalog(0)\n",
    "bg_cat[0:3]"
   ]
  },
  {
   "cell_type": "markdown",
   "id": "198c07c6-8c3b-468c-8cae-0a7dc9ad90fd",
   "metadata": {},
   "source": [
    "# 20 deg$^2$ example using the pipeline approach"
   ]
  },
  {
   "cell_type": "code",
   "execution_count": 11,
   "id": "ce15c398-ad6c-41c1-99a9-1c36f235817c",
   "metadata": {},
   "outputs": [
    {
     "data": {
      "text/plain": [
       "0"
      ]
     },
     "execution_count": 11,
     "metadata": {},
     "output_type": "execute_result"
    }
   ],
   "source": [
    "# Read the appropriate pipeline configuration, and ask for a flow-chart.\n",
    "pipeline_file = \"examples/cosmodc2/Cluster_pipelines/CLClusterShearCat-20deg2-CL.yml\"\n",
    "flowchart_file = \"CLClusterShearCat.png\"\n",
    "\n",
    "pipeline_config = ceci.Pipeline.build_config(\n",
    "    pipeline_file,\n",
    "    flow_chart=flowchart_file,\n",
    "    dry_run=True\n",
    ")\n",
    "\n",
    "# Run the flow-chart pipeline\n",
    "ceci.run_pipeline(pipeline_config)\n"
   ]
  },
  {
   "cell_type": "code",
   "execution_count": 12,
   "id": "0b0990ed-e96c-49b5-bdad-88facbcc7cb4",
   "metadata": {},
   "outputs": [
    {
     "data": {
      "image/png": "[encoded data removed]",
      "text/plain": [
       "<IPython.core.display.Image object>"
      ]
     },
     "execution_count": 12,
     "metadata": {},
     "output_type": "execute_result"
    }
   ],
   "source": [
    "Image(flowchart_file)"
   ]
  }
 ],
 "metadata": {
  "kernelspec": {
   "display_name": "TXPipe-2023-Jul-12",
   "language": "python",
   "name": "txpipe-2023-jul-12"
  },
  "language_info": {
   "codemirror_mode": {
    "name": "ipython",
    "version": 3
   },
   "file_extension": ".py",
   "mimetype": "text/x-python",
   "name": "python",
   "nbconvert_exporter": "python",
   "pygments_lexer": "ipython3",
   "version": "3.10.12"
  }
 },
 "nbformat": 4,
 "nbformat_minor": 5
}
