{
 "cells": [
  {
   "cell_type": "markdown",
   "id": "c9b6debe",
   "metadata": {},
   "source": [
    "# Welcome to TXPipe: Running TXPipe & Exploring Its Outputs\n",
    "\n",
    "Owner: Johanna Paine, slack: Johanna Paine, github: jgpaine   \n",
    "12/2/22 \n",
    "\n",
    "TXPipe is a pipeline to perform 3x2pt measurements for DESC.\n",
    "\n",
    "\"3x2pt\" refers to the combined analysis of galaxy clustering and weak lensing, and involves the computation of three sets of two-point functions: the autocorrelation of galaxy shapes (shear-shear) the autocorrelation of galaxy positions (position-position or density-density) and the cross-correlation of lens galaxy positions and source galaxy shapes (shear-position).\n",
    "\n",
    "This is a notebook that runs a TXPipe pipeline on a catalog that covers 1 square degreee of the sky, and then looks at a few of the outputs. This assumes you have installed [TXPipe](https://github.com/LSSTDESC/TXPipe) and [Jupyter](https://jupyter.org/install).\n",
    "\n",
    "Our example's input catalog comes from simulation products from the CosmoDC2 simulation. CosmoDC2 arXiv: https://arxiv.org/abs/1907.06530 \n",
    "\n",
    "This pipeline generates a wide range of files. In the files tab of Jupyter you can directly open the image (png) type outputs in `data/example/outputs` and `data/example/outputs_metadetect`. "
   ]
  },
  {
   "cell_type": "code",
   "execution_count": 1,
   "id": "e05309fe",
   "metadata": {},
   "outputs": [],
   "source": [
    "# Make it so we run this notebook from the directory above,\n",
    "# since the pipeline expects to be there\n",
    "import os\n",
    "if os.getcwd().endswith(\"notebooks\"):\n",
    "    os.chdir(\"..\")"
   ]
  },
  {
   "cell_type": "markdown",
   "id": "006ab99a",
   "metadata": {},
   "source": [
    "# Table of Contents\n",
    "\n",
    "* [Running the pipeline](#run-pipeline)\n",
    "* [HDF5 catalogs: shear tomography](#explore-cats)\n",
    "* [Redshift PDFs: lens p(z)](#photoz-pdfs)\n",
    "* [Redshift distributions: source n(z)](#photoz-bins)\n",
    "* [Null test plots & data: the brighter-fatter effect](#brighter-fatter)\n",
    "* [Maps: source catalog maps](#source-maps)"
   ]
  },
  {
   "cell_type": "code",
   "execution_count": 2,
   "id": "40022d51",
   "metadata": {},
   "outputs": [],
   "source": [
    "%matplotlib inline\n",
    "import matplotlib.pyplot as plt\n",
    "import h5py\n",
    "import ceci\n",
    "import matplotlib.pyplot as plt\n",
    "import numpy as np\n",
    "from IPython.display import Image\n",
    "import txpipe.data_types\n",
    "import healpy\n",
    "import sacc\n",
    "import logging\n",
    "import yaml\n",
    "from pprint import pprint"
   ]
  },
  {
   "cell_type": "markdown",
   "id": "5f29be67",
   "metadata": {},
   "source": [
    "---"
   ]
  },
  {
   "cell_type": "markdown",
   "id": "8dc546c4",
   "metadata": {},
   "source": [
    "# Running the Pipeline <a class=\"anchor\" id=\"run-pipeline\"></a>\n",
    "\n",
    "\n",
    "First we will build a pipeline from a YAML format configuration file. That file describes the stages the pipeline should run, how they should be launched, the inputs to the start of the pipeline, and various other housekeeping info. The cells below prints out all the stages and then runs the pipeline with that configuration file.  \n"
   ]
  },
  {
   "cell_type": "code",
   "execution_count": 3,
   "id": "a7228815",
   "metadata": {},
   "outputs": [
    {
     "name": "stdout",
     "output_type": "stream",
     "text": [
      "{'config': 'examples/metadetect/config.yml',\n",
      " 'inputs': {'calibration_table': 'data/example/inputs/sample_cosmodc2_w10year_errors.dat',\n",
      "            'exposures': 'data/example/inputs/exposures.hdf5',\n",
      "            'fiducial_cosmology': 'data/fiducial_cosmology.yml',\n",
      "            'flow': 'data/example/inputs/example_flow.pkl',\n",
      "            'photometry_catalog': 'data/example/inputs/photometry_catalog.hdf5',\n",
      "            'random_cats_source': None,\n",
      "            'shear_catalog': 'data/example/inputs/metadetect_shear_catalog.hdf5',\n",
      "            'star_catalog': 'data/example/inputs/star_catalog.hdf5'},\n",
      " 'launcher': {'interval': 1.0, 'name': 'mini'},\n",
      " 'log_dir': 'data/example/logs_metadetect',\n",
      " 'modules': 'txpipe rail.creation.degraders.grid_selection '\n",
      "            'rail.creation.engines.flowEngine rail.estimation.algos.nz_dir '\n",
      "            'rail.estimation.algos.bpz_lite\\n',\n",
      " 'output_dir': 'data/example/outputs_metadetect',\n",
      " 'pipeline_log': 'data/example/log.txt',\n",
      " 'python_paths': ['submodules/WLMassMap/python/desc/'],\n",
      " 'resume': True,\n",
      " 'site': {'max_threads': 2, 'name': 'local'},\n",
      " 'stages': [{'aliases': {'model': 'flow', 'output': 'ideal_specz_catalog'},\n",
      "             'name': 'FlowCreator'},\n",
      "            {'aliases': {'input': 'ideal_specz_catalog',\n",
      "                         'output': 'specz_catalog_pq'},\n",
      "             'name': 'GridSelection'},\n",
      "            {'aliases': {'input': 'specz_catalog_pq',\n",
      "                         'output': 'spectroscopic_catalog'},\n",
      "             'name': 'TXParqetToHDF'},\n",
      "            {'aliases': {'input': 'spectroscopic_catalog',\n",
      "                         'model': 'lens_photoz_model'},\n",
      "             'classname': 'BPZliteInformer',\n",
      "             'name': 'PZPrepareEstimatorLens'},\n",
      "            {'aliases': {'input': 'photometry_catalog',\n",
      "                         'model': 'lens_photoz_model',\n",
      "                         'output': 'lens_photoz_pdfs'},\n",
      "             'classname': 'BPZliteEstimator',\n",
      "             'name': 'PZEstimatorLens',\n",
      "             'threads_per_process': 1},\n",
      "            {'name': 'TXMeanLensSelector'},\n",
      "            {'aliases': {'input': 'spectroscopic_catalog',\n",
      "                         'model': 'lens_direct_calibration_model'},\n",
      "             'classname': 'NZDirInformer',\n",
      "             'name': 'NZDirInformerLens'},\n",
      "            {'aliases': {'binned_catalog': 'binned_lens_catalog',\n",
      "                         'model': 'lens_direct_calibration_model',\n",
      "                         'photoz_realizations': 'lens_photoz_realizations',\n",
      "                         'photoz_stack': 'lens_photoz_stack',\n",
      "                         'tomography_catalog': 'lens_tomography_catalog'},\n",
      "             'classname': 'PZRailSummarize',\n",
      "             'name': 'PZRailSummarizeLens'},\n",
      "            {'aliases': {'binned_catalog': 'binned_shear_catalog',\n",
      "                         'model': 'source_direct_calibration_model',\n",
      "                         'photoz_realizations': 'source_photoz_realizations',\n",
      "                         'photoz_stack': 'shear_photoz_stack',\n",
      "                         'tomography_catalog': 'shear_tomography_catalog'},\n",
      "             'classname': 'PZRailSummarize',\n",
      "             'name': 'PZRailSummarizeSource'},\n",
      "            {'name': 'TXSourceSelectorMetadetect'},\n",
      "            {'aliases': {'input': 'spectroscopic_catalog',\n",
      "                         'model': 'source_direct_calibration_model'},\n",
      "             'classname': 'NZDirInformer',\n",
      "             'name': 'NZDirInformerSource'},\n",
      "            {'name': 'TXShearCalibration'},\n",
      "            {'name': 'TXLensCatalogSplitter'},\n",
      "            {'name': 'TXStarCatalogSplitter'},\n",
      "            {'name': 'TXLSSWeightsUnit'},\n",
      "            {'name': 'TXSourceMaps'},\n",
      "            {'name': 'TXLensMaps'},\n",
      "            {'name': 'TXAuxiliarySourceMaps'},\n",
      "            {'name': 'TXAuxiliaryLensMaps'},\n",
      "            {'name': 'TXSimpleMaskFrac'},\n",
      "            {'name': 'TXSourceNoiseMaps'},\n",
      "            {'name': 'TXLensNoiseMaps'},\n",
      "            {'name': 'TXDensityMaps'},\n",
      "            {'name': 'TXMapPlots'},\n",
      "            {'name': 'TXTracerMetadata'},\n",
      "            {'name': 'TXRandomCat'},\n",
      "            {'name': 'TXJackknifeCenters'},\n",
      "            {'name': 'TXTwoPoint', 'threads_per_process': 2},\n",
      "            {'name': 'TXBlinding', 'threads_per_process': 2},\n",
      "            {'name': 'TXTwoPointTheoryReal'},\n",
      "            {'name': 'TXTwoPointPlots'},\n",
      "            {'name': 'TXDiagnosticQuantiles'},\n",
      "            {'name': 'TXSourceDiagnosticPlots', 'nprocess': 2},\n",
      "            {'name': 'TXLensDiagnosticPlots'},\n",
      "            {'name': 'TXGammaTFieldCenters', 'threads_per_process': 2},\n",
      "            {'name': 'TXGammaTStars', 'threads_per_process': 2},\n",
      "            {'name': 'TXGammaTRandoms', 'threads_per_process': 2},\n",
      "            {'name': 'TXRoweStatistics', 'threads_per_process': 2},\n",
      "            {'name': 'TXGalaxyStarDensity'},\n",
      "            {'name': 'TXGalaxyStarShear'},\n",
      "            {'name': 'TXPSFDiagnostics'},\n",
      "            {'name': 'TXTauStatistics'},\n",
      "            {'name': 'TXBrighterFatterPlot'},\n",
      "            {'aliases': {'nz_plot': 'nz_source',\n",
      "                         'photoz_stack': 'shear_photoz_stack'},\n",
      "             'classname': 'TXPhotozPlot',\n",
      "             'name': 'TXPhotozPlotSource'},\n",
      "            {'aliases': {'nz_plot': 'nz_lens',\n",
      "                         'photoz_stack': 'lens_photoz_stack'},\n",
      "             'classname': 'TXPhotozPlot',\n",
      "             'name': 'TXPhotozPlotLens'},\n",
      "            {'aliases': {'photoz_realizations': 'source_photoz_realizations',\n",
      "                         'photoz_realizations_plot': 'source_photoz_realizations_plot'},\n",
      "             'classname': 'PZRealizationsPlot',\n",
      "             'name': 'PZRealizationsPlotSource'},\n",
      "            {'aliases': {'photoz_realizations': 'lens_photoz_realizations',\n",
      "                         'photoz_realizations_plot': 'lens_photoz_realizations_plot'},\n",
      "             'classname': 'PZRealizationsPlot',\n",
      "             'name': 'PZRealizationsPlotLens'},\n",
      "            {'name': 'TXConvergenceMaps'},\n",
      "            {'name': 'TXConvergenceMapPlots'},\n",
      "            {'name': 'TXMapCorrelations'},\n",
      "            {'name': 'TXApertureMass', 'threads_per_process': 2},\n",
      "            {'name': 'TXTwoPointFourier'}]}\n"
     ]
    }
   ],
   "source": [
    "config_yaml = yaml.safe_load(open(\"examples/metadetect/pipeline.yml\" )) \n",
    "\n",
    "# pprint is \"pretty print\" - it prints out nested dicts and similar\n",
    "# more readably\n",
    "pprint(config_yaml)"
   ]
  },
  {
   "cell_type": "code",
   "execution_count": 4,
   "id": "8171d0a8",
   "metadata": {},
   "outputs": [
    {
     "name": "stdout",
     "output_type": "stream",
     "text": [
      "Skipping stage FlowCreator because its outputs exist already\n",
      "Skipping stage TXSourceSelectorMetadetect because its outputs exist already\n",
      "Skipping stage TXStarCatalogSplitter because its outputs exist already\n",
      "Skipping stage TXAuxiliaryLensMaps because its outputs exist already\n",
      "Skipping stage TXPSFDiagnostics because its outputs exist already\n",
      "Skipping stage TXBrighterFatterPlot because its outputs exist already\n",
      "Skipping stage GridSelection because its outputs exist already\n",
      "Skipping stage TXShearCalibration because its outputs exist already\n",
      "Skipping stage TXDiagnosticQuantiles because its outputs exist already\n",
      "Skipping stage TXGalaxyStarShear because its outputs exist already\n",
      "Skipping stage TXSimpleMaskFrac because its outputs exist already\n",
      "Skipping stage TXParqetToHDF because its outputs exist already\n",
      "Skipping stage TXSourceMaps because its outputs exist already\n",
      "Skipping stage TXSourceDiagnosticPlots because its outputs exist already\n",
      "Skipping stage TXSourceNoiseMaps because its outputs exist already\n",
      "Skipping stage PZPrepareEstimatorLens because its outputs exist already\n",
      "Skipping stage NZDirInformerLens because its outputs exist already\n",
      "Skipping stage NZDirInformerSource because its outputs exist already\n",
      "Skipping stage TXAuxiliarySourceMaps because its outputs exist already\n"
     ]
    }
   ],
   "source": [
    "config_filename = \"examples/metadetect/pipeline.yml\" \n",
    "pipeline = ceci.Pipeline.read(config_filename)"
   ]
  },
  {
   "cell_type": "markdown",
   "id": "55d8308a",
   "metadata": {},
   "source": [
    "Now we can actually run the pipeline. This will take a few minutes.\n",
    "\n",
    "If you run it a second time it will detect that the pipeline is already complete and will not re-run any commands."
   ]
  },
  {
   "cell_type": "code",
   "execution_count": 5,
   "id": "e211e8c1",
   "metadata": {},
   "outputs": [
    {
     "name": "stdout",
     "output_type": "stream",
     "text": [
      "\n",
      "Executing TXConvergenceMaps\n",
      "Command is:\n",
      "OMP_NUM_THREADS=1 PYTHONPATH=submodules/WLMassMap/python/desc/:$PYTHONPATH  python3 -m txpipe TXConvergenceMaps   --source_maps=data/example/outputs_metadetect/source_maps.hdf5   --config=examples/metadetect/config.yml   --convergence_maps=data/example/outputs_metadetect/convergence_maps.hdf5 \n",
      "Output writing to data/example/logs_metadetect/TXConvergenceMaps.out\n",
      "\n",
      "Job TXConvergenceMaps has failed with status 1\n"
     ]
    },
    {
     "name": "stderr",
     "output_type": "stream",
     "text": [
      "\n",
      "*************************************************\n",
      "Error running pipeline stage TXConvergenceMaps.\n",
      "\n",
      "Standard output and error streams in data/example/logs_metadetect/TXConvergenceMaps.out\n",
      "*************************************************\n"
     ]
    },
    {
     "data": {
      "text/plain": [
       "1"
      ]
     },
     "execution_count": 5,
     "metadata": {},
     "output_type": "execute_result"
    }
   ],
   "source": [
    "pipeline.run()"
   ]
  },
  {
   "cell_type": "markdown",
   "id": "871faa2a",
   "metadata": {},
   "source": [
    "The pipeline has a few inputs and a great many outputs. We can list them all and their locations:"
   ]
  },
  {
   "cell_type": "code",
   "execution_count": 6,
   "id": "ff2265c7",
   "metadata": {},
   "outputs": [
    {
     "name": "stdout",
     "output_type": "stream",
     "text": [
      "Inputs\n",
      "------\n",
      "shear_catalog                       data/example/inputs/metadetect_shear_catalog.hdf5\n",
      "photometry_catalog                  data/example/inputs/photometry_catalog.hdf5\n",
      "calibration_table                   data/example/inputs/sample_cosmodc2_w10year_errors.dat\n",
      "exposures                           data/example/inputs/exposures.hdf5\n",
      "star_catalog                        data/example/inputs/star_catalog.hdf5\n",
      "fiducial_cosmology                  data/fiducial_cosmology.yml\n",
      "random_cats_source                  None\n",
      "flow                                data/example/inputs/example_flow.pkl\n",
      "\n",
      "Outputs\n",
      "------\n",
      "ideal_specz_catalog                 data/example/outputs_metadetect/ideal_specz_catalog.pq\n",
      "shear_tomography_catalog            data/example/outputs_metadetect/shear_tomography_catalog.hdf5\n",
      "binned_star_catalog                 data/example/outputs_metadetect/binned_star_catalog.hdf5\n",
      "aux_lens_maps                       data/example/outputs_metadetect/aux_lens_maps.hdf5\n",
      "e1_psf_residual_hist                data/example/outputs_metadetect/e1_psf_residual_hist.png\n",
      "e2_psf_residual_hist                data/example/outputs_metadetect/e2_psf_residual_hist.png\n",
      "T_frac_psf_residual_hist            data/example/outputs_metadetect/T_frac_psf_residual_hist.png\n",
      "star_psf_stats                      data/example/outputs_metadetect/star_psf_stats.yml\n",
      "brighter_fatter_plot                data/example/outputs_metadetect/brighter_fatter_plot.png\n",
      "brighter_fatter_data                data/example/outputs_metadetect/brighter_fatter_data.hdf5\n",
      "specz_catalog_pq                    data/example/outputs_metadetect/specz_catalog_pq.pq\n",
      "binned_shear_catalog                data/example/outputs_metadetect/binned_shear_catalog.hdf5\n",
      "shear_catalog_quantiles             data/example/outputs_metadetect/shear_catalog_quantiles.hdf5\n",
      "star_shear_test                     data/example/outputs_metadetect/star_shear_test.png\n",
      "star_star_test                      data/example/outputs_metadetect/star_star_test.png\n",
      "star_shear_stats                    data/example/outputs_metadetect/star_shear_stats.hdf5\n",
      "mask                                data/example/outputs_metadetect/mask.hdf5\n",
      "spectroscopic_catalog               data/example/outputs_metadetect/spectroscopic_catalog.hdf5\n",
      "source_maps                         data/example/outputs_metadetect/source_maps.hdf5\n",
      "g_psf_T                             data/example/outputs_metadetect/g_psf_T.png\n",
      "g_psf_g                             data/example/outputs_metadetect/g_psf_g.png\n",
      "g1_hist                             data/example/outputs_metadetect/g1_hist.png\n",
      "g2_hist                             data/example/outputs_metadetect/g2_hist.png\n",
      "g_snr                               data/example/outputs_metadetect/g_snr.png\n",
      "g_T                                 data/example/outputs_metadetect/g_T.png\n",
      "g_colormag                          data/example/outputs_metadetect/g_colormag.png\n",
      "source_snr_hist                     data/example/outputs_metadetect/source_snr_hist.png\n",
      "source_mag_hist                     data/example/outputs_metadetect/source_mag_hist.png\n",
      "response_hist                       data/example/outputs_metadetect/response_hist.png\n",
      "g_psf_T_out                         data/example/outputs_metadetect/g_psf_T_out.txt\n",
      "g_psf_g_out                         data/example/outputs_metadetect/g_psf_g_out.txt\n",
      "g_snr_out                           data/example/outputs_metadetect/g_snr_out.txt\n",
      "g_T_out                             data/example/outputs_metadetect/g_T_out.txt\n",
      "source_noise_maps                   data/example/outputs_metadetect/source_noise_maps.hdf5\n",
      "lens_photoz_model                   data/example/outputs_metadetect/lens_photoz_model.pkl\n",
      "lens_direct_calibration_model       data/example/outputs_metadetect/lens_direct_calibration_model.pkl\n",
      "source_direct_calibration_model     data/example/outputs_metadetect/source_direct_calibration_model.pkl\n",
      "aux_source_maps                     data/example/outputs_metadetect/aux_source_maps.hdf5\n",
      "convergence_maps                    data/example/outputs_metadetect/convergence_maps.hdf5\n",
      "lens_photoz_pdfs                    data/example/outputs_metadetect/lens_photoz_pdfs.hdf5\n",
      "shear_photoz_stack                  data/example/outputs_metadetect/shear_photoz_stack.hdf5\n",
      "source_photoz_realizations          data/example/outputs_metadetect/source_photoz_realizations.hdf5\n",
      "convergence_map                     data/example/outputs_metadetect/convergence_map.png\n",
      "lens_tomography_catalog_unweighted    data/example/outputs_metadetect/lens_tomography_catalog_unweighted.hdf5\n",
      "nz_source                           data/example/outputs_metadetect/nz_source.png\n",
      "source_photoz_realizations_plot     data/example/outputs_metadetect/source_photoz_realizations_plot.png\n",
      "binned_lens_catalog_unweighted      data/example/outputs_metadetect/binned_lens_catalog_unweighted.hdf5\n",
      "lss_weight_summary                  data/example/outputs_metadetect/lss_weight_summary\n",
      "lss_weight_maps                     data/example/outputs_metadetect/lss_weight_maps.hdf5\n",
      "binned_lens_catalog                 data/example/outputs_metadetect/binned_lens_catalog.hdf5\n",
      "lens_tomography_catalog             data/example/outputs_metadetect/lens_tomography_catalog.hdf5\n",
      "lens_photoz_stack                   data/example/outputs_metadetect/lens_photoz_stack.hdf5\n",
      "lens_photoz_realizations            data/example/outputs_metadetect/lens_photoz_realizations.hdf5\n",
      "lens_maps                           data/example/outputs_metadetect/lens_maps.hdf5\n",
      "lens_noise_maps                     data/example/outputs_metadetect/lens_noise_maps.hdf5\n",
      "tracer_metadata                     data/example/outputs_metadetect/tracer_metadata.hdf5\n",
      "tracer_metadata_yml                 data/example/outputs_metadetect/tracer_metadata_yml.yml\n",
      "lens_snr_hist                       data/example/outputs_metadetect/lens_snr_hist.png\n",
      "lens_mag_hist                       data/example/outputs_metadetect/lens_mag_hist.png\n",
      "random_cats                         data/example/outputs_metadetect/random_cats.hdf5\n",
      "binned_random_catalog               data/example/outputs_metadetect/binned_random_catalog.hdf5\n",
      "binned_random_catalog_sub           data/example/outputs_metadetect/binned_random_catalog_sub.hdf5\n",
      "nz_lens                             data/example/outputs_metadetect/nz_lens.png\n",
      "lens_photoz_realizations_plot       data/example/outputs_metadetect/lens_photoz_realizations_plot.png\n",
      "density_maps                        data/example/outputs_metadetect/density_maps.hdf5\n",
      "map_systematic_correlations         data/example/outputs_metadetect/map_systematic_correlations\n",
      "patch_centers                       data/example/outputs_metadetect/patch_centers.txt\n",
      "jk                                  data/example/outputs_metadetect/jk.png\n",
      "star_density_test                   data/example/outputs_metadetect/star_density_test.png\n",
      "star_density_stats                  data/example/outputs_metadetect/star_density_stats.hdf5\n",
      "depth_map                           data/example/outputs_metadetect/depth_map.png\n",
      "lens_map                            data/example/outputs_metadetect/lens_map.png\n",
      "shear_map                           data/example/outputs_metadetect/shear_map.png\n",
      "flag_map                            data/example/outputs_metadetect/flag_map.png\n",
      "psf_map                             data/example/outputs_metadetect/psf_map.png\n",
      "mask_map                            data/example/outputs_metadetect/mask_map.png\n",
      "bright_object_map                   data/example/outputs_metadetect/bright_object_map.png\n",
      "twopoint_data_fourier               data/example/outputs_metadetect/twopoint_data_fourier.sacc\n",
      "twopoint_data_real_raw              data/example/outputs_metadetect/twopoint_data_real_raw.sacc\n",
      "twopoint_gamma_x                    data/example/outputs_metadetect/twopoint_gamma_x.sacc\n",
      "gammat_field_center                 data/example/outputs_metadetect/gammat_field_center.sacc\n",
      "gammat_field_center_plot            data/example/outputs_metadetect/gammat_field_center_plot.png\n",
      "gammat_bright_stars                 data/example/outputs_metadetect/gammat_bright_stars.sacc\n",
      "gammat_bright_stars_plot            data/example/outputs_metadetect/gammat_bright_stars_plot.png\n",
      "gammat_dim_stars                    data/example/outputs_metadetect/gammat_dim_stars.sacc\n",
      "gammat_dim_stars_plot               data/example/outputs_metadetect/gammat_dim_stars_plot.png\n",
      "gammat_randoms                      data/example/outputs_metadetect/gammat_randoms.sacc\n",
      "gammat_randoms_plot                 data/example/outputs_metadetect/gammat_randoms_plot.png\n",
      "rowe134                             data/example/outputs_metadetect/rowe134.png\n",
      "rowe25                              data/example/outputs_metadetect/rowe25.png\n",
      "rowe0                               data/example/outputs_metadetect/rowe0.png\n",
      "rowe_stats                          data/example/outputs_metadetect/rowe_stats.hdf5\n",
      "aperture_mass_data                  data/example/outputs_metadetect/aperture_mass_data.sacc\n",
      "twopoint_data_real                  data/example/outputs_metadetect/twopoint_data_real.sacc\n",
      "tau0                                data/example/outputs_metadetect/tau0.png\n",
      "tau2                                data/example/outputs_metadetect/tau2.png\n",
      "tau5                                data/example/outputs_metadetect/tau5.png\n",
      "tau_stats                           data/example/outputs_metadetect/tau_stats.hdf5\n",
      "twopoint_theory_real                data/example/outputs_metadetect/twopoint_theory_real.sacc\n",
      "shear_xi_plus                       data/example/outputs_metadetect/shear_xi_plus.png\n",
      "shear_xi_minus                      data/example/outputs_metadetect/shear_xi_minus.png\n",
      "shearDensity_xi                     data/example/outputs_metadetect/shearDensity_xi.png\n",
      "density_xi                          data/example/outputs_metadetect/density_xi.png\n",
      "shearDensity_xi_x                   data/example/outputs_metadetect/shearDensity_xi_x.png\n"
     ]
    }
   ],
   "source": [
    "print(\"Inputs\")\n",
    "print(\"------\")\n",
    "for name, path in pipeline.overall_inputs.items():\n",
    "    print(f\"{name: <32}    {path}\")    \n",
    "\n",
    "print(\"\")\n",
    "print(\"Outputs\")\n",
    "print(\"------\")\n",
    "\n",
    "for name, path in pipeline.find_all_outputs().items():\n",
    "    print(f\"{name: <32}    {path}\")"
   ]
  },
  {
   "cell_type": "markdown",
   "id": "55e26ffe",
   "metadata": {},
   "source": [
    "---"
   ]
  },
  {
   "cell_type": "markdown",
   "id": "9ee45765",
   "metadata": {},
   "source": [
    "# HDF5 catalogs: shear tomography  <a class=\"anchor\" id=\"explore-cats\"></a>\n",
    "\n",
    "Catalogs in TXPipe are saved as HDF5 files, since these can be both read and written in parallel at NERSC very fast. To open the outputs that are .hdf5 files use the code below. \n",
    "\n",
    "(Not all the HDF5 files are catalogs. For example, some of them have maps that can be plotted with HealPix - we will look at those below).\n",
    "\n",
    "Now we can open one of the the output hdf5 files and explore some of the data. We follow the [TXPipe HDF instructions](https://txpipe.readthedocs.io/en/latest/hdf5.html), and look first at shear tomography.\n",
    "\n",
    "The \"H\" in HDF5 stands for hierarchical - just like a file system of folders and files, HDF files have groups and data sets. Let's look at the items in the root of the file, and then explore a group, `tomography` inside that:"
   ]
  },
  {
   "cell_type": "code",
   "execution_count": 7,
   "id": "7b71e463",
   "metadata": {},
   "outputs": [
    {
     "name": "stdout",
     "output_type": "stream",
     "text": [
      "<KeysViewHDF5 ['provenance', 'response', 'tomography']>\n",
      "N_eff\n",
      "N_eff_2d\n",
      "bin\n",
      "counts\n",
      "counts_2d\n",
      "mean_e1\n",
      "mean_e1_2d\n",
      "mean_e2\n",
      "mean_e2_2d\n",
      "sigma_e\n",
      "sigma_e_2d\n"
     ]
    }
   ],
   "source": [
    "f = h5py.File(\"./data/example/outputs_metadetect/shear_tomography_catalog.hdf5\")\n",
    "\n",
    "# f is the root object\n",
    "print(f.keys())\n",
    "\n",
    "# g is a group within it. Let's print all the datasets within g\n",
    "g = f[\"tomography\"]\n",
    "for key in g.keys():\n",
    "    print(key)\n"
   ]
  },
  {
   "cell_type": "markdown",
   "id": "e5592f0c",
   "metadata": {},
   "source": [
    "We plan to improve the TXPipe documentation and explain what all these things mean, but for now you may need to look at the code to determine what these are.\n",
    "\n",
    "Here's part of `txpipe/source_selector.py` explaining what these are:\n",
    "        \n",
    "        Parameters\n",
    "        ----------\n",
    "        count: int\n",
    "            The raw number of objects\n",
    "        N_eff: int\n",
    "            The effective number of objects\n",
    "        mean_e: array or list\n",
    "            Length 2. The mean ellipticity e1 and e2 in the bin\n",
    "        sigma_e: float\n",
    "            The ellipticity dispersion\n",
    "\n",
    "The data sets ending in `_2D` are non-tomographic, and just contain statistics for the entire source sample. The others are arrays with values for each tomographic bin.\n",
    "\n",
    "The source bin is a much larger data set, with the tomographic bin each object is assigned to.\n",
    "\n",
    "To load the dataset you have to specify the slice you want to read, or use a colon `:` to read everything:"
   ]
  },
  {
   "cell_type": "code",
   "execution_count": 8,
   "id": "80cf0b0e",
   "metadata": {},
   "outputs": [
    {
     "name": "stdout",
     "output_type": "stream",
     "text": [
      "Dataset object =  <HDF5 dataset \"mean_e1\": shape (4,), type \"<f4\">\n",
      "mean e1 =  [ 0.00358375  0.28642577 -0.00947034 -0.00611456]\n",
      "mean e2 =  [-0.00084231 -0.17548493 -0.01153916  0.02061177]\n",
      "mean e2 (2D) =  [0.00026749]\n",
      "source counts =  [2104 2211 2164 2515]\n",
      "N_eff_2d =  [8994.]\n",
      "source_bin =  [-1 -1 -1 ... -1 -1 -1]\n",
      "source bin data size =  82200\n"
     ]
    }
   ],
   "source": [
    "print(\"Dataset object = \", g[\"mean_e1\"])\n",
    "\n",
    "print(\"mean e1 = \", g[\"mean_e1\"][:])\n",
    "print(\"mean e2 = \", g[\"mean_e2\"][:])\n",
    "print(\"mean e2 (2D) = \", g[\"mean_e2_2d\"][:])\n",
    "\n",
    "print(\"source counts = \", g[\"counts\"][:])\n",
    "print(\"N_eff_2d = \" , g[\"N_eff_2d\"][:])\n",
    "\n",
    "\n",
    "print(\"source_bin = \", g[\"bin\"][:])\n",
    "print(\"source bin data size = \", len(g[\"bin\"]))\n"
   ]
  },
  {
   "cell_type": "markdown",
   "id": "abd7f1a9",
   "metadata": {},
   "source": [
    "Let's plot the mean ellipticity along both axis for each of the four tomographic bins according the number of objects in the bin and plot. "
   ]
  },
  {
   "cell_type": "code",
   "execution_count": 9,
   "id": "5d797fbb",
   "metadata": {},
   "outputs": [
    {
     "data": {
      "text/plain": [
       "<matplotlib.legend.Legend at 0x7f81ed624d00>"
      ]
     },
     "execution_count": 9,
     "metadata": {},
     "output_type": "execute_result"
    },
    {
     "data": {
      "image/png": "[encoded data removed]",
      "text/plain": [
       "<Figure size 640x480 with 1 Axes>"
      ]
     },
     "metadata": {},
     "output_type": "display_data"
    }
   ],
   "source": [
    "x = np.arange(g[\"mean_e1\"].size)\n",
    "e1 = g[\"mean_e1\"][:]\n",
    "e2 = g[\"mean_e2\"][:]\n",
    "\n",
    "N_eff = g[\"N_eff\"][:]\n",
    "sigma_e = g[\"sigma_e\"][:]\n",
    "error_on_mean = sigma_e / np.sqrt(N_eff)\n",
    "\n",
    "\n",
    "plt.title(\"Tomography\")\n",
    "plt.ylabel(\"Mean e\")\n",
    "plt.xlabel(\"Bin Index\")\n",
    "plt.xticks([0, 1, 2, 3])\n",
    "dx = 0.025\n",
    "plt.errorbar(x-dx, e1, error_on_mean, fmt='.', label='e1')\n",
    "plt.errorbar(x+dx, e2, error_on_mean, fmt='.', label='e2')\n",
    "plt.legend()"
   ]
  },
  {
   "cell_type": "markdown",
   "id": "1ae9e4f9",
   "metadata": {},
   "source": [
    "---"
   ]
  },
  {
   "cell_type": "markdown",
   "id": "7fc02ec0",
   "metadata": {},
   "source": [
    "# Redshift PDFs: lens p(z)  <a class=\"anchor\" id=\"photoz-pdfs\"></a>\n",
    "\n",
    "For every lens (foreground) galaxy there is a probability distribution function (PDF) of the galaxy redshift[<sup>1</sup>](#fn1). \n",
    "\n",
    "\n",
    "The PDFs are stored in a [QP](https://github.com/LSSTDESC/qp) file. It stores the redshift sample points as an array `xvals`, and the PDF values in one called `yvals`. The ordering of this array matches the one in the input catalog.  In this sample there are 82200 galaxies with 301 p(z) sample values for each. \n",
    "\n",
    "\n",
    "Summary statistics like the mean and modal z are also stored (`zmean` and `zmode`)\n",
    "\n",
    "\n",
    "<span id=\"fn1\">[1] This particular pipeline does not compute PDFs of individual source galaxies.</span>"
   ]
  },
  {
   "cell_type": "code",
   "execution_count": 10,
   "id": "2ffc3f7d",
   "metadata": {},
   "outputs": [
    {
     "ename": "FileNotFoundError",
     "evalue": "[Errno 2] Unable to synchronously open file (unable to open file: name = './data/example/outputs_metadetect/lens_photoz_pdfs.hdf5', errno = 2, error message = 'No such file or directory', flags = 0, o_flags = 0)",
     "output_type": "error",
     "traceback": [
      "\u001b[0;31m---------------------------------------------------------------------------\u001b[0m",
      "\u001b[0;31mFileNotFoundError\u001b[0m                         Traceback (most recent call last)",
      "Cell \u001b[0;32mIn[10], line 1\u001b[0m\n\u001b[0;32m----> 1\u001b[0m lens_pdfs \u001b[38;5;241m=\u001b[39m \u001b[43mh5py\u001b[49m\u001b[38;5;241;43m.\u001b[39;49m\u001b[43mFile\u001b[49m\u001b[43m(\u001b[49m\u001b[38;5;124;43m\"\u001b[39;49m\u001b[38;5;124;43m./data/example/outputs_metadetect/lens_photoz_pdfs.hdf5\u001b[39;49m\u001b[38;5;124;43m\"\u001b[39;49m\u001b[43m)\u001b[49m\n\u001b[1;32m      2\u001b[0m \u001b[38;5;28mprint\u001b[39m(\u001b[38;5;124m\"\u001b[39m\u001b[38;5;124mRoot:\u001b[39m\u001b[38;5;124m\"\u001b[39m, lens_pdfs\u001b[38;5;241m.\u001b[39mkeys()) \n\u001b[1;32m      4\u001b[0m group \u001b[38;5;241m=\u001b[39m lens_pdfs[\u001b[38;5;124m'\u001b[39m\u001b[38;5;124mdata\u001b[39m\u001b[38;5;124m'\u001b[39m]\n",
      "File \u001b[0;32m/pbs/throng/lsst/users/mricci/desc/TXPipe/conda/lib/python3.10/site-packages/h5py/_hl/files.py:561\u001b[0m, in \u001b[0;36mFile.__init__\u001b[0;34m(self, name, mode, driver, libver, userblock_size, swmr, rdcc_nslots, rdcc_nbytes, rdcc_w0, track_order, fs_strategy, fs_persist, fs_threshold, fs_page_size, page_buf_size, min_meta_keep, min_raw_keep, locking, alignment_threshold, alignment_interval, meta_block_size, **kwds)\u001b[0m\n\u001b[1;32m    552\u001b[0m     fapl \u001b[38;5;241m=\u001b[39m make_fapl(driver, libver, rdcc_nslots, rdcc_nbytes, rdcc_w0,\n\u001b[1;32m    553\u001b[0m                      locking, page_buf_size, min_meta_keep, min_raw_keep,\n\u001b[1;32m    554\u001b[0m                      alignment_threshold\u001b[38;5;241m=\u001b[39malignment_threshold,\n\u001b[1;32m    555\u001b[0m                      alignment_interval\u001b[38;5;241m=\u001b[39malignment_interval,\n\u001b[1;32m    556\u001b[0m                      meta_block_size\u001b[38;5;241m=\u001b[39mmeta_block_size,\n\u001b[1;32m    557\u001b[0m                      \u001b[38;5;241m*\u001b[39m\u001b[38;5;241m*\u001b[39mkwds)\n\u001b[1;32m    558\u001b[0m     fcpl \u001b[38;5;241m=\u001b[39m make_fcpl(track_order\u001b[38;5;241m=\u001b[39mtrack_order, fs_strategy\u001b[38;5;241m=\u001b[39mfs_strategy,\n\u001b[1;32m    559\u001b[0m                      fs_persist\u001b[38;5;241m=\u001b[39mfs_persist, fs_threshold\u001b[38;5;241m=\u001b[39mfs_threshold,\n\u001b[1;32m    560\u001b[0m                      fs_page_size\u001b[38;5;241m=\u001b[39mfs_page_size)\n\u001b[0;32m--> 561\u001b[0m     fid \u001b[38;5;241m=\u001b[39m \u001b[43mmake_fid\u001b[49m\u001b[43m(\u001b[49m\u001b[43mname\u001b[49m\u001b[43m,\u001b[49m\u001b[43m \u001b[49m\u001b[43mmode\u001b[49m\u001b[43m,\u001b[49m\u001b[43m \u001b[49m\u001b[43muserblock_size\u001b[49m\u001b[43m,\u001b[49m\u001b[43m \u001b[49m\u001b[43mfapl\u001b[49m\u001b[43m,\u001b[49m\u001b[43m \u001b[49m\u001b[43mfcpl\u001b[49m\u001b[43m,\u001b[49m\u001b[43m \u001b[49m\u001b[43mswmr\u001b[49m\u001b[38;5;241;43m=\u001b[39;49m\u001b[43mswmr\u001b[49m\u001b[43m)\u001b[49m\n\u001b[1;32m    563\u001b[0m \u001b[38;5;28;01mif\u001b[39;00m \u001b[38;5;28misinstance\u001b[39m(libver, \u001b[38;5;28mtuple\u001b[39m):\n\u001b[1;32m    564\u001b[0m     \u001b[38;5;28mself\u001b[39m\u001b[38;5;241m.\u001b[39m_libver \u001b[38;5;241m=\u001b[39m libver\n",
      "File \u001b[0;32m/pbs/throng/lsst/users/mricci/desc/TXPipe/conda/lib/python3.10/site-packages/h5py/_hl/files.py:235\u001b[0m, in \u001b[0;36mmake_fid\u001b[0;34m(name, mode, userblock_size, fapl, fcpl, swmr)\u001b[0m\n\u001b[1;32m    233\u001b[0m     \u001b[38;5;28;01mif\u001b[39;00m swmr \u001b[38;5;129;01mand\u001b[39;00m swmr_support:\n\u001b[1;32m    234\u001b[0m         flags \u001b[38;5;241m|\u001b[39m\u001b[38;5;241m=\u001b[39m h5f\u001b[38;5;241m.\u001b[39mACC_SWMR_READ\n\u001b[0;32m--> 235\u001b[0m     fid \u001b[38;5;241m=\u001b[39m \u001b[43mh5f\u001b[49m\u001b[38;5;241;43m.\u001b[39;49m\u001b[43mopen\u001b[49m\u001b[43m(\u001b[49m\u001b[43mname\u001b[49m\u001b[43m,\u001b[49m\u001b[43m \u001b[49m\u001b[43mflags\u001b[49m\u001b[43m,\u001b[49m\u001b[43m \u001b[49m\u001b[43mfapl\u001b[49m\u001b[38;5;241;43m=\u001b[39;49m\u001b[43mfapl\u001b[49m\u001b[43m)\u001b[49m\n\u001b[1;32m    236\u001b[0m \u001b[38;5;28;01melif\u001b[39;00m mode \u001b[38;5;241m==\u001b[39m \u001b[38;5;124m'\u001b[39m\u001b[38;5;124mr+\u001b[39m\u001b[38;5;124m'\u001b[39m:\n\u001b[1;32m    237\u001b[0m     fid \u001b[38;5;241m=\u001b[39m h5f\u001b[38;5;241m.\u001b[39mopen(name, h5f\u001b[38;5;241m.\u001b[39mACC_RDWR, fapl\u001b[38;5;241m=\u001b[39mfapl)\n",
      "File \u001b[0;32mh5py/_objects.pyx:54\u001b[0m, in \u001b[0;36mh5py._objects.with_phil.wrapper\u001b[0;34m()\u001b[0m\n",
      "File \u001b[0;32mh5py/_objects.pyx:55\u001b[0m, in \u001b[0;36mh5py._objects.with_phil.wrapper\u001b[0;34m()\u001b[0m\n",
      "File \u001b[0;32mh5py/h5f.pyx:102\u001b[0m, in \u001b[0;36mh5py.h5f.open\u001b[0;34m()\u001b[0m\n",
      "\u001b[0;31mFileNotFoundError\u001b[0m: [Errno 2] Unable to synchronously open file (unable to open file: name = './data/example/outputs_metadetect/lens_photoz_pdfs.hdf5', errno = 2, error message = 'No such file or directory', flags = 0, o_flags = 0)"
     ]
    }
   ],
   "source": [
    "lens_pdfs = h5py.File(\"./data/example/outputs_metadetect/lens_photoz_pdfs.hdf5\")\n",
    "print(\"Root:\", lens_pdfs.keys()) \n",
    "\n",
    "group = lens_pdfs['data']\n",
    "print(\"Group:\", group.keys())\n",
    "\n",
    "z = lens_pdfs[\"meta/xvals\"][:]\n",
    "pdfs = lens_pdfs[\"data/yvals\"][:]\n",
    "\n",
    "print(\"z shape:\", z.shape)\n",
    "print(\"pdfs shape:\", pdfs.shape)\n",
    "\n",
    "# z is currently stored as a 1 x n array, so we should cut it down.\n",
    "z = z[0]\n",
    "\n",
    "zmean = lens_pdfs[\"ancil/zmean\"][:]\n",
    "zmode = lens_pdfs[\"ancil/zmode\"][:]\n"
   ]
  },
  {
   "cell_type": "code",
   "execution_count": 11,
   "id": "c4726483",
   "metadata": {},
   "outputs": [
    {
     "ename": "NameError",
     "evalue": "name 'zmode' is not defined",
     "output_type": "error",
     "traceback": [
      "\u001b[0;31m---------------------------------------------------------------------------\u001b[0m",
      "\u001b[0;31mNameError\u001b[0m                                 Traceback (most recent call last)",
      "Cell \u001b[0;32mIn[11], line 1\u001b[0m\n\u001b[0;32m----> 1\u001b[0m \u001b[43mzmode\u001b[49m\u001b[38;5;241m.\u001b[39mshape\n",
      "\u001b[0;31mNameError\u001b[0m: name 'zmode' is not defined"
     ]
    }
   ],
   "source": [
    "zmode.shape"
   ]
  },
  {
   "cell_type": "markdown",
   "id": "b2c443b1",
   "metadata": {},
   "source": [
    "First let's look at a histogram of the mean and mode redshifts:"
   ]
  },
  {
   "cell_type": "code",
   "execution_count": 12,
   "id": "9fd98af3",
   "metadata": {},
   "outputs": [
    {
     "ename": "NameError",
     "evalue": "name 'zmean' is not defined",
     "output_type": "error",
     "traceback": [
      "\u001b[0;31m---------------------------------------------------------------------------\u001b[0m",
      "\u001b[0;31mNameError\u001b[0m                                 Traceback (most recent call last)",
      "Cell \u001b[0;32mIn[12], line 1\u001b[0m\n\u001b[0;32m----> 1\u001b[0m plt\u001b[38;5;241m.\u001b[39mhist(\u001b[43mzmean\u001b[49m, histtype\u001b[38;5;241m=\u001b[39m\u001b[38;5;124m'\u001b[39m\u001b[38;5;124mstep\u001b[39m\u001b[38;5;124m'\u001b[39m, bins\u001b[38;5;241m=\u001b[39m\u001b[38;5;241m25\u001b[39m, label\u001b[38;5;241m=\u001b[39m\u001b[38;5;124m'\u001b[39m\u001b[38;5;124mMean z\u001b[39m\u001b[38;5;124m'\u001b[39m)\n\u001b[1;32m      2\u001b[0m plt\u001b[38;5;241m.\u001b[39mhist(zmode, histtype\u001b[38;5;241m=\u001b[39m\u001b[38;5;124m'\u001b[39m\u001b[38;5;124mstep\u001b[39m\u001b[38;5;124m'\u001b[39m, bins\u001b[38;5;241m=\u001b[39m\u001b[38;5;241m25\u001b[39m, label\u001b[38;5;241m=\u001b[39m\u001b[38;5;124m'\u001b[39m\u001b[38;5;124mModal z\u001b[39m\u001b[38;5;124m'\u001b[39m)\n\u001b[1;32m      3\u001b[0m plt\u001b[38;5;241m.\u001b[39mxlabel(\u001b[38;5;124m\"\u001b[39m\u001b[38;5;124mRedshift\u001b[39m\u001b[38;5;124m\"\u001b[39m)\n",
      "\u001b[0;31mNameError\u001b[0m: name 'zmean' is not defined"
     ]
    }
   ],
   "source": [
    "plt.hist(zmean, histtype='step', bins=25, label='Mean z')\n",
    "plt.hist(zmode, histtype='step', bins=25, label='Modal z')\n",
    "plt.xlabel(\"Redshift\")\n",
    "plt.ylabel(\"Count\")\n",
    "plt.legend();"
   ]
  },
  {
   "cell_type": "markdown",
   "id": "a3469162",
   "metadata": {},
   "source": [
    "We can also plot some randomly chosen galaxy PDFs. Let's pick a few."
   ]
  },
  {
   "cell_type": "code",
   "execution_count": 13,
   "id": "c21866f4",
   "metadata": {},
   "outputs": [
    {
     "ename": "NameError",
     "evalue": "name 'z' is not defined",
     "output_type": "error",
     "traceback": [
      "\u001b[0;31m---------------------------------------------------------------------------\u001b[0m",
      "\u001b[0;31mNameError\u001b[0m                                 Traceback (most recent call last)",
      "Cell \u001b[0;32mIn[13], line 5\u001b[0m\n\u001b[1;32m      3\u001b[0m plt\u001b[38;5;241m.\u001b[39mxlabel(\u001b[38;5;124m'\u001b[39m\u001b[38;5;124mRedshift\u001b[39m\u001b[38;5;124m'\u001b[39m)\n\u001b[1;32m      4\u001b[0m \u001b[38;5;28;01mfor\u001b[39;00m j,i \u001b[38;5;129;01min\u001b[39;00m \u001b[38;5;28menumerate\u001b[39m(indices):\n\u001b[0;32m----> 5\u001b[0m     axes[j]\u001b[38;5;241m.\u001b[39mplot(\u001b[43mz\u001b[49m, pdfs[i])\n\u001b[1;32m      6\u001b[0m     axes[j]\u001b[38;5;241m.\u001b[39mset_title(\u001b[38;5;124mf\u001b[39m\u001b[38;5;124m'\u001b[39m\u001b[38;5;124mGalaxy \u001b[39m\u001b[38;5;132;01m{\u001b[39;00mi\u001b[38;5;132;01m}\u001b[39;00m\u001b[38;5;124m redshift PDF\u001b[39m\u001b[38;5;124m'\u001b[39m)\n\u001b[1;32m      7\u001b[0m     axes[j]\u001b[38;5;241m.\u001b[39mset_ylabel(\u001b[38;5;124m'\u001b[39m\u001b[38;5;124mp(z)\u001b[39m\u001b[38;5;124m'\u001b[39m)\n",
      "\u001b[0;31mNameError\u001b[0m: name 'z' is not defined"
     ]
    },
    {
     "data": {
      "image/png": "[encoded data removed]",
      "text/plain": [
       "<Figure size 500x1500 with 4 Axes>"
      ]
     },
     "metadata": {},
     "output_type": "display_data"
    }
   ],
   "source": [
    "\n",
    "indices = [178, 543, 21000, 50000]\n",
    "fig, axes = plt.subplots(nrows=len(indices), ncols=1, figsize=(5, 15), sharex=True)\n",
    "plt.xlabel('Redshift')\n",
    "for j,i in enumerate(indices):\n",
    "    axes[j].plot(z, pdfs[i])\n",
    "    axes[j].set_title(f'Galaxy {i} redshift PDF')\n",
    "    axes[j].set_ylabel('p(z)')\n"
   ]
  },
  {
   "cell_type": "markdown",
   "id": "bd608229",
   "metadata": {},
   "source": [
    "Let's overlay PDFs for a large set of galaxies. "
   ]
  },
  {
   "cell_type": "code",
   "execution_count": 14,
   "id": "794ff4f1",
   "metadata": {},
   "outputs": [
    {
     "ename": "NameError",
     "evalue": "name 'z' is not defined",
     "output_type": "error",
     "traceback": [
      "\u001b[0;31m---------------------------------------------------------------------------\u001b[0m",
      "\u001b[0;31mNameError\u001b[0m                                 Traceback (most recent call last)",
      "Cell \u001b[0;32mIn[14], line 3\u001b[0m\n\u001b[1;32m      1\u001b[0m \u001b[38;5;28;01mfor\u001b[39;00m i \u001b[38;5;129;01min\u001b[39;00m \u001b[38;5;28mrange\u001b[39m(\u001b[38;5;241m10000\u001b[39m,\u001b[38;5;241m12000\u001b[39m,\u001b[38;5;241m50\u001b[39m):\n\u001b[1;32m      2\u001b[0m     \u001b[38;5;66;03m# Normalize to peak 1 to avoid very spiky PDFs dominating\u001b[39;00m\n\u001b[0;32m----> 3\u001b[0m     plt\u001b[38;5;241m.\u001b[39mplot(\u001b[43mz\u001b[49m, pdfs[i] \u001b[38;5;241m/\u001b[39m pdfs[i]\u001b[38;5;241m.\u001b[39mmax())\n\u001b[1;32m      4\u001b[0m plt\u001b[38;5;241m.\u001b[39mxlabel(\u001b[38;5;124m'\u001b[39m\u001b[38;5;124mBins of Redshift\u001b[39m\u001b[38;5;124m'\u001b[39m)\n\u001b[1;32m      5\u001b[0m plt\u001b[38;5;241m.\u001b[39mylabel(\u001b[38;5;124m'\u001b[39m\u001b[38;5;124mProbability Density Funcation for Galaxy \u001b[39m\u001b[38;5;124m'\u001b[39m)\n",
      "\u001b[0;31mNameError\u001b[0m: name 'z' is not defined"
     ]
    }
   ],
   "source": [
    "for i in range(10000,12000,50):\n",
    "    # Normalize to peak 1 to avoid very spiky PDFs dominating\n",
    "    plt.plot(z, pdfs[i] / pdfs[i].max())\n",
    "plt.xlabel('Bins of Redshift')\n",
    "plt.ylabel('Probability Density Funcation for Galaxy ')\n",
    "plt.title('Probability Density Funcation vs Redshift')"
   ]
  },
  {
   "cell_type": "markdown",
   "id": "5b46e03c",
   "metadata": {},
   "source": [
    "---"
   ]
  },
  {
   "cell_type": "markdown",
   "id": "b765fc44",
   "metadata": {},
   "source": [
    "# Redshift distributions: source n(z)  <a class=\"anchor\" id=\"photoz-bins\"></a>\n",
    "\n",
    "Now if we want to look at the values of the tomographic bin galaxy redshift distribution we can find these in `shear_photoz_stack.hdf5`. This is another QP file, so you can read it with either the qp library, directly as an HDF5 file, or via the TXPipe interface:"
   ]
  },
  {
   "cell_type": "code",
   "execution_count": 15,
   "id": "d9cf75a6",
   "metadata": {
    "scrolled": true
   },
   "outputs": [
    {
     "ename": "FileNotFoundError",
     "evalue": "[Errno 2] Unable to synchronously open file (unable to open file: name = './data/example/outputs_metadetect/shear_photoz_stack.hdf5', errno = 2, error message = 'No such file or directory', flags = 0, o_flags = 0)",
     "output_type": "error",
     "traceback": [
      "\u001b[0;31m---------------------------------------------------------------------------\u001b[0m",
      "\u001b[0;31mFileNotFoundError\u001b[0m                         Traceback (most recent call last)",
      "Cell \u001b[0;32mIn[15], line 1\u001b[0m\n\u001b[0;32m----> 1\u001b[0m stack \u001b[38;5;241m=\u001b[39m \u001b[43mtxpipe\u001b[49m\u001b[38;5;241;43m.\u001b[39;49m\u001b[43mdata_types\u001b[49m\u001b[38;5;241;43m.\u001b[39;49m\u001b[43mQPNOfZFile\u001b[49m\u001b[43m(\u001b[49m\u001b[38;5;124;43m\"\u001b[39;49m\u001b[38;5;124;43m./data/example/outputs_metadetect/shear_photoz_stack.hdf5\u001b[39;49m\u001b[38;5;124;43m\"\u001b[39;49m\u001b[43m,\u001b[49m\u001b[43m \u001b[49m\u001b[38;5;124;43m\"\u001b[39;49m\u001b[38;5;124;43mr\u001b[39;49m\u001b[38;5;124;43m\"\u001b[39;49m\u001b[43m)\u001b[49m\n",
      "File \u001b[0;32m/pbs/throng/lsst/users/mricci/desc/TXPipe/txpipe/data_types/types.py:529\u001b[0m, in \u001b[0;36mQPNOfZFile.__init__\u001b[0;34m(self, *args, **kwargs)\u001b[0m\n\u001b[1;32m    528\u001b[0m \u001b[38;5;28;01mdef\u001b[39;00m \u001b[38;5;21m__init__\u001b[39m(\u001b[38;5;28mself\u001b[39m, \u001b[38;5;241m*\u001b[39margs, \u001b[38;5;241m*\u001b[39m\u001b[38;5;241m*\u001b[39mkwargs):\n\u001b[0;32m--> 529\u001b[0m     \u001b[38;5;28;43msuper\u001b[39;49m\u001b[43m(\u001b[49m\u001b[43m)\u001b[49m\u001b[38;5;241;43m.\u001b[39;49m\u001b[38;5;21;43m__init__\u001b[39;49m\u001b[43m(\u001b[49m\u001b[38;5;241;43m*\u001b[39;49m\u001b[43margs\u001b[49m\u001b[43m,\u001b[49m\u001b[43m \u001b[49m\u001b[38;5;241;43m*\u001b[39;49m\u001b[38;5;241;43m*\u001b[39;49m\u001b[43mkwargs\u001b[49m\u001b[43m)\u001b[49m\n\u001b[1;32m    530\u001b[0m     \u001b[38;5;28mself\u001b[39m\u001b[38;5;241m.\u001b[39m_ensemble \u001b[38;5;241m=\u001b[39m \u001b[38;5;28;01mNone\u001b[39;00m\n",
      "File \u001b[0;32m/pbs/throng/lsst/users/mricci/desc/TXPipe/txpipe/data_types/types.py:490\u001b[0m, in \u001b[0;36mQPBaseFile.__init__\u001b[0;34m(self, *args, **kwargs)\u001b[0m\n\u001b[1;32m    489\u001b[0m \u001b[38;5;28;01mdef\u001b[39;00m \u001b[38;5;21m__init__\u001b[39m(\u001b[38;5;28mself\u001b[39m, \u001b[38;5;241m*\u001b[39margs, \u001b[38;5;241m*\u001b[39m\u001b[38;5;241m*\u001b[39mkwargs):\n\u001b[0;32m--> 490\u001b[0m     \u001b[38;5;28;43msuper\u001b[39;49m\u001b[43m(\u001b[49m\u001b[43m)\u001b[49m\u001b[38;5;241;43m.\u001b[39;49m\u001b[38;5;21;43m__init__\u001b[39;49m\u001b[43m(\u001b[49m\u001b[38;5;241;43m*\u001b[39;49m\u001b[43margs\u001b[49m\u001b[43m,\u001b[49m\u001b[43m \u001b[49m\u001b[38;5;241;43m*\u001b[39;49m\u001b[38;5;241;43m*\u001b[39;49m\u001b[43mkwargs\u001b[49m\u001b[43m)\u001b[49m\n\u001b[1;32m    491\u001b[0m     \u001b[38;5;28;01mif\u001b[39;00m \u001b[38;5;28mself\u001b[39m\u001b[38;5;241m.\u001b[39mmode \u001b[38;5;241m==\u001b[39m \u001b[38;5;124m\"\u001b[39m\u001b[38;5;124mr\u001b[39m\u001b[38;5;124m\"\u001b[39m:\n\u001b[1;32m    492\u001b[0m         \u001b[38;5;28mself\u001b[39m\u001b[38;5;241m.\u001b[39m_metadata \u001b[38;5;241m=\u001b[39m \u001b[38;5;28;01mNone\u001b[39;00m\n",
      "File \u001b[0;32m/pbs/throng/lsst/users/mricci/desc/TXPipe/txpipe/data_types/base.py:45\u001b[0m, in \u001b[0;36mDataFile.__init__\u001b[0;34m(self, path, mode, extra_provenance, validate, **kwargs)\u001b[0m\n\u001b[1;32m     42\u001b[0m \u001b[38;5;28;01mif\u001b[39;00m mode \u001b[38;5;129;01mnot\u001b[39;00m \u001b[38;5;129;01min\u001b[39;00m [\u001b[38;5;124m\"\u001b[39m\u001b[38;5;124mr\u001b[39m\u001b[38;5;124m\"\u001b[39m, \u001b[38;5;124m\"\u001b[39m\u001b[38;5;124mw\u001b[39m\u001b[38;5;124m\"\u001b[39m]:\n\u001b[1;32m     43\u001b[0m     \u001b[38;5;28;01mraise\u001b[39;00m \u001b[38;5;167;01mValueError\u001b[39;00m(\u001b[38;5;124mf\u001b[39m\u001b[38;5;124m\"\u001b[39m\u001b[38;5;124mFile \u001b[39m\u001b[38;5;124m'\u001b[39m\u001b[38;5;124mmode\u001b[39m\u001b[38;5;124m'\u001b[39m\u001b[38;5;124m argument must be \u001b[39m\u001b[38;5;124m'\u001b[39m\u001b[38;5;124mr\u001b[39m\u001b[38;5;124m'\u001b[39m\u001b[38;5;124m or \u001b[39m\u001b[38;5;124m'\u001b[39m\u001b[38;5;124mw\u001b[39m\u001b[38;5;124m'\u001b[39m\u001b[38;5;124m not \u001b[39m\u001b[38;5;124m'\u001b[39m\u001b[38;5;132;01m{\u001b[39;00mmode\u001b[38;5;132;01m}\u001b[39;00m\u001b[38;5;124m'\u001b[39m\u001b[38;5;124m\"\u001b[39m)\n\u001b[0;32m---> 45\u001b[0m \u001b[38;5;28mself\u001b[39m\u001b[38;5;241m.\u001b[39mfile \u001b[38;5;241m=\u001b[39m \u001b[38;5;28;43mself\u001b[39;49m\u001b[38;5;241;43m.\u001b[39;49m\u001b[43mopen\u001b[49m\u001b[43m(\u001b[49m\u001b[43mpath\u001b[49m\u001b[43m,\u001b[49m\u001b[43m \u001b[49m\u001b[43mmode\u001b[49m\u001b[43m,\u001b[49m\u001b[43m \u001b[49m\u001b[38;5;241;43m*\u001b[39;49m\u001b[38;5;241;43m*\u001b[39;49m\u001b[43mkwargs\u001b[49m\u001b[43m)\u001b[49m\n\u001b[1;32m     47\u001b[0m \u001b[38;5;28;01mif\u001b[39;00m validate \u001b[38;5;129;01mand\u001b[39;00m mode \u001b[38;5;241m==\u001b[39m \u001b[38;5;124m\"\u001b[39m\u001b[38;5;124mr\u001b[39m\u001b[38;5;124m\"\u001b[39m:\n\u001b[1;32m     48\u001b[0m     \u001b[38;5;28mself\u001b[39m\u001b[38;5;241m.\u001b[39mvalidate()\n",
      "File \u001b[0;32m/pbs/throng/lsst/users/mricci/desc/TXPipe/txpipe/data_types/base.py:165\u001b[0m, in \u001b[0;36mHDFFile.open\u001b[0;34m(cls, path, mode, **kwargs)\u001b[0m\n\u001b[1;32m    163\u001b[0m     \u001b[38;5;28;01mimport\u001b[39;00m \u001b[38;5;21;01mh5py\u001b[39;00m\n\u001b[1;32m    164\u001b[0m \u001b[38;5;66;03m# Return an open h5py File\u001b[39;00m\n\u001b[0;32m--> 165\u001b[0m \u001b[38;5;28;01mreturn\u001b[39;00m \u001b[43mh5py\u001b[49m\u001b[38;5;241;43m.\u001b[39;49m\u001b[43mFile\u001b[49m\u001b[43m(\u001b[49m\u001b[43mpath\u001b[49m\u001b[43m,\u001b[49m\u001b[43m \u001b[49m\u001b[43mmode\u001b[49m\u001b[43m,\u001b[49m\u001b[43m \u001b[49m\u001b[38;5;241;43m*\u001b[39;49m\u001b[38;5;241;43m*\u001b[39;49m\u001b[43mkwargs\u001b[49m\u001b[43m)\u001b[49m\n",
      "File \u001b[0;32m/pbs/throng/lsst/users/mricci/desc/TXPipe/conda/lib/python3.10/site-packages/h5py/_hl/files.py:561\u001b[0m, in \u001b[0;36mFile.__init__\u001b[0;34m(self, name, mode, driver, libver, userblock_size, swmr, rdcc_nslots, rdcc_nbytes, rdcc_w0, track_order, fs_strategy, fs_persist, fs_threshold, fs_page_size, page_buf_size, min_meta_keep, min_raw_keep, locking, alignment_threshold, alignment_interval, meta_block_size, **kwds)\u001b[0m\n\u001b[1;32m    552\u001b[0m     fapl \u001b[38;5;241m=\u001b[39m make_fapl(driver, libver, rdcc_nslots, rdcc_nbytes, rdcc_w0,\n\u001b[1;32m    553\u001b[0m                      locking, page_buf_size, min_meta_keep, min_raw_keep,\n\u001b[1;32m    554\u001b[0m                      alignment_threshold\u001b[38;5;241m=\u001b[39malignment_threshold,\n\u001b[1;32m    555\u001b[0m                      alignment_interval\u001b[38;5;241m=\u001b[39malignment_interval,\n\u001b[1;32m    556\u001b[0m                      meta_block_size\u001b[38;5;241m=\u001b[39mmeta_block_size,\n\u001b[1;32m    557\u001b[0m                      \u001b[38;5;241m*\u001b[39m\u001b[38;5;241m*\u001b[39mkwds)\n\u001b[1;32m    558\u001b[0m     fcpl \u001b[38;5;241m=\u001b[39m make_fcpl(track_order\u001b[38;5;241m=\u001b[39mtrack_order, fs_strategy\u001b[38;5;241m=\u001b[39mfs_strategy,\n\u001b[1;32m    559\u001b[0m                      fs_persist\u001b[38;5;241m=\u001b[39mfs_persist, fs_threshold\u001b[38;5;241m=\u001b[39mfs_threshold,\n\u001b[1;32m    560\u001b[0m                      fs_page_size\u001b[38;5;241m=\u001b[39mfs_page_size)\n\u001b[0;32m--> 561\u001b[0m     fid \u001b[38;5;241m=\u001b[39m \u001b[43mmake_fid\u001b[49m\u001b[43m(\u001b[49m\u001b[43mname\u001b[49m\u001b[43m,\u001b[49m\u001b[43m \u001b[49m\u001b[43mmode\u001b[49m\u001b[43m,\u001b[49m\u001b[43m \u001b[49m\u001b[43muserblock_size\u001b[49m\u001b[43m,\u001b[49m\u001b[43m \u001b[49m\u001b[43mfapl\u001b[49m\u001b[43m,\u001b[49m\u001b[43m \u001b[49m\u001b[43mfcpl\u001b[49m\u001b[43m,\u001b[49m\u001b[43m \u001b[49m\u001b[43mswmr\u001b[49m\u001b[38;5;241;43m=\u001b[39;49m\u001b[43mswmr\u001b[49m\u001b[43m)\u001b[49m\n\u001b[1;32m    563\u001b[0m \u001b[38;5;28;01mif\u001b[39;00m \u001b[38;5;28misinstance\u001b[39m(libver, \u001b[38;5;28mtuple\u001b[39m):\n\u001b[1;32m    564\u001b[0m     \u001b[38;5;28mself\u001b[39m\u001b[38;5;241m.\u001b[39m_libver \u001b[38;5;241m=\u001b[39m libver\n",
      "File \u001b[0;32m/pbs/throng/lsst/users/mricci/desc/TXPipe/conda/lib/python3.10/site-packages/h5py/_hl/files.py:235\u001b[0m, in \u001b[0;36mmake_fid\u001b[0;34m(name, mode, userblock_size, fapl, fcpl, swmr)\u001b[0m\n\u001b[1;32m    233\u001b[0m     \u001b[38;5;28;01mif\u001b[39;00m swmr \u001b[38;5;129;01mand\u001b[39;00m swmr_support:\n\u001b[1;32m    234\u001b[0m         flags \u001b[38;5;241m|\u001b[39m\u001b[38;5;241m=\u001b[39m h5f\u001b[38;5;241m.\u001b[39mACC_SWMR_READ\n\u001b[0;32m--> 235\u001b[0m     fid \u001b[38;5;241m=\u001b[39m \u001b[43mh5f\u001b[49m\u001b[38;5;241;43m.\u001b[39;49m\u001b[43mopen\u001b[49m\u001b[43m(\u001b[49m\u001b[43mname\u001b[49m\u001b[43m,\u001b[49m\u001b[43m \u001b[49m\u001b[43mflags\u001b[49m\u001b[43m,\u001b[49m\u001b[43m \u001b[49m\u001b[43mfapl\u001b[49m\u001b[38;5;241;43m=\u001b[39;49m\u001b[43mfapl\u001b[49m\u001b[43m)\u001b[49m\n\u001b[1;32m    236\u001b[0m \u001b[38;5;28;01melif\u001b[39;00m mode \u001b[38;5;241m==\u001b[39m \u001b[38;5;124m'\u001b[39m\u001b[38;5;124mr+\u001b[39m\u001b[38;5;124m'\u001b[39m:\n\u001b[1;32m    237\u001b[0m     fid \u001b[38;5;241m=\u001b[39m h5f\u001b[38;5;241m.\u001b[39mopen(name, h5f\u001b[38;5;241m.\u001b[39mACC_RDWR, fapl\u001b[38;5;241m=\u001b[39mfapl)\n",
      "File \u001b[0;32mh5py/_objects.pyx:54\u001b[0m, in \u001b[0;36mh5py._objects.with_phil.wrapper\u001b[0;34m()\u001b[0m\n",
      "File \u001b[0;32mh5py/_objects.pyx:55\u001b[0m, in \u001b[0;36mh5py._objects.with_phil.wrapper\u001b[0;34m()\u001b[0m\n",
      "File \u001b[0;32mh5py/h5f.pyx:102\u001b[0m, in \u001b[0;36mh5py.h5f.open\u001b[0;34m()\u001b[0m\n",
      "\u001b[0;31mFileNotFoundError\u001b[0m: [Errno 2] Unable to synchronously open file (unable to open file: name = './data/example/outputs_metadetect/shear_photoz_stack.hdf5', errno = 2, error message = 'No such file or directory', flags = 0, o_flags = 0)"
     ]
    }
   ],
   "source": [
    "stack = txpipe.data_types.QPNOfZFile(\"./data/example/outputs_metadetect/shear_photoz_stack.hdf5\", \"r\")"
   ]
  },
  {
   "cell_type": "code",
   "execution_count": 16,
   "id": "5b59d23b",
   "metadata": {},
   "outputs": [
    {
     "ename": "NameError",
     "evalue": "name 'stack' is not defined",
     "output_type": "error",
     "traceback": [
      "\u001b[0;31m---------------------------------------------------------------------------\u001b[0m",
      "\u001b[0;31mNameError\u001b[0m                                 Traceback (most recent call last)",
      "Cell \u001b[0;32mIn[16], line 1\u001b[0m\n\u001b[0;32m----> 1\u001b[0m nbin \u001b[38;5;241m=\u001b[39m \u001b[43mstack\u001b[49m\u001b[38;5;241m.\u001b[39mget_nbin()\n\u001b[1;32m      2\u001b[0m \u001b[38;5;28mprint\u001b[39m(\u001b[38;5;124m\"\u001b[39m\u001b[38;5;124mNumber of bins = \u001b[39m\u001b[38;5;124m\"\u001b[39m, nbin)\n\u001b[1;32m      3\u001b[0m \u001b[38;5;28;01mfor\u001b[39;00m i \u001b[38;5;129;01min\u001b[39;00m \u001b[38;5;28mrange\u001b[39m(nbin):\n",
      "\u001b[0;31mNameError\u001b[0m: name 'stack' is not defined"
     ]
    }
   ],
   "source": [
    "nbin = stack.get_nbin()\n",
    "print(\"Number of bins = \", nbin)\n",
    "for i in range(nbin):\n",
    "    z, nz = stack.get_bin_n_of_z(i, zmax=1.5, nz=50)\n",
    "    plt.plot(z, nz, label=f'Bin {i}')\n",
    "z, nz = stack.get_2d_n_of_z(zmax=1.5, nz=50)\n",
    "plt.plot(z, nz*nbin, 'k--', label='All')\n",
    "plt.legend()"
   ]
  },
  {
   "cell_type": "markdown",
   "id": "9d433d12",
   "metadata": {},
   "source": [
    "You can also access the QP \"ensemble\" object directly:"
   ]
  },
  {
   "cell_type": "code",
   "execution_count": 17,
   "id": "1a0c2e67",
   "metadata": {},
   "outputs": [],
   "source": [
    "with txpipe.data_types.QPNOfZFile(\"./data/example/outputs_metadetect/shear_photoz_stack.hdf5\", \"r\") as stack:\n",
    "    ensemble = stack.read_ensemble()\n",
    "    \n",
    "\n",
    "nbin = ensemble.npdf - 1 # This -1 is because the combined n(z) is also stored, at the end.\n",
    "fig, axes = plt.subplots()\n",
    "for i in range(nbin):\n",
    "    ensemble.plot(i, axes=axes, label=f'Bin {i}')\n",
    "plt.legend()"
   ]
  },
  {
   "cell_type": "markdown",
   "id": "69169499",
   "metadata": {},
   "source": [
    "---"
   ]
  },
  {
   "cell_type": "markdown",
   "id": "506c37aa",
   "metadata": {},
   "source": [
    "# Null test plots & data: the brighter-fatter effect <a class=\"anchor\" id=\"brighter-fatter\"></a>\n",
    "\n",
    "One stage makes plots to check for the impact of the [brighter-fatter effect](https://arxiv.org/abs/1402.0725).\n",
    "\n",
    "It makes a plot, but also saves the data points that go into that plot separately."
   ]
  },
  {
   "cell_type": "code",
   "execution_count": 17,
   "id": "fc22e182",
   "metadata": {
    "scrolled": true
   },
   "outputs": [
    {
     "name": "stdout",
     "output_type": "stream",
     "text": [
      "Root: <KeysViewHDF5 ['brighter_fatter', 'provenance']>\n",
      "Group: <KeysViewHDF5 ['PSF-reserved', 'PSF-used']>\n",
      "Sub-group: <KeysViewHDF5 ['delta_T', 'delta_T_error', 'delta_e1', 'delta_e1_error', 'delta_e2', 'delta_e2_error', 'mag']>\n"
     ]
    }
   ],
   "source": [
    "bf = h5py.File(\"./data/example/outputs_metadetect/brighter_fatter_data.hdf5\")\n",
    "\n",
    "print(\"Root:\", bf.keys())\n",
    "print(\"Group:\", bf[\"brighter_fatter\"].keys())\n",
    "print(\"Sub-group:\", bf[\"brighter_fatter/PSF-used\"].keys())\n"
   ]
  },
  {
   "cell_type": "markdown",
   "id": "d46fa583",
   "metadata": {},
   "source": [
    "TXPipe output files also contain provenance metadata that describe how they were made.\n",
    "\n",
    "This includes the stage that made it, the configuration options, and the versions of all the python modules it loaded.\n",
    "\n",
    "The data is stored in an HDF5 \"Attributes\" section, which we can convert to a dictionary and explore.\n"
   ]
  },
  {
   "cell_type": "code",
   "execution_count": 18,
   "id": "04a06d47",
   "metadata": {},
   "outputs": [
    {
     "name": "stdout",
     "output_type": "stream",
     "text": [
      "config/band r\n",
      "config/brighter_fatter_data data/example/outputs_metadetect/brighter_fatter_data.hdf5\n",
      "config/brighter_fatter_plot data/example/outputs_metadetect/brighter_fatter_plot.png\n",
      "config/chunk_rows 100000\n",
      "config/config examples/metadetect/config.yml\n",
      "config/cprofile \n",
      "config/memmon 0\n",
      "config/mmax 23.5\n",
      "config/mmin 18.5\n",
      "config/name TXBrighterFatterPlot\n",
      "config/nbin 20\n",
      "config/nside 64\n",
      "config/pdb False\n",
      "config/pixelization healpix\n",
      "config/sparse True\n",
      "config/stage_name TXBrighterFatterPlot\n",
      "config/star_catalog data/example/inputs/star_catalog.hdf5\n",
      "creation 2024-07-17T18:08:21.274324\n",
      "domain jns-mricci.cc.in2p3.fr\n",
      "gitdiff diff --git a/notebooks/exploring-cluster-shear-cat.ipynb b/notebooks/exploring-cluster-shear-cat.ipynb\n",
      "index 67945285..24d49539 100644\n",
      "--- a/notebooks/exploring-cluster-shear-cat.ipynb\n",
      "+++ b/notebooks/exploring-cluster-shear-cat.ipynb\n",
      "@@ -162,7 +162,7 @@\n",
      "    \"name\": \"python\",\n",
      "    \"nbconvert_exporter\": \"python\",\n",
      "    \"pygments_lexer\": \"ipython3\",\n",
      "-   \"version\": \"3.9.10\"\n",
      "+   \"version\": \"3.8.5\"\n",
      "   }\n",
      "  },\n",
      "  \"nbformat\": 4,\n",
      "diff --git a/notebooks/txpipe_cluster_background_selection.ipynb b/notebooks/txpipe_cluster_background_selection.ipynb\n",
      "index 465f4044..5d002091 100644\n",
      "--- a/notebooks/txpipe_cluster_background_selection.ipynb\n",
      "+++ b/notebooks/txpipe_cluster_background_selection.ipynb\n",
      "@@ -1140,9 +1140,9 @@\n",
      "  ],\n",
      "  \"metadata\": {\n",
      "   \"kernelspec\": {\n",
      "-   \"display_name\": \"TXPipe\",\n",
      "+   \"display_name\": \"TXPipe-2023-Jul-12\",\n",
      "    \"language\": \"python\",\n",
      "-   \"name\": \"txpipe\"\n",
      "+   \"name\": \"txpipe-2023-jul-12\"\n",
      "   },\n",
      "   \"language_info\": {\n",
      "    \"codemirror_mode\": {\n",
      "@@ -1154,7 +1154,7 @@\n",
      "    \"name\": \"python\",\n",
      "    \"nbconvert_exporter\": \"python\",\n",
      "    \"pygments_lexer\": \"ipython3\",\n",
      "-   \"version\": \"3.9.16\"\n",
      "+   \"version\": \"3.10.12\"\n",
      "   }\n",
      "  },\n",
      "  \"nbformat\": 4,\n",
      "\n"
     ]
    }
   ],
   "source": [
    "prov = dict(bf[\"provenance\"].attrs)\n",
    "\n",
    "# Just print the first 20 items as there are lots of them\n",
    "for (k, v) in list(prov.items())[:20]:\n",
    "    print(k, v)"
   ]
  },
  {
   "cell_type": "markdown",
   "id": "c6bd5cd7",
   "metadata": {},
   "source": [
    "This stage also makes a plot as a PNG file:"
   ]
  },
  {
   "cell_type": "code",
   "execution_count": 19,
   "id": "cc5345b5",
   "metadata": {},
   "outputs": [
    {
     "data": {
      "image/png": "[encoded data removed]",
      "text/plain": [
       "<IPython.core.display.Image object>"
      ]
     },
     "execution_count": 19,
     "metadata": {},
     "output_type": "execute_result"
    }
   ],
   "source": [
    "Image(filename='data/example/outputs_metadetect/brighter_fatter_plot.png') "
   ]
  },
  {
   "cell_type": "markdown",
   "id": "4423bb9b",
   "metadata": {},
   "source": [
    "----\n"
   ]
  },
  {
   "cell_type": "markdown",
   "id": "98b7b586",
   "metadata": {},
   "source": [
    "# Maps: source catalog maps <a class=\"anchor\" id=\"source-maps\"></a>\n",
    "\n",
    "TXPipe Generaetes a set of maps, in [healpix](https://healpy.readthedocs.io/en/latest/tutorial.html) format by default.\n",
    "\n",
    "TXPipe map files use the class `txpipe.data_types.MapsFile`. This can read, write, and plot maps in either the default Heapix or alternative planar form.\n",
    "\n",
    "First, let's use this class to look at a map. Because our maps are made at low resolution for this fast example the maps are not very interesting!"
   ]
  },
  {
   "cell_type": "code",
   "execution_count": 20,
   "id": "3d9e47bc",
   "metadata": {},
   "outputs": [
    {
     "name": "stdout",
     "output_type": "stream",
     "text": [
      "count_0, count_1, count_2, count_2D, count_3, g1_0, g1_1, g1_2, g1_2D, g1_3, g2_0, g2_1, g2_2, g2_2D, g2_3, lensing_weight_0, lensing_weight_1, lensing_weight_2, lensing_weight_2D, lensing_weight_3, var_e_0, var_e_1, var_e_2, var_e_2D, var_e_3, var_g1_0, var_g1_1, var_g1_2, var_g1_2D, var_g1_3, var_g2_0, var_g2_1, var_g2_2, var_g2_2D, var_g2_3\n"
     ]
    },
    {
     "data": {
      "image/png": "[encoded data removed]",
      "text/plain": [
       "<Figure size 640x480 with 2 Axes>"
      ]
     },
     "metadata": {},
     "output_type": "display_data"
    }
   ],
   "source": [
    "f = txpipe.data_types.MapsFile(\"./data/example/outputs_metadetect/source_maps.hdf5\", \"r\")\n",
    "\n",
    "# This method lists all the maps stored in the file.\n",
    "map_names = f.list_maps()\n",
    "print(\", \".join(map_names))\n",
    "\n",
    "# This plots one healpix map\n",
    "f.plot_healpix(\"g1_0\")"
   ]
  },
  {
   "cell_type": "markdown",
   "id": "4f178cdf",
   "metadata": {},
   "source": [
    "You can also get basic map resolution information directly without loading the map:"
   ]
  },
  {
   "cell_type": "code",
   "execution_count": 21,
   "id": "153e81b8",
   "metadata": {},
   "outputs": [
    {
     "data": {
      "text/plain": [
       "{'chunk_rows': 100000,\n",
       " 'dec_cent': nan,\n",
       " 'nbin': 4,\n",
       " 'nbin_source': 4,\n",
       " 'npix_x': -1,\n",
       " 'npix_y': -1,\n",
       " 'nside': 64,\n",
       " 'pixel_size': nan,\n",
       " 'pixelization': 'healpix',\n",
       " 'ra_cent': nan,\n",
       " 'sparse': True}"
      ]
     },
     "execution_count": 21,
     "metadata": {},
     "output_type": "execute_result"
    }
   ],
   "source": [
    "f.read_map_info(\"g1_1\")"
   ]
  },
  {
   "cell_type": "markdown",
   "id": "c47d2961",
   "metadata": {},
   "source": [
    "You don't have to use the class to explore the data - you can also dig in directly if you really prefer. The underlying file object is exposed as `f.file`.\n",
    "\n",
    "Maps are stored as two arrays, a pixel index and value. Unobserved values are not stored. We can look at the first 10 values, for example."
   ]
  },
  {
   "cell_type": "code",
   "execution_count": 22,
   "id": "d23dd553",
   "metadata": {},
   "outputs": [
    {
     "name": "stdout",
     "output_type": "stream",
     "text": [
      "Root keys <KeysViewHDF5 ['maps', 'provenance']>\n",
      "Map keys: <KeysViewHDF5 ['pixel', 'value']>\n",
      "[36778 36779 37035 37290 37291]\n",
      "[ 0.01697154 -0.02748445  0.00261041 -0.04221213  0.016729  ]\n"
     ]
    }
   ],
   "source": [
    "print(\"Root keys\", f.file.keys())\n",
    "\n",
    "group = f.file[\"maps/g1_0\"]\n",
    "print(\"Map keys:\", group.keys())\n",
    "print(f.file[\"maps/g1_0/pixel\"][:10])\n",
    "print(f.file[\"maps/g1_0/value\"][:10])\n"
   ]
  },
  {
   "cell_type": "markdown",
   "id": "cd33a288",
   "metadata": {},
   "source": [
    "We can also plot maps manually using `healpy`."
   ]
  },
  {
   "cell_type": "code",
   "execution_count": 23,
   "id": "db383769",
   "metadata": {},
   "outputs": [
    {
     "data": {
      "image/png": "[encoded data removed]",
      "text/plain": [
       "<Figure size 850x540 with 2 Axes>"
      ]
     },
     "metadata": {},
     "output_type": "display_data"
    }
   ],
   "source": [
    "m = f.read_map(\"lensing_weight_2D\")\n",
    "healpy.cartview(m, lonra=[55,65], latra=[-35, -28])"
   ]
  },
  {
   "cell_type": "markdown",
   "id": "8b2a2ff7",
   "metadata": {},
   "source": [
    "## Available maps in `source_maps`\n",
    "\n",
    "\n",
    "- `g1_X` and `g2_X` maps are the two components of the reduced shear for the tomographic bin X. If X == `2D` then this means  the combined non-tomographically-split sample.\n",
    "- `lensing_weight_X` maps are the total weight of all sources in that pixel in bin X.\n",
    "- `var_e_X` maps are the two-component ellipticity variance per pixel.\n",
    "- `var_g1_X` maps the shear variance per pixel\n"
   ]
  },
  {
   "cell_type": "markdown",
   "id": "fe33281d",
   "metadata": {},
   "source": [
    "---\n",
    "\n",
    "# Measurements in SACC files\n",
    "\n",
    "Cosmology measurements from TXPipe are stored in SACC files, which document them very specifically and include the metadata you need to perform parameter inference.\n",
    "\n",
    "You should always explore and use SACC files using the official SACC library instead of trying to manually read them."
   ]
  },
  {
   "cell_type": "code",
   "execution_count": 24,
   "id": "499854e5",
   "metadata": {},
   "outputs": [
    {
     "ename": "FileNotFoundError",
     "evalue": "[Errno 2] No such file or directory: './data/example/outputs_metadetect/twopoint_data_fourier.sacc'",
     "output_type": "error",
     "traceback": [
      "\u001b[0;31m---------------------------------------------------------------------------\u001b[0m",
      "\u001b[0;31mFileNotFoundError\u001b[0m                         Traceback (most recent call last)",
      "Cell \u001b[0;32mIn[24], line 1\u001b[0m\n\u001b[0;32m----> 1\u001b[0m s \u001b[38;5;241m=\u001b[39m \u001b[43msacc\u001b[49m\u001b[38;5;241;43m.\u001b[39;49m\u001b[43mSacc\u001b[49m\u001b[38;5;241;43m.\u001b[39;49m\u001b[43mload_fits\u001b[49m\u001b[43m(\u001b[49m\u001b[38;5;124;43m\"\u001b[39;49m\u001b[38;5;124;43m./data/example/outputs_metadetect/twopoint_data_fourier.sacc\u001b[39;49m\u001b[38;5;124;43m\"\u001b[39;49m\u001b[43m)\u001b[49m\n",
      "File \u001b[0;32m/pbs/throng/lsst/users/mricci/desc/TXPipe/conda/lib/python3.10/site-packages/sacc/sacc.py:877\u001b[0m, in \u001b[0;36mSacc.load_fits\u001b[0;34m(cls, filename)\u001b[0m\n\u001b[1;32m    864\u001b[0m \u001b[38;5;129m@classmethod\u001b[39m\n\u001b[1;32m    865\u001b[0m \u001b[38;5;28;01mdef\u001b[39;00m \u001b[38;5;21mload_fits\u001b[39m(\u001b[38;5;28mcls\u001b[39m, filename):\n\u001b[1;32m    866\u001b[0m \u001b[38;5;250m    \u001b[39m\u001b[38;5;124;03m\"\"\"\u001b[39;00m\n\u001b[1;32m    867\u001b[0m \u001b[38;5;124;03m    Load a Sacc data set from a FITS file.\u001b[39;00m\n\u001b[1;32m    868\u001b[0m \n\u001b[0;32m   (...)\u001b[0m\n\u001b[1;32m    875\u001b[0m \u001b[38;5;124;03m        A FITS format sacc file\u001b[39;00m\n\u001b[1;32m    876\u001b[0m \u001b[38;5;124;03m    \"\"\"\u001b[39;00m\n\u001b[0;32m--> 877\u001b[0m     hdu_list \u001b[38;5;241m=\u001b[39m \u001b[43mfits\u001b[49m\u001b[38;5;241;43m.\u001b[39;49m\u001b[43mopen\u001b[49m\u001b[43m(\u001b[49m\u001b[43mfilename\u001b[49m\u001b[43m,\u001b[49m\u001b[43m \u001b[49m\u001b[38;5;124;43m\"\u001b[39;49m\u001b[38;5;124;43mreadonly\u001b[39;49m\u001b[38;5;124;43m\"\u001b[39;49m\u001b[43m)\u001b[49m\n\u001b[1;32m    879\u001b[0m     \u001b[38;5;66;03m# Split the HDU's into the different sacc types\u001b[39;00m\n\u001b[1;32m    880\u001b[0m     tracer_tables \u001b[38;5;241m=\u001b[39m [Table\u001b[38;5;241m.\u001b[39mread(hdu)\n\u001b[1;32m    881\u001b[0m                      \u001b[38;5;28;01mfor\u001b[39;00m hdu \u001b[38;5;129;01min\u001b[39;00m hdu_list\n\u001b[1;32m    882\u001b[0m                      \u001b[38;5;28;01mif\u001b[39;00m hdu\u001b[38;5;241m.\u001b[39mheader\u001b[38;5;241m.\u001b[39mget(\u001b[38;5;124m'\u001b[39m\u001b[38;5;124mSACCTYPE\u001b[39m\u001b[38;5;124m'\u001b[39m) \u001b[38;5;241m==\u001b[39m \u001b[38;5;124m'\u001b[39m\u001b[38;5;124mtracer\u001b[39m\u001b[38;5;124m'\u001b[39m]\n",
      "File \u001b[0;32m/pbs/throng/lsst/users/mricci/desc/TXPipe/conda/lib/python3.10/site-packages/astropy/io/fits/hdu/hdulist.py:223\u001b[0m, in \u001b[0;36mfitsopen\u001b[0;34m(name, mode, memmap, save_backup, cache, lazy_load_hdus, ignore_missing_simple, use_fsspec, fsspec_kwargs, decompress_in_memory, **kwargs)\u001b[0m\n\u001b[1;32m    220\u001b[0m \u001b[38;5;28;01mif\u001b[39;00m \u001b[38;5;129;01mnot\u001b[39;00m name:\n\u001b[1;32m    221\u001b[0m     \u001b[38;5;28;01mraise\u001b[39;00m \u001b[38;5;167;01mValueError\u001b[39;00m(\u001b[38;5;124mf\u001b[39m\u001b[38;5;124m\"\u001b[39m\u001b[38;5;124mEmpty filename: \u001b[39m\u001b[38;5;132;01m{\u001b[39;00mname\u001b[38;5;132;01m!r}\u001b[39;00m\u001b[38;5;124m\"\u001b[39m)\n\u001b[0;32m--> 223\u001b[0m \u001b[38;5;28;01mreturn\u001b[39;00m \u001b[43mHDUList\u001b[49m\u001b[38;5;241;43m.\u001b[39;49m\u001b[43mfromfile\u001b[49m\u001b[43m(\u001b[49m\n\u001b[1;32m    224\u001b[0m \u001b[43m    \u001b[49m\u001b[43mname\u001b[49m\u001b[43m,\u001b[49m\n\u001b[1;32m    225\u001b[0m \u001b[43m    \u001b[49m\u001b[43mmode\u001b[49m\u001b[43m,\u001b[49m\n\u001b[1;32m    226\u001b[0m \u001b[43m    \u001b[49m\u001b[43mmemmap\u001b[49m\u001b[43m,\u001b[49m\n\u001b[1;32m    227\u001b[0m \u001b[43m    \u001b[49m\u001b[43msave_backup\u001b[49m\u001b[43m,\u001b[49m\n\u001b[1;32m    228\u001b[0m \u001b[43m    \u001b[49m\u001b[43mcache\u001b[49m\u001b[43m,\u001b[49m\n\u001b[1;32m    229\u001b[0m \u001b[43m    \u001b[49m\u001b[43mlazy_load_hdus\u001b[49m\u001b[43m,\u001b[49m\n\u001b[1;32m    230\u001b[0m \u001b[43m    \u001b[49m\u001b[43mignore_missing_simple\u001b[49m\u001b[43m,\u001b[49m\n\u001b[1;32m    231\u001b[0m \u001b[43m    \u001b[49m\u001b[43muse_fsspec\u001b[49m\u001b[38;5;241;43m=\u001b[39;49m\u001b[43muse_fsspec\u001b[49m\u001b[43m,\u001b[49m\n\u001b[1;32m    232\u001b[0m \u001b[43m    \u001b[49m\u001b[43mfsspec_kwargs\u001b[49m\u001b[38;5;241;43m=\u001b[39;49m\u001b[43mfsspec_kwargs\u001b[49m\u001b[43m,\u001b[49m\n\u001b[1;32m    233\u001b[0m \u001b[43m    \u001b[49m\u001b[43mdecompress_in_memory\u001b[49m\u001b[38;5;241;43m=\u001b[39;49m\u001b[43mdecompress_in_memory\u001b[49m\u001b[43m,\u001b[49m\n\u001b[1;32m    234\u001b[0m \u001b[43m    \u001b[49m\u001b[38;5;241;43m*\u001b[39;49m\u001b[38;5;241;43m*\u001b[39;49m\u001b[43mkwargs\u001b[49m\u001b[43m,\u001b[49m\n\u001b[1;32m    235\u001b[0m \u001b[43m\u001b[49m\u001b[43m)\u001b[49m\n",
      "File \u001b[0;32m/pbs/throng/lsst/users/mricci/desc/TXPipe/conda/lib/python3.10/site-packages/astropy/io/fits/hdu/hdulist.py:487\u001b[0m, in \u001b[0;36mHDUList.fromfile\u001b[0;34m(cls, fileobj, mode, memmap, save_backup, cache, lazy_load_hdus, ignore_missing_simple, **kwargs)\u001b[0m\n\u001b[1;32m    468\u001b[0m \u001b[38;5;129m@classmethod\u001b[39m\n\u001b[1;32m    469\u001b[0m \u001b[38;5;28;01mdef\u001b[39;00m \u001b[38;5;21mfromfile\u001b[39m(\n\u001b[1;32m    470\u001b[0m     \u001b[38;5;28mcls\u001b[39m,\n\u001b[0;32m   (...)\u001b[0m\n\u001b[1;32m    478\u001b[0m     \u001b[38;5;241m*\u001b[39m\u001b[38;5;241m*\u001b[39mkwargs,\n\u001b[1;32m    479\u001b[0m ):\n\u001b[1;32m    480\u001b[0m \u001b[38;5;250m    \u001b[39m\u001b[38;5;124;03m\"\"\"\u001b[39;00m\n\u001b[1;32m    481\u001b[0m \u001b[38;5;124;03m    Creates an `HDUList` instance from a file-like object.\u001b[39;00m\n\u001b[1;32m    482\u001b[0m \n\u001b[0;32m   (...)\u001b[0m\n\u001b[1;32m    485\u001b[0m \u001b[38;5;124;03m    documentation for details of the parameters accepted by this method).\u001b[39;00m\n\u001b[1;32m    486\u001b[0m \u001b[38;5;124;03m    \"\"\"\u001b[39;00m\n\u001b[0;32m--> 487\u001b[0m     \u001b[38;5;28;01mreturn\u001b[39;00m \u001b[38;5;28;43mcls\u001b[39;49m\u001b[38;5;241;43m.\u001b[39;49m\u001b[43m_readfrom\u001b[49m\u001b[43m(\u001b[49m\n\u001b[1;32m    488\u001b[0m \u001b[43m        \u001b[49m\u001b[43mfileobj\u001b[49m\u001b[38;5;241;43m=\u001b[39;49m\u001b[43mfileobj\u001b[49m\u001b[43m,\u001b[49m\n\u001b[1;32m    489\u001b[0m \u001b[43m        \u001b[49m\u001b[43mmode\u001b[49m\u001b[38;5;241;43m=\u001b[39;49m\u001b[43mmode\u001b[49m\u001b[43m,\u001b[49m\n\u001b[1;32m    490\u001b[0m \u001b[43m        \u001b[49m\u001b[43mmemmap\u001b[49m\u001b[38;5;241;43m=\u001b[39;49m\u001b[43mmemmap\u001b[49m\u001b[43m,\u001b[49m\n\u001b[1;32m    491\u001b[0m \u001b[43m        \u001b[49m\u001b[43msave_backup\u001b[49m\u001b[38;5;241;43m=\u001b[39;49m\u001b[43msave_backup\u001b[49m\u001b[43m,\u001b[49m\n\u001b[1;32m    492\u001b[0m \u001b[43m        \u001b[49m\u001b[43mcache\u001b[49m\u001b[38;5;241;43m=\u001b[39;49m\u001b[43mcache\u001b[49m\u001b[43m,\u001b[49m\n\u001b[1;32m    493\u001b[0m \u001b[43m        \u001b[49m\u001b[43mignore_missing_simple\u001b[49m\u001b[38;5;241;43m=\u001b[39;49m\u001b[43mignore_missing_simple\u001b[49m\u001b[43m,\u001b[49m\n\u001b[1;32m    494\u001b[0m \u001b[43m        \u001b[49m\u001b[43mlazy_load_hdus\u001b[49m\u001b[38;5;241;43m=\u001b[39;49m\u001b[43mlazy_load_hdus\u001b[49m\u001b[43m,\u001b[49m\n\u001b[1;32m    495\u001b[0m \u001b[43m        \u001b[49m\u001b[38;5;241;43m*\u001b[39;49m\u001b[38;5;241;43m*\u001b[39;49m\u001b[43mkwargs\u001b[49m\u001b[43m,\u001b[49m\n\u001b[1;32m    496\u001b[0m \u001b[43m    \u001b[49m\u001b[43m)\u001b[49m\n",
      "File \u001b[0;32m/pbs/throng/lsst/users/mricci/desc/TXPipe/conda/lib/python3.10/site-packages/astropy/io/fits/hdu/hdulist.py:1169\u001b[0m, in \u001b[0;36mHDUList._readfrom\u001b[0;34m(cls, fileobj, data, mode, memmap, cache, lazy_load_hdus, ignore_missing_simple, use_fsspec, fsspec_kwargs, decompress_in_memory, **kwargs)\u001b[0m\n\u001b[1;32m   1166\u001b[0m \u001b[38;5;28;01mif\u001b[39;00m fileobj \u001b[38;5;129;01mis\u001b[39;00m \u001b[38;5;129;01mnot\u001b[39;00m \u001b[38;5;28;01mNone\u001b[39;00m:\n\u001b[1;32m   1167\u001b[0m     \u001b[38;5;28;01mif\u001b[39;00m \u001b[38;5;129;01mnot\u001b[39;00m \u001b[38;5;28misinstance\u001b[39m(fileobj, _File):\n\u001b[1;32m   1168\u001b[0m         \u001b[38;5;66;03m# instantiate a FITS file object (ffo)\u001b[39;00m\n\u001b[0;32m-> 1169\u001b[0m         fileobj \u001b[38;5;241m=\u001b[39m \u001b[43m_File\u001b[49m\u001b[43m(\u001b[49m\n\u001b[1;32m   1170\u001b[0m \u001b[43m            \u001b[49m\u001b[43mfileobj\u001b[49m\u001b[43m,\u001b[49m\n\u001b[1;32m   1171\u001b[0m \u001b[43m            \u001b[49m\u001b[43mmode\u001b[49m\u001b[38;5;241;43m=\u001b[39;49m\u001b[43mmode\u001b[49m\u001b[43m,\u001b[49m\n\u001b[1;32m   1172\u001b[0m \u001b[43m            \u001b[49m\u001b[43mmemmap\u001b[49m\u001b[38;5;241;43m=\u001b[39;49m\u001b[43mmemmap\u001b[49m\u001b[43m,\u001b[49m\n\u001b[1;32m   1173\u001b[0m \u001b[43m            \u001b[49m\u001b[43mcache\u001b[49m\u001b[38;5;241;43m=\u001b[39;49m\u001b[43mcache\u001b[49m\u001b[43m,\u001b[49m\n\u001b[1;32m   1174\u001b[0m \u001b[43m            \u001b[49m\u001b[43muse_fsspec\u001b[49m\u001b[38;5;241;43m=\u001b[39;49m\u001b[43muse_fsspec\u001b[49m\u001b[43m,\u001b[49m\n\u001b[1;32m   1175\u001b[0m \u001b[43m            \u001b[49m\u001b[43mfsspec_kwargs\u001b[49m\u001b[38;5;241;43m=\u001b[39;49m\u001b[43mfsspec_kwargs\u001b[49m\u001b[43m,\u001b[49m\n\u001b[1;32m   1176\u001b[0m \u001b[43m            \u001b[49m\u001b[43mdecompress_in_memory\u001b[49m\u001b[38;5;241;43m=\u001b[39;49m\u001b[43mdecompress_in_memory\u001b[49m\u001b[43m,\u001b[49m\n\u001b[1;32m   1177\u001b[0m \u001b[43m        \u001b[49m\u001b[43m)\u001b[49m\n\u001b[1;32m   1178\u001b[0m     \u001b[38;5;66;03m# The Astropy mode is determined by the _File initializer if the\u001b[39;00m\n\u001b[1;32m   1179\u001b[0m     \u001b[38;5;66;03m# supplied mode was None\u001b[39;00m\n\u001b[1;32m   1180\u001b[0m     mode \u001b[38;5;241m=\u001b[39m fileobj\u001b[38;5;241m.\u001b[39mmode\n",
      "File \u001b[0;32m/pbs/throng/lsst/users/mricci/desc/TXPipe/conda/lib/python3.10/site-packages/astropy/io/fits/file.py:218\u001b[0m, in \u001b[0;36m_File.__init__\u001b[0;34m(self, fileobj, mode, memmap, overwrite, cache, use_fsspec, fsspec_kwargs, decompress_in_memory)\u001b[0m\n\u001b[1;32m    216\u001b[0m     \u001b[38;5;28mself\u001b[39m\u001b[38;5;241m.\u001b[39m_open_fileobj(fileobj, mode, overwrite)\n\u001b[1;32m    217\u001b[0m \u001b[38;5;28;01melif\u001b[39;00m \u001b[38;5;28misinstance\u001b[39m(fileobj, (\u001b[38;5;28mstr\u001b[39m, \u001b[38;5;28mbytes\u001b[39m)):\n\u001b[0;32m--> 218\u001b[0m     \u001b[38;5;28;43mself\u001b[39;49m\u001b[38;5;241;43m.\u001b[39;49m\u001b[43m_open_filename\u001b[49m\u001b[43m(\u001b[49m\u001b[43mfileobj\u001b[49m\u001b[43m,\u001b[49m\u001b[43m \u001b[49m\u001b[43mmode\u001b[49m\u001b[43m,\u001b[49m\u001b[43m \u001b[49m\u001b[43moverwrite\u001b[49m\u001b[43m)\u001b[49m\n\u001b[1;32m    219\u001b[0m \u001b[38;5;28;01melse\u001b[39;00m:\n\u001b[1;32m    220\u001b[0m     \u001b[38;5;28mself\u001b[39m\u001b[38;5;241m.\u001b[39m_open_filelike(fileobj, mode, overwrite)\n",
      "File \u001b[0;32m/pbs/throng/lsst/users/mricci/desc/TXPipe/conda/lib/python3.10/site-packages/astropy/io/fits/file.py:651\u001b[0m, in \u001b[0;36m_File._open_filename\u001b[0;34m(self, filename, mode, overwrite)\u001b[0m\n\u001b[1;32m    648\u001b[0m ext \u001b[38;5;241m=\u001b[39m os\u001b[38;5;241m.\u001b[39mpath\u001b[38;5;241m.\u001b[39msplitext(\u001b[38;5;28mself\u001b[39m\u001b[38;5;241m.\u001b[39mname)[\u001b[38;5;241m1\u001b[39m]\n\u001b[1;32m    650\u001b[0m \u001b[38;5;28;01mif\u001b[39;00m \u001b[38;5;129;01mnot\u001b[39;00m \u001b[38;5;28mself\u001b[39m\u001b[38;5;241m.\u001b[39m_try_read_compressed(\u001b[38;5;28mself\u001b[39m\u001b[38;5;241m.\u001b[39mname, magic, mode, ext\u001b[38;5;241m=\u001b[39mext):\n\u001b[0;32m--> 651\u001b[0m     \u001b[38;5;28mself\u001b[39m\u001b[38;5;241m.\u001b[39m_file \u001b[38;5;241m=\u001b[39m \u001b[38;5;28;43mopen\u001b[39;49m\u001b[43m(\u001b[49m\u001b[38;5;28;43mself\u001b[39;49m\u001b[38;5;241;43m.\u001b[39;49m\u001b[43mname\u001b[49m\u001b[43m,\u001b[49m\u001b[43m \u001b[49m\u001b[43mIO_FITS_MODES\u001b[49m\u001b[43m[\u001b[49m\u001b[43mmode\u001b[49m\u001b[43m]\u001b[49m\u001b[43m)\u001b[49m\n\u001b[1;32m    652\u001b[0m     \u001b[38;5;28mself\u001b[39m\u001b[38;5;241m.\u001b[39mclose_on_error \u001b[38;5;241m=\u001b[39m \u001b[38;5;28;01mTrue\u001b[39;00m\n\u001b[1;32m    654\u001b[0m \u001b[38;5;66;03m# Make certain we're back at the beginning of the file\u001b[39;00m\n\u001b[1;32m    655\u001b[0m \u001b[38;5;66;03m# BZ2File does not support seek when the file is open for writing, but\u001b[39;00m\n\u001b[1;32m    656\u001b[0m \u001b[38;5;66;03m# when opening a file for write, bz2.BZ2File always truncates anyway.\u001b[39;00m\n",
      "\u001b[0;31mFileNotFoundError\u001b[0m: [Errno 2] No such file or directory: './data/example/outputs_metadetect/twopoint_data_fourier.sacc'"
     ]
    }
   ],
   "source": [
    "s = sacc.Sacc.load_fits(\"./data/example/outputs_metadetect/twopoint_data_fourier.sacc\")"
   ]
  },
  {
   "cell_type": "markdown",
   "id": "d967ba9a",
   "metadata": {},
   "source": [
    "Data points in sacc files each have a data type which indicates what they contain. We can list all the types in the file like this:"
   ]
  },
  {
   "cell_type": "code",
   "execution_count": 25,
   "id": "d4c9e254",
   "metadata": {},
   "outputs": [
    {
     "ename": "NameError",
     "evalue": "name 's' is not defined",
     "output_type": "error",
     "traceback": [
      "\u001b[0;31m---------------------------------------------------------------------------\u001b[0m",
      "\u001b[0;31mNameError\u001b[0m                                 Traceback (most recent call last)",
      "Cell \u001b[0;32mIn[25], line 1\u001b[0m\n\u001b[0;32m----> 1\u001b[0m \u001b[43ms\u001b[49m\u001b[38;5;241m.\u001b[39mget_data_types()\n",
      "\u001b[0;31mNameError\u001b[0m: name 's' is not defined"
     ]
    }
   ],
   "source": [
    "s.get_data_types()"
   ]
  },
  {
   "cell_type": "markdown",
   "id": "92f4bcde",
   "metadata": {},
   "source": [
    "SACC data points are described by one more *tracers*, which in this case correspond to tomographic bin pairs (in other file they might correspond to other identifiers like cluster sample subsets).\n",
    "\n",
    "We can get all the tracer combinations in the file, or for a specific data type by specifying it as the first argument:"
   ]
  },
  {
   "cell_type": "code",
   "execution_count": 26,
   "id": "edc83b21",
   "metadata": {},
   "outputs": [
    {
     "ename": "NameError",
     "evalue": "name 's' is not defined",
     "output_type": "error",
     "traceback": [
      "\u001b[0;31m---------------------------------------------------------------------------\u001b[0m",
      "\u001b[0;31mNameError\u001b[0m                                 Traceback (most recent call last)",
      "Cell \u001b[0;32mIn[26], line 1\u001b[0m\n\u001b[0;32m----> 1\u001b[0m \u001b[43ms\u001b[49m\u001b[38;5;241m.\u001b[39mget_tracer_combinations(\u001b[38;5;124m\"\u001b[39m\u001b[38;5;124mgalaxy_density_cl\u001b[39m\u001b[38;5;124m\"\u001b[39m)\n",
      "\u001b[0;31mNameError\u001b[0m: name 's' is not defined"
     ]
    }
   ],
   "source": [
    "s.get_tracer_combinations(\"galaxy_density_cl\")"
   ]
  },
  {
   "cell_type": "markdown",
   "id": "e9fe357a",
   "metadata": {},
   "source": [
    "Our 1 square degree sample is small enough to be almost pure noise, but we can extract and plot the data in it nonetheless.\n",
    "\n",
    "Let's pull out the data for type `galaxy_density_cl` (the clustering measurement) and the auto-correlation for the first lens bin."
   ]
  },
  {
   "cell_type": "code",
   "execution_count": 27,
   "id": "28848e75",
   "metadata": {},
   "outputs": [
    {
     "ename": "NameError",
     "evalue": "name 's' is not defined",
     "output_type": "error",
     "traceback": [
      "\u001b[0;31m---------------------------------------------------------------------------\u001b[0m",
      "\u001b[0;31mNameError\u001b[0m                                 Traceback (most recent call last)",
      "Cell \u001b[0;32mIn[27], line 1\u001b[0m\n\u001b[0;32m----> 1\u001b[0m ell \u001b[38;5;241m=\u001b[39m \u001b[43ms\u001b[49m\u001b[38;5;241m.\u001b[39mget_tag(\u001b[38;5;124m\"\u001b[39m\u001b[38;5;124mell\u001b[39m\u001b[38;5;124m\"\u001b[39m, \u001b[38;5;124m\"\u001b[39m\u001b[38;5;124mgalaxy_density_cl\u001b[39m\u001b[38;5;124m\"\u001b[39m, (\u001b[38;5;124m'\u001b[39m\u001b[38;5;124mlens_0\u001b[39m\u001b[38;5;124m'\u001b[39m, \u001b[38;5;124m'\u001b[39m\u001b[38;5;124mlens_0\u001b[39m\u001b[38;5;124m'\u001b[39m))\n\u001b[1;32m      2\u001b[0m C_ell \u001b[38;5;241m=\u001b[39m s\u001b[38;5;241m.\u001b[39mget_mean(\u001b[38;5;124m\"\u001b[39m\u001b[38;5;124mgalaxy_density_cl\u001b[39m\u001b[38;5;124m\"\u001b[39m, (\u001b[38;5;124m'\u001b[39m\u001b[38;5;124mlens_0\u001b[39m\u001b[38;5;124m'\u001b[39m, \u001b[38;5;124m'\u001b[39m\u001b[38;5;124mlens_0\u001b[39m\u001b[38;5;124m'\u001b[39m))\n\u001b[1;32m      3\u001b[0m plt\u001b[38;5;241m.\u001b[39mloglog(ell, C_ell, \u001b[38;5;124m'\u001b[39m\u001b[38;5;124m.\u001b[39m\u001b[38;5;124m'\u001b[39m)\n",
      "\u001b[0;31mNameError\u001b[0m: name 's' is not defined"
     ]
    }
   ],
   "source": [
    "ell = s.get_tag(\"ell\", \"galaxy_density_cl\", ('lens_0', 'lens_0'))\n",
    "C_ell = s.get_mean(\"galaxy_density_cl\", ('lens_0', 'lens_0'))\n",
    "plt.loglog(ell, C_ell, '.')"
   ]
  },
  {
   "cell_type": "markdown",
   "id": "c1b8a3fd",
   "metadata": {},
   "source": [
    "The SACC files made in this pipeline have no covariance or error bars,\n",
    "because the covariance stages are slightly too long to run for this example.  You can add a covariance and make some relevant plots by uncommenting the cells below. It will take about 5 minutes.\n"
   ]
  },
  {
   "cell_type": "code",
   "execution_count": 28,
   "id": "b2713f80",
   "metadata": {},
   "outputs": [],
   "source": [
    "# config2 = ceci.Pipeline.build_config(config_filename)\n",
    "# config2['stages'].append({\"name\": \"TXFourierTJPCovariance\"})\n",
    "# pipeline2 = ceci.Pipeline.create(config2)\n",
    "# pipeline2.run()"
   ]
  },
  {
   "cell_type": "code",
   "execution_count": 29,
   "id": "5fd1a437",
   "metadata": {},
   "outputs": [],
   "source": [
    "# s2 = sacc.Sacc.load_fits(\"./data/example/outputs_metadetect/summary_statistics_fourier.sacc\")\n",
    "# s2.remove_selection('galaxy_shearDensity_cl_b')\n",
    "# s2.remove_selection('galaxy_shear_cl_bb')\n",
    "# s2.remove_selection('galaxy_shear_cl_be')\n",
    "# s2.remove_selection('galaxy_shear_cl_eb')"
   ]
  },
  {
   "cell_type": "code",
   "execution_count": 31,
   "id": "af6c885a",
   "metadata": {},
   "outputs": [],
   "source": [
    "# ell2, cl2, cov2 = s2.get_ell_cl(\"galaxy_shear_cl_ee\", 'source_0', 'source_0', return_cov=True)\n",
    "# sigma = abs(cov2.diagonal()) ** 0.5\n",
    "# plt.errorbar(ell2, cl2, sigma, fmt='.')\n"
   ]
  },
  {
   "cell_type": "code",
   "execution_count": 32,
   "id": "83046b71",
   "metadata": {},
   "outputs": [],
   "source": [
    "# plt.imshow(np.log10(np.abs(s2.covariance.dense)))\n",
    "# plt.colorbar()"
   ]
  }
 ],
 "metadata": {
  "kernelspec": {
   "display_name": "txpipe",
   "language": "python",
   "name": "txpipe"
  },
  "language_info": {
   "codemirror_mode": {
    "name": "ipython",
    "version": 3
   },
   "file_extension": ".py",
   "mimetype": "text/x-python",
   "name": "python",
   "nbconvert_exporter": "python",
   "pygments_lexer": "ipython3",
   "version": "3.10.15"
  }
 },
 "nbformat": 4,
 "nbformat_minor": 5
}
