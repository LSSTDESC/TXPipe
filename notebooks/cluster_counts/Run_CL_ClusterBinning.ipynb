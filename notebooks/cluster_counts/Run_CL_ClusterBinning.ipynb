{
 "cells": [
  {
   "cell_type": "markdown",
   "id": "6fcc71dc-0bcc-4b77-9ed9-85923b87a34d",
   "metadata": {
    "tags": []
   },
   "source": [
    "*This notebook was developed by Marina Ricci for the DESC CL_Cosmo_Pipeline team.*\n",
    "## This notebook aims at presenting the stage that bins cluster in richness/redshift bins. We will see how to run the code from the notebook (I) or in pipeline mode (II).\n",
    "\n",
    "It is meant to be run independently. If you already produced the necessary outputs `ceci` will use them, and otherwise create them.\n",
    "___"
   ]
  },
  {
   "cell_type": "code",
   "execution_count": 1,
   "id": "c9c0ef4f-114b-41f4-bacf-57980348d924",
   "metadata": {
    "tags": []
   },
   "outputs": [],
   "source": [
    "import os\n",
    "from pprint import pprint\n",
    "import numpy as np\n",
    "%matplotlib inline\n",
    "import matplotlib.pyplot as plt\n",
    "from IPython.display import Image\n",
    "import ceci\n",
    "import h5py\n",
    "import yaml"
   ]
  },
  {
   "cell_type": "markdown",
   "id": "f1a90282-ed70-4496-bc4b-bc2d2e8ee302",
   "metadata": {},
   "source": [
    "Make sure to change your path in the next cell that leads to your TXPipe directory. See examples for IN2P3 and NERSC below."
   ]
  },
  {
   "cell_type": "code",
   "execution_count": 2,
   "id": "d5eb6757-e79f-445c-a2c6-4d25af5f6f65",
   "metadata": {
    "tags": []
   },
   "outputs": [],
   "source": [
    "# user specific paths -- IN2P3 example\n",
    "my_txpipe_dir = \"/pbs/home/m/mricci/throng_mricci/desc/TXPipe\"\n",
    "#my_txpipe_dir = \"/pbs/throng/lsst/users/ccombet/TXPipe\"\n",
    "\n",
    "# user specific paths -- NERSC example\n",
    "# my_txpipe_dir = \"/pscratch/sd/a/avestruz/TXPipe\"\n",
    "\n",
    "os.chdir(my_txpipe_dir)\n",
    "\n",
    "import txpipe"
   ]
  },
  {
   "cell_type": "markdown",
   "id": "ed9f8b9e-9ab0-480e-b057-7499796c34d2",
   "metadata": {},
   "source": [
    "___"
   ]
  },
  {
   "cell_type": "markdown",
   "id": "33d82af0-d1c4-43cc-ac0b-a2d6f1e66889",
   "metadata": {},
   "source": [
    "# I - Let's start working with the 1deg2 data file on Jupyter"
   ]
  },
  {
   "cell_type": "markdown",
   "id": "f4e0ef7e-9659-4a03-b0ca-ab856c5e5f54",
   "metadata": {},
   "source": [
    "First we will do some runs on the 1 deg^2 example data set with around 80k galaxies. This is small enough that we can do it all in jupyter.\n",
    "\n",
    "The data set, which is based on CosmoDC2, contains pre-computed photo-z and and contains a RedMapper cluster catalog for the field."
   ]
  },
  {
   "cell_type": "code",
   "execution_count": 23,
   "id": "274c2ea4-b366-4e3d-8690-efa8af3f6d96",
   "metadata": {
    "tags": []
   },
   "outputs": [
    {
     "name": "stdout",
     "output_type": "stream",
     "text": [
      "Options for this pipeline and their defaults (this may be override by config file):\n",
      "{'zedge': [0.2, 0.4, 0.6, 0.8, 1.0], 'richedge': [5.0, 10.0, 20.0], 'initial_size': 100000, 'chunk_rows': 100000}\n"
     ]
    }
   ],
   "source": [
    "print(\"Options for this pipeline and their defaults (this may be override by config file):\")\n",
    "print(txpipe.extensions.CLClusterBinningRedshiftRichness.config_options)\n",
    "\n",
    "pip_stage = txpipe.extensions.CLClusterBinningRedshiftRichness.make_stage(\n",
    "    # This is the initial cluster catalog - RAs, Decs, richess, redshift, etc.\n",
    "    cluster_catalog=\"./data/example/inputs/cluster_catalog.hdf5\",\n",
    "    \n",
    "    # This is the output for this stage \n",
    "    cluster_catalog_tomography=\"./data/cosmodc2/outputs-1deg2-CL/cluster_catalog_tomography.hdf5\",\n",
    "\n",
    "    # This contains all the options for this stage. You can override them here.\n",
    "    config=\"examples/cosmodc2/Cluster_pipelines/config-1deg2-CL.yml\",    \n",
    ")"
   ]
  },
  {
   "cell_type": "code",
   "execution_count": 24,
   "id": "0df094c5-3e3a-4335-89ff-4df52bfb8a43",
   "metadata": {
    "tags": []
   },
   "outputs": [],
   "source": [
    "pip_stage.run()\n",
    "pip_stage.finalize()"
   ]
  },
  {
   "cell_type": "code",
   "execution_count": 25,
   "id": "009eb8b0-1c54-497f-a419-055e869e2ece",
   "metadata": {
    "tags": []
   },
   "outputs": [
    {
     "name": "stdout",
     "output_type": "stream",
     "text": [
      "Actual options used for this pipeline (as defined in config file or default):\n",
      "{zedge:[0.2, 0.4, 0.6, 0.8],richedge:[5.0, 10.0, 100.0],initial_size:100000,chunk_rows:100000,cluster_catalog:./data/example/inputs/cluster_catalog.hdf5,cluster_catalog_tomography:./data/cosmodc2/outputs-1deg2-CL/cluster_catalog_tomography.hdf5,config:examples/cosmodc2/Cluster_pipelines/config-1deg2-CL.yml,}\n"
     ]
    }
   ],
   "source": [
    "print(\"Actual options used for this pipeline (as defined in config file or default):\")\n",
    "print(pip_stage.config)"
   ]
  },
  {
   "cell_type": "code",
   "execution_count": 26,
   "id": "8ee60427-f399-4fbe-ab97-39ea2387d40e",
   "metadata": {},
   "outputs": [
    {
     "data": {
      "text/plain": [
       "'./data/example/inputs/cluster_catalog.hdf5'"
      ]
     },
     "execution_count": 26,
     "metadata": {},
     "output_type": "execute_result"
    }
   ],
   "source": [
    "pip_stage.config['cluster_catalog']"
   ]
  },
  {
   "cell_type": "code",
   "execution_count": 27,
   "id": "22639ea6-38d4-4061-acb4-e402939a3fd4",
   "metadata": {},
   "outputs": [
    {
     "data": {
      "text/plain": [
       "'./data/cosmodc2/outputs-1deg2-CL/cluster_catalog_tomography.hdf5'"
      ]
     },
     "execution_count": 27,
     "metadata": {},
     "output_type": "execute_result"
    }
   ],
   "source": [
    "pip_stage.config['cluster_catalog_tomography']"
   ]
  },
  {
   "cell_type": "markdown",
   "id": "6174784d-ba23-4e33-bbf9-559295cb9d0f",
   "metadata": {},
   "source": [
    "## Open cluster catalog input and compare to binning outputs"
   ]
  },
  {
   "cell_type": "markdown",
   "id": "b7101483-b7a2-45ce-a8b1-c6030e15da0d",
   "metadata": {},
   "source": [
    "### Open cluster catalog input "
   ]
  },
  {
   "cell_type": "code",
   "execution_count": 28,
   "id": "3218ac13-3d30-4bc9-bd8d-25d40a3eeddd",
   "metadata": {
    "tags": []
   },
   "outputs": [
    {
     "name": "stdout",
     "output_type": "stream",
     "text": [
      "./data/example/inputs/cluster_catalog.hdf5\n"
     ]
    }
   ],
   "source": [
    "filename_in = pip_stage.config['cluster_catalog']\n",
    "print(filename_in)"
   ]
  },
  {
   "cell_type": "code",
   "execution_count": 29,
   "id": "d8c38523-a8f7-4a43-9831-9ae273adeaa6",
   "metadata": {
    "tags": []
   },
   "outputs": [],
   "source": [
    "f_in = h5py.File(filename_in, \"r\")"
   ]
  },
  {
   "cell_type": "code",
   "execution_count": 30,
   "id": "c6d59b2a-8857-44be-93ad-912d8a893ec0",
   "metadata": {
    "tags": []
   },
   "outputs": [
    {
     "name": "stdout",
     "output_type": "stream",
     "text": [
      "<KeysViewHDF5 ['clusters', 'provenance']>\n"
     ]
    }
   ],
   "source": [
    "print(f_in.keys())"
   ]
  },
  {
   "cell_type": "code",
   "execution_count": 31,
   "id": "1ecd9464-7ef8-4600-b931-8b8c76830564",
   "metadata": {
    "tags": []
   },
   "outputs": [],
   "source": [
    "dset_in = f_in['clusters']"
   ]
  },
  {
   "cell_type": "code",
   "execution_count": 32,
   "id": "f5624d30-cea6-4999-8f53-0ee81030b632",
   "metadata": {
    "tags": []
   },
   "outputs": [
    {
     "name": "stdout",
     "output_type": "stream",
     "text": [
      "['cluster_id', 'dec', 'ra', 'redshift', 'redshift_err', 'richness', 'richness_err', 'scaleval']\n"
     ]
    }
   ],
   "source": [
    "cols = [col for col in dset_in]\n",
    "print(cols)"
   ]
  },
  {
   "cell_type": "code",
   "execution_count": 33,
   "id": "4349ca71-0548-490b-b5c3-5af0ce98f7f2",
   "metadata": {
    "tags": []
   },
   "outputs": [
    {
     "data": {
      "text/plain": [
       "Text(0, 0.5, 'richness')"
      ]
     },
     "execution_count": 33,
     "metadata": {},
     "output_type": "execute_result"
    },
    {
     "data": {
      "image/png": "[encoded data removed]",
      "text/plain": [
       "<Figure size 640x480 with 1 Axes>"
      ]
     },
     "metadata": {},
     "output_type": "display_data"
    }
   ],
   "source": [
    "plt.semilogy(dset_in['redshift'][()], dset_in['richness'][()],'.', alpha=1)\n",
    "\n",
    "plt.xlabel('redshift')\n",
    "plt.ylabel('richness')"
   ]
  },
  {
   "cell_type": "markdown",
   "id": "bfd77d78-6514-4c26-babb-24f3f167956e",
   "metadata": {},
   "source": [
    "### Open binning output"
   ]
  },
  {
   "cell_type": "code",
   "execution_count": 34,
   "id": "0b4c65de-82c8-4f99-89de-dd0a598a31f0",
   "metadata": {
    "tags": []
   },
   "outputs": [
    {
     "name": "stdout",
     "output_type": "stream",
     "text": [
      "./data/cosmodc2/outputs-1deg2-CL/cluster_catalog_tomography.hdf5\n"
     ]
    }
   ],
   "source": [
    "filename_out = pip_stage.config['cluster_catalog_tomography'] #output_dir + \"/cluster_catalog_tomography.hdf5\"\n",
    "print (filename_out)"
   ]
  },
  {
   "cell_type": "code",
   "execution_count": 35,
   "id": "da3761cd-c7ed-47a2-a0bc-562cd7ad3381",
   "metadata": {},
   "outputs": [],
   "source": [
    "f_out = h5py.File(filename_out, \"r\")"
   ]
  },
  {
   "cell_type": "code",
   "execution_count": 36,
   "id": "b3274869-a729-45c7-b531-05d4f8ef69da",
   "metadata": {
    "tags": []
   },
   "outputs": [
    {
     "name": "stdout",
     "output_type": "stream",
     "text": [
      "<KeysViewHDF5 ['cluster_bin', 'provenance']>\n"
     ]
    }
   ],
   "source": [
    "print(f_out.keys())"
   ]
  },
  {
   "cell_type": "code",
   "execution_count": 37,
   "id": "7785436c-8652-4c98-9ecb-373abd2dc5d2",
   "metadata": {
    "tags": []
   },
   "outputs": [],
   "source": [
    "dat_out = f_out['provenance']\n",
    "dset_out = f_out['cluster_bin']"
   ]
  },
  {
   "cell_type": "code",
   "execution_count": 38,
   "id": "736b4dc3-381b-45f4-a93e-f9c00b9e5e17",
   "metadata": {
    "tags": []
   },
   "outputs": [
    {
     "name": "stdout",
     "output_type": "stream",
     "text": [
      "<KeysViewHDF5 ['bin_zbin_0_richbin_0', 'bin_zbin_0_richbin_1', 'bin_zbin_1_richbin_0', 'bin_zbin_1_richbin_1', 'bin_zbin_2_richbin_0', 'bin_zbin_2_richbin_1']>\n"
     ]
    }
   ],
   "source": [
    "print(dset_out.keys())"
   ]
  },
  {
   "cell_type": "code",
   "execution_count": 39,
   "id": "9ad81296-06fb-4c27-bef9-116e8bf7dee8",
   "metadata": {
    "tags": []
   },
   "outputs": [
    {
     "name": "stdout",
     "output_type": "stream",
     "text": [
      "bin_zbin_0_richbin_0 {'rich_max': 10.0, 'rich_min': 5.0, 'z_max': 0.4, 'z_min': 0.2} 5\n",
      "bin_zbin_0_richbin_1 {'rich_max': 100.0, 'rich_min': 10.0, 'z_max': 0.4, 'z_min': 0.2} 3\n",
      "bin_zbin_1_richbin_0 {'rich_max': 10.0, 'rich_min': 5.0, 'z_max': 0.6, 'z_min': 0.4} 20\n",
      "bin_zbin_1_richbin_1 {'rich_max': 100.0, 'rich_min': 10.0, 'z_max': 0.6, 'z_min': 0.4} 8\n",
      "bin_zbin_2_richbin_0 {'rich_max': 10.0, 'rich_min': 5.0, 'z_max': 0.8, 'z_min': 0.6} 13\n",
      "bin_zbin_2_richbin_1 {'rich_max': 100.0, 'rich_min': 10.0, 'z_max': 0.8, 'z_min': 0.6} 8\n"
     ]
    }
   ],
   "source": [
    "[print (i, dict(dset_out[i].attrs), dset_out[i]['redshift'][:].size) for i in dset_out.keys()];"
   ]
  },
  {
   "cell_type": "code",
   "execution_count": 40,
   "id": "38be57ca-e370-480d-a2e0-c2d45baf7b13",
   "metadata": {
    "tags": []
   },
   "outputs": [
    {
     "name": "stdout",
     "output_type": "stream",
     "text": [
      "['cluster_id', 'dec', 'ra', 'redshift', 'redshift_err', 'richness', 'richness_err', 'scaleval']\n"
     ]
    }
   ],
   "source": [
    "print ([col for col in dset_out['bin_zbin_0_richbin_0']])"
   ]
  },
  {
   "cell_type": "code",
   "execution_count": 41,
   "id": "9b7670e8-3672-41c4-bd24-f17b1b3a5622",
   "metadata": {
    "tags": []
   },
   "outputs": [
    {
     "name": "stdout",
     "output_type": "stream",
     "text": [
      "The file contains 6 keys corresponding to 3  redshift bins times 2 richness bins\n"
     ]
    }
   ],
   "source": [
    "print('The file contains',len(dset_out.keys()), 'keys corresponding to',\n",
    "      len(pip_stage.config.zedge) - 1, ' redshift bins times', \n",
    "      len(pip_stage.config.richedge) - 1,'richness bins')"
   ]
  },
  {
   "cell_type": "markdown",
   "id": "99017d4e-0ad1-44da-ace2-4fa54fb28b2e",
   "metadata": {},
   "source": [
    "### Compare the two "
   ]
  },
  {
   "cell_type": "code",
   "execution_count": 42,
   "id": "2b146a75-3aff-4fa7-be65-679c6f49bf6e",
   "metadata": {
    "tags": []
   },
   "outputs": [
    {
     "data": {
      "image/png": "[encoded data removed]",
      "text/plain": [
       "<Figure size 640x480 with 1 Axes>"
      ]
     },
     "metadata": {},
     "output_type": "display_data"
    }
   ],
   "source": [
    "# plot data from input catalog\n",
    "plt.semilogy(dset_in['redshift'][()], dset_in['richness'][()],'k.', alpha=1)\n",
    "plt.xlabel('redshift')\n",
    "plt.ylabel('richness')\n",
    "\n",
    "# plot bin limits as defined in the config file\n",
    "[plt.axvline(i,linestyle='dashed', color='black') for i in pip_stage.config.zedge]\n",
    "[plt.axhline(i,linestyle='dotted', color='black') for i in pip_stage.config.richedge]\n",
    "\n",
    "# overplot data from output file to make sure the bins are ordered correctly\n",
    "markers=['s','o', 'D', 'P', '^']\n",
    "\n",
    "for i in range(len(pip_stage.config.zedge)-1):\n",
    "    for j in range(len(pip_stage.config.richedge)-1):\n",
    "        plt.scatter(dset_out['bin_zbin_'+str(i)+'_richbin_'+str(j)]['redshift'][:], \n",
    "         dset_out['bin_zbin_'+str(i)+'_richbin_'+str(j)]['richness'][:], marker=markers[j], label='bin_zbin_'+str(i)+'_richbin_'+str(j))\n",
    "    \n",
    "    plt.legend(fontsize='x-small')"
   ]
  },
  {
   "cell_type": "markdown",
   "id": "93633ac1-206d-42ac-88a8-b33c7b6656ac",
   "metadata": {},
   "source": [
    "# II - Now let's do the same using the pipeline approach\n",
    "\n",
    "Here we will use the 20deg2, but we can also use the 1deg2 files (just need to change 20deg2 to 1deg2 in the name of the files)"
   ]
  },
  {
   "cell_type": "markdown",
   "id": "543bd0b3-cda7-4518-9df7-aaaaee3eea7f",
   "metadata": {},
   "source": [
    "### Launching a pipeline\n",
    "\n",
    "Let's have a look at the submission script for this pipeline:\n",
    "- to work at CCin2p3 we can use: `examples/cosmodc2/Cluster_pipelines/20deg2-in2p3.sub`\n",
    "- to work at NERSC we can use: `examples/cosmodc2/Cluster_pipelines/20deg2-nersc.sub`"
   ]
  },
  {
   "cell_type": "code",
   "execution_count": 25,
   "id": "9660328e-0f08-4e92-9350-d4831c308e55",
   "metadata": {},
   "outputs": [
    {
     "name": "stdout",
     "output_type": "stream",
     "text": [
      "#!/usr/bin/bash\n",
      "#SBATCH --time=01:00:00\n",
      "#SBATCH --partition=hpc\n",
      "#SBATCH --ntasks=30\n",
      "#SBATCH --cpus-per-task=1\n",
      "#SBATCH --mem=128000\n",
      "\n",
      "source ./conda/bin/activate\n",
      "export HDF5_DO_MPI_FILE_SYNC=0\n",
      "ceci examples/cosmodc2/Cluster_pipelines/pipeline-20deg2-CL-in2p3.yml\n"
     ]
    }
   ],
   "source": [
    "! cat examples/cosmodc2/Cluster_pipelines/20deg2-in2p3.sub"
   ]
  },
  {
   "cell_type": "code",
   "execution_count": 26,
   "id": "dc09313d-ab83-4ab8-8d39-3cf1d495ebd5",
   "metadata": {},
   "outputs": [
    {
     "name": "stdout",
     "output_type": "stream",
     "text": [
      "#!/bin/bash\n",
      "#SBATCH -A m1727\n",
      "#SBATCH -C cpu\n",
      "#SBATCH --qos=debug\n",
      "#SBATCH --time=00:30:00\n",
      "#SBATCH --nodes=1\n",
      "#SBATCH --ntasks-per-node=32\n",
      "\n",
      "\n",
      "module load python\n",
      "conda activate ./conda\n",
      "ceci examples/cosmodc2/Cluster_pipelines/pipeline-20deg2-CL-nersc.yml\n"
     ]
    }
   ],
   "source": [
    "! cat examples/cosmodc2/Cluster_pipelines/20deg2-nersc.sub"
   ]
  },
  {
   "cell_type": "markdown",
   "id": "73dbaf65-013b-4951-9506-f6b80017c780",
   "metadata": {},
   "source": [
    "**The command below will submit a job and run the pipeline**"
   ]
  },
  {
   "cell_type": "markdown",
   "id": "16aef6ce-361d-4568-b6c2-a487df69cad0",
   "metadata": {},
   "source": [
    "\n",
    "\n",
    "> **In a terminal, navigate to your TXPipe directory on IN2P3 and run**:\n",
    ">```\n",
    "sbatch examples/Cluster_pipelines/cosmodc2/20deg2-in2p3.sub\n",
    "```"
   ]
  },
  {
   "cell_type": "markdown",
   "id": "23f8a4d2-db19-40f4-8928-d6a07505737d",
   "metadata": {},
   "source": [
    "\n",
    "> **If you are ar NERSC, you will instead run**:\n",
    ">```\n",
    "sbatch examples/Cluster_pipelines/cosmodc2/20deg2-nersc.sub\n",
    "```"
   ]
  },
  {
   "cell_type": "markdown",
   "id": "569bbe94-1c5a-4c22-8a89-f75d6dcde33d",
   "metadata": {
    "tags": []
   },
   "source": [
    "## Dry-run the pipeline and produce a flowchart plot\n",
    "\n",
    "The pipeline used here as the other stages commented to only highlight in the flowchart the `CLClusterBinning` stage.\n",
    "The config file is the same. The file is written for in2p3 but it does not matter as it is a dry-run."
   ]
  },
  {
   "cell_type": "code",
   "execution_count": 38,
   "id": "af7452ac-b01e-454d-a521-3426392ca4dc",
   "metadata": {
    "tags": []
   },
   "outputs": [],
   "source": [
    "# Read the appropriate pipeline configuration, and ask for a flow-chart.\n",
    "pipeline_file = \"examples/cosmodc2/Cluster_pipelines/CLClusterBinning-20deg2-CL.yml\"\n",
    "flowchart_file = \"CLClusterBinning.png\"\n",
    "\n",
    "\n",
    "pipeline_config = ceci.Pipeline.build_config(\n",
    "    pipeline_file,\n",
    "    flow_chart=flowchart_file,\n",
    "    dry_run=True\n",
    ")\n",
    "\n",
    "# Run the flow-chart pipeline\n",
    "ceci.run_pipeline(pipeline_config);"
   ]
  },
  {
   "cell_type": "code",
   "execution_count": 39,
   "id": "a88eb44a-3a78-41f1-bffe-b1aa8d061842",
   "metadata": {
    "tags": []
   },
   "outputs": [
    {
     "data": {
      "image/png": "[encoded data removed]",
      "text/plain": [
       "<IPython.core.display.Image object>"
      ]
     },
     "execution_count": 39,
     "metadata": {},
     "output_type": "execute_result"
    }
   ],
   "source": [
    "Image(flowchart_file)"
   ]
  },
  {
   "cell_type": "markdown",
   "id": "b54405c1-f7a3-48a3-83e9-5ea7fa804070",
   "metadata": {},
   "source": [
    "## Look at the results"
   ]
  },
  {
   "cell_type": "markdown",
   "id": "6c9e1eb6-4f30-4177-a17a-b833d3134edf",
   "metadata": {},
   "source": [
    "### Open the corresponding pipeline file to load correct input/output file names"
   ]
  },
  {
   "cell_type": "code",
   "execution_count": 40,
   "id": "7077bf36-77a3-4c3b-8e49-47687f989807",
   "metadata": {
    "tags": []
   },
   "outputs": [],
   "source": [
    "with open(pipeline_file, 'r') as file:\n",
    "    pipeline_content = yaml.safe_load(file)\n"
   ]
  },
  {
   "cell_type": "code",
   "execution_count": 41,
   "id": "80ed821b-354d-4ae2-8240-cf28e2f3909f",
   "metadata": {},
   "outputs": [
    {
     "name": "stdout",
     "output_type": "stream",
     "text": [
      "./data/cosmodc2/20deg2/cluster_catalog.hdf5\n"
     ]
    }
   ],
   "source": [
    "# open input cluster catalog\n",
    "filename_in = pipeline_content['inputs']['cluster_catalog']\n",
    "print(filename_in)\n",
    "f_in = h5py.File(filename_in, \"r\")\n",
    "dset_in = f_in['clusters']"
   ]
  },
  {
   "cell_type": "code",
   "execution_count": 42,
   "id": "6346d5b9-5196-4342-8a67-a69ca84705cc",
   "metadata": {},
   "outputs": [
    {
     "name": "stdout",
     "output_type": "stream",
     "text": [
      "./data/cosmodc2/outputs-20deg2-CL/cluster_catalog_tomography.hdf5\n"
     ]
    }
   ],
   "source": [
    "# open output binning output\n",
    "filename_out =pipeline_content['output_dir']+\"/cluster_catalog_tomography.hdf5\"\n",
    "print (filename_out)\n",
    "f_out = h5py.File(filename_out, \"r\")\n",
    "dat_out = f_out['provenance']\n",
    "dset_out = f_out['cluster_bin']"
   ]
  },
  {
   "cell_type": "markdown",
   "id": "a0860222-6ea1-408f-855c-35ff48f1a95d",
   "metadata": {},
   "source": [
    "### Open the corresponding config file to load config parameters"
   ]
  },
  {
   "cell_type": "code",
   "execution_count": 43,
   "id": "98263866-46a1-4ab5-a578-e7bff6207c2f",
   "metadata": {},
   "outputs": [],
   "source": [
    "with open(yaml.safe_load(pipeline_content['config']), 'r') as file:\n",
    "    config_content = yaml.safe_load(file)"
   ]
  },
  {
   "cell_type": "code",
   "execution_count": 44,
   "id": "ee83e710-49c2-4a3c-addc-0dfa388bdd3a",
   "metadata": {},
   "outputs": [],
   "source": [
    "config_bin_info = config_content['CLClusterBinningRedshiftRichness']"
   ]
  },
  {
   "cell_type": "markdown",
   "id": "4d7f37f1-a2e6-413e-885b-add83c14c8e8",
   "metadata": {},
   "source": [
    "### Plot results"
   ]
  },
  {
   "cell_type": "code",
   "execution_count": 45,
   "id": "604121fa-0cc8-4844-92c7-ec8d80642385",
   "metadata": {
    "tags": []
   },
   "outputs": [
    {
     "data": {
      "image/png": "[encoded data removed]",
      "text/plain": [
       "<Figure size 640x480 with 1 Axes>"
      ]
     },
     "metadata": {},
     "output_type": "display_data"
    }
   ],
   "source": [
    "# plot data from input catalog\n",
    "plt.semilogy(dset_in['redshift'][()], dset_in['richness'][()],'k.', alpha=1)\n",
    "plt.xlabel('redshift')\n",
    "plt.ylabel('richness')\n",
    "\n",
    "# plot bin limits as defined in the config file\n",
    "[plt.axvline(i,linestyle='dashed', color='black') for i in config_bin_info['zedge']]\n",
    "[plt.axhline(i,linestyle='dotted', color='black') for i in config_bin_info['richedge']]\n",
    "\n",
    "# overplot data from output file to make sure the bins are ordered correctly\n",
    "markers=['s','o', 'D', 'P', '^']\n",
    "\n",
    "for i in range(len(config_bin_info['zedge'])-1):\n",
    "    for j in range(len(config_bin_info['richedge'])-1):\n",
    "        plt.scatter(dset_out['bin_zbin_'+str(i)+'_richbin_'+str(j)]['redshift'][:], \n",
    "         dset_out['bin_zbin_'+str(i)+'_richbin_'+str(j)]['richness'][:], marker=markers[j], label='bin_zbin_'+str(i)+'_richbin_'+str(j))\n",
    "    \n",
    "    #plt.legend(fontsize='x-small')"
   ]
  },
  {
   "cell_type": "code",
   "execution_count": 46,
   "id": "db6c31e7-7bba-493a-aa64-174ef33aa32c",
   "metadata": {},
   "outputs": [
    {
     "data": {
      "text/plain": [
       "array([ 391.,  623., 1000., 1166.])"
      ]
     },
     "execution_count": 46,
     "metadata": {},
     "output_type": "execute_result"
    }
   ],
   "source": [
    "dset_out['bin_zbin_0_richbin_2']['cluster_id'][:]"
   ]
  },
  {
   "cell_type": "code",
   "execution_count": 47,
   "id": "986ac998-6ed2-4424-be59-987283a7462c",
   "metadata": {},
   "outputs": [
    {
     "data": {
      "text/plain": [
       "array([0.22806019, 0.28845891, 0.24925604, 0.3245388 ])"
      ]
     },
     "execution_count": 47,
     "metadata": {},
     "output_type": "execute_result"
    }
   ],
   "source": [
    "dset_out['bin_zbin_0_richbin_2']['redshift'][:]"
   ]
  },
  {
   "cell_type": "code",
   "execution_count": null,
   "id": "025dc05e-a5a8-491e-9833-c0992730deb7",
   "metadata": {},
   "outputs": [],
   "source": []
  }
 ],
 "metadata": {
  "kernelspec": {
   "display_name": "txpipe",
   "language": "python",
   "name": "txpipe"
  },
  "language_info": {
   "codemirror_mode": {
    "name": "ipython",
    "version": 3
   },
   "file_extension": ".py",
   "mimetype": "text/x-python",
   "name": "python",
   "nbconvert_exporter": "python",
   "pygments_lexer": "ipython3",
   "version": "3.10.15"
  }
 },
 "nbformat": 4,
 "nbformat_minor": 5
}
