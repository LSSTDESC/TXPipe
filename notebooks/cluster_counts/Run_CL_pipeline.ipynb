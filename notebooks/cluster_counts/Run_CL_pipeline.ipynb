{
 "cells": [
  {
   "cell_type": "markdown",
   "id": "709caa5a",
   "metadata": {
    "tags": []
   },
   "source": [
    "*This notebook was developed by Marina Ricci for the DESC CL_Cosmo_Pipeline team.*\n",
    "# This notebook aims at presenting the cluster pipeline for \n",
    "# stacked $\\Delta\\Sigma$ profiles and counts in richness/redshift bins.\n",
    "\n",
    "It is meant to be run independently. If you already produced the necessary outputs `ceci` will use them, and otherwise create them.\n",
    "\n",
    "___"
   ]
  },
  {
   "cell_type": "code",
   "execution_count": 2,
   "id": "2edf6e90",
   "metadata": {
    "tags": []
   },
   "outputs": [],
   "source": [
    "import os\n",
    "from pprint import pprint\n",
    "\n",
    "import ceci\n",
    "import h5py\n",
    "\n",
    "%matplotlib inline\n",
    "import matplotlib.pyplot as plt\n",
    "import numpy as np\n",
    "import yaml\n",
    "from IPython.display import Image\n",
    "from astropy.table import Table\n",
    "\n",
    "import re\n",
    "import sacc"
   ]
  },
  {
   "cell_type": "markdown",
   "id": "8fe12a8c",
   "metadata": {},
   "source": [
    "Make sure to change your path in the next cell that leads to your TXPipe directory. See examples for IN2P3 and NERSC below."
   ]
  },
  {
   "cell_type": "code",
   "execution_count": 3,
   "id": "5eebecd8",
   "metadata": {
    "tags": []
   },
   "outputs": [],
   "source": [
    "# user specific paths -- IN2P3 example\n",
    "my_txpipe_dir = \"/pbs/home/m/mricci/throng_mricci/desc/TXPipe\"\n",
    "\n",
    "# user specific paths -- NERSC example\n",
    "# my_txpipe_dir = \"/pscratch/sd/a/avestruz/TXPipe\"\n",
    "\n",
    "os.chdir(my_txpipe_dir)\n",
    "\n",
    "import txpipe"
   ]
  },
  {
   "cell_type": "markdown",
   "id": "b670e283",
   "metadata": {},
   "source": [
    "___"
   ]
  },
  {
   "cell_type": "markdown",
   "id": "6a8f1144",
   "metadata": {},
   "source": [
    "# 1 - Launching the pipeline"
   ]
  },
  {
   "cell_type": "markdown",
   "id": "9f53e707",
   "metadata": {},
   "source": [
    "## **Pipeline approach**\n",
    "\n",
    "Here we will use the 20deg2, but we can also use the 1deg2 files (just need to change 20deg2 to 1deg2 in the name of the files)\n",
    "\n",
    "\n",
    "Let's have a look at the submission script for this pipeline:\n",
    "- to work at CCin2p3 we can use: `examples/cosmodc2/Cluster_pipelines/cosmodc2/20deg2-in2p3.sub`:\n",
    "- to work at NERSC we can use: `examples/cosmodc2/Cluster_pipelines/cosmodc2/20deg2-nersc.sub`:"
   ]
  },
  {
   "cell_type": "markdown",
   "id": "40e2c578",
   "metadata": {},
   "source": [
    "## **Comands to run the pipeline**\n",
    "This will launch a job of up to one hour (it should finish in 30 min) on a single CC-IN2P3 node to run a pipeline. After the first run, the output files are created and following runs take much less time.\n"
   ]
  },
  {
   "cell_type": "markdown",
   "id": "379a258b",
   "metadata": {},
   "source": [
    "\n",
    "\n",
    "> ### In a terminal, **navigate to your TXPipe directory on IN2P3 and run**:\n",
    ">```\n",
    "sbatch examples/cosmodc2/Cluster_pipelines/20deg2-in2p3.sub\n",
    "```"
   ]
  },
  {
   "cell_type": "markdown",
   "id": "1abf63da",
   "metadata": {},
   "source": [
    "\n",
    "> ### If you are **on NERSC, you will instead run**:\n",
    ">```\n",
    "sbatch examples/cosmodc2/Cluster_pipelines/20deg2-nersc.sub\n",
    "```"
   ]
  },
  {
   "cell_type": "markdown",
   "id": "994aa495",
   "metadata": {},
   "source": [
    "If you are at CCin2p3 you can look at the ouput of your submission in the file `slurm-xxx.out`, with xxx the number of your batch process. If you see *'Pipeline successful.  Joy is sparked.'* : congratulations, it worked ! \n",
    "\n",
    "Once the pipeline is run you can go directly to 4) to look at the results."
   ]
  },
  {
   "cell_type": "markdown",
   "id": "b914ddff",
   "metadata": {},
   "source": [
    "___"
   ]
  },
  {
   "cell_type": "markdown",
   "id": "8f68fc0d",
   "metadata": {},
   "source": [
    "# 2 - Looking at the different pipeline files"
   ]
  },
  {
   "cell_type": "markdown",
   "id": "47d36ebf",
   "metadata": {
    "tags": []
   },
   "source": [
    "### **Let's look at the submission script :**"
   ]
  },
  {
   "cell_type": "markdown",
   "id": "4dec2e8c",
   "metadata": {
    "tags": []
   },
   "source": [
    "=> If we use the CCin2p3 example:"
   ]
  },
  {
   "cell_type": "code",
   "execution_count": 21,
   "id": "9a360058",
   "metadata": {},
   "outputs": [],
   "source": [
    "! cat examples/cosmodc2/Cluster_pipelines/20deg2-in2p3.sub"
   ]
  },
  {
   "cell_type": "markdown",
   "id": "6757a600",
   "metadata": {},
   "source": [
    "=> If we use the NERSC example:"
   ]
  },
  {
   "cell_type": "code",
   "execution_count": 22,
   "id": "6e0d6b74",
   "metadata": {},
   "outputs": [],
   "source": [
    "! cat examples/cosmodc2/Cluster_pipelines/20deg2-nersc.sub"
   ]
  },
  {
   "cell_type": "markdown",
   "id": "6333c236",
   "metadata": {},
   "source": [
    "### **The submission script is specifying the pipeline yaml file. Let's look at it :**"
   ]
  },
  {
   "cell_type": "markdown",
   "id": "1d0c713f",
   "metadata": {},
   "source": [
    "=> The only differences between NERSC and CCin2p3 are in the first block, that defines on witch machine your run. "
   ]
  },
  {
   "cell_type": "code",
   "execution_count": 112,
   "id": "1458bf0c",
   "metadata": {},
   "outputs": [],
   "source": [
    "! cat examples/cosmodc2/Cluster_pipelines/pipeline-20deg2-CL-nersc.yml"
   ]
  },
  {
   "cell_type": "markdown",
   "id": "63473b4a",
   "metadata": {},
   "source": [
    "___"
   ]
  },
  {
   "cell_type": "markdown",
   "id": "7ccef7e0",
   "metadata": {},
   "source": [
    "# 3 - Producing and looking at the pipeline diagram"
   ]
  },
  {
   "cell_type": "markdown",
   "id": "cc256472",
   "metadata": {},
   "source": [
    "Here we run the pipeline in \"dry-run\" mode, to check that it can run and to produce a pipeline diagram in png."
   ]
  },
  {
   "cell_type": "code",
   "execution_count": 4,
   "id": "82a24dd3",
   "metadata": {
    "tags": []
   },
   "outputs": [],
   "source": [
    "# Read the appropriate pipeline configuration, and ask for a flow-chart.\n",
    "\n",
    "pipeline_file = \"examples/cosmodc2/Cluster_pipelines/pipeline-20deg2-CL-in2p3.yml\"\n",
    "# pipeline_file = \"examples/cosmodc2/Cluster_pipelines/pipeline-20deg2-CL-nersc.yml\"\n",
    "flowchart_file = \"CL_pipeline.png\"\n",
    "\n",
    "\n",
    "pipeline_config = ceci.Pipeline.build_config(pipeline_file, flow_chart=flowchart_file, dry_run=True)\n",
    "\n",
    "# Run the flow-chart pipeline\n",
    "ceci.run_pipeline(pipeline_config);"
   ]
  },
  {
   "cell_type": "markdown",
   "id": "f3c19dcb",
   "metadata": {},
   "source": [
    "Here we have 6 uncommented stages, and 5 uncommented inputs files.\n",
    "\n",
    "This translate in the pipeline charts as 6 red ellipses, and 5 yellow boxes. The blue boxes represents the ouput files."
   ]
  },
  {
   "cell_type": "code",
   "execution_count": null,
   "id": "9e60cace",
   "metadata": {
    "tags": []
   },
   "outputs": [],
   "source": [
    "Image(flowchart_file)"
   ]
  },
  {
   "cell_type": "markdown",
   "id": "b986818d",
   "metadata": {},
   "source": [
    "___"
   ]
  },
  {
   "cell_type": "markdown",
   "id": "5dd025a3",
   "metadata": {},
   "source": [
    "# 4 - Opening and looking at the outputs"
   ]
  },
  {
   "cell_type": "code",
   "execution_count": 5,
   "id": "1463b613",
   "metadata": {},
   "outputs": [],
   "source": [
    "#At the moment the ouput file is a pickle file\n",
    "import pickle as pkl"
   ]
  },
  {
   "cell_type": "markdown",
   "id": "f65b5c1b",
   "metadata": {},
   "source": [
    "### **Open the pipeline file to load correct input/output file names**"
   ]
  },
  {
   "cell_type": "code",
   "execution_count": 6,
   "id": "bbc4cb52",
   "metadata": {},
   "outputs": [],
   "source": [
    "with open(pipeline_file, \"r\") as file:\n",
    "    pipeline_content = yaml.safe_load(file)"
   ]
  },
  {
   "cell_type": "markdown",
   "id": "05c9f270",
   "metadata": {},
   "source": [
    "### **Open the output**"
   ]
  },
  {
   "cell_type": "code",
   "execution_count": 7,
   "id": "5550ef72",
   "metadata": {},
   "outputs": [],
   "source": [
    "data = pkl.load(open(pipeline_content[\"output_dir\"] + \"/cluster_profiles.pkl\", \"rb\"))"
   ]
  },
  {
   "cell_type": "code",
   "execution_count": 8,
   "id": "e1dcff76",
   "metadata": {},
   "outputs": [],
   "source": [
    "data"
   ]
  },
  {
   "cell_type": "markdown",
   "id": "0fdf85f7",
   "metadata": {},
   "source": [
    "The output is a dictionary containing a `CLMM` `ClusterEnsemble` object for each redshift/richness bin."
   ]
  },
  {
   "cell_type": "markdown",
   "id": "504fc48b",
   "metadata": {},
   "source": [
    "### **Exploring the output**"
   ]
  },
  {
   "cell_type": "code",
   "execution_count": 9,
   "id": "84b36b0d",
   "metadata": {},
   "outputs": [],
   "source": [
    "example_bin = 'bin_zbin_0_richbin_0'"
   ]
  },
  {
   "cell_type": "code",
   "execution_count": 10,
   "id": "2d11ee3b",
   "metadata": {},
   "outputs": [],
   "source": [
    "#This is the info for this bin\n",
    "data[example_bin]"
   ]
  },
  {
   "cell_type": "code",
   "execution_count": 13,
   "id": "e9926eca",
   "metadata": {},
   "outputs": [],
   "source": [
    "#This shows the table with all cluster in this bin and their corresponding profiles\n",
    "data[example_bin]['clmm_cluster_ensemble'].data"
   ]
  },
  {
   "cell_type": "code",
   "execution_count": 15,
   "id": "d148accc",
   "metadata": {},
   "outputs": [],
   "source": [
    "#This shows the table with all cluster in this bin and their corresponding profiles\n",
    "data[example_bin]['clmm_cluster_ensemble'].data.meta"
   ]
  },
  {
   "cell_type": "code",
   "execution_count": 16,
   "id": "56a39522",
   "metadata": {},
   "outputs": [],
   "source": [
    "#This shows the ensemble stacked profiles\n",
    "data[example_bin]['clmm_cluster_ensemble'].stacked_data.meta"
   ]
  },
  {
   "cell_type": "code",
   "execution_count": 21,
   "id": "1da10d8a",
   "metadata": {},
   "outputs": [],
   "source": [
    "#This shows the covarinace for the ensemble stacked profiles\n",
    "data[example_bin]['clmm_cluster_ensemble'].cov"
   ]
  },
  {
   "cell_type": "markdown",
   "id": "3c32d5a1",
   "metadata": {},
   "source": [
    "### **Plot the ouput**"
   ]
  },
  {
   "cell_type": "code",
   "execution_count": 111,
   "id": "203de6d1",
   "metadata": {},
   "outputs": [],
   "source": [
    "fig, ax = plt.subplots()\n",
    "\n",
    "ax.semilogx(\n",
    "        data[example_bin]['clmm_cluster_ensemble'].stacked_data[\"radius\"],\n",
    "        data[example_bin]['clmm_cluster_ensemble'].stacked_data[\"tangential_comp\"],\n",
    "        \"bx-\",\n",
    "        label=\"tan\",)\n",
    "\n",
    "ax.semilogx(\n",
    "        data[example_bin]['clmm_cluster_ensemble'].stacked_data[\"radius\"],\n",
    "        data[example_bin]['clmm_cluster_ensemble'].stacked_data[\"cross_comp\"],\n",
    "        \"r.-\",\n",
    "        label=\"cross\",)\n",
    "\n",
    "ax.errorbar(\n",
    "        data[example_bin]['clmm_cluster_ensemble'].stacked_data[\"radius\"],\n",
    "        data[example_bin]['clmm_cluster_ensemble'].stacked_data[\"tangential_comp\"],\n",
    "        yerr=data[example_bin]['clmm_cluster_ensemble'].cov[\"tan_sc\"].diagonal() ** 0.5,\n",
    "        color=\"blue\",)\n",
    "\n",
    "\n",
    "ax.errorbar(\n",
    "        data[example_bin]['clmm_cluster_ensemble'].stacked_data[\"radius\"],\n",
    "        data[example_bin]['clmm_cluster_ensemble'].stacked_data[\"cross_comp\"],\n",
    "        yerr=data[example_bin]['clmm_cluster_ensemble'].cov[\"cross_sc\"].diagonal() ** 0.5,\n",
    "        color=\"red\",)\n",
    "\n",
    "\n",
    "\n",
    "ax.set_xlabel('radius [Mpc]')\n",
    "ax.set_ylabel('$\\\\Delta \\\\Sigma$')\n",
    "\n",
    "plt.legend()"
   ]
  }
 ],
 "metadata": {
  "kernelspec": {
   "display_name": "TXPipe-2023-Jul-12",
   "language": "python",
   "name": "txpipe-2023-jul-12"
  },
  "language_info": {
   "codemirror_mode": {
    "name": "ipython",
    "version": 3
   },
   "file_extension": ".py",
   "mimetype": "text/x-python",
   "name": "python",
   "nbconvert_exporter": "python",
   "pygments_lexer": "ipython3",
   "version": "3.12.53.10.12"
  },
  "nbdime-conflicts": {
   "local_diff": [
    {
     "diff": [
      {
       "diff": [
        {
         "key": 0,
         "op": "addrange",
         "valuelist": [
          "clmm"
         ]
        },
        {
         "key": 0,
         "length": 1,
         "op": "removerange"
        }
       ],
       "key": "display_name",
       "op": "patch"
      },
      {
       "diff": [
        {
         "key": 0,
         "op": "addrange",
         "valuelist": [
          "clmm"
         ]
        },
        {
         "key": 0,
         "length": 1,
         "op": "removerange"
        }
       ],
       "key": "name",
       "op": "patch"
      }
     ],
     "key": "kernelspec",
     "op": "patch"
    },
    {
     "diff": [
      {
       "diff": [
        {
         "diff": [
          {
           "key": 5,
           "length": 1,
           "op": "removerange"
          }
         ],
         "key": 0,
         "op": "patch"
        }
       ],
       "key": "version",
       "op": "patch"
      }
     ],
     "key": "language_info",
     "op": "patch"
    }
   ],
   "remote_diff": [
    {
     "diff": [
      {
       "diff": [
        {
         "key": 0,
         "op": "addrange",
         "valuelist": [
          "Python (firecrown2.0)"
         ]
        },
        {
         "key": 0,
         "length": 1,
         "op": "removerange"
        }
       ],
       "key": "display_name",
       "op": "patch"
      },
      {
       "diff": [
        {
         "key": 0,
         "op": "addrange",
         "valuelist": [
          "firecrown"
         ]
        },
        {
         "key": 0,
         "length": 1,
         "op": "removerange"
        }
       ],
       "key": "name",
       "op": "patch"
      }
     ],
     "key": "kernelspec",
     "op": "patch"
    },
    {
     "diff": [
      {
       "diff": [
        {
         "key": 0,
         "length": 1,
         "op": "removerange"
        }
       ],
       "key": "version",
       "op": "patch"
      }
     ],
     "key": "language_info",
     "op": "patch"
    }
   ]
  }
 },
 "nbformat": 4,
 "nbformat_minor": 5
}
