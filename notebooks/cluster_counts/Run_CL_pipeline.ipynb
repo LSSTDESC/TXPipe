{
 "cells": [
  {
   "cell_type": "markdown",
   "id": "709caa5a",
   "metadata": {
    "tags": []
   },
   "source": [
    "*This notebook was developed by Marina Ricci for the DESC CL_Cosmo_Pipeline team.*\n",
    "# This notebook aims at presenting the cluster pipeline for \n",
    "# stacked $\\Delta\\Sigma$ profiles and counts in richness/redshift bins.\n",
    "\n",
    "It is meant to be run independently. If you already produced the necessary outputs `ceci` will use them, and otherwise create them.\n",
    "\n",
    "___"
   ]
  },
  {
   "cell_type": "code",
   "execution_count": 1,
   "id": "2edf6e90",
   "metadata": {
    "tags": []
   },
   "outputs": [],
   "source": [
    "import os\n",
    "from pprint import pprint\n",
    "\n",
    "import ceci\n",
    "import h5py\n",
    "\n",
    "%matplotlib inline\n",
    "import matplotlib.pyplot as plt\n",
    "import numpy as np\n",
    "import yaml\n",
    "from IPython.display import Image\n",
    "from astropy.table import Table\n",
    "\n",
    "import re\n",
    "import sacc"
   ]
  },
  {
   "cell_type": "markdown",
   "id": "8fe12a8c",
   "metadata": {},
   "source": [
    "Make sure to change your path in the next cell that leads to your TXPipe directory. See examples for IN2P3 and NERSC below."
   ]
  },
  {
   "cell_type": "code",
   "execution_count": 2,
   "id": "5eebecd8",
   "metadata": {
    "tags": []
   },
   "outputs": [],
   "source": [
    "# user specific paths -- IN2P3 example\n",
    "my_txpipe_dir = \"/pbs/home/m/mricci/throng_mricci/desc/TXPipe\"\n",
    "\n",
    "# user specific paths -- NERSC example\n",
    "# my_txpipe_dir = \"/pscratch/sd/a/avestruz/TXPipe\"\n",
    "\n",
    "os.chdir(my_txpipe_dir)\n",
    "\n",
    "import txpipe"
   ]
  },
  {
   "cell_type": "markdown",
   "id": "b670e283",
   "metadata": {},
   "source": [
    "___"
   ]
  },
  {
   "cell_type": "markdown",
   "id": "6a8f1144",
   "metadata": {},
   "source": [
    "# 1 - Launching the pipeline"
   ]
  },
  {
   "cell_type": "markdown",
   "id": "9f53e707",
   "metadata": {},
   "source": [
    "## **Pipeline approach**\n",
    "\n",
    "Here we will use the 20deg2, but we can also use the 1deg2 files (just need to change 20deg2 to 1deg2 in the name of the files)\n",
    "\n",
    "\n",
    "Let's have a look at the submission script for this pipeline:\n",
    "- to work at CCin2p3 we can use: `examples/cosmodc2/Cluster_pipelines/cosmodc2/20deg2-in2p3.sub`:\n",
    "- to work at NERSC we can use: `examples/cosmodc2/Cluster_pipelines/cosmodc2/20deg2-nersc.sub`:"
   ]
  },
  {
   "cell_type": "markdown",
   "id": "40e2c578",
   "metadata": {},
   "source": [
    "## **Comands to run the pipeline**\n",
    "This will launch a job of up to one hour (it should finish in 30 min) on a single CC-IN2P3 node to run a pipeline. After the first run, the output files are created and following runs take much less time.\n"
   ]
  },
  {
   "cell_type": "markdown",
   "id": "379a258b",
   "metadata": {},
   "source": [
    "\n",
    "\n",
    "> ### In a terminal, **navigate to your TXPipe directory on IN2P3 and run**:\n",
    ">```\n",
    "sbatch examples/cosmodc2/Cluster_pipelines/20deg2-in2p3.sub\n",
    "```"
   ]
  },
  {
   "cell_type": "markdown",
   "id": "1abf63da",
   "metadata": {},
   "source": [
    "\n",
    "> ### If you are **on NERSC, you will instead run**:\n",
    ">```\n",
    "sbatch examples/cosmodc2/Cluster_pipelines/20deg2-nersc.sub\n",
    "```"
   ]
  },
  {
   "cell_type": "markdown",
   "id": "994aa495",
   "metadata": {},
   "source": [
    "If you are at CCin2p3 you can look at the ouput of your submission in the file `slurm-xxx.out`, with xxx the number of your batch process. If you see *'Pipeline successful.  Joy is sparked.'* : congratulations, it worked ! \n",
    "\n",
    "Once the pipeline is run you can go directly to 4) to look at the results."
   ]
  },
  {
   "cell_type": "markdown",
   "id": "b914ddff",
   "metadata": {},
   "source": [
    "___"
   ]
  },
  {
   "cell_type": "markdown",
   "id": "8f68fc0d",
   "metadata": {},
   "source": [
    "# 2 - Looking at the different pipeline files"
   ]
  },
  {
   "cell_type": "markdown",
   "id": "47d36ebf",
   "metadata": {
    "tags": []
   },
   "source": [
    "### **Let's look at the submission script :**"
   ]
  },
  {
   "cell_type": "markdown",
   "id": "4dec2e8c",
   "metadata": {
    "tags": []
   },
   "source": [
    "=> If we use the CCin2p3 example:"
   ]
  },
  {
   "cell_type": "code",
   "execution_count": 3,
   "id": "9a360058",
   "metadata": {},
   "outputs": [
    {
     "name": "stdout",
     "output_type": "stream",
     "text": [
      "#!/usr/bin/bash\n",
      "#SBATCH --time=01:00:00\n",
      "#SBATCH --partition=hpc\n",
      "#SBATCH --ntasks=30\n",
      "#SBATCH --cpus-per-task=1\n",
      "#SBATCH --mem=128000\n",
      "\n",
      "source ./conda/bin/activate\n",
      "export HDF5_DO_MPI_FILE_SYNC=0\n",
      "ceci examples/cosmodc2/Cluster_pipelines/pipeline-20deg2-CL-in2p3.yml\n"
     ]
    }
   ],
   "source": [
    "! cat examples/cosmodc2/Cluster_pipelines/20deg2-in2p3.sub"
   ]
  },
  {
   "cell_type": "markdown",
   "id": "6757a600",
   "metadata": {},
   "source": [
    "=> If we use the NERSC example:"
   ]
  },
  {
   "cell_type": "code",
   "execution_count": 4,
   "id": "6e0d6b74",
   "metadata": {},
   "outputs": [
    {
     "name": "stdout",
     "output_type": "stream",
     "text": [
      "#!/bin/bash\n",
      "#SBATCH -A m1727\n",
      "#SBATCH -C cpu\n",
      "#SBATCH --qos=debug\n",
      "#SBATCH --time=00:30:00\n",
      "#SBATCH --nodes=1\n",
      "#SBATCH --ntasks-per-node=32\n",
      "\n",
      "\n",
      "module load python\n",
      "conda activate ./conda\n",
      "ceci examples/cosmodc2/Cluster_pipelines/pipeline-20deg2-CL-nersc.yml\n"
     ]
    }
   ],
   "source": [
    "! cat examples/cosmodc2/Cluster_pipelines/20deg2-nersc.sub"
   ]
  },
  {
   "cell_type": "markdown",
   "id": "6333c236",
   "metadata": {},
   "source": [
    "### **The submission script is specifying the pipeline yaml file. Let's look at it :**"
   ]
  },
  {
   "cell_type": "markdown",
   "id": "1d0c713f",
   "metadata": {},
   "source": [
    "=> The only differences between NERSC and CCin2p3 are in the first block, that defines on witch machine your run. "
   ]
  },
  {
   "cell_type": "code",
   "execution_count": 5,
   "id": "1458bf0c",
   "metadata": {},
   "outputs": [
    {
     "name": "stdout",
     "output_type": "stream",
     "text": [
      "#this step depends on where you run\n",
      "#for CCin2p3\n",
      "# site:\n",
      "#     name: cc-parallel\n",
      "#     mpi_command: \"mpirun -n\"\n",
      "\n",
      "#for NERSC\n",
      "site:\n",
      "    name: nersc-interactive\n",
      "\n",
      "\n",
      "#all the following steps should not depend on where you run \n",
      "launcher:\n",
      "    name: mini\n",
      "    interval: 3.0\n",
      "modules: >\n",
      "    txpipe\n",
      "    rail.estimation.algos.bpz_lite\n",
      "\n",
      "python_paths: []\n",
      "\n",
      "stages:\n",
      "  - name: TXSourceSelectorMetadetect\n",
      "    nprocess: 30\n",
      "  - name: BPZliteInformer\n",
      "    nprocess: 1\n",
      "    aliases:\n",
      "        input: spectroscopic_catalog\n",
      "        model: photoz_model\n",
      "  - name: BPZliteEstimator\n",
      "    nprocess: 30\n",
      "    aliases:\n",
      "        model: photoz_model\n",
      "        input: shear_catalog\n",
      "        output: source_photoz_pdfs\n",
      "  - name: CLClusterBinningRedshiftRichness\n",
      "    nprocess: 1\n",
      "  - name: CLClusterShearCatalogs\n",
      "    nprocess: 32   #>1 does not work with mpi\n",
      "  - name: CLClusterEnsembleProfiles\n",
      "    nprocess: 1\n",
      "  - name: CLClusterSACC\n",
      "    nprocess: 1\n",
      "    aliases:\n",
      "        cluster_profiles: cluster_profiles\n",
      "#    - name: CLClusterDataVector\n",
      "#      nprocess: 1\n",
      "\n",
      "output_dir: ./data/cosmodc2/outputs-20deg2-CL\n",
      "config: ./examples/cosmodc2/Cluster_pipelines/config-20deg2-CL.yml\n",
      "\n",
      "inputs:\n",
      "    # See README for paths to download these files\n",
      "    shear_catalog: ./data/cosmodc2/20deg2/shear_catalog.hdf5\n",
      "    #photometry_catalog:  ./data/cosmodc2/20deg2/photometry_catalog.hdf5\n",
      "    fiducial_cosmology: ./data/fiducial_cosmology.yml\n",
      "    calibration_table: ./data/cosmodc2/20deg2/sample_cosmodc2_w10year_errors.dat\n",
      "    spectroscopic_catalog: ./data/cosmodc2/20deg2/spectroscopic_catalog.hdf5\n",
      "    cluster_catalog: ./data/cosmodc2/20deg2/cluster_catalog.hdf5\n",
      "    #shear_tomography_catalog: ./data/example/outputs_metadetect/shear_tomography_catalog.hdf5\n",
      "    #source_photoz_pdfs: ./data/example/inputs/photoz_pdfs.hdf5\n",
      "resume: true\n",
      "log_dir: ./data/cosmodc2/logs\n",
      "pipeline_log: ./data/cosmodc2/log_20deg2.txt\n"
     ]
    }
   ],
   "source": [
    "! cat examples/cosmodc2/Cluster_pipelines/pipeline-20deg2-CL-nersc.yml"
   ]
  },
  {
   "cell_type": "markdown",
   "id": "63473b4a",
   "metadata": {},
   "source": [
    "___"
   ]
  },
  {
   "cell_type": "markdown",
   "id": "7ccef7e0",
   "metadata": {},
   "source": [
    "# 3 - Producing and looking at the pipeline diagram"
   ]
  },
  {
   "cell_type": "markdown",
   "id": "cc256472",
   "metadata": {},
   "source": [
    "Here we run the pipeline in \"dry-run\" mode, to check that it can run and to produce a pipeline diagram in png."
   ]
  },
  {
   "cell_type": "code",
   "execution_count": 6,
   "id": "82a24dd3",
   "metadata": {
    "tags": []
   },
   "outputs": [],
   "source": [
    "# Read the appropriate pipeline configuration, and ask for a flow-chart.\n",
    "\n",
    "pipeline_file = \"examples/cosmodc2/Cluster_pipelines/pipeline-20deg2-CL-in2p3.yml\"\n",
    "# pipeline_file = \"examples/cosmodc2/Cluster_pipelines/pipeline-20deg2-CL-nersc.yml\"\n",
    "flowchart_file = \"CL_pipeline.png\"\n",
    "\n",
    "\n",
    "pipeline_config = ceci.Pipeline.build_config(pipeline_file, flow_chart=flowchart_file, dry_run=True)\n",
    "\n",
    "# Run the flow-chart pipeline\n",
    "ceci.run_pipeline(pipeline_config);"
   ]
  },
  {
   "cell_type": "markdown",
   "id": "f3c19dcb",
   "metadata": {},
   "source": [
    "Here we have 6 uncommented stages, and 5 uncommented inputs files.\n",
    "\n",
    "This translate in the pipeline charts as 6 red ellipses, and 5 yellow boxes. The blue boxes represents the ouput files."
   ]
  },
  {
   "cell_type": "code",
   "execution_count": 7,
   "id": "9e60cace",
   "metadata": {
    "tags": []
   },
   "outputs": [
    {
     "data": {
      "image/png": "[encoded data removed]",
      "text/plain": [
       "<IPython.core.display.Image object>"
      ]
     },
     "execution_count": 7,
     "metadata": {},
     "output_type": "execute_result"
    }
   ],
   "source": [
    "Image(flowchart_file)"
   ]
  },
  {
   "cell_type": "markdown",
   "id": "b986818d",
   "metadata": {},
   "source": [
    "___"
   ]
  },
  {
   "cell_type": "markdown",
   "id": "5dd025a3",
   "metadata": {},
   "source": [
    "# 4 - Opening and looking at the outputs"
   ]
  },
  {
   "cell_type": "code",
   "execution_count": 8,
   "id": "1463b613",
   "metadata": {},
   "outputs": [],
   "source": [
    "#At the moment the ouput file is a pickle file\n",
    "import pickle as pkl"
   ]
  },
  {
   "cell_type": "markdown",
   "id": "f65b5c1b",
   "metadata": {},
   "source": [
    "### **Open the pipeline file to load correct input/output file names**"
   ]
  },
  {
   "cell_type": "code",
   "execution_count": 9,
   "id": "bbc4cb52",
   "metadata": {},
   "outputs": [],
   "source": [
    "with open(pipeline_file, \"r\") as file:\n",
    "    pipeline_content = yaml.safe_load(file)"
   ]
  },
  {
   "cell_type": "markdown",
   "id": "05c9f270",
   "metadata": {},
   "source": [
    "### **Open the output**"
   ]
  },
  {
   "cell_type": "code",
   "execution_count": 10,
   "id": "5550ef72",
   "metadata": {},
   "outputs": [
    {
     "name": "stderr",
     "output_type": "stream",
     "text": [
      "/pbs/throng/lsst/users/mricci/desc/TXPipe/conda/lib/python3.10/site-packages/clmm/gcdata.py:80: UserWarning: coordinate_system not set, defaulting to 'euclidean'\n",
      "  warnings.warn(\"coordinate_system not set, defaulting to 'euclidean'\")\n",
      "/pbs/throng/lsst/users/mricci/desc/TXPipe/conda/lib/python3.10/site-packages/clmm/gcdata.py:80: UserWarning: coordinate_system not set, defaulting to 'euclidean'\n",
      "  warnings.warn(\"coordinate_system not set, defaulting to 'euclidean'\")\n",
      "/pbs/throng/lsst/users/mricci/desc/TXPipe/conda/lib/python3.10/site-packages/clmm/gcdata.py:80: UserWarning: coordinate_system not set, defaulting to 'euclidean'\n",
      "  warnings.warn(\"coordinate_system not set, defaulting to 'euclidean'\")\n",
      "/pbs/throng/lsst/users/mricci/desc/TXPipe/conda/lib/python3.10/site-packages/clmm/gcdata.py:80: UserWarning: coordinate_system not set, defaulting to 'euclidean'\n",
      "  warnings.warn(\"coordinate_system not set, defaulting to 'euclidean'\")\n",
      "/pbs/throng/lsst/users/mricci/desc/TXPipe/conda/lib/python3.10/site-packages/clmm/gcdata.py:80: UserWarning: coordinate_system not set, defaulting to 'euclidean'\n",
      "  warnings.warn(\"coordinate_system not set, defaulting to 'euclidean'\")\n",
      "/pbs/throng/lsst/users/mricci/desc/TXPipe/conda/lib/python3.10/site-packages/clmm/gcdata.py:80: UserWarning: coordinate_system not set, defaulting to 'euclidean'\n",
      "  warnings.warn(\"coordinate_system not set, defaulting to 'euclidean'\")\n",
      "/pbs/throng/lsst/users/mricci/desc/TXPipe/conda/lib/python3.10/site-packages/clmm/gcdata.py:80: UserWarning: coordinate_system not set, defaulting to 'euclidean'\n",
      "  warnings.warn(\"coordinate_system not set, defaulting to 'euclidean'\")\n",
      "/pbs/throng/lsst/users/mricci/desc/TXPipe/conda/lib/python3.10/site-packages/clmm/gcdata.py:80: UserWarning: coordinate_system not set, defaulting to 'euclidean'\n",
      "  warnings.warn(\"coordinate_system not set, defaulting to 'euclidean'\")\n",
      "/pbs/throng/lsst/users/mricci/desc/TXPipe/conda/lib/python3.10/site-packages/clmm/gcdata.py:80: UserWarning: coordinate_system not set, defaulting to 'euclidean'\n",
      "  warnings.warn(\"coordinate_system not set, defaulting to 'euclidean'\")\n",
      "/pbs/throng/lsst/users/mricci/desc/TXPipe/conda/lib/python3.10/site-packages/clmm/gcdata.py:80: UserWarning: coordinate_system not set, defaulting to 'euclidean'\n",
      "  warnings.warn(\"coordinate_system not set, defaulting to 'euclidean'\")\n",
      "/pbs/throng/lsst/users/mricci/desc/TXPipe/conda/lib/python3.10/site-packages/clmm/gcdata.py:80: UserWarning: coordinate_system not set, defaulting to 'euclidean'\n",
      "  warnings.warn(\"coordinate_system not set, defaulting to 'euclidean'\")\n",
      "/pbs/throng/lsst/users/mricci/desc/TXPipe/conda/lib/python3.10/site-packages/clmm/gcdata.py:80: UserWarning: coordinate_system not set, defaulting to 'euclidean'\n",
      "  warnings.warn(\"coordinate_system not set, defaulting to 'euclidean'\")\n",
      "/pbs/throng/lsst/users/mricci/desc/TXPipe/conda/lib/python3.10/site-packages/clmm/gcdata.py:80: UserWarning: coordinate_system not set, defaulting to 'euclidean'\n",
      "  warnings.warn(\"coordinate_system not set, defaulting to 'euclidean'\")\n",
      "/pbs/throng/lsst/users/mricci/desc/TXPipe/conda/lib/python3.10/site-packages/clmm/gcdata.py:80: UserWarning: coordinate_system not set, defaulting to 'euclidean'\n",
      "  warnings.warn(\"coordinate_system not set, defaulting to 'euclidean'\")\n",
      "/pbs/throng/lsst/users/mricci/desc/TXPipe/conda/lib/python3.10/site-packages/clmm/gcdata.py:80: UserWarning: coordinate_system not set, defaulting to 'euclidean'\n",
      "  warnings.warn(\"coordinate_system not set, defaulting to 'euclidean'\")\n",
      "/pbs/throng/lsst/users/mricci/desc/TXPipe/conda/lib/python3.10/site-packages/clmm/gcdata.py:80: UserWarning: coordinate_system not set, defaulting to 'euclidean'\n",
      "  warnings.warn(\"coordinate_system not set, defaulting to 'euclidean'\")\n",
      "/pbs/throng/lsst/users/mricci/desc/TXPipe/conda/lib/python3.10/site-packages/clmm/gcdata.py:80: UserWarning: coordinate_system not set, defaulting to 'euclidean'\n",
      "  warnings.warn(\"coordinate_system not set, defaulting to 'euclidean'\")\n",
      "/pbs/throng/lsst/users/mricci/desc/TXPipe/conda/lib/python3.10/site-packages/clmm/gcdata.py:80: UserWarning: coordinate_system not set, defaulting to 'euclidean'\n",
      "  warnings.warn(\"coordinate_system not set, defaulting to 'euclidean'\")\n",
      "/pbs/throng/lsst/users/mricci/desc/TXPipe/conda/lib/python3.10/site-packages/clmm/gcdata.py:80: UserWarning: coordinate_system not set, defaulting to 'euclidean'\n",
      "  warnings.warn(\"coordinate_system not set, defaulting to 'euclidean'\")\n",
      "/pbs/throng/lsst/users/mricci/desc/TXPipe/conda/lib/python3.10/site-packages/clmm/gcdata.py:80: UserWarning: coordinate_system not set, defaulting to 'euclidean'\n",
      "  warnings.warn(\"coordinate_system not set, defaulting to 'euclidean'\")\n",
      "/pbs/throng/lsst/users/mricci/desc/TXPipe/conda/lib/python3.10/site-packages/clmm/gcdata.py:80: UserWarning: coordinate_system not set, defaulting to 'euclidean'\n",
      "  warnings.warn(\"coordinate_system not set, defaulting to 'euclidean'\")\n",
      "/pbs/throng/lsst/users/mricci/desc/TXPipe/conda/lib/python3.10/site-packages/clmm/gcdata.py:80: UserWarning: coordinate_system not set, defaulting to 'euclidean'\n",
      "  warnings.warn(\"coordinate_system not set, defaulting to 'euclidean'\")\n",
      "/pbs/throng/lsst/users/mricci/desc/TXPipe/conda/lib/python3.10/site-packages/clmm/gcdata.py:80: UserWarning: coordinate_system not set, defaulting to 'euclidean'\n",
      "  warnings.warn(\"coordinate_system not set, defaulting to 'euclidean'\")\n",
      "/pbs/throng/lsst/users/mricci/desc/TXPipe/conda/lib/python3.10/site-packages/clmm/gcdata.py:80: UserWarning: coordinate_system not set, defaulting to 'euclidean'\n",
      "  warnings.warn(\"coordinate_system not set, defaulting to 'euclidean'\")\n",
      "/pbs/throng/lsst/users/mricci/desc/TXPipe/conda/lib/python3.10/site-packages/clmm/gcdata.py:80: UserWarning: coordinate_system not set, defaulting to 'euclidean'\n",
      "  warnings.warn(\"coordinate_system not set, defaulting to 'euclidean'\")\n",
      "/pbs/throng/lsst/users/mricci/desc/TXPipe/conda/lib/python3.10/site-packages/clmm/gcdata.py:80: UserWarning: coordinate_system not set, defaulting to 'euclidean'\n",
      "  warnings.warn(\"coordinate_system not set, defaulting to 'euclidean'\")\n",
      "/pbs/throng/lsst/users/mricci/desc/TXPipe/conda/lib/python3.10/site-packages/clmm/gcdata.py:80: UserWarning: coordinate_system not set, defaulting to 'euclidean'\n",
      "  warnings.warn(\"coordinate_system not set, defaulting to 'euclidean'\")\n",
      "/pbs/throng/lsst/users/mricci/desc/TXPipe/conda/lib/python3.10/site-packages/clmm/gcdata.py:80: UserWarning: coordinate_system not set, defaulting to 'euclidean'\n",
      "  warnings.warn(\"coordinate_system not set, defaulting to 'euclidean'\")\n",
      "/pbs/throng/lsst/users/mricci/desc/TXPipe/conda/lib/python3.10/site-packages/clmm/gcdata.py:80: UserWarning: coordinate_system not set, defaulting to 'euclidean'\n",
      "  warnings.warn(\"coordinate_system not set, defaulting to 'euclidean'\")\n",
      "/pbs/throng/lsst/users/mricci/desc/TXPipe/conda/lib/python3.10/site-packages/clmm/gcdata.py:80: UserWarning: coordinate_system not set, defaulting to 'euclidean'\n",
      "  warnings.warn(\"coordinate_system not set, defaulting to 'euclidean'\")\n"
     ]
    }
   ],
   "source": [
    "data = pkl.load(open(pipeline_content[\"output_dir\"] + \"/cluster_profiles.pkl\", \"rb\"))"
   ]
  },
  {
   "cell_type": "code",
   "execution_count": 11,
   "id": "e1dcff76",
   "metadata": {},
   "outputs": [
    {
     "data": {
      "text/plain": [
       "{'bin_zbin_0_richbin_0': {'cluster_bin_edges': {'rich_max': 20.0,\n",
       "   'rich_min': 10.0,\n",
       "   'z_max': 0.4,\n",
       "   'z_min': 0.2},\n",
       "  'n_cl': 37,\n",
       "  'clmm_cluster_ensemble': <clmm.clusterensemble.ClusterEnsemble at 0x7fbda852c0d0>},\n",
       " 'bin_zbin_0_richbin_1': {'cluster_bin_edges': {'rich_max': 35.0,\n",
       "   'rich_min': 20.0,\n",
       "   'z_max': 0.4,\n",
       "   'z_min': 0.2},\n",
       "  'n_cl': 11,\n",
       "  'clmm_cluster_ensemble': <clmm.clusterensemble.ClusterEnsemble at 0x7fbda528c430>},\n",
       " 'bin_zbin_0_richbin_2': {'cluster_bin_edges': {'rich_max': 200.0,\n",
       "   'rich_min': 35.0,\n",
       "   'z_max': 0.4,\n",
       "   'z_min': 0.2},\n",
       "  'n_cl': 4,\n",
       "  'clmm_cluster_ensemble': <clmm.clusterensemble.ClusterEnsemble at 0x7fbda528d2d0>},\n",
       " 'bin_zbin_1_richbin_0': {'cluster_bin_edges': {'rich_max': 20.0,\n",
       "   'rich_min': 10.0,\n",
       "   'z_max': 0.6,\n",
       "   'z_min': 0.4},\n",
       "  'n_cl': 120,\n",
       "  'clmm_cluster_ensemble': <clmm.clusterensemble.ClusterEnsemble at 0x7fbda528db10>},\n",
       " 'bin_zbin_1_richbin_1': {'cluster_bin_edges': {'rich_max': 35.0,\n",
       "   'rich_min': 20.0,\n",
       "   'z_max': 0.6,\n",
       "   'z_min': 0.4},\n",
       "  'n_cl': 31,\n",
       "  'clmm_cluster_ensemble': <clmm.clusterensemble.ClusterEnsemble at 0x7fbda528e320>},\n",
       " 'bin_zbin_1_richbin_2': {'cluster_bin_edges': {'rich_max': 200.0,\n",
       "   'rich_min': 35.0,\n",
       "   'z_max': 0.6,\n",
       "   'z_min': 0.4},\n",
       "  'n_cl': 14,\n",
       "  'clmm_cluster_ensemble': <clmm.clusterensemble.ClusterEnsemble at 0x7fbda528eb60>},\n",
       " 'bin_zbin_2_richbin_0': {'cluster_bin_edges': {'rich_max': 20.0,\n",
       "   'rich_min': 10.0,\n",
       "   'z_max': 0.8,\n",
       "   'z_min': 0.6},\n",
       "  'n_cl': 83,\n",
       "  'clmm_cluster_ensemble': <clmm.clusterensemble.ClusterEnsemble at 0x7fbda528f3a0>},\n",
       " 'bin_zbin_2_richbin_1': {'cluster_bin_edges': {'rich_max': 35.0,\n",
       "   'rich_min': 20.0,\n",
       "   'z_max': 0.8,\n",
       "   'z_min': 0.6},\n",
       "  'n_cl': 18,\n",
       "  'clmm_cluster_ensemble': <clmm.clusterensemble.ClusterEnsemble at 0x7fbda528fbe0>},\n",
       " 'bin_zbin_2_richbin_2': {'cluster_bin_edges': {'rich_max': 200.0,\n",
       "   'rich_min': 35.0,\n",
       "   'z_max': 0.8,\n",
       "   'z_min': 0.6},\n",
       "  'n_cl': 11,\n",
       "  'clmm_cluster_ensemble': <clmm.clusterensemble.ClusterEnsemble at 0x7fbda52e0460>},\n",
       " 'bin_zbin_3_richbin_0': {'cluster_bin_edges': {'rich_max': 20.0,\n",
       "   'rich_min': 10.0,\n",
       "   'z_max': 1.0,\n",
       "   'z_min': 0.8},\n",
       "  'n_cl': 118,\n",
       "  'clmm_cluster_ensemble': <clmm.clusterensemble.ClusterEnsemble at 0x7fbda52e0ca0>},\n",
       " 'bin_zbin_3_richbin_1': {'cluster_bin_edges': {'rich_max': 35.0,\n",
       "   'rich_min': 20.0,\n",
       "   'z_max': 1.0,\n",
       "   'z_min': 0.8},\n",
       "  'n_cl': 33,\n",
       "  'clmm_cluster_ensemble': <clmm.clusterensemble.ClusterEnsemble at 0x7fbda52e14e0>},\n",
       " 'bin_zbin_3_richbin_2': {'cluster_bin_edges': {'rich_max': 200.0,\n",
       "   'rich_min': 35.0,\n",
       "   'z_max': 1.0,\n",
       "   'z_min': 0.8},\n",
       "  'n_cl': 11,\n",
       "  'clmm_cluster_ensemble': <clmm.clusterensemble.ClusterEnsemble at 0x7fbda52e1d20>},\n",
       " 'bin_zbin_4_richbin_0': {'cluster_bin_edges': {'rich_max': 20.0,\n",
       "   'rich_min': 10.0,\n",
       "   'z_max': 1.2,\n",
       "   'z_min': 1.0},\n",
       "  'n_cl': 59,\n",
       "  'clmm_cluster_ensemble': <clmm.clusterensemble.ClusterEnsemble at 0x7fbda52e2560>},\n",
       " 'bin_zbin_4_richbin_1': {'cluster_bin_edges': {'rich_max': 35.0,\n",
       "   'rich_min': 20.0,\n",
       "   'z_max': 1.2,\n",
       "   'z_min': 1.0},\n",
       "  'n_cl': 15,\n",
       "  'clmm_cluster_ensemble': <clmm.clusterensemble.ClusterEnsemble at 0x7fbda52e2da0>},\n",
       " 'bin_zbin_4_richbin_2': {'cluster_bin_edges': {'rich_max': 200.0,\n",
       "   'rich_min': 35.0,\n",
       "   'z_max': 1.2,\n",
       "   'z_min': 1.0},\n",
       "  'n_cl': 6,\n",
       "  'clmm_cluster_ensemble': <clmm.clusterensemble.ClusterEnsemble at 0x7fbda52e35e0>}}"
      ]
     },
     "execution_count": 11,
     "metadata": {},
     "output_type": "execute_result"
    }
   ],
   "source": [
    "data"
   ]
  },
  {
   "cell_type": "markdown",
   "id": "0fdf85f7",
   "metadata": {},
   "source": [
    "The output is a dictionary containing a `CLMM` `ClusterEnsemble` object for each redshift/richness bin."
   ]
  },
  {
   "cell_type": "markdown",
   "id": "504fc48b",
   "metadata": {},
   "source": [
    "### **Exploring the output**"
   ]
  },
  {
   "cell_type": "code",
   "execution_count": 12,
   "id": "84b36b0d",
   "metadata": {},
   "outputs": [],
   "source": [
    "example_bin = 'bin_zbin_0_richbin_0'"
   ]
  },
  {
   "cell_type": "code",
   "execution_count": 13,
   "id": "2d11ee3b",
   "metadata": {},
   "outputs": [
    {
     "data": {
      "text/plain": [
       "{'cluster_bin_edges': {'rich_max': 20.0,\n",
       "  'rich_min': 10.0,\n",
       "  'z_max': 0.4,\n",
       "  'z_min': 0.2},\n",
       " 'n_cl': 37,\n",
       " 'clmm_cluster_ensemble': <clmm.clusterensemble.ClusterEnsemble at 0x7fbda852c0d0>}"
      ]
     },
     "execution_count": 13,
     "metadata": {},
     "output_type": "execute_result"
    }
   ],
   "source": [
    "#This is the info for this bin\n",
    "data[example_bin]"
   ]
  },
  {
   "cell_type": "code",
   "execution_count": 14,
   "id": "e9926eca",
   "metadata": {},
   "outputs": [
    {
     "data": {
      "text/html": [
       "<b>GCData</b>\n",
       "<br> <b>defined by:</b> cosmo='CCLCosmology(H0=71.0, Omega_dm0=0.2199999, Omega_b0=0.0448, Omega_k0=0.0)', bin_units='Mpc', radius_min=[0.5        0.67464142 ... 5.49280272 7.41134449], radius_max=[ 0.67464142  0.9102821 ... 7.41134449 10.        ], coordinate_system='euclidean'\n",
       "<br> <b>with columns:</b> cluster_id, ra, dec, z, radius, tangential_comp, cross_comp, W_l\n",
       "<br> 37 objects\n",
       "<br> \n",
       "<table id=\"table140452549547616\" class=\"table-striped table-bordered table-condensed\">\n",
       "<thead><tr><th>cluster_id</th><th>ra</th><th>dec</th><th>z</th><th>radius</th><th>tangential_comp</th><th>cross_comp</th><th>W_l</th></tr></thead>\n",
       "<thead><tr><th>str5</th><th>float64</th><th>float64</th><th>float64</th><th>float64[10]</th><th>float64[10]</th><th>float64[10]</th><th>float64[10]</th></tr></thead>\n",
       "<tr><td>5100</td><td>57.42736233046828</td><td>-25.90286539931092</td><td>0.27140310406684875</td><td>0.5894111617370928 .. 8.750984338163171</td><td>157950891210161.75 .. 2637797813035.7393</td><td>29363405037392.582 .. -2687378395149.9927</td><td>245.0 .. 17793.0</td></tr>\n",
       "<tr><td>5796</td><td>53.08602691840102</td><td>-26.170606342706584</td><td>0.3653298318386078</td><td>0.5959044608726264 .. 8.769051934163308</td><td>165016214375334.47 .. -11265550765715.023</td><td>-5588350818030.948 .. 2602449442074.081</td><td>136.0 .. 31248.0</td></tr>\n",
       "<tr><td>5842</td><td>57.351295014363075</td><td>-25.743409351835105</td><td>0.362968385219574</td><td>0.6010559314894848 .. 8.736236174197119</td><td>68476286690451.41 .. 3943276169595.6743</td><td>71362331791280.56 .. 4497724165848.815</td><td>173.0 .. 12963.0</td></tr>\n",
       "<tr><td>8463</td><td>53.248531377151686</td><td>-25.180069827109925</td><td>0.25667276978492737</td><td>0.594165254906906 .. 8.710449353174422</td><td>117459895093764.1 .. 8450288200443.802</td><td>7389652409987.53 .. 3450460186424.8228</td><td>292.0 .. 27286.0</td></tr>\n",
       "<tr><td>6542</td><td>54.81645634894147</td><td>-27.479720497282113</td><td>0.3937351703643799</td><td>0.5930295140268991 .. 8.755980591137705</td><td>98463265352827.64 .. 16243187091879.41</td><td>-53917791707564.37 .. -1195313606076.978</td><td>97.0 .. 29591.0</td></tr>\n",
       "<tr><td>8273</td><td>53.445037522076305</td><td>-27.052399365316937</td><td>0.34181296825408936</td><td>0.5859372438498557 .. 8.759040351692882</td><td>-102679410350817.78 .. 4698303532692.31</td><td>56256698389608.6 .. -4275571411053.7036</td><td>159.0 .. 35549.0</td></tr>\n",
       "<tr><td>9114</td><td>57.38106745488189</td><td>-25.752236047617988</td><td>0.2713894546031952</td><td>0.59863339941745 .. 8.771574468827508</td><td>-35890178660396.47 .. 10947438435070.438</td><td>1967942639424.3518 .. -43002235442.78081</td><td>240.0 .. 19359.0</td></tr>\n",
       "<tr><td>10543</td><td>56.436311391508475</td><td>-26.82699595792468</td><td>0.299254447221756</td><td>0.5910847268211293 .. 8.759456435817881</td><td>-29668488555199.973 .. 11687245926456.055</td><td>-73575919718148.56 .. 3939112596809.2866</td><td>205.0 .. 26453.0</td></tr>\n",
       "<tr><td>9853</td><td>55.17041992869908</td><td>-25.818196180591098</td><td>0.310738205909729</td><td>0.5877797428632585 .. 8.771137029600116</td><td>56062204820736.97 .. 6811222270566.694</td><td>-72252322867876.97 .. 2583221807209.9287</td><td>203.0 .. 28046.0</td></tr>\n",
       "<tr><td>...</td><td>...</td><td>...</td><td>...</td><td>...</td><td>...</td><td>...</td><td>...</td></tr>\n",
       "<tr><td>12617</td><td>53.678701032844465</td><td>-27.942539772083904</td><td>0.27591344714164734</td><td>0.5914195485570147 .. 8.779949111869866</td><td>146800391698598.94 .. 1861124940513.975</td><td>-24751786665015.945 .. -3525447843496.331</td><td>224.0 .. 49534.0</td></tr>\n",
       "<tr><td>12182</td><td>50.59303956690627</td><td>-27.032564777317937</td><td>0.3801734149456024</td><td>0.5894021620462963 .. 8.777123287210827</td><td>89346683118737.3 .. -7254831894872.037</td><td>-16291556161745.633 .. -3230645686509.203</td><td>121.0 .. 19124.0</td></tr>\n",
       "<tr><td>13121</td><td>50.46975271475695</td><td>-25.67866912051152</td><td>0.275128036737442</td><td>0.5883501590096035 .. 8.735011384916687</td><td>82453769845102.69 .. 4557902209644.234</td><td>10179417395804.014 .. 1095745074079.9113</td><td>228.0 .. 52448.0</td></tr>\n",
       "<tr><td>13316</td><td>51.07542962110126</td><td>-25.620887600945903</td><td>0.2829534709453583</td><td>0.5827128773216949 .. 8.728493155248822</td><td>-7093373230767.086 .. 2491398191043.628</td><td>-6155216712858.504 .. -9197704122465.416</td><td>292.0 .. 37474.0</td></tr>\n",
       "<tr><td>14490</td><td>53.84618313103764</td><td>-29.142289683424806</td><td>0.22816148400306702</td><td>0.589107873777882 .. 8.742077342923466</td><td>74120615734193.39 .. 11331728491420.71</td><td>-12525093864209.27 .. 8761585970170.052</td><td>367.0 .. 47198.0</td></tr>\n",
       "<tr><td>12975</td><td>50.67537164062159</td><td>-25.206382916668613</td><td>0.24758219718933105</td><td>0.5948865993040718 .. 8.723196147156246</td><td>-23710972163383.746 .. 13154403991113.004</td><td>-139327623685135.97 .. -3736878025453.1997</td><td>295.0 .. 30293.0</td></tr>\n",
       "<tr><td>14645</td><td>51.06031946245623</td><td>-26.670073831714877</td><td>0.351681113243103</td><td>0.5875450825463455 .. 8.762275344045904</td><td>92978532875438.9 .. 14070831095985.318</td><td>87514856376223.7 .. 7845938772279.039</td><td>171.0 .. 36798.0</td></tr>\n",
       "<tr><td>20049</td><td>49.50928396772887</td><td>-26.00079268063406</td><td>0.3606310486793518</td><td>0.5937059606632091 .. 8.756785140166025</td><td>88423502926863.86 .. 347274805689.944</td><td>94224172747484.38 .. 6455424732360.775</td><td>127.0 .. 12738.0</td></tr>\n",
       "<tr><td>21059</td><td>50.810347207289595</td><td>-27.12912918800669</td><td>0.28093597292900085</td><td>0.5856961896932419 .. 8.751851783051123</td><td>94936034476107.33 .. -2180252520527.6938</td><td>-75440039032300.45 .. 2949648080064.2627</td><td>220.0 .. 33397.0</td></tr>\n",
       "<tr><td>22457</td><td>53.8990355663049</td><td>-28.064011721099885</td><td>0.3446139395236969</td><td>0.5998153478994906 .. 8.773939966845154</td><td>-91590494465852.08 .. 2359451161969.1094</td><td>-51924133143269.6 .. 927556777616.0127</td><td>159.0 .. 35580.0</td></tr>\n",
       "</table></div>"
      ],
      "text/plain": [
       "GCData(cosmo='CCLCosmology(H0=71.0, Omega_dm0=0.2199999, Omega_b0=0.0448, Omega_k0=0.0)', bin_units='Mpc', radius_min=[0.5        0.67464142 ... 5.49280272 7.41134449], radius_max=[ 0.67464142  0.9102821 ... 7.41134449 10.        ], coordinate_system='euclidean', columns: cluster_id, ra, dec, z, radius, tangential_comp, cross_comp, W_l)"
      ]
     },
     "execution_count": 14,
     "metadata": {},
     "output_type": "execute_result"
    }
   ],
   "source": [
    "#This shows the table with all cluster in this bin and their corresponding profiles\n",
    "data[example_bin]['clmm_cluster_ensemble'].data"
   ]
  },
  {
   "cell_type": "code",
   "execution_count": 15,
   "id": "d148accc",
   "metadata": {},
   "outputs": [
    {
     "data": {
      "text/plain": [
       "GCMetaData([('cosmo',\n",
       "             'CCLCosmology(H0=71.0, Omega_dm0=0.2199999, Omega_b0=0.0448, Omega_k0=0.0)'),\n",
       "            ('bin_units', 'Mpc'),\n",
       "            ('radius_min', [0.5        0.67464142 ... 5.49280272 7.41134449]),\n",
       "            ('radius_max',\n",
       "             [ 0.67464142  0.9102821 ... 7.41134449 10.        ]),\n",
       "            ('coordinate_system', 'euclidean')])"
      ]
     },
     "execution_count": 15,
     "metadata": {},
     "output_type": "execute_result"
    }
   ],
   "source": [
    "#This shows the table with all cluster in this bin and their corresponding profiles\n",
    "data[example_bin]['clmm_cluster_ensemble'].data.meta"
   ]
  },
  {
   "cell_type": "code",
   "execution_count": 16,
   "id": "56a39522",
   "metadata": {},
   "outputs": [
    {
     "data": {
      "text/plain": [
       "GCMetaData([('cosmo',\n",
       "             'CCLCosmology(H0=71.0, Omega_dm0=0.2199999, Omega_b0=0.0448, Omega_k0=0.0)'),\n",
       "            ('bin_units', 'Mpc'),\n",
       "            ('coordinate_system', 'euclidean')])"
      ]
     },
     "execution_count": 16,
     "metadata": {},
     "output_type": "execute_result"
    }
   ],
   "source": [
    "#This shows the ensemble stacked profiles\n",
    "data[example_bin]['clmm_cluster_ensemble'].stacked_data.meta"
   ]
  },
  {
   "cell_type": "code",
   "execution_count": 17,
   "id": "1da10d8a",
   "metadata": {},
   "outputs": [
    {
     "data": {
      "text/plain": [
       "{'tan_sc': array([[ 1.52130842e+26, -7.35401853e+24,  8.75996462e+24,\n",
       "          1.36845059e+24,  2.61305738e+24, -1.71030308e+24,\n",
       "          2.96917699e+24,  1.60951744e+24,  5.60807910e+24,\n",
       "          8.24311885e+23],\n",
       "        [-7.35401853e+24,  8.79220310e+25, -6.54523149e+24,\n",
       "          3.62293007e+24, -5.56809343e+24,  4.82372789e+24,\n",
       "          9.92698306e+23, -1.18796957e+24, -4.77324023e+23,\n",
       "         -3.73037649e+22],\n",
       "        [ 8.75996462e+24, -6.54523149e+24,  3.26694780e+25,\n",
       "          9.95709162e+23,  5.08795612e+24,  3.16432485e+24,\n",
       "          1.90447538e+24, -3.03611675e+23,  8.08111181e+23,\n",
       "         -1.52606539e+24],\n",
       "        [ 1.36845059e+24,  3.62293007e+24,  9.95709162e+23,\n",
       "          1.85782105e+25,  2.44327934e+24,  1.48598704e+24,\n",
       "          4.72145506e+24, -4.85580797e+23,  9.32367197e+23,\n",
       "          6.90423828e+23],\n",
       "        [ 2.61305738e+24, -5.56809343e+24,  5.08795612e+24,\n",
       "          2.44327934e+24,  1.41932533e+25,  1.16253083e+24,\n",
       "          3.52897335e+24, -1.76425682e+22, -5.15047410e+23,\n",
       "          1.35701209e+23],\n",
       "        [-1.71030308e+24,  4.82372789e+24,  3.16432485e+24,\n",
       "          1.48598704e+24,  1.16253083e+24,  8.01009923e+24,\n",
       "         -3.17211330e+23,  1.15926598e+23, -7.03600396e+23,\n",
       "          2.23516435e+23],\n",
       "        [ 2.96917699e+24,  9.92698306e+23,  1.90447538e+24,\n",
       "          4.72145506e+24,  3.52897335e+24, -3.17211330e+23,\n",
       "          5.39789093e+24, -2.61350621e+23, -6.24669931e+23,\n",
       "          4.38582686e+23],\n",
       "        [ 1.60951744e+24, -1.18796957e+24, -3.03611675e+23,\n",
       "         -4.85580797e+23, -1.76425682e+22,  1.15926598e+23,\n",
       "         -2.61350621e+23,  1.98329731e+24, -1.33641274e+23,\n",
       "          2.83255535e+23],\n",
       "        [ 5.60807910e+24, -4.77324023e+23,  8.08111181e+23,\n",
       "          9.32367197e+23, -5.15047410e+23, -7.03600396e+23,\n",
       "         -6.24669931e+23, -1.33641274e+23,  2.46555932e+24,\n",
       "         -2.54855416e+23],\n",
       "        [ 8.24311885e+23, -3.73037649e+22, -1.52606539e+24,\n",
       "          6.90423828e+23,  1.35701209e+23,  2.23516435e+23,\n",
       "          4.38582686e+23,  2.83255535e+23, -2.54855416e+23,\n",
       "          1.39110557e+24]]),\n",
       " 'cross_sc': array([[ 9.13078285e+25,  1.60156730e+25, -1.58317134e+24,\n",
       "          1.31781202e+25,  8.40505915e+24, -2.44862338e+24,\n",
       "          5.67933787e+23,  2.50273742e+24,  4.38333436e+24,\n",
       "          4.36153011e+23],\n",
       "        [ 1.60156730e+25,  6.83668544e+25, -7.78157960e+24,\n",
       "         -7.69284709e+24,  2.74864262e+24, -8.05569962e+23,\n",
       "          5.06519436e+23, -1.23212798e+24, -8.59113560e+23,\n",
       "         -1.89035622e+24],\n",
       "        [-1.58317134e+24, -7.78157960e+24,  2.15514394e+25,\n",
       "         -3.35914893e+22,  1.21255865e+24, -3.87716897e+23,\n",
       "         -1.24344821e+24, -1.12962777e+24,  8.24480512e+23,\n",
       "         -1.01568659e+24],\n",
       "        [ 1.31781202e+25, -7.69284709e+24, -3.35914893e+22,\n",
       "          2.39815416e+25,  1.22211868e+24,  5.38453063e+23,\n",
       "          3.86459141e+23,  8.38690445e+23,  2.10890660e+24,\n",
       "          1.18182500e+23],\n",
       "        [ 8.40505915e+24,  2.74864262e+24,  1.21255865e+24,\n",
       "          1.22211868e+24,  1.52462315e+25,  1.77573006e+24,\n",
       "          4.89253206e+23,  2.05924798e+24,  9.37011173e+23,\n",
       "          1.07662972e+23],\n",
       "        [-2.44862338e+24, -8.05569962e+23, -3.87716897e+23,\n",
       "          5.38453063e+23,  1.77573006e+24,  6.04594354e+24,\n",
       "          4.83323987e+23, -7.29226046e+23,  6.23992351e+23,\n",
       "          2.27546784e+23],\n",
       "        [ 5.67933787e+23,  5.06519436e+23, -1.24344821e+24,\n",
       "          3.86459141e+23,  4.89253206e+23,  4.83323987e+23,\n",
       "          2.36460665e+24, -6.41033054e+22,  5.73227639e+23,\n",
       "         -2.83219939e+23],\n",
       "        [ 2.50273742e+24, -1.23212798e+24, -1.12962777e+24,\n",
       "          8.38690445e+23,  2.05924798e+24, -7.29226046e+23,\n",
       "         -6.41033054e+22,  2.87078308e+24,  4.83348780e+23,\n",
       "         -8.08595286e+22],\n",
       "        [ 4.38333436e+24, -8.59113560e+23,  8.24480512e+23,\n",
       "          2.10890660e+24,  9.37011173e+23,  6.23992351e+23,\n",
       "          5.73227639e+23,  4.83348780e+23,  1.44722270e+24,\n",
       "         -7.93953840e+22],\n",
       "        [ 4.36153011e+23, -1.89035622e+24, -1.01568659e+24,\n",
       "          1.18182500e+23,  1.07662972e+23,  2.27546784e+23,\n",
       "         -2.83219939e+23, -8.08595286e+22, -7.93953840e+22,\n",
       "          7.63209954e+23]]),\n",
       " 'tan_bs': None,\n",
       " 'cross_bs': None,\n",
       " 'tan_jk': None,\n",
       " 'cross_jk': None}"
      ]
     },
     "execution_count": 17,
     "metadata": {},
     "output_type": "execute_result"
    }
   ],
   "source": [
    "#This shows the covarinace for the ensemble stacked profiles\n",
    "data[example_bin]['clmm_cluster_ensemble'].cov"
   ]
  },
  {
   "cell_type": "markdown",
   "id": "3c32d5a1",
   "metadata": {},
   "source": [
    "### **Plot the ouput**"
   ]
  },
  {
   "cell_type": "code",
   "execution_count": 18,
   "id": "203de6d1",
   "metadata": {},
   "outputs": [
    {
     "data": {
      "text/plain": [
       "<matplotlib.legend.Legend at 0x7fbda52e19c0>"
      ]
     },
     "execution_count": 18,
     "metadata": {},
     "output_type": "execute_result"
    },
    {
     "data": {
      "image/png": "[encoded data removed]",
      "text/plain": [
       "<Figure size 640x480 with 1 Axes>"
      ]
     },
     "metadata": {},
     "output_type": "display_data"
    }
   ],
   "source": [
    "fig, ax = plt.subplots()\n",
    "\n",
    "ax.semilogx(\n",
    "        data[example_bin]['clmm_cluster_ensemble'].stacked_data[\"radius\"],\n",
    "        data[example_bin]['clmm_cluster_ensemble'].stacked_data[\"tangential_comp\"],\n",
    "        \"bx-\",\n",
    "        label=\"tan\",)\n",
    "\n",
    "ax.semilogx(\n",
    "        data[example_bin]['clmm_cluster_ensemble'].stacked_data[\"radius\"],\n",
    "        data[example_bin]['clmm_cluster_ensemble'].stacked_data[\"cross_comp\"],\n",
    "        \"r.-\",\n",
    "        label=\"cross\",)\n",
    "\n",
    "ax.errorbar(\n",
    "        data[example_bin]['clmm_cluster_ensemble'].stacked_data[\"radius\"],\n",
    "        data[example_bin]['clmm_cluster_ensemble'].stacked_data[\"tangential_comp\"],\n",
    "        yerr=data[example_bin]['clmm_cluster_ensemble'].cov[\"tan_sc\"].diagonal() ** 0.5,\n",
    "        color=\"blue\",)\n",
    "\n",
    "\n",
    "ax.errorbar(\n",
    "        data[example_bin]['clmm_cluster_ensemble'].stacked_data[\"radius\"],\n",
    "        data[example_bin]['clmm_cluster_ensemble'].stacked_data[\"cross_comp\"],\n",
    "        yerr=data[example_bin]['clmm_cluster_ensemble'].cov[\"cross_sc\"].diagonal() ** 0.5,\n",
    "        color=\"red\",)\n",
    "\n",
    "\n",
    "\n",
    "ax.set_xlabel('radius [Mpc]')\n",
    "ax.set_ylabel('$\\\\Delta \\\\Sigma$')\n",
    "\n",
    "plt.legend()"
   ]
  },
  {
   "cell_type": "code",
   "execution_count": null,
   "id": "81436400-2e79-4078-958d-d2f824445286",
   "metadata": {},
   "outputs": [],
   "source": []
  }
 ],
 "metadata": {
  "kernelspec": {
   "display_name": "txpipe",
   "language": "python",
   "name": "txpipe"
  },
  "language_info": {
   "codemirror_mode": {
    "name": "ipython",
    "version": 3
   },
   "file_extension": ".py",
   "mimetype": "text/x-python",
   "name": "python",
   "nbconvert_exporter": "python",
   "pygments_lexer": "ipython3",
   "version": "3.10.15"
  },
  "nbdime-conflicts": {
   "local_diff": [
    {
     "diff": [
      {
       "diff": [
        {
         "key": 0,
         "op": "addrange",
         "valuelist": [
          "clmm"
         ]
        },
        {
         "key": 0,
         "length": 1,
         "op": "removerange"
        }
       ],
       "key": "display_name",
       "op": "patch"
      },
      {
       "diff": [
        {
         "key": 0,
         "op": "addrange",
         "valuelist": [
          "clmm"
         ]
        },
        {
         "key": 0,
         "length": 1,
         "op": "removerange"
        }
       ],
       "key": "name",
       "op": "patch"
      }
     ],
     "key": "kernelspec",
     "op": "patch"
    },
    {
     "diff": [
      {
       "diff": [
        {
         "diff": [
          {
           "key": 5,
           "length": 1,
           "op": "removerange"
          }
         ],
         "key": 0,
         "op": "patch"
        }
       ],
       "key": "version",
       "op": "patch"
      }
     ],
     "key": "language_info",
     "op": "patch"
    }
   ],
   "remote_diff": [
    {
     "diff": [
      {
       "diff": [
        {
         "key": 0,
         "op": "addrange",
         "valuelist": [
          "Python (firecrown2.0)"
         ]
        },
        {
         "key": 0,
         "length": 1,
         "op": "removerange"
        }
       ],
       "key": "display_name",
       "op": "patch"
      },
      {
       "diff": [
        {
         "key": 0,
         "op": "addrange",
         "valuelist": [
          "firecrown"
         ]
        },
        {
         "key": 0,
         "length": 1,
         "op": "removerange"
        }
       ],
       "key": "name",
       "op": "patch"
      }
     ],
     "key": "kernelspec",
     "op": "patch"
    },
    {
     "diff": [
      {
       "diff": [
        {
         "key": 0,
         "length": 1,
         "op": "removerange"
        }
       ],
       "key": "version",
       "op": "patch"
      }
     ],
     "key": "language_info",
     "op": "patch"
    }
   ]
  }
 },
 "nbformat": 4,
 "nbformat_minor": 5
}
