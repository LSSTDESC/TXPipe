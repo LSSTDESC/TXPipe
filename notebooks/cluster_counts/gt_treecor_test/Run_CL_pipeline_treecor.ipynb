{
 "cells": [
  {
   "cell_type": "code",
   "execution_count": 1,
   "id": "adbec32f-9dc4-4169-b0e3-4b5ef28076eb",
   "metadata": {},
   "outputs": [],
   "source": [
    "%load_ext autoreload\n",
    "%autoreload 2"
   ]
  },
  {
   "cell_type": "code",
   "execution_count": 2,
   "id": "2edf6e90",
   "metadata": {
    "tags": []
   },
   "outputs": [],
   "source": [
    "import os\n",
    "from pprint import pprint\n",
    "\n",
    "import ceci\n",
    "import h5py\n",
    "\n",
    "%matplotlib inline\n",
    "import matplotlib.pyplot as plt\n",
    "import numpy as np\n",
    "import yaml\n",
    "from IPython.display import Image\n",
    "from astropy.table import Table\n",
    "\n",
    "import re\n",
    "import sacc"
   ]
  },
  {
   "cell_type": "markdown",
   "id": "8fe12a8c",
   "metadata": {},
   "source": [
    "Make sure to change your path in the next cell that leads to your TXPipe directory. See examples for IN2P3 and NERSC below."
   ]
  },
  {
   "cell_type": "code",
   "execution_count": 3,
   "id": "5eebecd8",
   "metadata": {
    "tags": []
   },
   "outputs": [],
   "source": [
    "# user specific paths -- IN2P3 example\n",
    "#my_txpipe_dir = \"/sps/lsst/users/ebarroso/TXPipe/\"\n",
    "my_txpipe_dir = \"/global/homes/e/edujb/TXPipe/\"\n",
    "import sys\n",
    "sys.path.insert(0, my_txpipe_dir) \n",
    "# user specific paths -- NERSC example\n",
    "# my_txpipe_dir = \"/pscratch/sd/a/avestruz/TXPipe\"\n",
    "\n",
    "#os.chdir(my_txpipe_dir)\n",
    "\n",
    "import txpipe"
   ]
  },
  {
   "cell_type": "markdown",
   "id": "b670e283",
   "metadata": {},
   "source": [
    "___"
   ]
  },
  {
   "cell_type": "code",
   "execution_count": 4,
   "id": "9d3d1e18-eec5-469c-9952-9d0868a2cc2e",
   "metadata": {},
   "outputs": [],
   "source": [
    "step1 = txpipe.TXSourceSelectorMetadetect.make_stage(\n",
    "    # This file is the input metadetect shear catalog\n",
    "    shear_catalog=f\"{my_txpipe_dir}/data/example/inputs/metadetect_shear_catalog.hdf5\",\n",
    "    # This is an input training set for the tomographic selection\n",
    "    calibration_table=f\"{my_txpipe_dir}data/example/inputs/sample_cosmodc2_w10year_errors.dat\",\n",
    "\n",
    "    # This contains all the options for this stage. You can override them here\n",
    "    # manually too.\n",
    "    config=f\"{my_txpipe_dir}/examples/metadetect/config.yml\",\n",
    "\n",
    "    # This is the output file for this stage\n",
    "    shear_tomography_catalog=f\"{my_txpipe_dir}/data/example/outputs_metadetect/shear_tomography_catalog.hdf5\"\n",
    ")"
   ]
  },
  {
   "cell_type": "code",
   "execution_count": 5,
   "id": "c5e6e548-7d43-43fb-93d7-debaedd9882c",
   "metadata": {},
   "outputs": [
    {
     "name": "stdout",
     "output_type": "stream",
     "text": [
      "Process 0 running selection for rows 0-82,200\n"
     ]
    }
   ],
   "source": [
    "step1.run()\n",
    "step1.finalize()"
   ]
  },
  {
   "cell_type": "code",
   "execution_count": 6,
   "id": "073b332a-ace9-4e27-9c6e-e1c9807bd2e0",
   "metadata": {},
   "outputs": [],
   "source": [
    "step2 = txpipe.CLClusterBinningRedshiftRichness.make_stage(\n",
    "    # This file is the input metadetect shear catalog\n",
    "    cluster_catalog=f\"{my_txpipe_dir}data/example/inputs/cluster_catalog.hdf5\",\n",
    "    # This is an input training set for the tomographic selection\n",
    "\n",
    "    # This contains all the options for this stage. You can override them here\n",
    "    # manually too.\n",
    "    config=f\"{my_txpipe_dir}/notebooks/cluster_counts/gt_treecor_test/config-1deg2-CL.yml\",\n",
    "\n",
    "    # This is the output file for this stage\n",
    "    cluster_catalog_tomography=f\"{my_txpipe_dir}/data/example/output_binning/cluster_catalog_tomography.hdf5\"\n",
    ")\n",
    "\n"
   ]
  },
  {
   "cell_type": "code",
   "execution_count": 7,
   "id": "e4dc452e-f860-4b46-b141-ccb2243dc752",
   "metadata": {},
   "outputs": [],
   "source": [
    "step2.run()\n",
    "step2.finalize()"
   ]
  },
  {
   "cell_type": "code",
   "execution_count": 8,
   "id": "3e7eb73a-2bb5-4910-9596-5400ff185862",
   "metadata": {},
   "outputs": [],
   "source": [
    "step3 = txpipe.TXShearCalibration.make_stage(\n",
    "    # This file is the input metadetect shear catalog\n",
    "    shear_catalog=f\"{my_txpipe_dir}/data/example/inputs/metadetect_shear_catalog.hdf5\",\n",
    "    shear_tomography_catalog=f\"{my_txpipe_dir}/data/example/outputs_metadetect/shear_tomography_catalog.hdf5\",\n",
    "    binned_shear_catalog=f\"{my_txpipe_dir}data/example/output_shearcalib/binned_shear_catalog.hdf5\",\n",
    ")"
   ]
  },
  {
   "cell_type": "code",
   "execution_count": 9,
   "id": "87c878d4-41aa-4658-8c9b-d3c5d969c7fa",
   "metadata": {},
   "outputs": [
    {
     "name": "stdout",
     "output_type": "stream",
     "text": [
      "Copying extra columns:  []\n",
      "Copying magnitude:  ['mag_i', 'mag_r', 'mag_z', 'mag_err_i', 'mag_err_r', 'mag_err_z']\n",
      "Using calibration method: MetaDetectCalibrator\n",
      "Reading these columns from the 'shear' group:\n",
      " - 00/g1\n",
      " - 00/g2\n",
      " - 00/ra\n",
      " - 00/dec\n",
      " - 00/weight\n",
      " - 00/mag_i\n",
      " - 00/mag_r\n",
      " - 00/mag_z\n",
      " - 00/mag_err_i\n",
      " - 00/mag_err_r\n",
      " - 00/mag_err_z\n",
      "Renaming these columns:\n",
      " - 00/g1 -> g1\n",
      " - 00/g2 -> g2\n",
      " - 00/ra -> ra\n",
      " - 00/dec -> dec\n",
      " - 00/weight -> weight\n",
      " - 00/mag_i -> mag_i\n",
      " - 00/mag_r -> mag_r\n",
      " - 00/mag_z -> mag_z\n",
      " - 00/mag_err_i -> mag_err_i\n",
      " - 00/mag_err_r -> mag_err_r\n",
      " - 00/mag_err_z -> mag_err_z\n",
      "Process 0 collating bins: [0, 1, 2, 3, all]\n",
      "Rank 0 processing data 0 - 82,200\n"
     ]
    }
   ],
   "source": [
    "step3.run()\n",
    "step3.finalize()"
   ]
  },
  {
   "cell_type": "code",
   "execution_count": 10,
   "id": "cc8203a2-38e5-4414-b1ac-1b7e878d8958",
   "metadata": {},
   "outputs": [
    {
     "name": "stdout",
     "output_type": "stream",
     "text": [
      "Redshift bin 1 has 28 clusters.\n"
     ]
    }
   ],
   "source": [
    "path = \"/global/homes/e/edujb/TXPipe/cluster_catalog_tomography.hdf5\"\n",
    "\n",
    "with h5py.File(path, \"r\") as f:\n",
    "    zbin_groups = {}\n",
    "    \n",
    "    # Iterate through all subgroups under cluster_bin\n",
    "    for name in f[\"cluster_bin\"].keys():\n",
    "        if name.startswith(\"bin_zbin_\"):\n",
    "            # Extract redshift bin index\n",
    "            zbin = name.split(\"_richbin_\")[0].replace(\"bin_zbin_\", \"\")\n",
    "            if zbin not in zbin_groups:\n",
    "                zbin_groups[zbin] = []\n",
    "            zbin_groups[zbin].append(f[\"cluster_bin\"][name])\n",
    "    \n",
    "    # Now combine data for each zbin\n",
    "    clusters_by_zbin = {}\n",
    "    for zbin, groups in zbin_groups.items():\n",
    "        combined = {}\n",
    "        for g in groups:\n",
    "            for key in g.keys():\n",
    "                if key not in combined:\n",
    "                    combined[key] = np.array(g[key])\n",
    "                else:\n",
    "                    combined[key] = np.concatenate([combined[key], np.array(g[key])])\n",
    "        clusters_by_zbin[zbin] = combined\n",
    "\n",
    "# Example: Access zbin_1 data\n",
    "ra_z1 = clusters_by_zbin[\"1\"][\"ra\"]\n",
    "dec_z1 = clusters_by_zbin[\"1\"][\"dec\"]\n",
    "print(f\"Redshift bin 1 has {len(ra_z1)} clusters.\")"
   ]
  },
  {
   "cell_type": "code",
   "execution_count": 11,
   "id": "16b401f6-d74e-4813-b87b-85c0802c97cb",
   "metadata": {},
   "outputs": [
    {
     "name": "stdout",
     "output_type": "stream",
     "text": [
      "cluster_bin\n",
      "cluster_bin/bin_zbin_0_richbin_0\n",
      "cluster_bin/bin_zbin_0_richbin_0/cluster_id\n",
      "cluster_bin/bin_zbin_0_richbin_0/dec\n",
      "cluster_bin/bin_zbin_0_richbin_0/ra\n",
      "cluster_bin/bin_zbin_0_richbin_0/redshift\n",
      "cluster_bin/bin_zbin_0_richbin_0/redshift_err\n",
      "cluster_bin/bin_zbin_0_richbin_0/richness\n",
      "cluster_bin/bin_zbin_0_richbin_0/richness_err\n",
      "cluster_bin/bin_zbin_0_richbin_0/scaleval\n",
      "cluster_bin/bin_zbin_0_richbin_1\n",
      "cluster_bin/bin_zbin_0_richbin_1/cluster_id\n",
      "cluster_bin/bin_zbin_0_richbin_1/dec\n",
      "cluster_bin/bin_zbin_0_richbin_1/ra\n",
      "cluster_bin/bin_zbin_0_richbin_1/redshift\n",
      "cluster_bin/bin_zbin_0_richbin_1/redshift_err\n",
      "cluster_bin/bin_zbin_0_richbin_1/richness\n",
      "cluster_bin/bin_zbin_0_richbin_1/richness_err\n",
      "cluster_bin/bin_zbin_0_richbin_1/scaleval\n",
      "cluster_bin/bin_zbin_1_richbin_0\n",
      "cluster_bin/bin_zbin_1_richbin_0/cluster_id\n",
      "cluster_bin/bin_zbin_1_richbin_0/dec\n",
      "cluster_bin/bin_zbin_1_richbin_0/ra\n",
      "cluster_bin/bin_zbin_1_richbin_0/redshift\n",
      "cluster_bin/bin_zbin_1_richbin_0/redshift_err\n",
      "cluster_bin/bin_zbin_1_richbin_0/richness\n",
      "cluster_bin/bin_zbin_1_richbin_0/richness_err\n",
      "cluster_bin/bin_zbin_1_richbin_0/scaleval\n",
      "cluster_bin/bin_zbin_1_richbin_1\n",
      "cluster_bin/bin_zbin_1_richbin_1/cluster_id\n",
      "cluster_bin/bin_zbin_1_richbin_1/dec\n",
      "cluster_bin/bin_zbin_1_richbin_1/ra\n",
      "cluster_bin/bin_zbin_1_richbin_1/redshift\n",
      "cluster_bin/bin_zbin_1_richbin_1/redshift_err\n",
      "cluster_bin/bin_zbin_1_richbin_1/richness\n",
      "cluster_bin/bin_zbin_1_richbin_1/richness_err\n",
      "cluster_bin/bin_zbin_1_richbin_1/scaleval\n",
      "cluster_bin/bin_zbin_2_richbin_0\n",
      "cluster_bin/bin_zbin_2_richbin_0/cluster_id\n",
      "cluster_bin/bin_zbin_2_richbin_0/dec\n",
      "cluster_bin/bin_zbin_2_richbin_0/ra\n",
      "cluster_bin/bin_zbin_2_richbin_0/redshift\n",
      "cluster_bin/bin_zbin_2_richbin_0/redshift_err\n",
      "cluster_bin/bin_zbin_2_richbin_0/richness\n",
      "cluster_bin/bin_zbin_2_richbin_0/richness_err\n",
      "cluster_bin/bin_zbin_2_richbin_0/scaleval\n",
      "cluster_bin/bin_zbin_2_richbin_1\n",
      "cluster_bin/bin_zbin_2_richbin_1/cluster_id\n",
      "cluster_bin/bin_zbin_2_richbin_1/dec\n",
      "cluster_bin/bin_zbin_2_richbin_1/ra\n",
      "cluster_bin/bin_zbin_2_richbin_1/redshift\n",
      "cluster_bin/bin_zbin_2_richbin_1/redshift_err\n",
      "cluster_bin/bin_zbin_2_richbin_1/richness\n",
      "cluster_bin/bin_zbin_2_richbin_1/richness_err\n",
      "cluster_bin/bin_zbin_2_richbin_1/scaleval\n",
      "provenance\n",
      "[0.25462273 0.23431362 0.28674597 0.34493634 0.24044088]\n"
     ]
    }
   ],
   "source": [
    "cluster_tomo = h5py.File(f\"{my_txpipe_dir}/data/example/output_binning/cluster_catalog_tomography.hdf5\")\n",
    "#print(cluster_tomo[\"cluster_bin\"][0])\n",
    "\n",
    "\n",
    "with h5py.File(\"/global/homes/e/edujb/TXPipe/cluster_catalog_tomography.hdf5\", \"r\") as f:\n",
    "    def print_structure(name):\n",
    "        print(name)\n",
    "    f.visit(print_structure)\n",
    "    print(f[\"cluster_bin/bin_zbin_0_richbin_0/redshift\"][:])"
   ]
  },
  {
   "cell_type": "code",
   "execution_count": 22,
   "id": "a7c432f8-da69-4f18-a1d9-2eaf5e55ce74",
   "metadata": {},
   "outputs": [],
   "source": [
    "step3 = txpipe.extensions.cluster_counts.TXTwoPointRLens.make_stage(\n",
    "    # This file is the input metadetect shear catalog\n",
    "    binned_lens_catalog=f\"{my_txpipe_dir}cluster_catalog_tomography.hdf5\",\n",
    "    # This is an input training set for the tomographic selection\n",
    "    binned_shear_catalog=f\"{my_txpipe_dir}data/example/output_shearcalib/binned_shear_catalog.hdf5\",\n",
    "    binned_random_catalog=f\"{my_txpipe_dir}cluster_catalog_tomography.hdf5\",\n",
    "    patch_centers=f\"{my_txpipe_dir}cluster_catalog_tomography.hdf5\",\n",
    "    tracer_metadata=f\"{my_txpipe_dir}cluster_catalog_tomography.hdf5\",\n",
    "    use_randoms= False,\n",
    "    output_dir=f\"{my_txpipe_dir}data/example/output_binning/\",\n",
    "    metric=\"Euclidean\",\n",
    "    var_method=\"shot\"\n",
    ")"
   ]
  },
  {
   "cell_type": "code",
   "execution_count": 23,
   "id": "81801925-4343-4e7a-9866-9df35ef8f8f2",
   "metadata": {},
   "outputs": [
    {
     "name": "stdout",
     "output_type": "stream",
     "text": [
      "Running with 4 source bins and 6 lens bins\n",
      "Running TreeCorr with metric \"Euclidean\"\n",
      "DOING SHEAR-POS\n",
      "Running 24 calculations: [(0, 0, 1), (0, 1, 1), (0, 2, 1), (0, 3, 1), (0, 4, 1), (0, 5, 1), (1, 0, 1), (1, 1, 1), (1, 2, 1), (1, 3, 1), (1, 4, 1), (1, 5, 1), (2, 0, 1), (2, 1, 1), (2, 2, 1), (2, 3, 1), (2, 4, 1), (2, 5, 1), (3, 0, 1), (3, 1, 1), (3, 2, 1), (3, 3, 1), (3, 4, 1), (3, 5, 1)]\n",
      "Rank 0 making patches for shear catalog bin 0\n",
      "Patches already done for cache/patches/TXTwoPointRLensbinned_shear_catalog_4206620e42794f3f853ba2e1a68ff289/0\n",
      "Rank 0 making patches for position catalog bin 0\n",
      "Patches already done for cache/patches/TXTwoPointRLensbinned_lens_catalog_8de35c2d194c44b98232fe45139f53c4/0\n",
      "Rank 0 making patches for shear catalog bin 1\n",
      "Patches already done for cache/patches/TXTwoPointRLensbinned_shear_catalog_4206620e42794f3f853ba2e1a68ff289/1\n",
      "Rank 0 making patches for position catalog bin 1\n",
      "Patches already done for cache/patches/TXTwoPointRLensbinned_lens_catalog_8de35c2d194c44b98232fe45139f53c4/1\n",
      "Rank 0 making patches for shear catalog bin 2\n",
      "Patches already done for cache/patches/TXTwoPointRLensbinned_shear_catalog_4206620e42794f3f853ba2e1a68ff289/2\n",
      "Rank 0 making patches for position catalog bin 2\n",
      "Patches already done for cache/patches/TXTwoPointRLensbinned_lens_catalog_8de35c2d194c44b98232fe45139f53c4/2\n",
      "Rank 0 making patches for shear catalog bin 3\n",
      "Patches already done for cache/patches/TXTwoPointRLensbinned_shear_catalog_4206620e42794f3f853ba2e1a68ff289/3\n",
      "Rank 0 making patches for position catalog bin 3\n",
      "Patches already done for cache/patches/TXTwoPointRLensbinned_lens_catalog_8de35c2d194c44b98232fe45139f53c4/3\n",
      "Rank 0 making patches for position catalog bin 4\n",
      "Patches already done for cache/patches/TXTwoPointRLensbinned_lens_catalog_8de35c2d194c44b98232fe45139f53c4/4\n",
      "Rank 0 making patches for position catalog bin 5\n",
      "Patches already done for cache/patches/TXTwoPointRLensbinned_lens_catalog_8de35c2d194c44b98232fe45139f53c4/5\n",
      "Calculating shear-position bin pair (0,0): 2164 x 5 objects, 0 randoms\n",
      "Processing took 0.1 seconds\n",
      "Calculating shear-position bin pair (0,1): 2164 x 3 objects, 0 randoms\n",
      "Processing took 0.1 seconds\n",
      "Calculating shear-position bin pair (0,2): 2164 x 20 objects, 0 randoms\n",
      "Processing took 0.1 seconds\n",
      "Calculating shear-position bin pair (0,3): 2164 x 8 objects, 0 randoms\n",
      "Processing took 0.0 seconds\n",
      "Calculating shear-position bin pair (0,4): 2164 x 13 objects, 0 randoms\n",
      "Processing took 0.1 seconds\n",
      "Calculating shear-position bin pair (0,5): 2164 x 8 objects, 0 randoms\n",
      "Processing took 0.0 seconds\n",
      "Calculating shear-position bin pair (1,0): 2205 x 5 objects, 0 randoms\n",
      "Processing took 0.0 seconds\n",
      "Calculating shear-position bin pair (1,1): 2205 x 3 objects, 0 randoms\n",
      "Processing took 0.1 seconds\n",
      "Calculating shear-position bin pair (1,2): 2205 x 20 objects, 0 randoms\n",
      "Processing took 0.1 seconds\n",
      "Calculating shear-position bin pair (1,3): 2205 x 8 objects, 0 randoms\n",
      "Processing took 0.1 seconds\n",
      "Calculating shear-position bin pair (1,4): 2205 x 13 objects, 0 randoms\n",
      "Processing took 0.1 seconds\n",
      "Calculating shear-position bin pair (1,5): 2205 x 8 objects, 0 randoms\n",
      "Processing took 0.1 seconds\n",
      "Calculating shear-position bin pair (2,0): 1847 x 5 objects, 0 randoms\n",
      "Processing took 0.0 seconds\n",
      "Calculating shear-position bin pair (2,1): 1847 x 3 objects, 0 randoms\n",
      "Processing took 0.1 seconds\n",
      "Calculating shear-position bin pair (2,2): 1847 x 20 objects, 0 randoms\n",
      "Processing took 0.1 seconds\n",
      "Calculating shear-position bin pair (2,3): 1847 x 8 objects, 0 randoms\n",
      "Processing took 0.0 seconds\n",
      "Calculating shear-position bin pair (2,4): 1847 x 13 objects, 0 randoms\n",
      "Processing took 0.0 seconds\n",
      "Calculating shear-position bin pair (2,5): 1847 x 8 objects, 0 randoms\n",
      "Processing took 0.1 seconds\n",
      "Calculating shear-position bin pair (3,0): 2883 x 5 objects, 0 randoms\n",
      "Processing took 0.1 seconds\n",
      "Calculating shear-position bin pair (3,1): 2883 x 3 objects, 0 randoms\n",
      "Processing took 0.0 seconds\n",
      "Calculating shear-position bin pair (3,2): 2883 x 20 objects, 0 randoms\n",
      "Processing took 0.1 seconds\n",
      "Calculating shear-position bin pair (3,3): 2883 x 8 objects, 0 randoms\n",
      "Processing took 0.1 seconds\n",
      "Calculating shear-position bin pair (3,4): 2883 x 13 objects, 0 randoms\n",
      "Processing took 0.1 seconds\n",
      "Calculating shear-position bin pair (3,5): 2883 x 8 objects, 0 randoms\n",
      "Processing took 0.1 seconds\n",
      "#i_bin  j_bin  mean_r_Mpc  rlens\n",
      "0 0 1.2427598742099695 0.0\n",
      "0 0 1.9193831036664843 0.0\n",
      "0 0 2.9643952746562157 0.0\n",
      "0 0 4.578366521835892 0.0\n",
      "0 0 7.071067811865475 0.0\n",
      "0 0 10.920925566254217 0.0\n",
      "0 0 16.866846478764057 0.0\n",
      "0 0 26.050036547934557 0.0\n",
      "0 0 40.233033780387636 0.0\n",
      "0 1 1.2427598742099695 0.0\n",
      "0 1 1.9193831036664843 0.0\n",
      "0 1 2.9643952746562157 0.0\n",
      "0 1 4.578366521835892 0.0\n",
      "0 1 7.071067811865475 0.0\n",
      "0 1 10.920925566254217 0.0\n",
      "0 1 16.866846478764057 0.0\n",
      "0 1 26.050036547934557 0.0\n",
      "0 1 40.233033780387636 0.0\n",
      "0 2 1.2427598742099695 0.0\n",
      "0 2 1.9193831036664843 0.0\n",
      "0 2 2.9643952746562157 0.0\n",
      "0 2 4.578366521835892 0.0\n",
      "0 2 7.071067811865475 0.0\n",
      "0 2 10.920925566254217 0.0\n",
      "0 2 16.866846478764057 0.0\n",
      "0 2 26.050036547934557 0.0\n",
      "0 2 40.233033780387636 0.0\n",
      "0 3 1.2427598742099695 0.0\n",
      "0 3 1.9193831036664843 0.0\n",
      "0 3 2.9643952746562157 0.0\n",
      "0 3 4.578366521835892 0.0\n",
      "0 3 7.071067811865475 0.0\n",
      "0 3 10.920925566254217 0.0\n",
      "0 3 16.866846478764057 0.0\n",
      "0 3 26.050036547934557 0.0\n",
      "0 3 40.233033780387636 0.0\n",
      "0 4 1.2427598742099695 0.0\n",
      "0 4 1.9193831036664843 0.0\n",
      "0 4 2.9643952746562157 0.0\n",
      "0 4 4.578366521835892 0.0\n",
      "0 4 7.071067811865475 0.0\n",
      "0 4 10.920925566254217 0.0\n",
      "0 4 16.866846478764057 0.0\n",
      "0 4 26.050036547934557 0.0\n",
      "0 4 40.233033780387636 0.0\n",
      "0 5 1.2427598742099695 0.0\n",
      "0 5 1.9193831036664843 0.0\n",
      "0 5 2.9643952746562157 0.0\n",
      "0 5 4.578366521835892 0.0\n",
      "0 5 7.071067811865475 0.0\n",
      "0 5 10.920925566254217 0.0\n",
      "0 5 16.866846478764057 0.0\n",
      "0 5 26.050036547934557 0.0\n",
      "0 5 40.233033780387636 0.0\n",
      "1 0 1.2427598742099695 0.0\n",
      "1 0 1.9193831036664843 0.0\n",
      "1 0 2.9643952746562157 0.0\n",
      "1 0 4.578366521835892 0.0\n",
      "1 0 7.071067811865475 0.0\n",
      "1 0 10.920925566254217 0.0\n",
      "1 0 16.866846478764057 0.0\n",
      "1 0 26.050036547934557 0.0\n",
      "1 0 40.233033780387636 0.0\n",
      "1 1 1.2427598742099695 0.0\n",
      "1 1 1.9193831036664843 0.0\n",
      "1 1 2.9643952746562157 0.0\n",
      "1 1 4.578366521835892 0.0\n",
      "1 1 7.071067811865475 0.0\n",
      "1 1 10.920925566254217 0.0\n",
      "1 1 16.866846478764057 0.0\n",
      "1 1 26.050036547934557 0.0\n",
      "1 1 40.233033780387636 0.0\n",
      "1 2 1.2427598742099695 0.0\n",
      "1 2 1.9193831036664843 0.0\n",
      "1 2 2.9643952746562157 0.0\n",
      "1 2 4.578366521835892 0.0\n",
      "1 2 7.071067811865475 0.0\n",
      "1 2 10.920925566254217 0.0\n",
      "1 2 16.866846478764057 0.0\n",
      "1 2 26.050036547934557 0.0\n",
      "1 2 40.233033780387636 0.0\n",
      "1 3 1.2427598742099695 0.0\n",
      "1 3 1.9193831036664843 0.0\n",
      "1 3 2.9643952746562157 0.0\n",
      "1 3 4.578366521835892 0.0\n",
      "1 3 7.071067811865475 0.0\n",
      "1 3 10.920925566254217 0.0\n",
      "1 3 16.866846478764057 0.0\n",
      "1 3 26.050036547934557 0.0\n",
      "1 3 40.233033780387636 0.0\n",
      "1 4 1.2427598742099695 0.0\n",
      "1 4 1.9193831036664843 0.0\n",
      "1 4 2.9643952746562157 0.0\n",
      "1 4 4.578366521835892 0.0\n",
      "1 4 7.071067811865475 0.0\n",
      "1 4 10.920925566254217 0.0\n",
      "1 4 16.866846478764057 0.0\n",
      "1 4 26.050036547934557 0.0\n",
      "1 4 40.233033780387636 0.0\n",
      "1 5 1.2427598742099695 0.0\n",
      "1 5 1.9193831036664843 0.0\n",
      "1 5 2.9643952746562157 0.0\n",
      "1 5 4.578366521835892 0.0\n",
      "1 5 7.071067811865475 0.0\n",
      "1 5 10.920925566254217 0.0\n",
      "1 5 16.866846478764057 0.0\n",
      "1 5 26.050036547934557 0.0\n",
      "1 5 40.233033780387636 0.0\n",
      "2 0 1.2427598742099695 0.0\n",
      "2 0 1.9193831036664843 0.0\n",
      "2 0 2.9643952746562157 0.0\n",
      "2 0 4.578366521835892 0.0\n",
      "2 0 7.071067811865475 0.0\n",
      "2 0 10.920925566254217 0.0\n",
      "2 0 16.866846478764057 0.0\n",
      "2 0 26.050036547934557 0.0\n",
      "2 0 40.233033780387636 0.0\n",
      "2 1 1.2427598742099695 0.0\n",
      "2 1 1.9193831036664843 0.0\n",
      "2 1 2.9643952746562157 0.0\n",
      "2 1 4.578366521835892 0.0\n",
      "2 1 7.071067811865475 0.0\n",
      "2 1 10.920925566254217 0.0\n",
      "2 1 16.866846478764057 0.0\n",
      "2 1 26.050036547934557 0.0\n",
      "2 1 40.233033780387636 0.0\n",
      "2 2 1.2427598742099695 0.0\n",
      "2 2 1.9193831036664843 0.0\n",
      "2 2 2.9643952746562157 0.0\n",
      "2 2 4.578366521835892 0.0\n",
      "2 2 7.071067811865475 0.0\n",
      "2 2 10.920925566254217 0.0\n",
      "2 2 16.866846478764057 0.0\n",
      "2 2 26.050036547934557 0.0\n",
      "2 2 40.233033780387636 0.0\n",
      "2 3 1.2427598742099695 0.0\n",
      "2 3 1.9193831036664843 0.0\n",
      "2 3 2.9643952746562157 0.0\n",
      "2 3 4.578366521835892 0.0\n",
      "2 3 7.071067811865475 0.0\n",
      "2 3 10.920925566254217 0.0\n",
      "2 3 16.866846478764057 0.0\n",
      "2 3 26.050036547934557 0.0\n",
      "2 3 40.233033780387636 0.0\n",
      "2 4 1.2427598742099695 0.0\n",
      "2 4 1.9193831036664843 0.0\n",
      "2 4 2.9643952746562157 0.0\n",
      "2 4 4.578366521835892 0.0\n",
      "2 4 7.071067811865475 0.0\n",
      "2 4 10.920925566254217 0.0\n",
      "2 4 16.866846478764057 0.0\n",
      "2 4 26.050036547934557 0.0\n",
      "2 4 40.233033780387636 0.0\n",
      "2 5 1.2427598742099695 0.0\n",
      "2 5 1.9193831036664843 0.0\n",
      "2 5 2.9643952746562157 0.0\n",
      "2 5 4.578366521835892 0.0\n",
      "2 5 7.071067811865475 0.0\n",
      "2 5 10.920925566254217 0.0\n",
      "2 5 16.866846478764057 0.0\n",
      "2 5 26.050036547934557 0.0\n",
      "2 5 40.233033780387636 0.0\n",
      "3 0 1.2427598742099695 0.0\n",
      "3 0 1.9193831036664843 0.0\n",
      "3 0 2.9643952746562157 0.0\n",
      "3 0 4.578366521835892 0.0\n",
      "3 0 7.071067811865475 0.0\n",
      "3 0 10.920925566254217 0.0\n",
      "3 0 16.866846478764057 0.0\n",
      "3 0 26.050036547934557 0.0\n",
      "3 0 40.233033780387636 0.0\n",
      "3 1 1.2427598742099695 0.0\n",
      "3 1 1.9193831036664843 0.0\n",
      "3 1 2.9643952746562157 0.0\n",
      "3 1 4.578366521835892 0.0\n",
      "3 1 7.071067811865475 0.0\n",
      "3 1 10.920925566254217 0.0\n",
      "3 1 16.866846478764057 0.0\n",
      "3 1 26.050036547934557 0.0\n",
      "3 1 40.233033780387636 0.0\n",
      "3 2 1.2427598742099695 0.0\n",
      "3 2 1.9193831036664843 0.0\n",
      "3 2 2.9643952746562157 0.0\n",
      "3 2 4.578366521835892 0.0\n",
      "3 2 7.071067811865475 0.0\n",
      "3 2 10.920925566254217 0.0\n",
      "3 2 16.866846478764057 0.0\n",
      "3 2 26.050036547934557 0.0\n",
      "3 2 40.233033780387636 0.0\n",
      "3 3 1.2427598742099695 0.0\n",
      "3 3 1.9193831036664843 0.0\n",
      "3 3 2.9643952746562157 0.0\n",
      "3 3 4.578366521835892 0.0\n",
      "3 3 7.071067811865475 0.0\n",
      "3 3 10.920925566254217 0.0\n",
      "3 3 16.866846478764057 0.0\n",
      "3 3 26.050036547934557 0.0\n",
      "3 3 40.233033780387636 0.0\n",
      "3 4 1.2427598742099695 0.0\n",
      "3 4 1.9193831036664843 0.0\n",
      "3 4 2.9643952746562157 0.0\n",
      "3 4 4.578366521835892 0.0\n",
      "3 4 7.071067811865475 0.0\n",
      "3 4 10.920925566254217 0.0\n",
      "3 4 16.866846478764057 0.0\n",
      "3 4 26.050036547934557 0.0\n",
      "3 4 40.233033780387636 0.0\n",
      "3 5 1.2427598742099695 0.0\n",
      "3 5 1.9193831036664843 0.0\n",
      "3 5 2.9643952746562157 0.0\n",
      "3 5 4.578366521835892 0.0\n",
      "3 5 7.071067811865475 0.0\n",
      "3 5 10.920925566254217 0.0\n",
      "3 5 16.866846478764057 0.0\n",
      "3 5 26.050036547934557 0.0\n",
      "3 5 40.233033780387636 0.0\n"
     ]
    },
    {
     "name": "stderr",
     "output_type": "stream",
     "text": [
      "NOTE/WARNING: Expected output file cluster_shear_catalogs.hdf5 was not generated.\n"
     ]
    }
   ],
   "source": [
    "step3.run()\n",
    "step3.finalize()"
   ]
  }
 ],
 "metadata": {
  "kernelspec": {
   "display_name": "Txpipe_clp",
   "language": "python",
   "name": "txpipe_clp"
  },
  "language_info": {
   "codemirror_mode": {
    "name": "ipython",
    "version": 3
   },
   "file_extension": ".py",
   "mimetype": "text/x-python",
   "name": "python",
   "nbconvert_exporter": "python",
   "pygments_lexer": "ipython3",
   "version": "3.10.18"
  },
  "nbdime-conflicts": {
   "local_diff": [
    {
     "diff": [
      {
       "diff": [
        {
         "key": 0,
         "op": "addrange",
         "valuelist": [
          "clmm"
         ]
        },
        {
         "key": 0,
         "length": 1,
         "op": "removerange"
        }
       ],
       "key": "display_name",
       "op": "patch"
      },
      {
       "diff": [
        {
         "key": 0,
         "op": "addrange",
         "valuelist": [
          "clmm"
         ]
        },
        {
         "key": 0,
         "length": 1,
         "op": "removerange"
        }
       ],
       "key": "name",
       "op": "patch"
      }
     ],
     "key": "kernelspec",
     "op": "patch"
    },
    {
     "diff": [
      {
       "diff": [
        {
         "diff": [
          {
           "key": 5,
           "length": 1,
           "op": "removerange"
          }
         ],
         "key": 0,
         "op": "patch"
        }
       ],
       "key": "version",
       "op": "patch"
      }
     ],
     "key": "language_info",
     "op": "patch"
    }
   ],
   "remote_diff": [
    {
     "diff": [
      {
       "diff": [
        {
         "key": 0,
         "op": "addrange",
         "valuelist": [
          "Python (firecrown2.0)"
         ]
        },
        {
         "key": 0,
         "length": 1,
         "op": "removerange"
        }
       ],
       "key": "display_name",
       "op": "patch"
      },
      {
       "diff": [
        {
         "key": 0,
         "op": "addrange",
         "valuelist": [
          "firecrown"
         ]
        },
        {
         "key": 0,
         "length": 1,
         "op": "removerange"
        }
       ],
       "key": "name",
       "op": "patch"
      }
     ],
     "key": "kernelspec",
     "op": "patch"
    },
    {
     "diff": [
      {
       "diff": [
        {
         "key": 0,
         "length": 1,
         "op": "removerange"
        }
       ],
       "key": "version",
       "op": "patch"
      }
     ],
     "key": "language_info",
     "op": "patch"
    }
   ]
  }
 },
 "nbformat": 4,
 "nbformat_minor": 5
}
