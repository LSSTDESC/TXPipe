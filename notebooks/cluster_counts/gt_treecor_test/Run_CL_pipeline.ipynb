{
 "cells": [
  {
   "cell_type": "markdown",
   "id": "709caa5a",
   "metadata": {
    "tags": []
   },
   "source": [
    "*This notebook was developed by Marina Ricci for the DESC CL_Cosmo_Pipeline team.*\n",
    "# This notebook aims at presenting the cluster pipeline for \n",
    "# stacked $\\Delta\\Sigma$ profiles and counts in richness/redshift bins.\n",
    "\n",
    "It is meant to be run independently. If you already produced the necessary outputs `ceci` will use them, and otherwise create them.\n",
    "\n",
    "___"
   ]
  },
  {
   "cell_type": "code",
   "execution_count": 2,
   "id": "adbec32f-9dc4-4169-b0e3-4b5ef28076eb",
   "metadata": {},
   "outputs": [],
   "source": [
    "%load_ext autoreload\n",
    "%autoreload 2"
   ]
  },
  {
   "cell_type": "code",
   "execution_count": 3,
   "id": "2edf6e90",
   "metadata": {
    "tags": []
   },
   "outputs": [],
   "source": [
    "import os\n",
    "from pprint import pprint\n",
    "\n",
    "import ceci\n",
    "import h5py\n",
    "\n",
    "%matplotlib inline\n",
    "import matplotlib.pyplot as plt\n",
    "import numpy as np\n",
    "import yaml\n",
    "from IPython.display import Image\n",
    "from astropy.table import Table\n",
    "\n",
    "import re\n",
    "import sacc"
   ]
  },
  {
   "cell_type": "markdown",
   "id": "8fe12a8c",
   "metadata": {},
   "source": [
    "Make sure to change your path in the next cell that leads to your TXPipe directory. See examples for IN2P3 and NERSC below."
   ]
  },
  {
   "cell_type": "code",
   "execution_count": 5,
   "id": "5eebecd8",
   "metadata": {
    "tags": []
   },
   "outputs": [],
   "source": [
    "# user specific paths -- IN2P3 example\n",
    "my_txpipe_dir = \"/sps/lsst/users/ebarroso/TXPipe/\"\n",
    "\n",
    "# user specific paths -- NERSC example\n",
    "# my_txpipe_dir = \"/pscratch/sd/a/avestruz/TXPipe\"\n",
    "\n",
    "os.chdir(my_txpipe_dir)\n",
    "\n",
    "import txpipe"
   ]
  },
  {
   "cell_type": "markdown",
   "id": "b670e283",
   "metadata": {},
   "source": [
    "___"
   ]
  },
  {
   "cell_type": "code",
   "execution_count": 4,
   "id": "9d3d1e18-eec5-469c-9952-9d0868a2cc2e",
   "metadata": {},
   "outputs": [],
   "source": [
    "step1 = txpipe.TXSourceSelectorMetadetect.make_stage(\n",
    "    # This file is the input metadetect shear catalog\n",
    "    shear_catalog=f\"{my_txpipe_dir}/data/example/inputs/metadetect_shear_catalog.hdf5\",\n",
    "    # This is an input training set for the tomographic selection\n",
    "    calibration_table=f\"{my_txpipe_dir}data/example/inputs/sample_cosmodc2_w10year_errors.dat\",\n",
    "\n",
    "    # This contains all the options for this stage. You can override them here\n",
    "    # manually too.\n",
    "    config=f\"{my_txpipe_dir}/examples/metadetect/config.yml\",\n",
    "\n",
    "    # This is the output file for this stage\n",
    "    output_dir=f\"{my_txpipe_dir}/data/example/outputs_metadetect/\"\n",
    ")"
   ]
  },
  {
   "cell_type": "code",
   "execution_count": 5,
   "id": "c5e6e548-7d43-43fb-93d7-debaedd9882c",
   "metadata": {},
   "outputs": [
    {
     "name": "stdout",
     "output_type": "stream",
     "text": [
      "Process 0 running selection for rows 0-82,200\n"
     ]
    }
   ],
   "source": [
    "step1.run()\n",
    "step1.finalize()"
   ]
  },
  {
   "cell_type": "code",
   "execution_count": 6,
   "id": "073b332a-ace9-4e27-9c6e-e1c9807bd2e0",
   "metadata": {},
   "outputs": [],
   "source": [
    "step2 = txpipe.CLClusterBinningRedshiftRichness.make_stage(\n",
    "    # This file is the input metadetect shear catalog\n",
    "    cluster_catalog=f\"{my_txpipe_dir}data/example/inputs/cluster_catalog.hdf5\",\n",
    "    # This is an input training set for the tomographic selection\n",
    "\n",
    "    # This contains all the options for this stage. You can override them here\n",
    "    # manually too.\n",
    "    config=f\"{my_txpipe_dir}/notebooks/cluster_counts/gt_treecor_test/config-1deg2-CL.yml\",\n",
    "\n",
    "    # This is the output file for this stage\n",
    "    output_dir=f\"{my_txpipe_dir}/data/example/output_binning/\"\n",
    ")\n",
    "\n"
   ]
  },
  {
   "cell_type": "code",
   "execution_count": 7,
   "id": "e4dc452e-f860-4b46-b141-ccb2243dc752",
   "metadata": {},
   "outputs": [],
   "source": [
    "step2.run()\n",
    "step2.finalize()"
   ]
  },
  {
   "cell_type": "code",
   "execution_count": 8,
   "id": "a7c432f8-da69-4f18-a1d9-2eaf5e55ce74",
   "metadata": {},
   "outputs": [],
   "source": [
    "step3 = txpipe.extensions.cluster_counts.TXTwoPointCluster.make_stage(\n",
    "    # This file is the input metadetect shear catalog\n",
    "    binned_lens_catalog=f\"{my_txpipe_dir}cluster_catalog_tomography.hdf5\",\n",
    "    # This is an input training set for the tomographic selection\n",
    "    binned_shear_catalog=f\"{my_txpipe_dir}shear_tomography_catalog.hdf5\",\n",
    "    binned_random_catalog=f\"{my_txpipe_dir}cluster_catalog_tomography.hdf5\",\n",
    "    patch_centers=f\"{my_txpipe_dir}cluster_catalog_tomography.hdf5\",\n",
    "    tracer_metadata=f\"{my_txpipe_dir}cluster_catalog_tomography.hdf5\",\n",
    "    config=f\"{my_txpipe_dir}notebooks/cluster_counts/gt_treecor_test/config-1deg2-CL.yml\",\n",
    "    output_dir=f\"{my_txpipe_dir}data/example/output_binning/\"\n",
    ")"
   ]
  },
  {
   "cell_type": "code",
   "execution_count": 9,
   "id": "81801925-4343-4e7a-9866-9df35ef8f8f2",
   "metadata": {},
   "outputs": [
    {
     "ename": "KeyError",
     "evalue": "\"Unable to synchronously open object (object 'shear' doesn't exist)\"",
     "output_type": "error",
     "traceback": [
      "\u001b[0;31m---------------------------------------------------------------------------\u001b[0m",
      "\u001b[0;31mKeyError\u001b[0m                                  Traceback (most recent call last)",
      "Cell \u001b[0;32mIn[9], line 1\u001b[0m\n\u001b[0;32m----> 1\u001b[0m \u001b[43mstep3\u001b[49m\u001b[38;5;241;43m.\u001b[39;49m\u001b[43mrun\u001b[49m\u001b[43m(\u001b[49m\u001b[43m)\u001b[49m\n\u001b[1;32m      2\u001b[0m step3\u001b[38;5;241m.\u001b[39mfinalize()\n",
      "File \u001b[0;32m/sps/lsst/users/maguena/git_codes/TXPipe/txpipe/extensions/cluster_counts/rlens_new.py:102\u001b[0m, in \u001b[0;36mTXTwoPointCluster.run\u001b[0;34m(self)\u001b[0m\n\u001b[1;32m     99\u001b[0m \u001b[38;5;28;01mimport\u001b[39;00m\u001b[38;5;250m \u001b[39m\u001b[38;5;21;01mtreecorr\u001b[39;00m\n\u001b[1;32m    101\u001b[0m \u001b[38;5;66;03m# Binning information\u001b[39;00m\n\u001b[0;32m--> 102\u001b[0m source_list, lens_list \u001b[38;5;241m=\u001b[39m \u001b[38;5;28;43mself\u001b[39;49m\u001b[38;5;241;43m.\u001b[39;49m\u001b[43mread_nbin\u001b[49m\u001b[43m(\u001b[49m\u001b[43m)\u001b[49m\n\u001b[1;32m    103\u001b[0m \u001b[38;5;28mself\u001b[39m\u001b[38;5;241m.\u001b[39mconfig[\u001b[38;5;124m\"\u001b[39m\u001b[38;5;124mnum_threads\u001b[39m\u001b[38;5;124m\"\u001b[39m] \u001b[38;5;241m=\u001b[39m \u001b[38;5;28mint\u001b[39m(os\u001b[38;5;241m.\u001b[39menviron\u001b[38;5;241m.\u001b[39mget(\u001b[38;5;124m\"\u001b[39m\u001b[38;5;124mOMP_NUM_THREADS\u001b[39m\u001b[38;5;124m\"\u001b[39m, \u001b[38;5;241m1\u001b[39m))\n\u001b[1;32m    105\u001b[0m \u001b[38;5;28;01mif\u001b[39;00m \u001b[38;5;28mself\u001b[39m\u001b[38;5;241m.\u001b[39mrank \u001b[38;5;241m==\u001b[39m \u001b[38;5;241m0\u001b[39m:\n\u001b[1;32m    106\u001b[0m     \u001b[38;5;66;03m# This is a workaround for the fact the the ceci config stuff doesn't\u001b[39;00m\n\u001b[1;32m    107\u001b[0m     \u001b[38;5;66;03m# quite handle the get method properly.\u001b[39;00m\n\u001b[0;32m   (...)\u001b[0m\n\u001b[1;32m    110\u001b[0m     \u001b[38;5;66;03m# and friends, below. In this base class only the 2D metrics will be\u001b[39;00m\n\u001b[1;32m    111\u001b[0m     \u001b[38;5;66;03m# available, but subclasses can specify to load a distance column too.\u001b[39;00m\n",
      "File \u001b[0;32m/sps/lsst/users/maguena/git_codes/TXPipe/txpipe/extensions/cluster_counts/rlens_new.py:185\u001b[0m, in \u001b[0;36mTXTwoPointCluster.read_nbin\u001b[0;34m(self)\u001b[0m\n\u001b[1;32m    180\u001b[0m \u001b[38;5;250m\u001b[39m\u001b[38;5;124;03m\"\"\"\u001b[39;00m\n\u001b[1;32m    181\u001b[0m \u001b[38;5;124;03mDetermine the bins to use in this analysis, either from the input file\u001b[39;00m\n\u001b[1;32m    182\u001b[0m \u001b[38;5;124;03mor from the configuration.\u001b[39;00m\n\u001b[1;32m    183\u001b[0m \u001b[38;5;124;03m\"\"\"\u001b[39;00m\n\u001b[1;32m    184\u001b[0m \u001b[38;5;28;01mif\u001b[39;00m \u001b[38;5;28mself\u001b[39m\u001b[38;5;241m.\u001b[39mconfig[\u001b[38;5;124m\"\u001b[39m\u001b[38;5;124msource_bins\u001b[39m\u001b[38;5;124m\"\u001b[39m] \u001b[38;5;241m==\u001b[39m [\u001b[38;5;241m-\u001b[39m\u001b[38;5;241m1\u001b[39m] \u001b[38;5;129;01mand\u001b[39;00m \u001b[38;5;28mself\u001b[39m\u001b[38;5;241m.\u001b[39mconfig[\u001b[38;5;124m\"\u001b[39m\u001b[38;5;124mlens_bins\u001b[39m\u001b[38;5;124m\"\u001b[39m] \u001b[38;5;241m==\u001b[39m [\u001b[38;5;241m-\u001b[39m\u001b[38;5;241m1\u001b[39m]:\n\u001b[0;32m--> 185\u001b[0m     source_list, lens_list \u001b[38;5;241m=\u001b[39m \u001b[38;5;28;43mself\u001b[39;49m\u001b[38;5;241;43m.\u001b[39;49m\u001b[43m_read_nbin_from_tomography\u001b[49m\u001b[43m(\u001b[49m\u001b[43m)\u001b[49m\n\u001b[1;32m    186\u001b[0m \u001b[38;5;28;01melse\u001b[39;00m:\n\u001b[1;32m    187\u001b[0m     source_list, lens_list \u001b[38;5;241m=\u001b[39m \u001b[38;5;28mself\u001b[39m\u001b[38;5;241m.\u001b[39m_read_nbin_from_config()\n",
      "File \u001b[0;32m/sps/lsst/users/maguena/git_codes/TXPipe/txpipe/extensions/cluster_counts/rlens_new.py:202\u001b[0m, in \u001b[0;36mTXTwoPointCluster._read_nbin_from_tomography\u001b[0;34m(self)\u001b[0m\n\u001b[1;32m    200\u001b[0m \u001b[38;5;28;01melse\u001b[39;00m:\n\u001b[1;32m    201\u001b[0m     \u001b[38;5;28;01mwith\u001b[39;00m \u001b[38;5;28mself\u001b[39m\u001b[38;5;241m.\u001b[39mopen_input(\u001b[38;5;124m\"\u001b[39m\u001b[38;5;124mbinned_shear_catalog\u001b[39m\u001b[38;5;124m\"\u001b[39m) \u001b[38;5;28;01mas\u001b[39;00m f:\n\u001b[0;32m--> 202\u001b[0m         nbin_source \u001b[38;5;241m=\u001b[39m \u001b[43mf\u001b[49m\u001b[43m[\u001b[49m\u001b[38;5;124;43m\"\u001b[39;49m\u001b[38;5;124;43mshear\u001b[39;49m\u001b[38;5;124;43m\"\u001b[39;49m\u001b[43m]\u001b[49m\u001b[38;5;241m.\u001b[39mattrs[\u001b[38;5;124m\"\u001b[39m\u001b[38;5;124mnbin_source\u001b[39m\u001b[38;5;124m\"\u001b[39m]\n\u001b[1;32m    204\u001b[0m \u001b[38;5;28;01mif\u001b[39;00m \u001b[38;5;28mself\u001b[39m\u001b[38;5;241m.\u001b[39mget_input(\u001b[38;5;124m\"\u001b[39m\u001b[38;5;124mbinned_lens_catalog\u001b[39m\u001b[38;5;124m\"\u001b[39m) \u001b[38;5;241m==\u001b[39m \u001b[38;5;124m\"\u001b[39m\u001b[38;5;124mnone\u001b[39m\u001b[38;5;124m\"\u001b[39m:\n\u001b[1;32m    205\u001b[0m     nbin_lens \u001b[38;5;241m=\u001b[39m \u001b[38;5;241m0\u001b[39m\n",
      "File \u001b[0;32mh5py/_objects.pyx:54\u001b[0m, in \u001b[0;36mh5py._objects.with_phil.wrapper\u001b[0;34m()\u001b[0m\n",
      "File \u001b[0;32mh5py/_objects.pyx:55\u001b[0m, in \u001b[0;36mh5py._objects.with_phil.wrapper\u001b[0;34m()\u001b[0m\n",
      "File \u001b[0;32m/sps/lsst/users/ebarroso/conda_envs/txpipe_clp/lib/python3.10/site-packages/h5py/_hl/group.py:360\u001b[0m, in \u001b[0;36mGroup.__getitem__\u001b[0;34m(self, name)\u001b[0m\n\u001b[1;32m    358\u001b[0m         \u001b[38;5;28;01mraise\u001b[39;00m \u001b[38;5;167;01mValueError\u001b[39;00m(\u001b[38;5;124m\"\u001b[39m\u001b[38;5;124mInvalid HDF5 object reference\u001b[39m\u001b[38;5;124m\"\u001b[39m)\n\u001b[1;32m    359\u001b[0m \u001b[38;5;28;01melif\u001b[39;00m \u001b[38;5;28misinstance\u001b[39m(name, (\u001b[38;5;28mbytes\u001b[39m, \u001b[38;5;28mstr\u001b[39m)):\n\u001b[0;32m--> 360\u001b[0m     oid \u001b[38;5;241m=\u001b[39m \u001b[43mh5o\u001b[49m\u001b[38;5;241;43m.\u001b[39;49m\u001b[43mopen\u001b[49m\u001b[43m(\u001b[49m\u001b[38;5;28;43mself\u001b[39;49m\u001b[38;5;241;43m.\u001b[39;49m\u001b[43mid\u001b[49m\u001b[43m,\u001b[49m\u001b[43m \u001b[49m\u001b[38;5;28;43mself\u001b[39;49m\u001b[38;5;241;43m.\u001b[39;49m\u001b[43m_e\u001b[49m\u001b[43m(\u001b[49m\u001b[43mname\u001b[49m\u001b[43m)\u001b[49m\u001b[43m,\u001b[49m\u001b[43m \u001b[49m\u001b[43mlapl\u001b[49m\u001b[38;5;241;43m=\u001b[39;49m\u001b[38;5;28;43mself\u001b[39;49m\u001b[38;5;241;43m.\u001b[39;49m\u001b[43m_lapl\u001b[49m\u001b[43m)\u001b[49m\n\u001b[1;32m    361\u001b[0m \u001b[38;5;28;01melse\u001b[39;00m:\n\u001b[1;32m    362\u001b[0m     \u001b[38;5;28;01mraise\u001b[39;00m \u001b[38;5;167;01mTypeError\u001b[39;00m(\u001b[38;5;124m\"\u001b[39m\u001b[38;5;124mAccessing a group is done with bytes or str, \u001b[39m\u001b[38;5;124m\"\u001b[39m\n\u001b[1;32m    363\u001b[0m                     \u001b[38;5;124m\"\u001b[39m\u001b[38;5;124mnot \u001b[39m\u001b[38;5;132;01m{}\u001b[39;00m\u001b[38;5;124m\"\u001b[39m\u001b[38;5;241m.\u001b[39mformat(\u001b[38;5;28mtype\u001b[39m(name)))\n",
      "File \u001b[0;32mh5py/_objects.pyx:54\u001b[0m, in \u001b[0;36mh5py._objects.with_phil.wrapper\u001b[0;34m()\u001b[0m\n",
      "File \u001b[0;32mh5py/_objects.pyx:55\u001b[0m, in \u001b[0;36mh5py._objects.with_phil.wrapper\u001b[0;34m()\u001b[0m\n",
      "File \u001b[0;32mh5py/h5o.pyx:257\u001b[0m, in \u001b[0;36mh5py.h5o.open\u001b[0;34m()\u001b[0m\n",
      "\u001b[0;31mKeyError\u001b[0m: \"Unable to synchronously open object (object 'shear' doesn't exist)\""
     ]
    }
   ],
   "source": [
    "step3.run()\n",
    "step3.finalize()"
   ]
  },
  {
   "cell_type": "code",
   "execution_count": null,
   "id": "2c71fbfb-a177-4bea-8284-c724bf080c11",
   "metadata": {},
   "outputs": [],
   "source": [
    "step4 = txpipe.TXShearCalibration.make_stage(\n",
    "    # This file is the input metadetect shear catalog\n",
    "    shear_catalog=f\"{my_txpipe_dir}data/example/inputs/shear_catalog.hdf5\",\n",
    "    shear_tomography_catalog=f\"{my_txpipe_dir}shear_tomography_catalog.hdf5\",\n",
    "    # This is an input training set for the tomographic selection\n",
    "\n",
    "    # This contains all the options for this stage. You can override them here\n",
    "    # manually too.\n",
    "    # This is the output file for this stage\n",
    "    output_dir=f\"{my_txpipe_dir}/data/example/output_binning_shear/\"\n",
    ")\n",
    "\n"
   ]
  },
  {
   "cell_type": "code",
   "execution_count": null,
   "id": "b1b390bb-896d-4c0a-80c6-13b175bb9fbc",
   "metadata": {
    "scrolled": true
   },
   "outputs": [],
   "source": [
    "step4.run()\n",
    "step4.finalize()"
   ]
  },
  {
   "cell_type": "markdown",
   "id": "d0cc8655-91c0-49c2-af4e-310ca53655c0",
   "metadata": {},
   "source": [
    "## Tests"
   ]
  },
  {
   "cell_type": "code",
   "execution_count": null,
   "id": "7b81f6ee-792b-492d-b3cc-57b9b5e1e865",
   "metadata": {},
   "outputs": [],
   "source": [
    "import h5py"
   ]
  },
  {
   "cell_type": "code",
   "execution_count": null,
   "id": "a5002638-c2b7-4d75-a60b-f9b8777992dc",
   "metadata": {},
   "outputs": [],
   "source": [
    "with h5py.File(f\"{my_txpipe_dir}shear_tomography_catalog.hdf5\", \"r\") as data:\n",
    "    print(data.keys())\n",
    "    for key in data.keys():\n",
    "        print(key, data[key].attrs.keys())"
   ]
  },
  {
   "cell_type": "code",
   "execution_count": null,
   "id": "24013968-3ee4-4420-9b24-6d406af40a0a",
   "metadata": {},
   "outputs": [],
   "source": [
    "tb = h5py.File(f\"{my_txpipe_dir}/shear_tomography_catalog.hdf5\", \"r\")"
   ]
  },
  {
   "cell_type": "code",
   "execution_count": null,
   "id": "359d3bb3-2590-4ab6-8063-dc13203e13f3",
   "metadata": {},
   "outputs": [],
   "source": [
    "for k in tb[\"counts\"].keys():\n",
    "    print(k, tb[\"counts\"][k])"
   ]
  },
  {
   "cell_type": "code",
   "execution_count": null,
   "id": "094c7154-a5fb-4a16-8c22-74e6a4eef79d",
   "metadata": {},
   "outputs": [],
   "source": []
  },
  {
   "cell_type": "code",
   "execution_count": null,
   "id": "b6cb2a7f-2ee4-46e9-a724-712f59e1334b",
   "metadata": {},
   "outputs": [],
   "source": [
    "tb[\"tomography\"][\"bin\"][:]"
   ]
  },
  {
   "cell_type": "code",
   "execution_count": null,
   "id": "66784225-4d0f-434a-b199-37ec822b1d71",
   "metadata": {},
   "outputs": [],
   "source": [
    "data = h5py.File(f\"{my_txpipe_dir}/data/example/inputs/metadetect_shear_catalog.hdf5\", \"r\")"
   ]
  },
  {
   "cell_type": "code",
   "execution_count": null,
   "id": "8e7abd32-844b-4613-9389-7d8ed280b8fe",
   "metadata": {},
   "outputs": [],
   "source": [
    "Table(data[\"shear\"][\"00\"])"
   ]
  },
  {
   "cell_type": "code",
   "execution_count": null,
   "id": "60f1e2d2-76ce-45cb-b28b-29a1d9226363",
   "metadata": {},
   "outputs": [],
   "source": []
  }
 ],
 "metadata": {
  "kernelspec": {
   "display_name": "Python (txpipe_clp)",
   "language": "python",
   "name": "txpipe_clp"
  },
  "language_info": {
   "codemirror_mode": {
    "name": "ipython",
    "version": 3
   },
   "file_extension": ".py",
   "mimetype": "text/x-python",
   "name": "python",
   "nbconvert_exporter": "python",
   "pygments_lexer": "ipython3",
   "version": "3.10.18"
  },
  "nbdime-conflicts": {
   "local_diff": [
    {
     "diff": [
      {
       "diff": [
        {
         "key": 0,
         "op": "addrange",
         "valuelist": [
          "clmm"
         ]
        },
        {
         "key": 0,
         "length": 1,
         "op": "removerange"
        }
       ],
       "key": "display_name",
       "op": "patch"
      },
      {
       "diff": [
        {
         "key": 0,
         "op": "addrange",
         "valuelist": [
          "clmm"
         ]
        },
        {
         "key": 0,
         "length": 1,
         "op": "removerange"
        }
       ],
       "key": "name",
       "op": "patch"
      }
     ],
     "key": "kernelspec",
     "op": "patch"
    },
    {
     "diff": [
      {
       "diff": [
        {
         "diff": [
          {
           "key": 5,
           "length": 1,
           "op": "removerange"
          }
         ],
         "key": 0,
         "op": "patch"
        }
       ],
       "key": "version",
       "op": "patch"
      }
     ],
     "key": "language_info",
     "op": "patch"
    }
   ],
   "remote_diff": [
    {
     "diff": [
      {
       "diff": [
        {
         "key": 0,
         "op": "addrange",
         "valuelist": [
          "Python (firecrown2.0)"
         ]
        },
        {
         "key": 0,
         "length": 1,
         "op": "removerange"
        }
       ],
       "key": "display_name",
       "op": "patch"
      },
      {
       "diff": [
        {
         "key": 0,
         "op": "addrange",
         "valuelist": [
          "firecrown"
         ]
        },
        {
         "key": 0,
         "length": 1,
         "op": "removerange"
        }
       ],
       "key": "name",
       "op": "patch"
      }
     ],
     "key": "kernelspec",
     "op": "patch"
    },
    {
     "diff": [
      {
       "diff": [
        {
         "key": 0,
         "length": 1,
         "op": "removerange"
        }
       ],
       "key": "version",
       "op": "patch"
      }
     ],
     "key": "language_info",
     "op": "patch"
    }
   ]
  }
 },
 "nbformat": 4,
 "nbformat_minor": 5
}
