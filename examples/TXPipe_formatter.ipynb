{
 "cells": [
  {
   "cell_type": "code",
   "execution_count": 3,
   "metadata": {},
   "outputs": [],
   "source": [
    "import pandas as pd\n",
    "import h5py\n",
    "import fitsio\n",
    "import numpy as np\n",
    "import matplotlib.pyplot as plt\n",
    "%matplotlib inline"
   ]
  },
  {
   "cell_type": "code",
   "execution_count": 4,
   "metadata": {},
   "outputs": [],
   "source": [
    "data_test = fitsio.read('/global/projecta/projectdirs/lsst/groups/WL/projects/wl-txpipe-hack/HSC/pdr1_wide_gama09h.fits')"
   ]
  },
  {
   "cell_type": "code",
   "execution_count": 5,
   "metadata": {},
   "outputs": [],
   "source": [
    "def setup_output(path, group, cat, cols, n):\n",
    "    f = h5py.File(path, 'w')\n",
    "    g = f.create_group(group)\n",
    "    for name in cols:\n",
    "        g.create_dataset(name, shape=(n,), dtype=cat[name].dtype)\n",
    "    return f"
   ]
  },
  {
   "cell_type": "code",
   "execution_count": 6,
   "metadata": {},
   "outputs": [],
   "source": [
    "def write_output(output_file, group_name, cols, start, end, data):\n",
    "    g = output_file[group_name]\n",
    "    for name in cols:\n",
    "        g[name][start:end] = data[name]"
   ]
  },
  {
   "cell_type": "code",
   "execution_count": 7,
   "metadata": {},
   "outputs": [],
   "source": [
    "def shear_catalog_formatter(data_hsc, output_path, delta_gamma=0.02):\n",
    "    _data = dict()\n",
    "    _data['id'] = data_hsc['object_id']\n",
    "    _data['ra'] = data_hsc['ira']\n",
    "    _data['dec'] = data_hsc['idec']\n",
    "    _data['mcal_T'] = data_hsc['ishape_hsm_moments_11']+data_hsc['ishape_hsm_moments_22']\n",
    "    _data['mcal_T_1p'] = data_hsc['ishape_hsm_moments_11']+data_hsc['ishape_hsm_moments_22']\n",
    "    _data['mcal_T_1m'] = data_hsc['ishape_hsm_moments_11']+data_hsc['ishape_hsm_moments_22']\n",
    "    _data['mcal_T_2p'] = data_hsc['ishape_hsm_moments_11']+data_hsc['ishape_hsm_moments_22']\n",
    "    _data['mcal_T_2m'] = data_hsc['ishape_hsm_moments_11']+data_hsc['ishape_hsm_moments_22']\n",
    "    _data['mcal_g1'] = data_hsc['ishape_hsm_regauss_e1']\n",
    "    _data['mcal_g2'] = data_hsc['ishape_hsm_regauss_e2']\n",
    "    _data['mcal_s2n'] = 1./data_hsc['icmodel_mag_err']\n",
    "    _data['mcal_s2n_1p'] = 1./data_hsc['icmodel_mag_err']\n",
    "    _data['mcal_s2n_2p'] = 1./data_hsc['icmodel_mag_err']\n",
    "    _data['mcal_s2n_1m'] = 1./data_hsc['icmodel_mag_err']\n",
    "    _data['mcal_s2n_2m'] = 1./data_hsc['icmodel_mag_err']\n",
    "    _data['i_mag'] = data_hsc['icmodel_mag']\n",
    "    _data['i_mag_err'] = data_hsc['icmodel_mag_err']\n",
    "    _data['mcal_g1_1p'] = data_hsc['ishape_hsm_regauss_e1']+delta_gamma\n",
    "    _data['mcal_g2_1p'] = data_hsc['ishape_hsm_regauss_e2']+delta_gamma\n",
    "    _data['mcal_g1_1m'] = data_hsc['ishape_hsm_regauss_e1']\n",
    "    _data['mcal_g2_1m'] = data_hsc['ishape_hsm_regauss_e2']\n",
    "    _data['mcal_g1_2p'] = data_hsc['ishape_hsm_regauss_e1']+delta_gamma\n",
    "    _data['mcal_g2_2p'] = data_hsc['ishape_hsm_regauss_e2']+delta_gamma\n",
    "    _data['mcal_g1_2m'] = data_hsc['ishape_hsm_regauss_e1']\n",
    "    _data['mcal_g2_2m'] = data_hsc['ishape_hsm_regauss_e2']\n",
    "    _data['mcal_flags'] = data_hsc['ishape_hsm_regauss_derived_shape_weight_isnull']\n",
    "    Ixx = data_hsc[f'ishape_hsm_psfmoments_11']\n",
    "    Iyy = data_hsc[f'ishape_hsm_psfmoments_22']\n",
    "    Ixy = data_hsc[f'ishape_hsm_psfmoments_12']\n",
    "    for band in ['g','r','i','z','y']:\n",
    "        _data[f'mcal_mag_{band}'] = data_hsc[f'{band}cmodel_mag']\n",
    "        _data[f'mcal_mag_err_{band}'] = data_hsc[f'{band}cmodel_mag_err']\n",
    "        _data[f'mcal_mag_{band}_1p'] = data_hsc[f'{band}cmodel_mag']\n",
    "        _data[f'mcal_mag_err_{band}_1p'] = data_hsc[f'{band}cmodel_mag_err']\n",
    "        _data[f'mcal_mag_{band}_1m'] = data_hsc[f'{band}cmodel_mag']\n",
    "        _data[f'mcal_mag_err_{band}_1m'] = data_hsc[f'{band}cmodel_mag_err']\n",
    "        _data[f'mcal_mag_{band}_2m'] = data_hsc[f'{band}cmodel_mag']\n",
    "        _data[f'mcal_mag_err_{band}_2m'] = data_hsc[f'{band}cmodel_mag_err']\n",
    "        _data[f'mcal_mag_{band}_2p'] = data_hsc[f'{band}cmodel_mag']\n",
    "        _data[f'mcal_mag_err_{band}_2p'] = data_hsc[f'{band}cmodel_mag_err']\n",
    "    # Conversion of moments to e1, e2\n",
    "    T = Ixx + Iyy\n",
    "    e = (Ixx - Iyy + 2j * Ixy) / (Ixx + Iyy)\n",
    "    e1 = e.real\n",
    "    e2 = e.imag\n",
    "    _data['mcal_psf_g1'] = e1\n",
    "    _data['mcal_psf_g2'] = e2\n",
    "    _data['mcal_psf_T_mean'] = T\n",
    "    _data['mcal_mag'] = _data['i_mag']\n",
    "    _data['mcal_mag_err'] = _data['i_mag_err']\n",
    "    n = len(_data['ra'])\n",
    "    _f = setup_output(output_path, 'metacal', _data, _data.keys(), n)\n",
    "    write_output(_f, 'metacal', _data.keys(), 0, n, _data)\n",
    "    _f.flush()\n",
    "    _f.close()"
   ]
  },
  {
   "cell_type": "code",
   "execution_count": 8,
   "metadata": {},
   "outputs": [],
   "source": [
    "def photometry_catalog_formatter(data_hsc, output_path):\n",
    "    _data = dict()\n",
    "    _data['id'] = data_hsc['object_id']\n",
    "    _data['ra'] = data_hsc['ira']\n",
    "    _data['dec'] = data_hsc['idec']\n",
    "    for band in ['g','r','i','z','y']:\n",
    "        _data[f'{band}_mag'] = data_hsc[f'{band}cmodel_mag']\n",
    "        _data[f'{band}_mag_err'] = data_hsc[f'{band}cmodel_mag_err']\n",
    "        _data[f'snr_{band}'] = 1./data_hsc[f'{band}cmodel_mag_err']\n",
    "    _data['u_mag']=99*np.ones(len(_data['ra']))\n",
    "    _data['u_mag_err']=99*np.ones(len(_data['ra']))\n",
    "    #_catalog_out = h5py.File(output_path, 'w')\n",
    "    #_catalog_out.create_dataset('photometry', data=pd.DataFrame(_data).to_records())\n",
    "    #_catalog_out.flush()\n",
    "    n = len(_data['ra'])\n",
    "    _f = setup_output(output_path, 'photometry', _data, _data.keys(), n)\n",
    "    write_output(_f, 'photometry', _data.keys(), 0, n, _data)\n",
    "    _f.flush()\n",
    "    _f.close()"
   ]
  },
  {
   "cell_type": "code",
   "execution_count": 29,
   "metadata": {},
   "outputs": [],
   "source": [
    "def star_catalog_formatter(data_hsc, output_path):\n",
    "    star_data = {}\n",
    "    # We specifically use the stars chosen for PSF measurement\n",
    "    #star = data_hsc['icalib_psf_used']\n",
    "    star = data_hsc['iclassification_extendedness'] == 0\n",
    "    # General columns\n",
    "    star_data['ra'] = data_hsc['ira'][star]\n",
    "    star_data['dec'] = data_hsc['idec'][star]\n",
    "    star_data['id'] = data_hsc['object_id'][star]\n",
    "    for band in 'grizy':\n",
    "        star_data[f'{band}_mag'] = data_hsc[f'{band}cmodel_mag'][star]\n",
    "    star_data['u_mag'] = 99*np.ones(len(star_data['id']))\n",
    "    star_data['u_mag_err'] = 99*np.ones(len(star_data['id']))\n",
    "    kinds = [\n",
    "            ('', 'measured_'),\n",
    "            ('psf', 'model_')\n",
    "        ]\n",
    "\n",
    "    for in_name, out_name in kinds:\n",
    "        # Pulling out the correct moment columns\n",
    "        Ixx = data_hsc[f'ishape_hsm_{in_name}moments_11'][star]\n",
    "        Iyy = data_hsc[f'ishape_hsm_{in_name}moments_22'][star]\n",
    "        Ixy = data_hsc[f'ishape_hsm_{in_name}moments_12'][star]\n",
    "\n",
    "        # Conversion of moments to e1, e2\n",
    "        T = Ixx + Iyy\n",
    "        e = (Ixx - Iyy + 2j * Ixy) / (Ixx + Iyy)\n",
    "        e1 = e.real\n",
    "        e2 = e.imag\n",
    "\n",
    "        # save to output\n",
    "        star_data[f'{out_name}e1'] = e1\n",
    "        star_data[f'{out_name}e2'] = e2\n",
    "        star_data[f'{out_name}T'] = T\n",
    "    #_catalog_out = h5py.File(output_path, 'a')\n",
    "    #_catalog_out.create_dataset('star_catalog', data=pd.DataFrame(star_data).to_records())\n",
    "    #_catalog_out.flush()\n",
    "    n = len(star_data['ra'])\n",
    "    _f = setup_output(output_path, 'stars', star_data, star_data.keys(), n)\n",
    "    write_output(_f, 'stars', star_data.keys(), 0, n, star_data)\n",
    "    _f.flush()\n",
    "    _f.close()"
   ]
  },
  {
   "cell_type": "code",
   "execution_count": 32,
   "metadata": {},
   "outputs": [],
   "source": [
    "star_catalog_formatter(data_test, '/global/cscratch1/sd/jsanch87/HSC_pdr1_wide_gama09h_star_catalog.hdf5')"
   ]
  },
  {
   "cell_type": "code",
   "execution_count": 20,
   "metadata": {},
   "outputs": [],
   "source": [
    "shear_catalog_formatter(data_test, '/global/cscratch1/sd/jsanch87/HSC_pdr1_wide_gama09h_shear.hdf5')"
   ]
  },
  {
   "cell_type": "code",
   "execution_count": 38,
   "metadata": {},
   "outputs": [],
   "source": [
    "photometry_catalog_formatter(data_test, '/global/cscratch1/sd/jsanch87/HSC_pdr1_wide_gama09h_photo.hdf5')"
   ]
  },
  {
   "cell_type": "code",
   "execution_count": null,
   "metadata": {},
   "outputs": [],
   "source": []
  }
 ],
 "metadata": {
  "kernelspec": {
   "display_name": "desc-python",
   "language": "python",
   "name": "desc-python"
  },
  "language_info": {
   "codemirror_mode": {
    "name": "ipython",
    "version": 3
   },
   "file_extension": ".py",
   "mimetype": "text/x-python",
   "name": "python",
   "nbconvert_exporter": "python",
   "pygments_lexer": "ipython3",
   "version": "3.7.2"
  }
 },
 "nbformat": 4,
 "nbformat_minor": 4
}
