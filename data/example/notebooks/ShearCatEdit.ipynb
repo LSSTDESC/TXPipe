{
 "cells": [
  {
   "cell_type": "code",
   "execution_count": 1,
   "id": "4c3012d6-9cc3-4f92-bb13-df34dfdfa316",
   "metadata": {},
   "outputs": [
    {
     "name": "stdout",
     "output_type": "stream",
     "text": [
      "%pylab is deprecated, use %matplotlib inline and import the required libraries.\n",
      "Populating the interactive namespace from numpy and matplotlib\n"
     ]
    }
   ],
   "source": [
    "import h5py\n",
    "import numpy \n",
    "import pylab as mplot\n",
    "%pylab inline"
   ]
  },
  {
   "cell_type": "code",
   "execution_count": 3,
   "id": "81259fca-2624-4fe1-96ee-4aa9b3372082",
   "metadata": {},
   "outputs": [
    {
     "name": "stdout",
     "output_type": "stream",
     "text": [
      "0.0\n",
      "0.0\n",
      "-2.0390393546867136\n",
      "2.0874446263585407\n",
      "-2.0390393546867136\n",
      "2.0874446263585407\n",
      "-2.1104837992627496\n",
      "2.3434874314528775\n",
      "0.0\n",
      "0.0\n",
      "-1.953972221880646\n",
      "2.0007984615440484\n",
      "-1.953972221880646\n",
      "2.0007984615440484\n",
      "-2.4232795954405937\n",
      "2.1263124409936065\n",
      "0.20287899012501048\n",
      "0.20287899012501048\n",
      "0.01000649934110908\n",
      "0.5999973249072571\n",
      "0.01000649934110908\n",
      "0.5999973249072571\n",
      "0.010000804660163003\n",
      "0.5999982126832965\n"
     ]
    }
   ],
   "source": [
    "import pandas as pd\n",
    "\n",
    "with h5py.File('/pscratch/sd/j/jjeffers/TXPipe/data/example/inputs/shear_catalog-edited.hdf5','a') as f:\n",
    "    #print(f['shear/00'].keys())\n",
    "    \n",
    "    \n",
    "    print(np.min(f['shear/mcal_psf_g1']))\n",
    "    print(np.max(f['shear/mcal_psf_g1']))\n",
    "    del f['shear/mcal_psf_g1']\n",
    "    f['shear/mcal_psf_g1'] = np.random.normal(loc=0, scale=0.5, size=(82200,))\n",
    "    print(np.min(f['shear/mcal_psf_g1']))\n",
    "    print(np.max(f['shear/mcal_psf_g1']))\n",
    "    \n",
    "    print(np.min(f['metacal/mcal_psf_g1']))\n",
    "    print(np.max(f['metacal/mcal_psf_g1']))\n",
    "    del f['metacal/mcal_psf_g1']\n",
    "    f['metacal/mcal_psf_g1'] = np.random.normal(loc=0, scale=0.5, size=(82200,))\n",
    "    print(np.min(f['metacal/mcal_psf_g1']))\n",
    "    print(np.max(f['metacal/mcal_psf_g1']))\n",
    "    \n",
    "    print(np.min(f['shear/mcal_psf_g2']))\n",
    "    print(np.max(f['shear/mcal_psf_g2']))\n",
    "    del f['shear/mcal_psf_g2']\n",
    "    f['shear/mcal_psf_g2'] = np.random.normal(loc=0, scale=0.5, size=(82200,))\n",
    "    print(np.min(f['shear/mcal_psf_g2']))\n",
    "    print(np.max(f['shear/mcal_psf_g2']))\n",
    "    \n",
    "    print(np.min(f['metacal/mcal_psf_g2']))\n",
    "    print(np.max(f['metacal/mcal_psf_g2']))\n",
    "    del f['metacal/mcal_psf_g2']\n",
    "    f['metacal/mcal_psf_g2'] = np.random.normal(loc=0, scale=0.5, size=(82200,))\n",
    "    print(np.min(f['metacal/mcal_psf_g2']))\n",
    "    print(np.max(f['metacal/mcal_psf_g2']))\n",
    "    \n",
    "    print(np.min(f['shear/mcal_psf_T_mean']))\n",
    "    print(np.max(f['shear/mcal_psf_T_mean']))\n",
    "    del f['shear/mcal_psf_T_mean']\n",
    "    f['shear/mcal_psf_T_mean'] = np.random.uniform(low=0.01, high=0.6, size=(82200,))\n",
    "    print(np.min(f['shear/mcal_psf_T_mean']))\n",
    "    print(np.max(f['shear/mcal_psf_T_mean']))\n",
    "    \n",
    "    print(np.min(f['metacal/mcal_psf_T_mean']))\n",
    "    print(np.max(f['metacal/mcal_psf_T_mean']))\n",
    "    del f['metacal/mcal_psf_T_mean']\n",
    "    f['metacal/mcal_psf_T_mean'] = np.random.uniform(low=0.01, high=0.6, size=(82200,))\n",
    "    print(np.min(f['metacal/mcal_psf_T_mean']))\n",
    "    print(np.max(f['metacal/mcal_psf_T_mean']))\n"
   ]
  },
  {
   "cell_type": "code",
   "execution_count": null,
   "id": "24ce3bd4-1976-48b3-a9eb-38cb889e73ae",
   "metadata": {},
   "outputs": [],
   "source": []
  }
 ],
 "metadata": {
  "kernelspec": {
   "display_name": "desc-python",
   "language": "python",
   "name": "desc-python"
  },
  "language_info": {
   "codemirror_mode": {
    "name": "ipython",
    "version": 3
   },
   "file_extension": ".py",
   "mimetype": "text/x-python",
   "name": "python",
   "nbconvert_exporter": "python",
   "pygments_lexer": "ipython3",
   "version": "3.10.10"
  }
 },
 "nbformat": 4,
 "nbformat_minor": 5
}
