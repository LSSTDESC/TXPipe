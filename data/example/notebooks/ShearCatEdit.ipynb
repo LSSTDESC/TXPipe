{
 "cells": [
  {
   "cell_type": "code",
   "execution_count": 2,
   "id": "4c3012d6-9cc3-4f92-bb13-df34dfdfa316",
   "metadata": {},
   "outputs": [
    {
     "name": "stdout",
     "output_type": "stream",
     "text": [
      "%pylab is deprecated, use %matplotlib inline and import the required libraries.\n",
      "Populating the interactive namespace from numpy and matplotlib\n"
     ]
    }
   ],
   "source": [
    "import h5py\n",
    "import numpy \n",
    "import pylab as mplot\n",
    "%pylab inline"
   ]
  },
  {
   "cell_type": "code",
   "execution_count": 7,
   "id": "81259fca-2624-4fe1-96ee-4aa9b3372082",
   "metadata": {},
   "outputs": [
    {
     "name": "stdout",
     "output_type": "stream",
     "text": [
      "<KeysViewHDF5 ['T', 'T_err', 'dec', 'flags', 'g1', 'g2', 'id', 'mag_err_i', 'mag_err_r', 'mag_err_z', 'mag_i', 'mag_r', 'mag_z', 'mcal_psf_T_mean', 'mcal_psf_g1', 'mcal_psf_g2', 'psf_g1', 'psf_g2', 'ra', 'redshift_true', 's2n', 'true_g1', 'true_g2', 'weight']>\n",
      "0.00025980043574236333\n",
      "74.80239868164062\n",
      "0.010007306401372876\n",
      "4.999710484601735\n"
     ]
    }
   ],
   "source": [
    "import pandas as pd\n",
    "\n",
    "with h5py.File('/pscratch/sd/j/jjeffers/TXPipe/data/example/inputs/metadetect_shear_catalog.hdf5','a') as f:\n",
    "    print(f['shear/00'].keys())\n",
    "\n",
    "       \n",
    "    print(np.min(f['shear/00/mcal_psf_g1']))\n",
    "    print(np.max(f['shear/00/mcal_psf_g1']))\n",
    "    del f['shear/00/mcal_psf_g1']\n",
    "    f['shear/00/mcal_psf_g1'] = np.random.uniform(low=-0.9, high=1, size=(82200,))\n",
    "    print(np.min(f['shear/00/mcal_psf_g1']))\n",
    "    print(np.max(f['shear/00/mcal_psf_g1']))\n",
    "    \n",
    "    print(np.min(f['shear/00/mcal_psf_g2']))\n",
    "    print(np.max(f['shear/00/mcal_psf_g2']))\n",
    "    del f['shear/00/mcal_psf_g2']\n",
    "    f['shear/00/mcal_psf_g2'] = np.random.uniform(low=-0.9, high=1, size=(82200,))\n",
    "    print(np.min(f['shear/00/mcal_psf_g2']))\n",
    "    print(np.max(f['shear/00/mcal_psf_g2']))\n",
    "    \n",
    "    print(np.min(f['shear/00/mcal_psf_T_mean']))\n",
    "    print(np.max(f['shear/00/mcal_psf_T_mean']))\n",
    "    del f['shear/00/mcal_psf_T_mean']\n",
    "    f['shear/00/mcal_psf_T_mean'] = np.random.uniform(low=0.01, high=0.6, size=(82200,))\n",
    "    print(np.min(f['shear/00/mcal_psf_T_mean']))\n",
    "    print(np.max(f['shear/00/mcal_psf_T_mean']))\n",
    "    \n",
    "    \n",
    "    print(np.min(f['shear/00/T']))\n",
    "    print(np.max(f['shear/00/T']))\n",
    "    del f['shear/00/T']\n",
    "    f['shear/00/T'] = np.random.uniform(low=0.01, high=5, size=(82200,))\n",
    "    print(np.min(f['shear/00/T']))\n",
    "    print(np.max(f['shear/00/T']))\n",
    "    "
   ]
  },
  {
   "cell_type": "code",
   "execution_count": null,
   "id": "ccc38acc-3e23-4f83-91b5-9572efc9ac5c",
   "metadata": {},
   "outputs": [],
   "source": []
  }
 ],
 "metadata": {
  "kernelspec": {
   "display_name": "desc-python",
   "language": "python",
   "name": "desc-python"
  },
  "language_info": {
   "codemirror_mode": {
    "name": "ipython",
    "version": 3
   },
   "file_extension": ".py",
   "mimetype": "text/x-python",
   "name": "python",
   "nbconvert_exporter": "python",
   "pygments_lexer": "ipython3",
   "version": "3.10.10"
  }
 },
 "nbformat": 4,
 "nbformat_minor": 5
}
