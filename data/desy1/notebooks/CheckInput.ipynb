{
 "cells": [
  {
   "cell_type": "code",
   "execution_count": 34,
   "id": "33c92413-2b89-4706-a53f-35902d495333",
   "metadata": {},
   "outputs": [
    {
     "name": "stdout",
     "output_type": "stream",
     "text": [
      "%pylab is deprecated, use %matplotlib inline and import the required libraries.\n",
      "Populating the interactive namespace from numpy and matplotlib\n"
     ]
    }
   ],
   "source": [
    "import h5py\n",
    "import numpy \n",
    "import pylab as mplot\n",
    "%pylab inline"
   ]
  },
  {
   "cell_type": "code",
   "execution_count": 35,
   "id": "3661e41e-160e-4c25-840c-d7a94e1b4aac",
   "metadata": {},
   "outputs": [
    {
     "name": "stdout",
     "output_type": "stream",
     "text": [
      "<KeysViewHDF5 ['provenance', 'stars']>\n",
      "<KeysViewHDF5 ['calib_psf_reserved', 'calib_psf_used', 'dec', 'extendedness', 'id', 'mag_g', 'mag_i', 'mag_r', 'mag_u', 'mag_y', 'mag_z', 'measured_T', 'measured_e1', 'measured_e2', 'model_T', 'model_e1', 'model_e2', 'ra', 'tract']>\n"
     ]
    }
   ],
   "source": [
    "# look at example file, this is what we need to get to\n",
    "with h5py.File('/global/cscratch1/sd/chihway/TXPipe_old/data/example/inputs/star_catalog.hdf5') as f:\n",
    "\n",
    "    # you can check what is in the file like this\n",
    "    print(f.keys())\n",
    "    print(f['stars'].keys())"
   ]
  },
  {
   "cell_type": "markdown",
   "id": "af4e18d0-61be-4fd5-b2be-533040192dd8",
   "metadata": {},
   "source": [
    "Compare with the columns that exist in the original DES file: https://des.ncsa.illinois.edu/releases/y1a1/key-catalogs/key-psf"
   ]
  },
  {
   "cell_type": "code",
   "execution_count": 36,
   "id": "f93dec93-984c-4635-84fc-4994bc2627e1",
   "metadata": {},
   "outputs": [
    {
     "name": "stdout",
     "output_type": "stream",
     "text": [
      "<KeysViewHDF5 ['stars']>\n",
      "<KeysViewHDF5 ['dec', 'g_mag', 'i_mag', 'id', 'measured_T', 'measured_e1', 'measured_e2', 'model_T', 'model_e1', 'model_e2', 'r_mag', 'ra', 'u_mag', 'y_mag', 'z_mag']>\n",
      "[1 1 1 ... 1 1 1]\n",
      "[1 1 1 ... 1 1 1]\n",
      "[1 1 1 ... 1 1 1]\n",
      "[1 1 1 ... 1 1 1]\n",
      "[1 1 1 ... 1 1 1]\n",
      "[1 1 1 ... 1 1 1]\n",
      "<KeysViewHDF5 ['calib_psf_reserved', 'calib_psf_used', 'dec', 'extendedness', 'id', 'mag_g', 'mag_i', 'mag_r', 'mag_y', 'mag_z', 'measured_T', 'measured_e1', 'measured_e2', 'model_T', 'model_e1', 'model_e2', 'ra', 'u_mag']>\n"
     ]
    }
   ],
   "source": [
    "# this is how we open an h5 file\n",
    "with h5py.File('../inputs/DES_psf_catalog.hdf5','a') as f:\n",
    "\n",
    "    # you can check what is in the file like this\n",
    "    print(f.keys())\n",
    "    print(f['stars'].keys())\n",
    "    print(np.array(f['stars/id']))\n",
    "\n",
    "    # now let's try to rename the columns\n",
    "    for band in ['g','r','i','z','y']:\n",
    "        f['stars/mag_'+band] = f['stars/'+band+'_mag']\n",
    "        del f['stars/'+band+'_mag']\n",
    "        print(np.array(f['stars/mag_'+band]))\n",
    "    \n",
    "    f['stars/calib_psf_reserved'] = np.ones(len(f['stars/mag_g']))\n",
    "    f['stars/calib_psf_used'] = np.zeros(len(f['stars/mag_g']))\n",
    "    f['stars/extendedness'] = np.zeros(len(f['stars/mag_g']))\n",
    "    \n",
    "    \n",
    "    # print again to see if the names are changed\n",
    "    print(f['stars'].keys())\n"
   ]
  },
  {
   "cell_type": "code",
   "execution_count": 31,
   "id": "d837082c-743c-4f1a-a63a-7da9eacb9ec8",
   "metadata": {},
   "outputs": [
    {
     "data": {
      "image/png": "[encoded data removed]",
      "text/plain": [
       "<Figure size 640x480 with 1 Axes>"
      ]
     },
     "metadata": {},
     "output_type": "display_data"
    }
   ],
   "source": [
    "with h5py.File('../inputs/DES_psf_catalog_original.hdf5','a') as f:\n",
    "    mplot.hist(np.array(f['stars/y_mag']), bins=100)"
   ]
  },
  {
   "cell_type": "code",
   "execution_count": null,
   "id": "ff750f28-3200-4c90-b7b5-f9d800878b56",
   "metadata": {},
   "outputs": [],
   "source": []
  }
 ],
 "metadata": {
  "kernelspec": {
   "display_name": "desc-python",
   "language": "python",
   "name": "desc-python"
  },
  "language_info": {
   "codemirror_mode": {
    "name": "ipython",
    "version": 3
   },
   "file_extension": ".py",
   "mimetype": "text/x-python",
   "name": "python",
   "nbconvert_exporter": "python",
   "pygments_lexer": "ipython3",
   "version": "3.10.8"
  }
 },
 "nbformat": 4,
 "nbformat_minor": 5
}
