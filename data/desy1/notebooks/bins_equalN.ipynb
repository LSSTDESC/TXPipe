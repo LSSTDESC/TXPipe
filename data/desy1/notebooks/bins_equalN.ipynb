{
 "cells": [
  {
   "cell_type": "code",
   "execution_count": 1,
   "id": "a70bd2d7-731f-492d-ac5f-3297721728a2",
   "metadata": {},
   "outputs": [
    {
     "name": "stdout",
     "output_type": "stream",
     "text": [
      "Populating the interactive namespace from numpy and matplotlib\n"
     ]
    }
   ],
   "source": [
    "import h5py\n",
    "import numpy \n",
    "import pylab as mplot\n",
    "%pylab inline"
   ]
  },
  {
   "cell_type": "code",
   "execution_count": 13,
   "id": "5a379fc3-8abd-43cf-b255-75bfe1071a7f",
   "metadata": {},
   "outputs": [],
   "source": [
    "import scipy.stats as sts\n",
    "import pandas as pd"
   ]
  },
  {
   "cell_type": "code",
   "execution_count": 3,
   "id": "1ee5158c-5d16-485d-8e0a-3eb375e752bc",
   "metadata": {},
   "outputs": [],
   "source": [
    "def BinEdges_EqN(data,nbins):\n",
    "    nbquant = np.linspace(0,1,nbins,endpoint=False)\n",
    "    edges = sts.mstats.mquantiles(data,prob=nbquant)\n",
    "    return edges"
   ]
  },
  {
   "cell_type": "code",
   "execution_count": 30,
   "id": "83b2a5cd-340c-4b71-b0c5-aafe40e4e02f",
   "metadata": {},
   "outputs": [
    {
     "name": "stdout",
     "output_type": "stream",
     "text": [
      "<KeysViewHDF5 ['dec', 'mcal_T', 'mcal_T_1m', 'mcal_T_1p', 'mcal_T_2m', 'mcal_T_2p', 'mcal_T_sqrt', 'mcal_flags', 'mcal_flags_1m', 'mcal_flags_1p', 'mcal_flags_2m', 'mcal_flags_2p', 'mcal_g1', 'mcal_g1_1m', 'mcal_g1_1p', 'mcal_g1_2m', 'mcal_g1_2p', 'mcal_g2', 'mcal_g2_1m', 'mcal_g2_1p', 'mcal_g2_2m', 'mcal_g2_2p', 'mcal_mag_err_i', 'mcal_mag_err_i_1m', 'mcal_mag_err_i_1p', 'mcal_mag_err_i_2m', 'mcal_mag_err_i_2p', 'mcal_mag_err_r', 'mcal_mag_err_r_1m', 'mcal_mag_err_r_1p', 'mcal_mag_err_r_2m', 'mcal_mag_err_r_2p', 'mcal_mag_err_z', 'mcal_mag_err_z_1m', 'mcal_mag_err_z_1p', 'mcal_mag_err_z_2m', 'mcal_mag_err_z_2p', 'mcal_mag_i', 'mcal_mag_i_1m', 'mcal_mag_i_1p', 'mcal_mag_i_2m', 'mcal_mag_i_2p', 'mcal_mag_r', 'mcal_mag_r_1m', 'mcal_mag_r_1p', 'mcal_mag_r_2m', 'mcal_mag_r_2p', 'mcal_mag_z', 'mcal_mag_z_1m', 'mcal_mag_z_1p', 'mcal_mag_z_2m', 'mcal_mag_z_2p', 'mcal_psf_T_mean', 'mcal_psf_T_sqrt', 'mcal_psf_g1', 'mcal_psf_g2', 'mcal_s2n', 'mcal_s2n_1m', 'mcal_s2n_1p', 'mcal_s2n_2m', 'mcal_s2n_2p', 'mean_z', 'mean_z_1m', 'mean_z_1p', 'mean_z_2m', 'mean_z_2p', 'objectId', 'ra', 'region', 'snr_i', 'snr_r', 'snr_z', 'tilename', 'weight']>\n",
      "97105707\n",
      "nan\n",
      "nan\n",
      "0.44466402718816317\n",
      "0.6499999987885717\n",
      "[0.44466403 0.57918963 0.6043417  0.626522  ]\n",
      "[0.44466403 0.57918963 0.6043417  0.626522  ]\n"
     ]
    }
   ],
   "source": [
    "#with h5py.File('/global/cscratch1/sd/jjeffers/TXPipe/data/desy1/inputs/small_DESY1_shear_catalog.h5','r') as f:\n",
    "with h5py.File('/global/cfs/cdirs/lsst/groups/WL/projects/txpipe-sys-tests/des-y1/shear_catalog_desy1_masked.h5','r') as f:\n",
    "    print(f['shear'].keys())\n",
    "    print(np.size(f['shear/mcal_psf_T_sqrt']))\n",
    "    print(np.min(f['shear/mcal_psf_T_sqrt']))\n",
    "    print(np.max(f['shear/mcal_psf_T_sqrt']))\n",
    "    #print(np.min(f['shear/mcal_T_sqrt']))\n",
    "    #print(np.max(f['shear/mcal_T_sqrt']))\n",
    "    data = pd.Series(f['shear/mcal_psf_T_sqrt'])\n",
    "    data = data.loc[data.between(0.25,0.65)]\n",
    "    print(np.min(data))\n",
    "    print(np.max(data))\n",
    "    \n",
    "    \n",
    "    a = sts.mstats.mquantiles(data,prob=[0, 0.25, 0.5, 0.75])\n",
    "    sol = BinEdges_EqN(data,4)\n",
    "    print(a)\n",
    "    print(sol)\n",
    "    \n",
    "    "
   ]
  },
  {
   "cell_type": "code",
   "execution_count": null,
   "id": "c48efd03-17d0-4487-9d2f-d0420872745c",
   "metadata": {},
   "outputs": [],
   "source": []
  }
 ],
 "metadata": {
  "kernelspec": {
   "display_name": "NERSC Python",
   "language": "python",
   "name": "python3"
  },
  "language_info": {
   "codemirror_mode": {
    "name": "ipython",
    "version": 3
   },
   "file_extension": ".py",
   "mimetype": "text/x-python",
   "name": "python",
   "nbconvert_exporter": "python",
   "pygments_lexer": "ipython3",
   "version": "3.9.7"
  }
 },
 "nbformat": 4,
 "nbformat_minor": 5
}
