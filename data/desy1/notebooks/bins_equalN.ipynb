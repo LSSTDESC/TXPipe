{
 "cells": [
  {
   "cell_type": "code",
   "execution_count": 1,
   "id": "a70bd2d7-731f-492d-ac5f-3297721728a2",
   "metadata": {},
   "outputs": [
    {
     "name": "stdout",
     "output_type": "stream",
     "text": [
      "Populating the interactive namespace from numpy and matplotlib\n"
     ]
    }
   ],
   "source": [
    "import h5py\n",
    "import numpy \n",
    "import pylab as mplot\n",
    "%pylab inline"
   ]
  },
  {
   "cell_type": "code",
   "execution_count": 2,
   "id": "5a379fc3-8abd-43cf-b255-75bfe1071a7f",
   "metadata": {},
   "outputs": [],
   "source": [
    "import scipy.stats as sts\n",
    "import pandas as pd"
   ]
  },
  {
   "cell_type": "code",
   "execution_count": 3,
   "id": "1ee5158c-5d16-485d-8e0a-3eb375e752bc",
   "metadata": {},
   "outputs": [],
   "source": [
    "def BinEdges_EqN(data,nbins):\n",
    "    nbquant = np.linspace(0,1,nbins,endpoint=False)\n",
    "    edges = sts.mstats.mquantiles(data,prob=nbquant)\n",
    "    return edges"
   ]
  },
  {
   "cell_type": "code",
   "execution_count": 8,
   "id": "83b2a5cd-340c-4b71-b0c5-aafe40e4e02f",
   "metadata": {},
   "outputs": [
    {
     "name": "stdout",
     "output_type": "stream",
     "text": [
      "-0.029999988405100455\n",
      "0.04999999197966427\n",
      "[-0.02999999 -0.01370553 -0.00908916 -0.0059989  -0.0035532  -0.00146241\n",
      "  0.00040915  0.00213178  0.00376013  0.00532788  0.00686383  0.00839383\n",
      "  0.00994604  0.01154933  0.01323559  0.01505554  0.01708637  0.01947998\n",
      "  0.02253403  0.02721535]\n"
     ]
    }
   ],
   "source": [
    "#with h5py.File('/global/cscratch1/sd/jjeffers/TXPipe/data/desy1/inputs/small_DESY1_shear_catalog.h5','r') as f:\n",
    "with h5py.File('/global/cfs/cdirs/lsst/groups/WL/projects/txpipe-sys-tests/des-y1/shear_catalog_desy1_masked.h5','r') as f:\n",
    "    #print(f['shear'].keys())\n",
    "    #print(np.size(f['shear/mcal_psf_g1']))\n",
    "    #print(np.min(f['shear/mcal_psf_T_mean']))\n",
    "    #print(np.max(f['shear/mcal_psf_T_mean']))\n",
    "    #print(np.min(f['shear/mcal_T_sqrt']))\n",
    "    #print(np.max(f['shear/mcal_T_sqrt']))\n",
    "    data = pd.Series(f['shear/mcal_psf_g1'])\n",
    "    data = data.loc[data.between(-0.03,0.05)]\n",
    "    print(np.min(data))\n",
    "    print(np.max(data))\n",
    "    \n",
    "    \n",
    "    #a = sts.mstats.mquantiles(data,prob=[0, 0.25, 0.5, 0.75])\n",
    "    sol = BinEdges_EqN(data,20)\n",
    "    #print(a)\n",
    "    print(sol)\n",
    "    \n",
    "    "
   ]
  },
  {
   "cell_type": "code",
   "execution_count": null,
   "id": "c48efd03-17d0-4487-9d2f-d0420872745c",
   "metadata": {},
   "outputs": [],
   "source": []
  }
 ],
 "metadata": {
  "kernelspec": {
   "display_name": "NERSC Python",
   "language": "python",
   "name": "python3"
  },
  "language_info": {
   "codemirror_mode": {
    "name": "ipython",
    "version": 3
   },
   "file_extension": ".py",
   "mimetype": "text/x-python",
   "name": "python",
   "nbconvert_exporter": "python",
   "pygments_lexer": "ipython3",
   "version": "3.9.7"
  }
 },
 "nbformat": 4,
 "nbformat_minor": 5
}
