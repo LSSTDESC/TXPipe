{
 "cells": [
  {
   "cell_type": "code",
   "execution_count": 1,
   "id": "988b1d24-0edd-400c-93ab-648d4690474c",
   "metadata": {},
   "outputs": [
    {
     "name": "stdout",
     "output_type": "stream",
     "text": [
      "%pylab is deprecated, use %matplotlib inline and import the required libraries.\n",
      "Populating the interactive namespace from numpy and matplotlib\n"
     ]
    }
   ],
   "source": [
    "import h5py\n",
    "import numpy \n",
    "import pylab as mplot\n",
    "%pylab inline\n",
    "import astropy.io.fits as pf\n",
    "import healpy as hp"
   ]
  },
  {
   "cell_type": "code",
   "execution_count": 12,
   "id": "d8fde1f6-4a45-4539-9a79-99874c04b610",
   "metadata": {},
   "outputs": [
    {
     "data": {
      "text/plain": [
       "XTENSION= 'BINTABLE'           / binary table extension                         \n",
       "BITPIX  =                    8 / 8-bit bytes                                    \n",
       "NAXIS   =                    2 / 2-dimensional binary table                     \n",
       "NAXIS1  =                   24 / width of table in bytes                        \n",
       "NAXIS2  =             51843669 / number of rows in table                        \n",
       "PCOUNT  =                    0 / size of special data area                      \n",
       "GCOUNT  =                    1 / one data group (required keyword)              \n",
       "TFIELDS =                    3 / number of fields in each row                   \n",
       "TTYPE1  = 'RA      '           / label for field   1                            \n",
       "TFORM1  = 'D       '           / data format of field: 8-byte DOUBLE            \n",
       "TTYPE2  = 'DEC     '           / label for field   2                            \n",
       "TFORM2  = 'D       '           / data format of field: 8-byte DOUBLE            \n",
       "TTYPE3  = 'Z       '           / label for field   3                            \n",
       "TFORM3  = 'D       '           / data format of field: 8-byte DOUBLE            "
      ]
     },
     "execution_count": 12,
     "metadata": {},
     "output_type": "execute_result"
    }
   ],
   "source": [
    "original = pf.open('/global/cfs/cdirs/lsst/groups/WL/projects/txpipe-sys-tests/des-y1/DES_Y1A1_3x2pt_redMaGiC_RANDOMS.fits')\n",
    "original[1].header\n",
    "\n"
   ]
  },
  {
   "cell_type": "code",
   "execution_count": 31,
   "id": "59b694e0-fa4a-4269-89e4-1e8894b036fb",
   "metadata": {},
   "outputs": [
    {
     "name": "stdout",
     "output_type": "stream",
     "text": [
      "[0 0 0 ... 4 4 4]\n",
      "[1721.92885605 1133.18173043 1084.83263351 ... 3593.61871468 3731.27138923\n",
      " 3317.47376116]\n",
      "<KeysViewHDF5 ['bin', 'comoving_distance', 'dec', 'ra', 'z']>\n",
      "<KeysViewHDF5 ['provenance', 'randoms']>\n",
      "{}\n"
     ]
    }
   ],
   "source": [
    "with h5py.File('/global/cfs/cdirs/lsst/groups/WL/projects/star-challenge/cosmodc2/TXPipe-full-output/random_cats.hdf5') as f:\n",
    "    print(np.array(f['randoms/bin']))\n",
    "    print(np.array(f['randoms/comoving_distance']))\n",
    "    print(f['randoms'].keys())\n",
    "    print(f.keys())\n",
    "    print(dict(f['randoms'].attrs))\n",
    "    \n"
   ]
  },
  {
   "cell_type": "code",
   "execution_count": 33,
   "id": "f8021b38-d446-4029-b24d-279ad4c1379c",
   "metadata": {},
   "outputs": [
    {
     "name": "stdout",
     "output_type": "stream",
     "text": [
      "<KeysViewHDF5 ['bin_0', 'bin_1', 'bin_2', 'bin_3', 'bin_4']>\n",
      "<KeysViewHDF5 ['comoving_distance', 'dec', 'ra', 'z']>\n",
      "{}\n"
     ]
    }
   ],
   "source": [
    "with h5py.File('/global/cfs/cdirs/lsst/groups/WL/projects/star-challenge/cosmodc2/TXPipe-full-output/binned_random_catalog.hdf5') as f:\n",
    "    print(f['randoms'].keys())\n",
    "    print(f['randoms/bin_0'].keys())\n",
    "    print(dict(f['randoms/bin_0'].attrs))\n",
    "\n"
   ]
  },
  {
   "cell_type": "code",
   "execution_count": null,
   "id": "439cd2af-702e-4d7b-ac3d-a97b8a5e62f0",
   "metadata": {},
   "outputs": [],
   "source": []
  },
  {
   "cell_type": "code",
   "execution_count": 52,
   "id": "babd7633-b097-4f2f-8659-7be1e1464bca",
   "metadata": {},
   "outputs": [],
   "source": [
    "with h5py.File('/global/cfs/cdirs/lsst/groups/WL/projects/txpipe-sys-tests/des-y1/randoms_desy1_RM.h5', 'w') as f:\n",
    "\n",
    "    f.create_group(\"provenance\")\n",
    "    f.create_group(\"randoms\")\n",
    "\n",
    "    f['randoms/ra'] = original[1].data['ra'].copy()\n",
    "    f['randoms/dec'] = original[1].data['dec'].copy()\n",
    "    f['randoms/z'] = original[1].data['z'].copy()\n",
    "    f['randoms/comoving_distance'] = cosmo.comoving_distance(original[1].data['z']).value\n",
    "    \n",
    "    bin_array = np.zeros(len(original[1].data['ra'])) - 1\n",
    "    mask = (original[1].data['z']>=0.15)*(original[1].data['z']<0.3)\n",
    "    bin_array[mask] = 0\n",
    "    mask = (original[1].data['z']>=0.3)*(original[1].data['z']<0.45)\n",
    "    bin_array[mask] = 1\n",
    "    mask = (original[1].data['z']>=0.45)*(original[1].data['z']<0.6)\n",
    "    bin_array[mask] = 2\n",
    "    mask = (original[1].data['z']>=0.6)*(original[1].data['z']<0.75)\n",
    "    bin_array[mask] = 3\n",
    "    mask = (original[1].data['z']>=0.75)*(original[1].data['z']<0.9)\n",
    "    bin_array[mask] = 4\n",
    "    f['randoms/bin'] = bin_array\n",
    "    \n",
    "    \n",
    "\n",
    "    \n",
    "    "
   ]
  },
  {
   "cell_type": "code",
   "execution_count": 21,
   "id": "985bf902-4601-465b-bec7-e87895d1dd0e",
   "metadata": {},
   "outputs": [
    {
     "data": {
      "text/plain": [
       "432.5656977383524"
      ]
     },
     "execution_count": 21,
     "metadata": {},
     "output_type": "execute_result"
    }
   ],
   "source": [
    "import astropy\n",
    "from astropy.cosmology import Planck18 as cosmo\n",
    "cosmo.comoving_distance(0.1).value\n"
   ]
  },
  {
   "cell_type": "code",
   "execution_count": 26,
   "id": "694fc6da-d169-4f61-a04f-b8d1578cd257",
   "metadata": {},
   "outputs": [],
   "source": [
    "# dir(astropy.cosmology)"
   ]
  },
  {
   "cell_type": "code",
   "execution_count": 42,
   "id": "a9fdf5f8-861a-4cb9-9c83-6861561d7063",
   "metadata": {},
   "outputs": [],
   "source": [
    "with h5py.File('/global/cfs/cdirs/lsst/groups/WL/projects/txpipe-sys-tests/des-y1/randoms_desy1_RM.h5') as f1:\n",
    "    with h5py.File('/global/cfs/cdirs/lsst/groups/WL/projects/txpipe-sys-tests/des-y1/binned_randoms_desy1_RM.h5', 'w') as f2:\n",
    "        \n",
    "        f2.create_group(\"provenance\")\n",
    "        f2.create_group(\"randoms\")\n",
    "        f2.create_group(\"randoms/bin_0\")\n",
    "        f2.create_group(\"randoms/bin_1\")\n",
    "        f2.create_group(\"randoms/bin_2\")    \n",
    "        f2.create_group(\"randoms/bin_3\") \n",
    "        f2.create_group(\"randoms/bin_4\")\n",
    "\n",
    "        for i in range(5):\n",
    "            mask = (f1['randoms/bin'][:]==i)\n",
    "            f2['randoms/bin_'+str(i)+'/ra'] = f1['randoms/ra'][mask]\n",
    "            f2['randoms/bin_'+str(i)+'/dec'] = f1['randoms/dec'][mask]\n",
    "            f2['randoms/bin_'+str(i)+'/z'] = f1['randoms/z'][mask]\n",
    "            f2['randoms/bin_'+str(i)+'/comoving_distance'] = f1['randoms/comoving_distance'][mask]\n",
    "\n",
    "        "
   ]
  },
  {
   "cell_type": "code",
   "execution_count": 54,
   "id": "a9411797-013c-463a-81da-6f68e6d4a80e",
   "metadata": {},
   "outputs": [],
   "source": [
    "import treecorr"
   ]
  },
  {
   "cell_type": "code",
   "execution_count": 56,
   "id": "42a93b0e-da08-4986-ba8b-e9599a5cadc1",
   "metadata": {},
   "outputs": [],
   "source": [
    "!mv /global/cfs/cdirs/lsst/groups/WL/projects/txpipe-sys-tests/des-y1/randoms_desy1_RM.h5 /global/cfs/cdirs/lsst/groups/WL/projects/txpipe-sys-tests/des-y1/randoms_desy1_RM.hdf5"
   ]
  },
  {
   "cell_type": "code",
   "execution_count": 58,
   "id": "1e6ad47d-89b7-4a7d-83fb-e75417c6f180",
   "metadata": {},
   "outputs": [],
   "source": [
    "!mv /global/cfs/cdirs/lsst/groups/WL/projects/txpipe-sys-tests/des-y1/binned_randoms_desy1_RM.h5 /global/cfs/cdirs/lsst/groups/WL/projects/txpipe-sys-tests/des-y1/binned_randoms_desy1_RM.hdf5"
   ]
  },
  {
   "cell_type": "code",
   "execution_count": 57,
   "id": "954568f3-22b0-443f-9103-6b632db37371",
   "metadata": {},
   "outputs": [],
   "source": [
    "config = { \"ext\": \"randoms\",\n",
    "            \"ra_col\": \"ra\",\n",
    "            \"dec_col\": \"dec\",\n",
    "            \"ra_units\": \"degree\",\n",
    "            \"dec_units\": \"degree\",\n",
    "            \"every_nth\": 100,\n",
    "            \"npatch\": 10,\n",
    "        }\n",
    "\n",
    "        # Create the catalog\n",
    "cat = treecorr.Catalog('/global/cfs/cdirs/lsst/groups/WL/projects/txpipe-sys-tests/des-y1/randoms_desy1_RM.hdf5', config)\n",
    "#cat = treecorr.Catalog('/global/cfs/cdirs/lsst/groups/WL/projects/star-challenge/cosmodc2/TXPipe-full-output/binned_random_catalog.hdf5', config)\n",
    "\n"
   ]
  },
  {
   "cell_type": "code",
   "execution_count": null,
   "id": "153cf1d6-dc65-4e50-9417-d12b71ea5ec0",
   "metadata": {},
   "outputs": [],
   "source": []
  }
 ],
 "metadata": {
  "kernelspec": {
   "display_name": "desc-python",
   "language": "python",
   "name": "desc-python"
  },
  "language_info": {
   "codemirror_mode": {
    "name": "ipython",
    "version": 3
   },
   "file_extension": ".py",
   "mimetype": "text/x-python",
   "name": "python",
   "nbconvert_exporter": "python",
   "pygments_lexer": "ipython3",
   "version": "3.10.8"
  }
 },
 "nbformat": 4,
 "nbformat_minor": 5
}
