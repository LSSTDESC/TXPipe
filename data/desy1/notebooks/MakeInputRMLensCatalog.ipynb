{
 "cells": [
  {
   "cell_type": "code",
   "execution_count": 1,
   "id": "2b911221-6d67-4723-8d34-0051447c8f0b",
   "metadata": {},
   "outputs": [
    {
     "name": "stdout",
     "output_type": "stream",
     "text": [
      "%pylab is deprecated, use %matplotlib inline and import the required libraries.\n",
      "Populating the interactive namespace from numpy and matplotlib\n"
     ]
    }
   ],
   "source": [
    "import h5py\n",
    "import numpy \n",
    "import pylab as mplot\n",
    "%pylab inline\n",
    "import astropy.io.fits as pf"
   ]
  },
  {
   "cell_type": "markdown",
   "id": "88833f89-dbae-4992-8072-b3fd65015c0e",
   "metadata": {},
   "source": [
    "We need to make a few files:\n",
    "* photometry_catalog_desy1_masked.h5\n",
    "* lens_tomography_catalog.hdf5"
   ]
  },
  {
   "cell_type": "code",
   "execution_count": 2,
   "id": "95e17a2d-c4a8-496e-8054-d62c41ca9656",
   "metadata": {},
   "outputs": [
    {
     "name": "stdout",
     "output_type": "stream",
     "text": [
      "<bound method Header.keys of XTENSION= 'BINTABLE'           / binary table extension                         \n",
      "BITPIX  =                    8 / 8-bit bytes                                    \n",
      "NAXIS   =                    2 / 2-dimensional binary table                     \n",
      "NAXIS1  =                   48 / width of table in bytes                        \n",
      "NAXIS2  =               653691 / number of rows in table                        \n",
      "PCOUNT  =                    0 / size of special data area                      \n",
      "GCOUNT  =                    1 / one data group (required keyword)              \n",
      "TFIELDS =                    6 / number of fields in each row                   \n",
      "TTYPE1  = 'ID      '           / label for field   1                            \n",
      "TFORM1  = 'K       '           / data format of field: 8-byte INTEGER           \n",
      "TTYPE2  = 'RA      '           / label for field   2                            \n",
      "TFORM2  = 'D       '           / data format of field: 8-byte DOUBLE            \n",
      "TTYPE3  = 'DEC     '           / label for field   3                            \n",
      "TFORM3  = 'D       '           / data format of field: 8-byte DOUBLE            \n",
      "TTYPE4  = 'ZREDMAGIC'          / label for field   4                            \n",
      "TFORM4  = 'D       '           / data format of field: 8-byte DOUBLE            \n",
      "TTYPE5  = 'ZREDMAGIC_E'        / label for field   5                            \n",
      "TFORM5  = 'D       '           / data format of field: 8-byte DOUBLE            \n",
      "TTYPE6  = 'weight  '           / label for field   6                            \n",
      "TFORM6  = 'D       '           / data format of field: 8-byte DOUBLE            >\n"
     ]
    }
   ],
   "source": [
    "RM_des = pf.open('../inputs/DES_Y1A1_3x2pt_redMaGiC_zerr_CATALOG.fits')\n",
    "print(RM_des[1].header.keys)"
   ]
  },
  {
   "cell_type": "code",
   "execution_count": 5,
   "id": "df6c5ee8-3d98-48cd-9f57-994ef4166f8c",
   "metadata": {},
   "outputs": [],
   "source": [
    "with h5py.File('../inputs/photometry_catalog_desy1_RM.h5', 'w') as f:\n",
    "\n",
    "    f.create_group(\"provenance\")\n",
    "    f.create_group(\"photometry\")\n",
    "\n",
    "    f['photometry/ra'] = RM_des[1].data['RA']\n",
    "    f['photometry/dec'] = RM_des[1].data['DEC']\n",
    "    f['photometry/redshift_true'] = RM_des[1].data['ZREDMAGIC']\n",
    "    \n",
    "    N = len(RM_des[1].data)\n",
    "    f['photometry/extendedness'] = np.ones(N)*0\n",
    "    f['photometry/mag_u'] = np.ones(N)*20\n",
    "    f['photometry/mag_err_u'] = np.ones(N)\n",
    "    f['photometry/mag_g'] = np.ones(N)*20\n",
    "    f['photometry/mag_err_g'] = np.ones(N)\n",
    "    f['photometry/mag_r'] = np.ones(N)*20\n",
    "    f['photometry/mag_err_r'] = np.ones(N)\n",
    "    f['photometry/mag_i'] = np.ones(N)*20\n",
    "    f['photometry/mag_err_i'] = np.ones(N)\n",
    "    f['photometry/mag_z'] = np.ones(N)*20\n",
    "    f['photometry/mag_err_z'] = np.ones(N)\n",
    "    f['photometry/mag_y'] = np.ones(N)*20\n",
    "    f['photometry/mag_err_y'] = np.ones(N)\n",
    "    f['photometry/id'] = RM_des[1].data['ID']\n",
    "    f['photometry/shear_1'] = np.ones(N)*0\n",
    "    f['photometry/shear_2'] = np.ones(N)*0\n",
    "    f['photometry/size_true'] = np.ones(N)\n",
    "    f['photometry/snr_u'] = np.ones(N)*20\n",
    "    f['photometry/snr_g'] = np.ones(N)*20\n",
    "    f['photometry/snr_r'] = np.ones(N)*20\n",
    "    f['photometry/snr_i'] = np.ones(N)*20\n",
    "    f['photometry/snr_z'] = np.ones(N)*20\n",
    "    f['photometry/snr_y'] = np.ones(N)*20\n",
    "    \n",
    "    f['photometry/mag_i'][100:200] = 9.0\n",
    "    # add one bright object\n",
    "    "
   ]
  },
  {
   "cell_type": "code",
   "execution_count": 10,
   "id": "d9793e14-3dd5-4312-bc35-241caac566af",
   "metadata": {},
   "outputs": [
    {
     "name": "stdout",
     "output_type": "stream",
     "text": [
      "<KeysViewHDF5 ['photometry', 'provenance']>\n",
      "<KeysViewHDF5 ['dec', 'extendedness', 'id', 'mag_err_g', 'mag_err_i', 'mag_err_r', 'mag_err_u', 'mag_err_y', 'mag_err_z', 'mag_g', 'mag_i', 'mag_r', 'mag_u', 'mag_y', 'mag_z', 'ra', 'redshift_true', 'shear_1', 'shear_2', 'size_true', 'snr_g', 'snr_i', 'snr_r', 'snr_u', 'snr_y', 'snr_z']>\n"
     ]
    },
    {
     "data": {
      "image/png": "[encoded data removed]",
      "text/plain": [
       "<Figure size 640x480 with 1 Axes>"
      ]
     },
     "metadata": {},
     "output_type": "display_data"
    }
   ],
   "source": [
    "with h5py.File('../inputs/photometry_catalog_desy1_RM.h5') as f:\n",
    "    print(f.keys())\n",
    "    print(f['photometry'].keys())\n",
    "    mplot.scatter(np.array(f['photometry/ra']),np.array(f['photometry/dec']))\n"
   ]
  },
  {
   "cell_type": "code",
   "execution_count": 25,
   "id": "47ffb12d-0271-4627-8584-bfb48a7d751f",
   "metadata": {},
   "outputs": [
    {
     "name": "stdout",
     "output_type": "stream",
     "text": [
      "{'lens_zbin_edges': array([0.15, 0.3 , 0.45, 0.6 , 0.75, 0.9 ]), 'nbin_lens': 5}\n"
     ]
    }
   ],
   "source": [
    "with h5py.File('../inputs/lens_tomography_catalog.hdf5') as f:\n",
    "    # print(dir(f))\n",
    "    print(dict(f['tomography'].attrs))\n"
   ]
  },
  {
   "cell_type": "code",
   "execution_count": 27,
   "id": "c0ac162f-9afa-476b-a478-5641683caf76",
   "metadata": {},
   "outputs": [],
   "source": [
    "with h5py.File('../inputs/lens_tomography_catalog_desy1_RM.h5', 'w') as f:\n",
    "\n",
    "    f.create_group(\"provenance\")\n",
    "    f.create_group(\"tomography\")\n",
    "\n",
    "    z = RM_des[1].data['ZREDMAGIC']\n",
    "    tomo_array = np.zeros(len(z)) - 1\n",
    "    tomo_array[(z>=0.15)*(z<0.3)] = 0\n",
    "    tomo_array[(z>=0.3)*(z<0.45)] = 1\n",
    "    tomo_array[(z>=0.45)*(z<0.6)] = 2\n",
    "    tomo_array[(z>=0.6)*(z<0.75)] = 3\n",
    "    tomo_array[(z>=0.75)*(z<0.9)] = 4\n",
    "    \n",
    "    f['tomography/lens_bin'] = tomo_array.copy()\n",
    "    f['tomography/lens_counts'] = np.array([len(tomo_array[tomo_array==0]),len(tomo_array[tomo_array==1]),len(tomo_array[tomo_array==2]),len(tomo_array[tomo_array==3]),len(tomo_array[tomo_array==4])])\n",
    "    f['tomography/lens_counts_2d'] = [len(tomo_array[tomo_array>=0])]\n",
    "    f['tomography/lens_weight'] = RM_des[1].data['weight']   \n",
    "    \n",
    "    f['tomography'].attrs['lens_zbin_edges'] = np.array([0.15, 0.3 , 0.45, 0.6 , 0.75, 0.9 ])\n",
    "    f['tomography'].attrs['nbin_lens'] = 5\n",
    "\n"
   ]
  },
  {
   "cell_type": "code",
   "execution_count": null,
   "id": "ed04bfd8-228f-4e6f-a169-b67a892a4fb5",
   "metadata": {},
   "outputs": [],
   "source": []
  }
 ],
 "metadata": {
  "kernelspec": {
   "display_name": "desc-python",
   "language": "python",
   "name": "desc-python"
  },
  "language_info": {
   "codemirror_mode": {
    "name": "ipython",
    "version": 3
   },
   "file_extension": ".py",
   "mimetype": "text/x-python",
   "name": "python",
   "nbconvert_exporter": "python",
   "pygments_lexer": "ipython3",
   "version": "3.10.8"
  }
 },
 "nbformat": 4,
 "nbformat_minor": 5
}
