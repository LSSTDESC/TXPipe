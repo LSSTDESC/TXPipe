{
 "cells": [
  {
   "cell_type": "code",
   "execution_count": 2,
   "id": "f9b30d71-1ed0-4d8d-9c70-0bd1fff8bef4",
   "metadata": {},
   "outputs": [],
   "source": [
    "import h5py\n",
    "import numpy \n",
    "import pylab as mplot\n",
    "%matplotlib inline"
   ]
  },
  {
   "cell_type": "code",
   "execution_count": 35,
   "id": "b3bf9fa6-b783-4af8-bc3c-8d0bf808e6eb",
   "metadata": {},
   "outputs": [
    {
     "name": "stdout",
     "output_type": "stream",
     "text": [
      "<KeysViewHDF5 ['n_of_z', 'provenance']>\n",
      "<KeysViewHDF5 ['source', 'source2d']>\n",
      "<KeysViewHDF5 ['bin_0', 'bin_1', 'bin_2', 'bin_3', 'z']>\n",
      "<KeysViewHDF5 []>\n",
      "(4, 400)\n"
     ]
    }
   ],
   "source": [
    "#fixing the structure of the following file:\n",
    "\n",
    "with h5py.File('/global/cfs/cdirs/lsst/groups/WL/projects/txpipe-sys-tests/des-y1/shear_photoz_stack.hdf5', 'a') as f:\n",
    "    print(f.keys())\n",
    "    print(f['n_of_z'].keys())\n",
    "    print(f['n_of_z/source'].keys())\n",
    "    print(f['n_of_z/source2d'].keys())\n",
    "    \n",
    "    # all the bin0-3 and z datasets should be only in source\n",
    "    del f['n_of_z/bin_0']\n",
    "    del f['n_of_z/bin_1']\n",
    "    del f['n_of_z/bin_2']\n",
    "    del f['n_of_z/bin_3']\n",
    "    del f['n_of_z/z']\n",
    "    \n",
    "    # the source2d is currently empty, we can mock it with the datasets in source but unbinned\n",
    "    bin0_arr = np.asarray(f['n_of_z/source/bin_0'])\n",
    "    bin1_arr = np.asarray(f['n_of_z/source/bin_1'])\n",
    "    bin2_arr = np.asarray(f['n_of_z/source/bin_2'])\n",
    "    bin3_arr = np.asarray(f['n_of_z/source/bin_0'])\n",
    "    z_arr = np.asarray(f['n_of_z/source/z'])\n",
    "    #print(bin0_arr)\n",
    "    s2d = []\n",
    "    s2d.append(bin0_arr)\n",
    "    s2d.append(bin1_arr)\n",
    "    s2d.append(bin2_arr)\n",
    "    s2d.append(bin3_arr)\n",
    "    \n",
    "    #check to make sure the shape is correct, should be (4,400)\n",
    "    print(np.shape(s2d))\n",
    "    \n",
    "    #create datasets in source2d\n",
    "    f['n_of_z/source2d/bin_0'] = s2d\n",
    "    f['n_of_z/source2d/z'] = z_arr\n",
    "    \n",
    "    \n",
    "    "
   ]
  }
 ],
 "metadata": {
  "kernelspec": {
   "display_name": "desc-python",
   "language": "python",
   "name": "desc-python"
  },
  "language_info": {
   "codemirror_mode": {
    "name": "ipython",
    "version": 3
   },
   "file_extension": ".py",
   "mimetype": "text/x-python",
   "name": "python",
   "nbconvert_exporter": "python",
   "pygments_lexer": "ipython3",
   "version": "3.10.8"
  }
 },
 "nbformat": 4,
 "nbformat_minor": 5
}
