{
 "cells": [
  {
   "cell_type": "code",
   "execution_count": 2,
   "id": "f9b30d71-1ed0-4d8d-9c70-0bd1fff8bef4",
   "metadata": {},
   "outputs": [],
   "source": [
    "import h5py\n",
    "import numpy \n",
    "import pylab as mplot\n",
    "%matplotlib inline"
   ]
  },
  {
   "cell_type": "code",
   "execution_count": 35,
   "id": "b3bf9fa6-b783-4af8-bc3c-8d0bf808e6eb",
   "metadata": {},
   "outputs": [
    {
     "name": "stdout",
     "output_type": "stream",
     "text": [
      "<KeysViewHDF5 ['n_of_z', 'provenance']>\n",
      "<KeysViewHDF5 ['source', 'source2d']>\n",
      "<KeysViewHDF5 ['bin_0', 'bin_1', 'bin_2', 'bin_3', 'z']>\n",
      "<KeysViewHDF5 []>\n",
      "(4, 400)\n"
     ]
    }
   ],
   "source": [
    "#fixing the structure of the following file:\n",
    "\n",
    "with h5py.File('/global/cfs/cdirs/lsst/groups/WL/projects/txpipe-sys-tests/des-y1/shear_photoz_stack.hdf5', 'a') as f:\n",
    "    print(f.keys())\n",
    "    print(f['n_of_z'].keys())\n",
    "    print(f['n_of_z/source'].keys())\n",
    "    print(f['n_of_z/source2d'].keys())\n",
    "    \n",
    "    # all the bin0-3 and z datasets should be only in source\n",
    "    del f['n_of_z/bin_0']\n",
    "    del f['n_of_z/bin_1']\n",
    "    del f['n_of_z/bin_2']\n",
    "    del f['n_of_z/bin_3']\n",
    "    del f['n_of_z/z']\n",
    "    \n",
    "    # the source2d is currently empty, we can mock it with the datasets in source but unbinned\n",
    "    bin0_arr = np.asarray(f['n_of_z/source/bin_0'])\n",
    "    bin1_arr = np.asarray(f['n_of_z/source/bin_1'])\n",
    "    bin2_arr = np.asarray(f['n_of_z/source/bin_2'])\n",
    "    bin3_arr = np.asarray(f['n_of_z/source/bin_0'])\n",
    "    z_arr = np.asarray(f['n_of_z/source/z'])\n",
    "    #print(bin0_arr)\n",
    "    s2d = []\n",
    "    s2d.append(bin0_arr)\n",
    "    s2d.append(bin1_arr)\n",
    "    s2d.append(bin2_arr)\n",
    "    s2d.append(bin3_arr)\n",
    "    \n",
    "    #check to make sure the shape is correct, should be (4,400)\n",
    "    print(np.shape(s2d))\n",
    "    \n",
    "    #create datasets in source2d\n",
    "    f['n_of_z/source2d/bin_0'] = s2d\n",
    "    f['n_of_z/source2d/z'] = z_arr\n",
    "    \n",
    "    \n",
    "    "
   ]
  },
  {
   "cell_type": "code",
   "execution_count": 12,
   "id": "97ce7b91-b9b2-4cf5-9d91-8a331907bb68",
   "metadata": {},
   "outputs": [
    {
     "ename": "ValueError",
     "evalue": "Invalid group (or file) id (invalid group (or file) ID)",
     "output_type": "error",
     "traceback": [
      "\u001b[0;31m---------------------------------------------------------------------------\u001b[0m",
      "\u001b[0;31mValueError\u001b[0m                                Traceback (most recent call last)",
      "Cell \u001b[0;32mIn [12], line 7\u001b[0m\n\u001b[1;32m      1\u001b[0m \u001b[38;5;66;03m#del f['/n_of_z/bin_0']\u001b[39;00m\n\u001b[1;32m      2\u001b[0m \u001b[38;5;66;03m#del f['n_of_z/bin_1']\u001b[39;00m\n\u001b[1;32m      3\u001b[0m \u001b[38;5;66;03m#del f['/n_of_z/bin_2']\u001b[39;00m\n\u001b[1;32m      4\u001b[0m \u001b[38;5;66;03m#del f['/n_of_z/bin_3']\u001b[39;00m\n\u001b[1;32m      5\u001b[0m \u001b[38;5;66;03m#del f['/n_of_z/z']\u001b[39;00m\n\u001b[0;32m----> 7\u001b[0m \u001b[38;5;28;43mprint\u001b[39;49m\u001b[43m(\u001b[49m\u001b[43mf\u001b[49m\u001b[38;5;241;43m.\u001b[39;49m\u001b[43mkeys\u001b[49m\u001b[43m(\u001b[49m\u001b[43m)\u001b[49m\u001b[43m)\u001b[49m\n",
      "File \u001b[0;32m/global/common/software/lsst/gitlab/desc-python-prod/76008/py/lib/python3.10/site-packages/h5py/_hl/base.py:386\u001b[0m, in \u001b[0;36mKeysViewHDF5.__str__\u001b[0;34m(self)\u001b[0m\n\u001b[1;32m    385\u001b[0m \u001b[38;5;28;01mdef\u001b[39;00m \u001b[38;5;21m__str__\u001b[39m(\u001b[38;5;28mself\u001b[39m):\n\u001b[0;32m--> 386\u001b[0m     \u001b[38;5;28;01mreturn\u001b[39;00m \u001b[38;5;124m\"\u001b[39m\u001b[38;5;124m<KeysViewHDF5 \u001b[39m\u001b[38;5;132;01m{}\u001b[39;00m\u001b[38;5;124m>\u001b[39m\u001b[38;5;124m\"\u001b[39m\u001b[38;5;241m.\u001b[39mformat(\u001b[38;5;28;43mlist\u001b[39;49m\u001b[43m(\u001b[49m\u001b[38;5;28;43mself\u001b[39;49m\u001b[43m)\u001b[49m)\n",
      "File \u001b[0;32m/global/common/software/lsst/gitlab/desc-python-prod/76008/py/lib/python3.10/_collections_abc.py:861\u001b[0m, in \u001b[0;36mMappingView.__len__\u001b[0;34m(self)\u001b[0m\n\u001b[1;32m    860\u001b[0m \u001b[38;5;28;01mdef\u001b[39;00m \u001b[38;5;21m__len__\u001b[39m(\u001b[38;5;28mself\u001b[39m):\n\u001b[0;32m--> 861\u001b[0m     \u001b[38;5;28;01mreturn\u001b[39;00m \u001b[38;5;28;43mlen\u001b[39;49m\u001b[43m(\u001b[49m\u001b[38;5;28;43mself\u001b[39;49m\u001b[38;5;241;43m.\u001b[39;49m\u001b[43m_mapping\u001b[49m\u001b[43m)\u001b[49m\n",
      "File \u001b[0;32mh5py/_objects.pyx:54\u001b[0m, in \u001b[0;36mh5py._objects.with_phil.wrapper\u001b[0;34m()\u001b[0m\n",
      "File \u001b[0;32mh5py/_objects.pyx:55\u001b[0m, in \u001b[0;36mh5py._objects.with_phil.wrapper\u001b[0;34m()\u001b[0m\n",
      "File \u001b[0;32m/global/common/software/lsst/gitlab/desc-python-prod/76008/py/lib/python3.10/site-packages/h5py/_hl/group.py:466\u001b[0m, in \u001b[0;36mGroup.__len__\u001b[0;34m(self)\u001b[0m\n\u001b[1;32m    463\u001b[0m \u001b[38;5;129m@with_phil\u001b[39m\n\u001b[1;32m    464\u001b[0m \u001b[38;5;28;01mdef\u001b[39;00m \u001b[38;5;21m__len__\u001b[39m(\u001b[38;5;28mself\u001b[39m):\n\u001b[1;32m    465\u001b[0m     \u001b[38;5;124;03m\"\"\" Number of members attached to this group \"\"\"\u001b[39;00m\n\u001b[0;32m--> 466\u001b[0m     \u001b[38;5;28;01mreturn\u001b[39;00m \u001b[38;5;28;43mself\u001b[39;49m\u001b[38;5;241;43m.\u001b[39;49m\u001b[43mid\u001b[49m\u001b[38;5;241;43m.\u001b[39;49m\u001b[43mget_num_objs\u001b[49m\u001b[43m(\u001b[49m\u001b[43m)\u001b[49m\n",
      "File \u001b[0;32mh5py/_objects.pyx:54\u001b[0m, in \u001b[0;36mh5py._objects.with_phil.wrapper\u001b[0;34m()\u001b[0m\n",
      "File \u001b[0;32mh5py/_objects.pyx:55\u001b[0m, in \u001b[0;36mh5py._objects.with_phil.wrapper\u001b[0;34m()\u001b[0m\n",
      "File \u001b[0;32mh5py/h5g.pyx:336\u001b[0m, in \u001b[0;36mh5py.h5g.GroupID.get_num_objs\u001b[0;34m()\u001b[0m\n",
      "\u001b[0;31mValueError\u001b[0m: Invalid group (or file) id (invalid group (or file) ID)"
     ]
    }
   ],
   "source": []
  },
  {
   "cell_type": "code",
   "execution_count": null,
   "id": "dbbb2a25-dbb0-4ae7-b303-9cc3f17e9fa8",
   "metadata": {},
   "outputs": [],
   "source": []
  }
 ],
 "metadata": {
  "kernelspec": {
   "display_name": "desc-python",
   "language": "python",
   "name": "desc-python"
  },
  "language_info": {
   "codemirror_mode": {
    "name": "ipython",
    "version": 3
   },
   "file_extension": ".py",
   "mimetype": "text/x-python",
   "name": "python",
   "nbconvert_exporter": "python",
   "pygments_lexer": "ipython3",
   "version": "3.10.8"
  }
 },
 "nbformat": 4,
 "nbformat_minor": 5
}
